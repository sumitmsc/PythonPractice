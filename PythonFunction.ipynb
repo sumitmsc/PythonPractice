{
  "cells": [
    {
      "cell_type": "markdown",
      "metadata": {
        "id": "view-in-github",
        "colab_type": "text"
      },
      "source": [
        "<a href=\"https://colab.research.google.com/github/sumitmsc/PythonPractice/blob/main/PythonFunction.ipynb\" target=\"_parent\"><img src=\"https://colab.research.google.com/assets/colab-badge.svg\" alt=\"Open In Colab\"/></a>"
      ]
    },
    {
      "cell_type": "code",
      "execution_count": null,
      "metadata": {
        "id": "vjaWDD-g56_w"
      },
      "outputs": [],
      "source": []
    },
    {
      "cell_type": "code",
      "execution_count": null,
      "metadata": {
        "colab": {
          "base_uri": "https://localhost:8080/"
        },
        "id": "ojv7oDjs5-E6",
        "outputId": "18cf0072-ef8f-4c61-8d9c-55900b496da3"
      },
      "outputs": [
        {
          "name": "stdout",
          "output_type": "stream",
          "text": [
            "addition of 10 and 23 is ==> 33\n"
          ]
        }
      ],
      "source": [
        "a=10\n",
        "b=23\n",
        "result=a+b\n",
        "print(f\"addition of {a} and {b} is ==>\",result)"
      ]
    },
    {
      "cell_type": "code",
      "execution_count": null,
      "metadata": {
        "colab": {
          "base_uri": "https://localhost:8080/"
        },
        "id": "IOgPlsFp7bhk",
        "outputId": "3b19d70f-9531-413e-d50d-6704b49680b0"
      },
      "outputs": [
        {
          "name": "stdout",
          "output_type": "stream",
          "text": [
            "hello- New Cell\n"
          ]
        }
      ],
      "source": [
        "print(\"hello- New Cell\")"
      ]
    },
    {
      "cell_type": "code",
      "execution_count": null,
      "metadata": {
        "colab": {
          "base_uri": "https://localhost:8080/"
        },
        "id": "lH677ewR_SUb",
        "outputId": "621bbc25-2a89-4235-8a56-bc816f940fa9"
      },
      "outputs": [
        {
          "data": {
            "text/plain": [
              "int"
            ]
          },
          "execution_count": 17,
          "metadata": {},
          "output_type": "execute_result"
        }
      ],
      "source": [
        "a=10\n",
        "if a>10:\n",
        "  print(\"hello\")\n",
        "\n",
        "type(a)"
      ]
    },
    {
      "cell_type": "code",
      "execution_count": null,
      "metadata": {
        "colab": {
          "base_uri": "https://localhost:8080/"
        },
        "id": "nvXRmJ-TAXfQ",
        "outputId": "9c7cf0bc-7906-400a-fe3d-b8cd8499e7a8"
      },
      "outputs": [
        {
          "name": "stdout",
          "output_type": "stream",
          "text": [
            "10\n"
          ]
        },
        {
          "data": {
            "text/plain": [
              "str"
            ]
          },
          "execution_count": 18,
          "metadata": {},
          "output_type": "execute_result"
        }
      ],
      "source": [
        "y=str(a)\n",
        "print(y)\n",
        "type(y)"
      ]
    },
    {
      "cell_type": "code",
      "execution_count": null,
      "metadata": {
        "colab": {
          "base_uri": "https://localhost:8080/"
        },
        "id": "Hti0DRbiAuLu",
        "outputId": "73c714a6-90a1-422e-f859-4a8296dacc2e"
      },
      "outputs": [
        {
          "name": "stdout",
          "output_type": "stream",
          "text": [
            "23 10\n",
            "11642376\n",
            "11642792\n"
          ]
        }
      ],
      "source": [
        "Age=10\n",
        "age=23\n",
        "print(age,Age)\n",
        "print(id(Age))\n",
        "print(id(age))"
      ]
    },
    {
      "cell_type": "code",
      "execution_count": null,
      "metadata": {
        "id": "EEstyl3PO2D4"
      },
      "outputs": [],
      "source": []
    },
    {
      "cell_type": "markdown",
      "metadata": {
        "id": "YXDy3ikVNrGA"
      },
      "source": [
        "Arithmetic operators +,-*/,//(integer devision),**\n",
        "Logical operators and, or , not\n",
        "relational operators ->,<,<=,>=,!=,==\n",
        "Unary operators are not available\n",
        "Bolean true false\\\n",
        "Bitwise- &,|\n",
        "membership operators in, not in\n",
        "is, is not\n",
        "\n"
      ]
    },
    {
      "cell_type": "code",
      "execution_count": null,
      "metadata": {
        "colab": {
          "base_uri": "https://localhost:8080/"
        },
        "id": "hNQrutGRO4bQ",
        "outputId": "35cf7e4b-2e2b-4189-8c46-f9d37d4781d1"
      },
      "outputs": [
        {
          "name": "stdout",
          "output_type": "stream",
          "text": [
            "32\n",
            "technical devision 0.4\n",
            "integer devision/floor 0\n"
          ]
        }
      ],
      "source": [
        "a=2\n",
        "b=5\n",
        "print(a**b)# a power of b\n",
        "\n",
        "print('technical devision', a/b)\n",
        "print('integer/floor devision',a//b)"
      ]
    },
    {
      "cell_type": "code",
      "execution_count": null,
      "metadata": {
        "colab": {
          "base_uri": "https://localhost:8080/"
        },
        "id": "iVAvIrokg22k",
        "outputId": "dd051e5a-78f3-4433-db57-124b644ba8b1"
      },
      "outputs": [
        {
          "name": "stdout",
          "output_type": "stream",
          "text": [
            "Python 3.12.11\n"
          ]
        }
      ],
      "source": [
        "!python --version\n"
      ]
    },
    {
      "cell_type": "code",
      "execution_count": null,
      "metadata": {
        "colab": {
          "base_uri": "https://localhost:8080/"
        },
        "id": "hWYrSofsC6SI",
        "outputId": "e2f6f293-4b52-45a2-fc27-0df2e9f6a83c"
      },
      "outputs": [
        {
          "name": "stdout",
          "output_type": "stream",
          "text": [
            "11642376\n",
            "11642376\n",
            "11642376\n",
            "\n",
            "11643656\n",
            "0xb1a608\n",
            "0xb1ab08\n",
            "0xb1a608\n"
          ]
        }
      ],
      "source": [
        "a=10\n",
        "b=10\n",
        "c=10\n",
        "print(id(a))\n",
        "print(id(b))\n",
        "print(id(c))\n",
        "\n",
        "b=50\n",
        "print()\n",
        "print(id(b))\n",
        "\n",
        "print(hex(id(a)))\n",
        "print(hex(id(b)))\n",
        "print(hex(id(c)))"
      ]
    },
    {
      "cell_type": "markdown",
      "metadata": {
        "id": "EGAanEY_haDT"
      },
      "source": []
    },
    {
      "cell_type": "code",
      "execution_count": null,
      "metadata": {
        "colab": {
          "base_uri": "https://localhost:8080/"
        },
        "id": "OlcKgGu8hezt",
        "outputId": "13289036-2601-450e-f5b8-39b87b75639a"
      },
      "outputs": [
        {
          "name": "stdout",
          "output_type": "stream",
          "text": [
            "21\n"
          ]
        }
      ],
      "source": [
        "#use of \\ for better readablilty\n",
        "total=1+2+3+\\\n",
        "4+5+6\n",
        "print(total)"
      ]
    },
    {
      "cell_type": "code",
      "execution_count": null,
      "metadata": {
        "colab": {
          "base_uri": "https://localhost:8080/"
        },
        "id": "h5Dl4aDdjcdR",
        "outputId": "13301f06-0784-45d1-c5a5-2af083a74779"
      },
      "outputs": [
        {
          "name": "stdout",
          "output_type": "stream",
          "text": [
            "100 11.11 Sumit\n",
            "<class 'int'>\n",
            "<class 'float'>\n",
            "<class 'str'>\n",
            "11.11\n",
            "Sumit\n",
            "12\n"
          ]
        }
      ],
      "source": [
        "#Program for checking dynamic nature of python, dynamically typed language\n",
        "counter=100\n",
        "miles=11.11\n",
        "name='Sumit'\n",
        "print(counter, miles, name)\n",
        "print(type(counter))\n",
        "print(type(miles))\n",
        "print(type(name))\n",
        "#del use\n",
        "\n",
        "#del counter\n",
        "print(miles)\n",
        "print(name)\n",
        "counter=12\n",
        "print(counter)"
      ]
    },
    {
      "cell_type": "code",
      "execution_count": null,
      "metadata": {
        "colab": {
          "base_uri": "https://localhost:8080/"
        },
        "id": "2U5lWS_hi0wq",
        "outputId": "34adb144-f27f-4621-b51f-8ebdef3a0915"
      },
      "outputs": [
        {
          "name": "stdout",
          "output_type": "stream",
          "text": [
            "Today we are learning explicit continuationand it will give error\n"
          ]
        }
      ],
      "source": [
        "#Explicit Continuation\n",
        "s=\"Today we are learning explicit continuation\"\\\n",
        "\"and it will give error\"\n",
        "print(s)"
      ]
    },
    {
      "cell_type": "code",
      "execution_count": null,
      "metadata": {
        "colab": {
          "base_uri": "https://localhost:8080/"
        },
        "id": "j39NqkcliVlB",
        "outputId": "64d68a05-686c-45bd-cf91-8f86fdd4c1da"
      },
      "outputs": [
        {
          "name": "stdout",
          "output_type": "stream",
          "text": [
            "[1, 2, 3, 4, 5, 6]\n"
          ]
        }
      ],
      "source": [
        "#implicit continuation\n",
        "numbers=[1,2,3,\n",
        "         4,5,6]\n",
        "print(numbers)"
      ]
    },
    {
      "cell_type": "code",
      "execution_count": null,
      "metadata": {
        "colab": {
          "base_uri": "https://localhost:8080/"
        },
        "id": "kYXJMDKX2E4q",
        "outputId": "647adfb8-9cfb-4dee-fba7-751907ebeedd"
      },
      "outputs": [
        {
          "name": "stdout",
          "output_type": "stream",
          "text": [
            "3\n",
            "3.3333333333333335\n",
            "1000\n",
            "checking identity for 10 is equal to 3==> False\n",
            "checking identity for 10 is not equal to 3==> True\n",
            "Membershio operator example\n",
            "True\n",
            "False\n"
          ]
        }
      ],
      "source": [
        "#Operators in Python\n",
        "a=10\n",
        "b=3\n",
        "print(a//b)#floor=nearest lower integer\n",
        "print(a/b)\n",
        "print(a**b)#10 to the power of 3\n",
        "print(f'checking identity for {a} is equal to {b}==>',a is b)#Identity operator\n",
        "print(f'checking identity for {a} is not equal to {b}==>',a is not b)#identity operator true\n",
        "#Membership operators\n",
        "str='hello'\n",
        "print('Membershio operator example')\n",
        "print('e' in str)\n",
        "print('e' not in str)"
      ]
    },
    {
      "cell_type": "code",
      "execution_count": null,
      "metadata": {
        "colab": {
          "base_uri": "https://localhost:8080/"
        },
        "id": "GLsbSvPh-Pa8",
        "outputId": "61f9a063-fb20-41be-a9f3-06a24d178b84"
      },
      "outputs": [
        {
          "name": "stdout",
          "output_type": "stream",
          "text": [
            "Type help() for interactive help, or help(object) for help about object.\n",
            "Help on built-in function print in module builtins:\n",
            "\n",
            "print(*args, sep=' ', end='\\n', file=None, flush=False)\n",
            "    Prints the values to a stream, or to sys.stdout by default.\n",
            "\n",
            "    sep\n",
            "      string inserted between values, default a space.\n",
            "    end\n",
            "      string appended after the last value, default a newline.\n",
            "    file\n",
            "      a file-like object (stream); defaults to the current sys.stdout.\n",
            "    flush\n",
            "      whether to forcibly flush the stream.\n",
            "\n"
          ]
        }
      ],
      "source": [
        "print(help)\n",
        "help(print)"
      ]
    },
    {
      "cell_type": "code",
      "execution_count": null,
      "metadata": {
        "colab": {
          "base_uri": "https://localhost:8080/"
        },
        "id": "SjJKOywg8XgX",
        "outputId": "c45a2026-321f-4b6b-ced2-bf21fe4e99e2"
      },
      "outputs": [
        {
          "name": "stdout",
          "output_type": "stream",
          "text": [
            "Please enter the word you want to search\n",
            "h\n",
            "you are searching the word h in the string\n",
            "True\n"
          ]
        }
      ],
      "source": [
        "#Use of membership opertor to check the word in given string\n",
        "\n",
        "str='hello'\n",
        "print('Please enter the word you want to search')\n",
        "s=input()\n",
        "print(f'you are searching the word {s} in the string')\n",
        "'''if s in str:\n",
        "   print(f'{s} is avalable in string')\n",
        "else:\n",
        "   print(f'{s} is not available in string')\n",
        "'''\n",
        "print(s in str)\n"
      ]
    },
    {
      "cell_type": "code",
      "execution_count": null,
      "metadata": {
        "colab": {
          "base_uri": "https://localhost:8080/"
        },
        "id": "MR5ziztLAKaK",
        "outputId": "7c228440-0bec-48c9-bc1a-5fb8e21ee24d"
      },
      "outputs": [
        {
          "name": "stdout",
          "output_type": "stream",
          "text": [
            "False\n"
          ]
        }
      ],
      "source": [
        "#Use of identity operator is , is not\n",
        "\n",
        "a=10\n",
        "b=10\n",
        "print(a is not b)"
      ]
    },
    {
      "cell_type": "code",
      "execution_count": null,
      "metadata": {
        "colab": {
          "base_uri": "https://localhost:8080/"
        },
        "id": "GLHul061CuDZ",
        "outputId": "4b7b7b8d-57e1-4276-d8f8-34f74cf80d8c"
      },
      "outputs": [
        {
          "name": "stdout",
          "output_type": "stream",
          "text": [
            "<class 'int'>\n",
            "<class 'int'>\n",
            "11642376\n",
            "11642376\n",
            "12\n",
            "11642440\n"
          ]
        }
      ],
      "source": [
        "#Class of a variable\n",
        "a=10\n",
        "b=10\n",
        "print(type(a))\n",
        "print(type(b))\n",
        "print(id(a))\n",
        "print(id(b))\n",
        "a=a+2\n",
        "print(a)\n",
        "print(id(a))\n"
      ]
    },
    {
      "cell_type": "code",
      "execution_count": null,
      "metadata": {
        "colab": {
          "base_uri": "https://localhost:8080/"
        },
        "id": "sZGq6DkStm26",
        "outputId": "a9f891a6-c39b-4841-ec0b-b0c4536c9315"
      },
      "outputs": [
        {
          "name": "stdout",
          "output_type": "stream",
          "text": [
            "rogra\n",
            "rr\n"
          ]
        }
      ],
      "source": [
        "#Slicing (start:end:step)\n",
        "str=\"Program\"\n",
        "print(str[1:6])#Upper limit is not inclusive thats why rogra str[lower limit: upper limit -1]\n",
        "#Now we are checking the step 2 result it should be r g a as those are situated in the range 1:6 with steps 2\n",
        "print(str[1:6:3])"
      ]
    },
    {
      "cell_type": "code",
      "execution_count": null,
      "metadata": {
        "colab": {
          "base_uri": "https://localhost:8080/"
        },
        "id": "gRFIyOrzXuqB",
        "outputId": "d2e1205e-36aa-4ce8-d247-b38336ff6abc"
      },
      "outputs": [
        {
          "name": "stdout",
          "output_type": "stream",
          "text": [
            "enter the string Nitin\n",
            "not palindrom\n"
          ]
        }
      ],
      "source": [
        "#Check for Palindrom\n",
        "s=input(\"enter the string \").lower()\n",
        "if s==s[::-1]:\n",
        "  print(\"palindrom\")\n",
        "else:\n",
        "  print(\"not palindrom\")\n",
        "\n",
        "  '''s = input(\"enter the string \")\n",
        "\n",
        "This line asks the user to type a string.\n",
        "\n",
        "Whatever you type will be stored in the variable s.\n",
        "\n",
        "Example: if you type madam, then s = \"madam\".\n",
        "\n",
        "s[::-1]\n",
        "\n",
        "This is Python slicing.\n",
        "\n",
        "It means: take the string s and reverse it.\n",
        "\n",
        "Breakdown:\n",
        "\n",
        "s[start:stop:step]\n",
        "\n",
        "Here, start and stop are empty → it takes the whole string.\n",
        "\n",
        "step = -1 → means \"go backwards\".\n",
        "\n",
        "So if s = \"madam\", then s[::-1] = \"madam\" (same when reversed).\n",
        "\n",
        "if s == s[::-1]:\n",
        "\n",
        "This compares the original string to its reversed version.\n",
        "\n",
        "If both are the same → it’s a palindrome.\n",
        "\n",
        "Example:\n",
        "\n",
        "\"madam\" == \"madam\" ✅ (palindrome)\n",
        "\n",
        "\"hello\" == \"olleh\" ❌ (not palindrome)\n",
        "\n",
        "print(\"palindrom\") / print(\"not palindrom\")\n",
        "\n",
        "Based on the condition:\n",
        "\n",
        "If true → prints palindrom\n",
        "\n",
        "If false → prints not palindrom'''\n"
      ]
    },
    {
      "cell_type": "code",
      "execution_count": null,
      "metadata": {
        "colab": {
          "base_uri": "https://localhost:8080/"
        },
        "id": "kBu4i7EbZOl0",
        "outputId": "7a54634d-0c21-4420-9c11-3f80898be122"
      },
      "outputs": [
        {
          "name": "stdout",
          "output_type": "stream",
          "text": [
            "enter the string to check if the string is  palindrom or not Nitin\n",
            "You have entered string Nitin and string is Not Palindrom\n"
          ]
        }
      ],
      "source": [
        "#Program to check palindrom or not\n",
        "s=input('enter the string to check if the string is  palindrom or not ')\n",
        "if s==s[::-1]:\n",
        "  print(f'You have entered string {s} and string is Palindrom')\n",
        "else:\n",
        "  print(f'You have entered string {s} and string is Not Palindrom')\n",
        "\n"
      ]
    },
    {
      "cell_type": "code",
      "execution_count": null,
      "metadata": {
        "colab": {
          "base_uri": "https://localhost:8080/"
        },
        "id": "edLIzpIbbTe4",
        "outputId": "2c59889c-e5a3-433d-a6ff-bf3c79382e58"
      },
      "outputs": [
        {
          "name": "stdout",
          "output_type": "stream",
          "text": [
            "\n"
          ]
        }
      ],
      "source": [
        "str='program'\n",
        "str=str[-1:-2]\n",
        "print(str)"
      ]
    },
    {
      "cell_type": "code",
      "execution_count": null,
      "metadata": {
        "colab": {
          "base_uri": "https://localhost:8080/"
        },
        "id": "3WDu_QJbc4KX",
        "outputId": "c5d5aa49-26eb-4dde-ee0a-066344e0b6eb"
      },
      "outputs": [
        {
          "name": "stdout",
          "output_type": "stream",
          "text": [
            "hello\n",
            "Hllo\n",
            "Checking replace function\n",
            "HelloH\n",
            "helloh\n"
          ]
        }
      ],
      "source": [
        "#String immutability\n",
        "a=\"hello\"\n",
        "print(a)\n",
        "a=\"H\" + a[2:]\n",
        "print(a)\n"
      ]
    },
    {
      "cell_type": "code",
      "execution_count": null,
      "metadata": {
        "colab": {
          "base_uri": "https://localhost:8080/"
        },
        "id": "V9qjGYV0e86Z",
        "outputId": "4b1f42e0-915c-4121-a1a9-881b59bbdd31"
      },
      "outputs": [
        {
          "name": "stdout",
          "output_type": "stream",
          "text": [
            "Checking replace function\n",
            "HelloH\n",
            "helloh\n"
          ]
        }
      ],
      "source": [
        "#checking replace function\n",
        "print('Checking replace function')\n",
        "a='helloh'\n",
        "a1=a.replace('h','H')\n",
        "print(a1)\n",
        "print(a)"
      ]
    },
    {
      "cell_type": "code",
      "execution_count": null,
      "metadata": {
        "colab": {
          "base_uri": "https://localhost:8080/"
        },
        "id": "zN_TTQw_fOIq",
        "outputId": "f75ccef7-5119-40c8-96d1-567767555d00"
      },
      "outputs": [
        {
          "name": "stdout",
          "output_type": "stream",
          "text": [
            "Checking replace function\n",
            "HelloH\n",
            "helloh\n",
            "6\n",
            "HELLOH\n",
            "helloh\n",
            "Helloh\n"
          ]
        }
      ],
      "source": [
        "\n",
        "#checking replace function\n",
        "print('Checking replace function')\n",
        "a='helloh'\n",
        "a1=a.replace('h','H')\n",
        "print(a1)\n",
        "print(a)\n",
        "print(len(a))\n",
        "print(a.upper())\n",
        "print(a.lower())\n",
        "print(a.capitalize())\n"
      ]
    },
    {
      "cell_type": "code",
      "execution_count": null,
      "metadata": {
        "colab": {
          "base_uri": "https://localhost:8080/"
        },
        "id": "cmfT0eNxfsh1",
        "outputId": "3b58bef6-9353-4d75-f3a0-e07b335f5153"
      },
      "outputs": [
        {
          "name": "stdout",
          "output_type": "stream",
          "text": [
            "how\n",
            "Hello how are you\n",
            "Hello#how#are#you\n",
            "Hello,how,are,you\n"
          ]
        }
      ],
      "source": [
        "#Join function\n",
        "l=[\"Hello\",\"how\",\"are\",\"you\"]\n",
        "print(l[1])\n",
        "print(\" \".join(l))#Seperated by space\n",
        "print(\"#\".join(l))#Seperated by #\n",
        "print(\",\".join(l))#Seperated by ,\n"
      ]
    },
    {
      "cell_type": "code",
      "execution_count": null,
      "metadata": {
        "colab": {
          "base_uri": "https://localhost:8080/"
        },
        "id": "LSlMZMEegskj",
        "outputId": "07d4970b-58e9-4451-805e-0834626c6d72"
      },
      "outputs": [
        {
          "name": "stdout",
          "output_type": "stream",
          "text": [
            "heelo sumit heelo sumit heelo sumit \n",
            "**********\n"
          ]
        }
      ],
      "source": [
        "#concatination symbol\n",
        "a='heelo'\n",
        "b='sumit'\n",
        "c=a + \" \" + b + \" \"\n",
        "print(c*3)\n",
        "print('*'*10)#in strings * is repitation operator"
      ]
    },
    {
      "cell_type": "code",
      "execution_count": null,
      "metadata": {
        "colab": {
          "base_uri": "https://localhost:8080/"
        },
        "id": "50q9OT--iUqa",
        "outputId": "86540821-f64c-49ca-f1c5-309a66dc0a96"
      },
      "outputs": [
        {
          "name": "stdout",
          "output_type": "stream",
          "text": [
            "<class 'list'>\n",
            "[1, 2, 3, 4, 5]\n",
            "[1, 2, 3, 4, 5] [10.3, 20, 30, 'Rakhee']\n",
            "<class 'str'>\n",
            "Rakhee\n",
            "['hello', 'how', 'are', 'you']\n",
            "hello how are you\n"
          ]
        }
      ],
      "source": [
        "#List uses []\n",
        "#List are mutable l1[2]='NEW' is posible/replace ment is possible (assignment operator)\n",
        "#\n",
        "l=[1,2,3,4,5]\n",
        "l1=list()\n",
        "print(type(l))\n",
        "print(l)\n",
        "l1=[10.3,20,30,'Rakhee']#Multiple type of data can be stored in the list\n",
        "print(l,l1)\n",
        "print(type(l1[3]))\n",
        "print(l1[-1])\n",
        "st=[\"hello\",\"how\",\"are\",\"you\"]\n",
        "print(st)\n",
        "s1=\" \".join(st)# Converting list into string by using join method\n",
        "print(s1)"
      ]
    },
    {
      "cell_type": "code",
      "execution_count": null,
      "metadata": {
        "colab": {
          "base_uri": "https://localhost:8080/",
          "height": 263
        },
        "id": "UFOdHu7yktqX",
        "outputId": "9d81b319-e670-4b36-fb50-d3de89577fac"
      },
      "outputs": [
        {
          "name": "stdout",
          "output_type": "stream",
          "text": [
            "<class 'tuple'>\n",
            "<class 'tuple'>\n",
            "(1, 2, 3, 4)\n",
            "(10.5, 34, 'Rakhee')\n"
          ]
        },
        {
          "ename": "TypeError",
          "evalue": "'tuple' object does not support item assignment",
          "output_type": "error",
          "traceback": [
            "\u001b[0;31m---------------------------------------------------------------------------\u001b[0m",
            "\u001b[0;31mTypeError\u001b[0m                                 Traceback (most recent call last)",
            "\u001b[0;32m/tmp/ipython-input-765083079.py\u001b[0m in \u001b[0;36m<cell line: 0>\u001b[0;34m()\u001b[0m\n\u001b[1;32m     11\u001b[0m \u001b[0mprint\u001b[0m\u001b[0;34m(\u001b[0m\u001b[0mt1\u001b[0m\u001b[0;34m)\u001b[0m\u001b[0;34m\u001b[0m\u001b[0;34m\u001b[0m\u001b[0m\n\u001b[1;32m     12\u001b[0m \u001b[0;34m\u001b[0m\u001b[0m\n\u001b[0;32m---> 13\u001b[0;31m \u001b[0mt1\u001b[0m\u001b[0;34m[\u001b[0m\u001b[0;36m2\u001b[0m\u001b[0;34m]\u001b[0m\u001b[0;34m=\u001b[0m\u001b[0;34m'New'\u001b[0m\u001b[0;34m\u001b[0m\u001b[0;34m\u001b[0m\u001b[0m\n\u001b[0m\u001b[1;32m     14\u001b[0m \u001b[0mprint\u001b[0m\u001b[0;34m(\u001b[0m\u001b[0mt1\u001b[0m\u001b[0;34m)\u001b[0m\u001b[0;34m\u001b[0m\u001b[0;34m\u001b[0m\u001b[0m\n",
            "\u001b[0;31mTypeError\u001b[0m: 'tuple' object does not support item assignment"
          ]
        }
      ],
      "source": [
        "#tuple\n",
        "#tuple dose not support the assignamet operator\n",
        "#Tuple/strings are immutable\n",
        "t=(1,2,3,4)\n",
        "t1=tuple()#Constructor\n",
        "print(type(t))\n",
        "print(type(t1))\n",
        "t1=(10.5,34,\"Rakhee\")\n",
        "\n",
        "print(t)\n",
        "print(t1)\n",
        "\n",
        "t1[2]='New'\n",
        "print(t1)"
      ]
    },
    {
      "cell_type": "code",
      "execution_count": null,
      "metadata": {
        "colab": {
          "base_uri": "https://localhost:8080/"
        },
        "id": "IBoSJqymnWzs",
        "outputId": "f62712c7-189f-48a9-dcfa-d8efecff2ff7"
      },
      "outputs": [
        {
          "output_type": "stream",
          "name": "stdout",
          "text": [
            "<class 'set'>\n",
            "<class 'set'>\n",
            "{1, 2, 3, 4, 5}\n",
            "{1, 2, 3, 4, 5, 8}\n",
            "after removing {1, 2, 4, 5, 8}\n",
            "{}\n",
            "<class 'dict'>\n"
          ]
        }
      ],
      "source": [
        "#Set\n",
        "#sets are mutable\n",
        "s=set() #set constructor\n",
        "print(type(s))\n",
        "s1={1,2,3,3,3, 4,5} #set must have comma seperation ow s1={} empty it is a dictionary also it will show single value of duplicate data\n",
        "print(type(s1))\n",
        "print(s1)\n",
        "s1.add(8)\n",
        "print(s1)\n",
        "s1.remove(3)\n",
        "print(f'after removing',s1)\n",
        "s2={}\n",
        "print(s2)\n",
        "print(type(s2))"
      ]
    },
    {
      "cell_type": "code",
      "source": [],
      "metadata": {
        "id": "hOaiNMw3rIPf"
      },
      "execution_count": null,
      "outputs": []
    },
    {
      "cell_type": "code",
      "source": [],
      "metadata": {
        "id": "7qirlpB5ovUV"
      },
      "execution_count": null,
      "outputs": []
    },
    {
      "cell_type": "code",
      "execution_count": null,
      "metadata": {
        "colab": {
          "base_uri": "https://localhost:8080/",
          "height": 245
        },
        "id": "cYT1xAFfn0bk",
        "outputId": "86470fee-13e2-416c-c383-8101b985401d"
      },
      "outputs": [
        {
          "output_type": "stream",
          "name": "stdout",
          "text": [
            "<class 'dict'>\n",
            "<class 'dict'>\n",
            "{1: 'Rakhee', 2: 'New'}\n",
            "Rakhee\n"
          ]
        },
        {
          "output_type": "error",
          "ename": "KeyError",
          "evalue": "3",
          "traceback": [
            "\u001b[0;31m---------------------------------------------------------------------------\u001b[0m",
            "\u001b[0;31mKeyError\u001b[0m                                  Traceback (most recent call last)",
            "\u001b[0;32m/tmp/ipython-input-2058480134.py\u001b[0m in \u001b[0;36m<cell line: 0>\u001b[0;34m()\u001b[0m\n\u001b[1;32m      7\u001b[0m \u001b[0mprint\u001b[0m\u001b[0;34m(\u001b[0m\u001b[0md\u001b[0m\u001b[0;34m)\u001b[0m\u001b[0;34m\u001b[0m\u001b[0;34m\u001b[0m\u001b[0m\n\u001b[1;32m      8\u001b[0m \u001b[0mprint\u001b[0m\u001b[0;34m(\u001b[0m\u001b[0md\u001b[0m\u001b[0;34m[\u001b[0m\u001b[0;36m1\u001b[0m\u001b[0;34m]\u001b[0m\u001b[0;34m)\u001b[0m\u001b[0;34m\u001b[0m\u001b[0;34m\u001b[0m\u001b[0m\n\u001b[0;32m----> 9\u001b[0;31m \u001b[0mprint\u001b[0m\u001b[0;34m(\u001b[0m\u001b[0md\u001b[0m\u001b[0;34m[\u001b[0m\u001b[0;36m3\u001b[0m\u001b[0;34m]\u001b[0m\u001b[0;34m)\u001b[0m\u001b[0;34m\u001b[0m\u001b[0;34m\u001b[0m\u001b[0m\n\u001b[0m",
            "\u001b[0;31mKeyError\u001b[0m: 3"
          ]
        }
      ],
      "source": [
        "#Dictionary\n",
        "d={}\n",
        "d1=dict() #Constructor\n",
        "print(type(d))\n",
        "print(type(d1))\n",
        "d={1:\"Rakhee\",2:\"New\"}# Key: Value pair considered as one value\n",
        "print(d)\n",
        "print(d[1])\n",
        "print(d[3])\n"
      ]
    },
    {
      "cell_type": "code",
      "source": [
        "#IF...Else\n",
        "s=int(input(\"enter age ==>\"))\n",
        "if s>=18:\n",
        "  print(\" eligible for vote\")\n",
        "else:\n",
        "  print(\"not eligible for vote\")\n",
        "  print('Bye')"
      ],
      "metadata": {
        "colab": {
          "base_uri": "https://localhost:8080/"
        },
        "id": "AalroCz5oydv",
        "outputId": "bcac4931-0cd9-49e9-f0e3-bc960f8105d6"
      },
      "execution_count": null,
      "outputs": [
        {
          "output_type": "stream",
          "name": "stdout",
          "text": [
            "enter age ==>18\n",
            " eligible for vote\n"
          ]
        }
      ]
    },
    {
      "cell_type": "code",
      "source": [
        "#Program to check If age is >24 and exp is >5 eligible for job ow not\n",
        "age=int(input('enter the age of the candidate==>'))\n",
        "exp=int(input('enter the experience of the candidate==>'))\n",
        "if age>=24 and exp>=5:\n",
        "  print('Candidate is eligible for job')\n",
        "else:\n",
        "  print('Candidate is not eligible for job')"
      ],
      "metadata": {
        "colab": {
          "base_uri": "https://localhost:8080/"
        },
        "id": "T3T2NUsoqmAH",
        "outputId": "ba3f0c99-4b37-428a-9f4e-5ab5fd0a4fcc"
      },
      "execution_count": null,
      "outputs": [
        {
          "output_type": "stream",
          "name": "stdout",
          "text": [
            "enter the age of the candidate==>34\n",
            "enter the experience of the candidate==>5\n",
            "Candidate is eligible for job\n"
          ]
        }
      ]
    },
    {
      "cell_type": "code",
      "source": [
        "#Program to check leap year\n",
        "year=int(input('Please enter the year you want to check wether its Leap year or not ==>'))\n",
        "if(year%100!=0 and year%4==0) or year%400==0:\n",
        "  print(f'you have entered {year} and is a leap year')\n",
        "else:\n",
        "  print(f'you have entered{year} and is not leap year')"
      ],
      "metadata": {
        "colab": {
          "base_uri": "https://localhost:8080/"
        },
        "id": "wvu8DxgWr-55",
        "outputId": "17b57c3c-347e-4af8-90a4-956521177d39"
      },
      "execution_count": null,
      "outputs": [
        {
          "output_type": "stream",
          "name": "stdout",
          "text": [
            "Please enter the year you want to check wether its Leap year or not ==>1900\n",
            "you have entered1900 and is not leap year\n"
          ]
        }
      ]
    },
    {
      "cell_type": "code",
      "source": [
        "#Program to check leap year using ternary operator\n",
        "year=int(input('Enter the year you want to check weather its a Leap year or not==>'))\n",
        "print(f'{year} is a leap year') if (year%100!=0 and year%4==0) or year%400==0 else print(f'{year} not a leap year')"
      ],
      "metadata": {
        "colab": {
          "base_uri": "https://localhost:8080/"
        },
        "id": "1n25LZXO2aMD",
        "outputId": "b53455a7-46d2-43ea-b866-aa8f3dac5ec3"
      },
      "execution_count": null,
      "outputs": [
        {
          "output_type": "stream",
          "name": "stdout",
          "text": [
            "Enter the year you want to check weather its a Leap year or not==>2024\n",
            "2024 is a leap year\n"
          ]
        }
      ]
    },
    {
      "cell_type": "code",
      "source": [
        "#Program to check weather number is positive, negative or zero\n",
        "number=float(input('Please enter a number to check weather its positive, negative or zero'))\n",
        "if(number>0):\n",
        "  print(f'{number} is positive')\n",
        "elif(number<0):\n",
        "  print(f'{number} is negative')\n",
        "else:\n",
        "   print(f'{number} is zero')\n"
      ],
      "metadata": {
        "colab": {
          "base_uri": "https://localhost:8080/"
        },
        "id": "gLSLxWSN4mV0",
        "outputId": "01282a47-3808-47bd-a1e8-7666b9bb045b"
      },
      "execution_count": null,
      "outputs": [
        {
          "output_type": "stream",
          "name": "stdout",
          "text": [
            "Please enter a number to check weather its positive, negative or zero-2\n",
            "-2.0 is negative\n"
          ]
        }
      ]
    },
    {
      "cell_type": "code",
      "source": [
        "'''#Write a program for grade calculator the accepts the marks of students for 5 subjects. and\n",
        "#give grade accordingly\n",
        "90>=A+\n",
        "80-89 = B\n",
        "70-79= C\n",
        "60-69=d\n",
        "<60=Fail'''\n",
        "maths=int(input('enter the marks for Maths'))\n",
        "english=int(input('enter the marks for English'))\n",
        "science=int(input('enter the marks for Science'))\n",
        "physics=int(input('enter the marks for Physics'))\n",
        "Chemistry=int(input('enter the marks for Chemistry'))\n",
        "TotalMarks=maths+english+science+physics+Chemistry\n",
        "Total=(TotalMarks/500)*100\n",
        "print(f'Total Marks obtained by student is {TotalMarks} out of 500 whch is {Total}')\n",
        "if Total>=90:\n",
        "  print(\"A+\")\n",
        "elif Total>=80 and Total<=89:\n",
        "  print('B')\n",
        "elif Total>=70 and Total<=79:\n",
        "  print('C')\n",
        "elif Total>=60 and Total<=69:\n",
        "  print('D')\n",
        "else:\n",
        "  print('Fail')\n",
        "\n"
      ],
      "metadata": {
        "colab": {
          "base_uri": "https://localhost:8080/"
        },
        "id": "XjK7LmU-Nkoa",
        "outputId": "ad680688-410a-498a-a7c7-140900d1da59"
      },
      "execution_count": null,
      "outputs": [
        {
          "output_type": "stream",
          "name": "stdout",
          "text": [
            "enter the marks for Maths50\n",
            "enter the marks for English50\n",
            "enter the marks for Science50\n",
            "enter the marks for Physics50\n",
            "enter the marks for Chemistry50\n",
            "Total Marks obtained by student is 250 whch is 50.0\n",
            "Fail\n"
          ]
        }
      ]
    },
    {
      "cell_type": "code",
      "source": [
        "'''#Write a code which takes user input reresenting a\n",
        "geometric shape and its dimensions, and then calculates and print the area of that shape using match case'''\n",
        "\n",
        "#Program to check area of the circle, rectangle, tringle and square using match\n",
        "\n",
        "print('please enter the shape you want check area of circle, tringle, rectangle or square==>')\n",
        "\n",
        "shape=input(\"Enter the shape\").lower()\n",
        "\n",
        "match shape:\n",
        "    case \"circle\":\n",
        "      print('Enter the radius of the circle')\n",
        "      r=float(input())\n",
        "      area=3.14159 * r * r\n",
        "      print(f'area of circle is ',area:.2f)\n",
        "    case _:\n",
        "      print\n",
        "\n"
      ],
      "metadata": {
        "colab": {
          "base_uri": "https://localhost:8080/"
        },
        "id": "GJIqoG8IdSoq",
        "outputId": "6fc0802d-8c58-4eb9-87e4-94d4afac5886"
      },
      "execution_count": null,
      "outputs": [
        {
          "name": "stdout",
          "output_type": "stream",
          "text": [
            "please enter the shape you want check area of circle, tringle, rectangle or square==>\n",
            "circle\n",
            "Enter the radius of the circle\n",
            "4\n",
            "area of circle is  50.26544\n",
            "please enter the shape you want check area of circle, tringle, rectangle or square==>\n",
            "Enter the shape12\n"
          ]
        }
      ]
    },
    {
      "cell_type": "code",
      "source": [
        "# Program to calculate area using match-case\n",
        "\n",
        "print(\"Choose a shape: circle, rectangle, triangle, square\")\n",
        "shape = input(\"Enter the shape: \").lower()\n",
        "\n",
        "match shape:\n",
        "    case \"circle\":\n",
        "        r = float(input(\"Enter radius: \"))\n",
        "        area = 3.14159 * r * r\n",
        "        print(f\"Area of circle = {area:.2f}\")\n",
        "\n",
        "    case \"rectangle\":\n",
        "        l = float(input(\"Enter length: \"))\n",
        "        w = float(input(\"Enter width: \"))\n",
        "        area = l * w\n",
        "        print(f\"Area of rectangle = {area:.2f}\")\n",
        "\n",
        "    case \"triangle\":\n",
        "        b = float(input(\"Enter base: \"))\n",
        "        h = float(input(\"Enter height: \"))\n",
        "        area = 0.5 * b * h\n",
        "        print(f\"Area of triangle = {area:.2f}\")\n",
        "\n",
        "    case \"square\":\n",
        "        s = float(input(\"Enter side: \"))\n",
        "        area = s * s\n",
        "        print(f\"Area of square = {area:.2f}\")\n",
        "\n",
        "    case _:\n",
        "        print(\"Invalid shape! Please choose circle, rectangle, triangle, or square.\")\n"
      ],
      "metadata": {
        "id": "_iWl4DFdiyvB"
      },
      "execution_count": null,
      "outputs": []
    },
    {
      "cell_type": "code",
      "source": [
        "# Program to calculate area using match-case\n",
        "print(\"Choose a shape circle, rectangle, tringle or square\")\n",
        "shape=input(\"Enter a shape=>\").lower()\n",
        "\n",
        "match shape:\n",
        "  case \"circle\":\n",
        "    print(\"Enter radius of circle \")\n",
        "    r=float(input())\n",
        "    area=3.14159*r*r\n",
        "    print(f\"Area of circle is {area:.2f}\")\n",
        "  case \"square\":\n",
        "    s=float(input(\"please enter side of the square \"))\n",
        "    area=s*s\n",
        "    print(f'Area of the square is {area:.2f}')\n",
        "  case \"tringle\":\n",
        "    base=float(input('please enter base of the tringle'))\n",
        "    height=float(input('please enter the height of the tringle'))\n",
        "    area=0.5*base*height\n",
        "    print(f'Area of tringle is {area:.2f}')\n",
        "  case \"rectangle\":\n",
        "    length=float(input('Enter the lenght of rectangle'))\n",
        "    width=float(input('Enter the width of rectangle'))\n",
        "    area=length*width\n",
        "    print(f'Area of rectangle is {area:.2f}')\n",
        "  case _:\n",
        "    print(\"Invalid Shape!, please enter any of shape circle, rectangle, tringle or square\")"
      ],
      "metadata": {
        "colab": {
          "base_uri": "https://localhost:8080/"
        },
        "id": "d-gIHxftpaLp",
        "outputId": "35983c37-353a-4413-d42d-b1831b6a025a"
      },
      "execution_count": null,
      "outputs": [
        {
          "output_type": "stream",
          "name": "stdout",
          "text": [
            "Choose a shape circle, rectangle, tringle or square\n",
            "Enter a shape=>asdf\n",
            "Invalid Shape!, please enter shape circle, rectangle, tringle or square\n"
          ]
        }
      ]
    },
    {
      "cell_type": "code",
      "source": [
        "#Odd even check\n",
        "n=int(input('Enter any number '))\n",
        "if n%2==0:\n",
        "  print('even')\n",
        "else:\n",
        "  print('odd')\n"
      ],
      "metadata": {
        "colab": {
          "base_uri": "https://localhost:8080/"
        },
        "id": "d3TUyWaawc91",
        "outputId": "70fe63db-4543-416e-9936-ad61e84ced60"
      },
      "execution_count": null,
      "outputs": [
        {
          "output_type": "stream",
          "name": "stdout",
          "text": [
            "Enter any number 2\n",
            "even\n"
          ]
        }
      ]
    },
    {
      "cell_type": "code",
      "source": [
        "#Ternary operator\n",
        "n=int(input('Enter the number =>'))\n",
        "res='even' if n%2==0 else 'odd' #True condition, Condition, else part\n",
        "print('Given number is ', res)"
      ],
      "metadata": {
        "colab": {
          "base_uri": "https://localhost:8080/"
        },
        "id": "rzyiXoVzwyxs",
        "outputId": "7de8cf68-a22f-47c3-910e-075f4b67acef"
      },
      "execution_count": null,
      "outputs": [
        {
          "output_type": "stream",
          "name": "stdout",
          "text": [
            "Enter the number =>4\n",
            "Given number is  even\n"
          ]
        }
      ]
    },
    {
      "cell_type": "code",
      "source": [
        "#Ternary operator using nested if\n",
        "n=int(input('Enter the number'))\n",
        "res='zero' if n==0 else 'positive' if n>0 else 'negative'\n",
        "print('Given number is ',res)\n"
      ],
      "metadata": {
        "colab": {
          "base_uri": "https://localhost:8080/",
          "height": 211
        },
        "id": "SjyumbogyS9v",
        "outputId": "b5fc2a15-aaee-41bb-d34e-23c805a61868"
      },
      "execution_count": null,
      "outputs": [
        {
          "name": "stdout",
          "output_type": "stream",
          "text": [
            "Enter the number-\n"
          ]
        },
        {
          "output_type": "error",
          "ename": "ValueError",
          "evalue": "invalid literal for int() with base 10: '-'",
          "traceback": [
            "\u001b[0;31m---------------------------------------------------------------------------\u001b[0m",
            "\u001b[0;31mValueError\u001b[0m                                Traceback (most recent call last)",
            "\u001b[0;32m/tmp/ipython-input-2481222975.py\u001b[0m in \u001b[0;36m<cell line: 0>\u001b[0;34m()\u001b[0m\n\u001b[1;32m      1\u001b[0m \u001b[0;31m#Ternary operator using nested if\u001b[0m\u001b[0;34m\u001b[0m\u001b[0;34m\u001b[0m\u001b[0m\n\u001b[0;32m----> 2\u001b[0;31m \u001b[0mn\u001b[0m\u001b[0;34m=\u001b[0m\u001b[0mint\u001b[0m\u001b[0;34m(\u001b[0m\u001b[0minput\u001b[0m\u001b[0;34m(\u001b[0m\u001b[0;34m'Enter the number'\u001b[0m\u001b[0;34m)\u001b[0m\u001b[0;34m)\u001b[0m\u001b[0;34m\u001b[0m\u001b[0;34m\u001b[0m\u001b[0m\n\u001b[0m\u001b[1;32m      3\u001b[0m \u001b[0mres\u001b[0m\u001b[0;34m=\u001b[0m\u001b[0;34m'zero'\u001b[0m \u001b[0;32mif\u001b[0m \u001b[0mn\u001b[0m\u001b[0;34m==\u001b[0m\u001b[0;36m0\u001b[0m \u001b[0;32melse\u001b[0m \u001b[0;34m'positive'\u001b[0m \u001b[0;32mif\u001b[0m \u001b[0mn\u001b[0m\u001b[0;34m>\u001b[0m\u001b[0;36m0\u001b[0m \u001b[0;32melse\u001b[0m \u001b[0;34m'negative'\u001b[0m\u001b[0;34m\u001b[0m\u001b[0;34m\u001b[0m\u001b[0m\n\u001b[1;32m      4\u001b[0m \u001b[0mprint\u001b[0m\u001b[0;34m(\u001b[0m\u001b[0;34m'Given number is '\u001b[0m\u001b[0;34m,\u001b[0m\u001b[0mres\u001b[0m\u001b[0;34m)\u001b[0m\u001b[0;34m\u001b[0m\u001b[0;34m\u001b[0m\u001b[0m\n",
            "\u001b[0;31mValueError\u001b[0m: invalid literal for int() with base 10: '-'"
          ]
        }
      ]
    },
    {
      "cell_type": "code",
      "source": [
        "#Range function in python\n",
        "\n",
        "for i in range(1,5): #range(start, end, step)\n",
        "  print(i)           #[start:end:step]"
      ],
      "metadata": {
        "colab": {
          "base_uri": "https://localhost:8080/"
        },
        "id": "Fn13v4ql2mR0",
        "outputId": "1a79259b-78ef-4082-bbaf-d5dad8cbd8da"
      },
      "execution_count": null,
      "outputs": [
        {
          "output_type": "stream",
          "name": "stdout",
          "text": [
            "1\n",
            "2\n",
            "3\n",
            "4\n"
          ]
        }
      ]
    },
    {
      "cell_type": "code",
      "source": [
        "#Range using step\n",
        "\n",
        "for i in range(15,1,-2):\n",
        "  print(i)"
      ],
      "metadata": {
        "colab": {
          "base_uri": "https://localhost:8080/"
        },
        "id": "bQ02sOG74Ji0",
        "outputId": "f69823f6-3734-4627-b0e0-ca7402e2a5b4"
      },
      "execution_count": null,
      "outputs": [
        {
          "output_type": "stream",
          "name": "stdout",
          "text": [
            "15\n",
            "13\n",
            "11\n",
            "9\n",
            "7\n",
            "5\n",
            "3\n"
          ]
        }
      ]
    },
    {
      "cell_type": "code",
      "source": [
        "#Range -5 no option\n",
        "\n",
        "for i in range(-5): #By default step is +1...\n",
        "  print(i)    #(0,-5,1)  if -5 ...0+1.....it will not reach to 0 so it wont give us output"
      ],
      "metadata": {
        "id": "cjs4ajD65Y5d"
      },
      "execution_count": null,
      "outputs": []
    },
    {
      "cell_type": "code",
      "source": [
        "#Range and use of seperator\n",
        "\n",
        "for i in range(-5,-1):\n",
        "  print(i,end='.')"
      ],
      "metadata": {
        "colab": {
          "base_uri": "https://localhost:8080/"
        },
        "id": "p9L7-zC56QPl",
        "outputId": "0631436f-83b2-4678-f613-5364b3f149cd"
      },
      "execution_count": null,
      "outputs": [
        {
          "output_type": "stream",
          "name": "stdout",
          "text": [
            "-5.-4.-3.-2."
          ]
        }
      ]
    },
    {
      "cell_type": "code",
      "source": [
        "#check the range from -5 to -1\n",
        "for i in range(-5,0):\n",
        "  print(i,end='#')"
      ],
      "metadata": {
        "colab": {
          "base_uri": "https://localhost:8080/"
        },
        "id": "h5cRE9tL7Lt7",
        "outputId": "56eee915-7b90-4d9a-a884-ae174263be7b"
      },
      "execution_count": null,
      "outputs": [
        {
          "output_type": "stream",
          "name": "stdout",
          "text": [
            "-5#-4#-3#-2#-1#"
          ]
        }
      ]
    },
    {
      "cell_type": "code",
      "source": [
        "#checking the range 6 to -1\n",
        "for i in range(6,-6,-1):\n",
        "  print(i,end=' ')"
      ],
      "metadata": {
        "colab": {
          "base_uri": "https://localhost:8080/"
        },
        "id": "p76j0Azl8t8N",
        "outputId": "a609f2c2-a506-4e17-f2b7-1971fc77ca86"
      },
      "execution_count": null,
      "outputs": [
        {
          "output_type": "stream",
          "name": "stdout",
          "text": [
            "6 5 4 3 2 1 0 -1 -2 -3 -4 -5 "
          ]
        }
      ]
    },
    {
      "cell_type": "code",
      "source": [
        "#Range function with the list Data Structure\n",
        "\n",
        "l1=['aa','bb','cc','dd']\n",
        "for i in range(len(l1)):\n",
        "  print(l1[i],i)\n",
        "x=str(l1).upper()\n",
        "print(type(x))\n",
        "print(x)"
      ],
      "metadata": {
        "colab": {
          "base_uri": "https://localhost:8080/"
        },
        "id": "B5TaR9aK9eik",
        "outputId": "5fb81ca9-75f1-4ed4-e73b-a5118d11d90b"
      },
      "execution_count": null,
      "outputs": [
        {
          "output_type": "stream",
          "name": "stdout",
          "text": [
            "aa 0\n",
            "bb 1\n",
            "cc 2\n",
            "dd 3\n",
            "<class 'str'>\n",
            "['AA', 'BB', 'CC', 'DD']\n"
          ]
        }
      ]
    },
    {
      "cell_type": "code",
      "source": [
        "#Range() function with list in python\n",
        "\n",
        "fruits=['apple','banana','cherry','date']\n",
        "for i in range(len(fruits)):\n",
        "  print(fruits[i])\n",
        "print('type of i in for loop',type(i))\n",
        "print('type of fruits[i] in for loop',type(fruits[i]))"
      ],
      "metadata": {
        "colab": {
          "base_uri": "https://localhost:8080/"
        },
        "id": "jl4ZVoyVbrBn",
        "outputId": "6afd3fc0-c27a-4496-df16-c4e72a9480d2"
      },
      "execution_count": null,
      "outputs": [
        {
          "output_type": "stream",
          "name": "stdout",
          "text": [
            "apple\n",
            "banana\n",
            "cherry\n",
            "date\n",
            "type of i in for loop <class 'int'>\n",
            "type of fruits[i] in for loop <class 'str'>\n"
          ]
        }
      ]
    },
    {
      "cell_type": "code",
      "source": [
        "#Range function in List\n",
        "\n",
        "l1=['aa','bb','cc','dd']\n",
        "for i in l1:\n",
        "  x=i.upper()\n",
        "  print(i,\" \",x)\n",
        "\n"
      ],
      "metadata": {
        "colab": {
          "base_uri": "https://localhost:8080/"
        },
        "id": "7Q_9qRMGdJQs",
        "outputId": "acd5c8eb-1fab-4c6d-9856-736cea6f7a94"
      },
      "execution_count": null,
      "outputs": [
        {
          "output_type": "stream",
          "name": "stdout",
          "text": [
            "aa   AA\n",
            "bb   BB\n",
            "cc   CC\n",
            "dd   DD\n"
          ]
        }
      ]
    },
    {
      "cell_type": "code",
      "source": [
        "#itterating oveer list, tuple, string , dictionary ,set\n",
        "\n",
        "l1=['aa','bb','cc','dd']\n",
        "for i in range(len(l1)):\n",
        "  print(l1[i])"
      ],
      "metadata": {
        "colab": {
          "base_uri": "https://localhost:8080/"
        },
        "id": "Reybh52SfNCi",
        "outputId": "c4309caa-92f9-4f43-f1be-9f94e7d8032d"
      },
      "execution_count": null,
      "outputs": [
        {
          "output_type": "stream",
          "name": "stdout",
          "text": [
            "aa\n",
            "bb\n",
            "cc\n",
            "dd\n"
          ]
        }
      ]
    },
    {
      "cell_type": "code",
      "source": [
        "#iterating tuple\n",
        "tup=(\"aa\",\"bb\",\"cc\")\n",
        "for i in tup:\n",
        "  print(i)"
      ],
      "metadata": {
        "colab": {
          "base_uri": "https://localhost:8080/"
        },
        "id": "zIEh9cuygqlG",
        "outputId": "b656ff85-0f43-466a-fe73-08136e0715d6"
      },
      "execution_count": null,
      "outputs": [
        {
          "output_type": "stream",
          "name": "stdout",
          "text": [
            "aa\n",
            "bb\n",
            "cc\n"
          ]
        }
      ]
    },
    {
      "cell_type": "code",
      "source": [
        "#iterating string\n",
        "str=\"testing\"\n",
        "for i in str:\n",
        "  print(i)"
      ],
      "metadata": {
        "colab": {
          "base_uri": "https://localhost:8080/"
        },
        "id": "ejY_ZV2gg69L",
        "outputId": "9e40a24b-e269-4198-8555-413b4de437c6"
      },
      "execution_count": null,
      "outputs": [
        {
          "output_type": "stream",
          "name": "stdout",
          "text": [
            "t\n",
            "e\n",
            "s\n",
            "t\n",
            "i\n",
            "n\n",
            "g\n"
          ]
        }
      ]
    },
    {
      "cell_type": "code",
      "source": [
        "#iterating dictionary\n",
        "\n",
        "d={'Name':'Sumit','key test':'test value',1:10}\n",
        "for i in d:\n",
        "  print(i,\" \",d[i])\n"
      ],
      "metadata": {
        "colab": {
          "base_uri": "https://localhost:8080/"
        },
        "id": "H5enBXP-hIbX",
        "outputId": "bfec1565-4b44-4f22-926b-e5197dc0e3bf"
      },
      "execution_count": null,
      "outputs": [
        {
          "output_type": "stream",
          "name": "stdout",
          "text": [
            "key   value\n",
            "key test   test value\n",
            "1   10\n"
          ]
        }
      ]
    },
    {
      "cell_type": "code",
      "source": [
        "#Set itteration\n",
        "set1={1,2,3,4,5}\n",
        "for i in set1:\n",
        "  print(i)"
      ],
      "metadata": {
        "colab": {
          "base_uri": "https://localhost:8080/"
        },
        "id": "3H3EO05_5ZRX",
        "outputId": "b0fdf359-e4cc-466a-e42e-2e8abc1b085e"
      },
      "execution_count": null,
      "outputs": [
        {
          "output_type": "stream",
          "name": "stdout",
          "text": [
            "1\n",
            "2\n",
            "3\n",
            "4\n",
            "5\n"
          ]
        }
      ]
    },
    {
      "cell_type": "code",
      "source": [
        "#using else statement in for loop in python\n",
        "li=[\"geeks\",'for', 'geeks']\n",
        "for index in range(len(li)): #executes the for loop first then it will\n",
        "  print(li[index])\n",
        "else:\n",
        "  print('Inside else block')"
      ],
      "metadata": {
        "colab": {
          "base_uri": "https://localhost:8080/"
        },
        "id": "zgj2kQ2A6vLb",
        "outputId": "f1681799-ea72-4d55-935e-307ba5b64eda"
      },
      "execution_count": null,
      "outputs": [
        {
          "output_type": "stream",
          "name": "stdout",
          "text": [
            "geeks\n",
            "for\n",
            "geeks\n",
            "Inside else block\n"
          ]
        }
      ]
    },
    {
      "cell_type": "code",
      "source": [
        "#while loop in python\n",
        "\n",
        "cnt=0\n",
        "while(cnt<3):\n",
        "  cnt=cnt+1\n",
        "  print(\"hello geeks\")"
      ],
      "metadata": {
        "colab": {
          "base_uri": "https://localhost:8080/"
        },
        "id": "wRxd2jKe8FaH",
        "outputId": "56040b04-8322-4e84-a197-95b8086d0724"
      },
      "execution_count": null,
      "outputs": [
        {
          "output_type": "stream",
          "name": "stdout",
          "text": [
            "hello geets\n",
            "hello geets\n",
            "hello geets\n"
          ]
        }
      ]
    },
    {
      "cell_type": "code",
      "source": [
        "#while loop 2\\\n",
        "cnt=0\n",
        "while(cnt<3):\n",
        "  cnt=cnt+1\n",
        "  print(\"geeks\")\n",
        "else:\n",
        "  print('inside else part')"
      ],
      "metadata": {
        "colab": {
          "base_uri": "https://localhost:8080/"
        },
        "id": "D82ZRSSY8sgC",
        "outputId": "b799467d-0b7f-45b0-9167-0cf4f70834a4"
      },
      "execution_count": null,
      "outputs": [
        {
          "output_type": "stream",
          "name": "stdout",
          "text": [
            "geeks\n",
            "geeks\n",
            "geeks\n",
            "inside else part\n"
          ]
        }
      ]
    },
    {
      "cell_type": "code",
      "source": [
        "#loop control statement break use in program\n",
        "nums=[1,2,3,4,5,6,7]\n",
        "for n in nums:\n",
        "  if n==3:\n",
        "    print('3 is found!')\n",
        "    break\n",
        "  else:\n",
        "    print('3 not found!')"
      ],
      "metadata": {
        "colab": {
          "base_uri": "https://localhost:8080/"
        },
        "id": "jNp2SyfQ97tM",
        "outputId": "e83d6015-140c-46dc-aef0-5001b89cac12"
      },
      "execution_count": null,
      "outputs": [
        {
          "output_type": "stream",
          "name": "stdout",
          "text": [
            "3 not found!\n",
            "3 not found!\n",
            "3 is found!\n"
          ]
        }
      ]
    },
    {
      "cell_type": "code",
      "source": [
        "#loop control statemenst continue\n",
        "for i in \"Geeksandgeeks\":\n",
        "  if i=='e' or i=='s':\n",
        "   continue\n",
        "  print('Current Letter',i)"
      ],
      "metadata": {
        "colab": {
          "base_uri": "https://localhost:8080/"
        },
        "id": "RfWsg008-xNS",
        "outputId": "c31c2e6e-2f94-4af5-e9b2-97bfa071c7ff"
      },
      "execution_count": null,
      "outputs": [
        {
          "output_type": "stream",
          "name": "stdout",
          "text": [
            "Current Letter G\n",
            "Current Letter k\n",
            "Current Letter a\n",
            "Current Letter n\n",
            "Current Letter d\n",
            "Current Letter g\n",
            "Current Letter k\n"
          ]
        }
      ]
    },
    {
      "cell_type": "code",
      "source": [
        "#loop control statemenst break\n",
        "for j in range(5):\n",
        "  for i in \"Geeksandgeeks\":\n",
        "    if i=='e' or i=='s':\n",
        "      break  #it will break the inner loop only\n",
        "    print('Current Letter',i)"
      ],
      "metadata": {
        "colab": {
          "base_uri": "https://localhost:8080/"
        },
        "id": "Ly04kP2z_WYV",
        "outputId": "c84db698-9bc2-4b60-e108-7de5c05d3118"
      },
      "execution_count": null,
      "outputs": [
        {
          "output_type": "stream",
          "name": "stdout",
          "text": [
            "Current Letter G\n",
            "Current Letter G\n",
            "Current Letter G\n",
            "Current Letter G\n",
            "Current Letter G\n"
          ]
        }
      ]
    },
    {
      "cell_type": "code",
      "source": [
        "#Control structure pass no operation will performed\n",
        "for i in \"Geeksandgeeks\":\n",
        "  if i=='e' or i=='s':\n",
        "    pass\n",
        "  print('Current Letter',i)"
      ],
      "metadata": {
        "colab": {
          "base_uri": "https://localhost:8080/"
        },
        "id": "pcenNNpsIzwY",
        "outputId": "fad56d79-22be-46dd-fcca-12437b6e28cb"
      },
      "execution_count": null,
      "outputs": [
        {
          "output_type": "stream",
          "name": "stdout",
          "text": [
            "Current Letter G\n",
            "Current Letter e\n",
            "Current Letter e\n",
            "Current Letter k\n",
            "Current Letter s\n",
            "Current Letter a\n",
            "Current Letter n\n",
            "Current Letter d\n",
            "Current Letter g\n",
            "Current Letter e\n",
            "Current Letter e\n",
            "Current Letter k\n",
            "Current Letter s\n"
          ]
        }
      ]
    },
    {
      "cell_type": "code",
      "source": [
        "#Control structure another example for pass\n",
        "\n",
        "for i in range(5):\n",
        "  pass #empty loop"
      ],
      "metadata": {
        "id": "vGgifQ_uJzgE"
      },
      "execution_count": null,
      "outputs": []
    },
    {
      "cell_type": "code",
      "source": [
        "#Program to check weather the number is primt or not\n",
        "\n",
        "print(\"enter the numbers you want to check for prime or not\")\n",
        "n=int(input())\n",
        "for i in range(2,n):\n",
        "  if n%i==0:\n",
        "   print(f'you have entered the number {n} and it is not prime')\n",
        "   break\n",
        "else:\n",
        "  print(f'your number {n} is a prime number')"
      ],
      "metadata": {
        "colab": {
          "base_uri": "https://localhost:8080/"
        },
        "id": "eyLx5iItLO_w",
        "outputId": "48d838f6-3567-4cd8-fc8e-18f9483e9eca"
      },
      "execution_count": null,
      "outputs": [
        {
          "output_type": "stream",
          "name": "stdout",
          "text": [
            "enter the numbers you want to check for prime or not\n",
            "9\n",
            "you have entered the number 9 and it is not prime\n"
          ]
        }
      ]
    },
    {
      "cell_type": "code",
      "source": [
        "#Program to check weather the number is primt or not with optimization using sqrt of the n\n",
        "print('Please enter the number you want to checck for prime')\n",
        "n=int(input())\n",
        "if n<=1:\n",
        "  print(f'you have entered {n} which is not prime as its 1 or o or negative number')\n",
        "else:\n",
        "  for i in range(2,int(n**0.5)+1):\n",
        "      if n%i==0:\n",
        "        print(f'your number {n} is not prime number')\n",
        "        break\n",
        "\n",
        "  else:#if you give wrong indentation for this else output will be wrong please consider this else is for's else\n",
        "        print(f'your number {n} is prime number')\n",
        "\n"
      ],
      "metadata": {
        "colab": {
          "base_uri": "https://localhost:8080/"
        },
        "id": "ILfFGSVbeBia",
        "outputId": "74ca87ff-7801-4359-dadc-086cdc407025"
      },
      "execution_count": null,
      "outputs": [
        {
          "output_type": "stream",
          "name": "stdout",
          "text": [
            "Please enter the number you want to checck for prime\n",
            "11\n",
            "your number 11 is prime number\n"
          ]
        }
      ]
    },
    {
      "cell_type": "code",
      "source": [
        "#to check square root of given number\n",
        "\n",
        "n=int(input('Enter the number you want to check for square root'))\n",
        "sqrt_n = n ** 0.5\n",
        "print(f'Square root of {n} is ' ,sqrt_n)"
      ],
      "metadata": {
        "colab": {
          "base_uri": "https://localhost:8080/"
        },
        "id": "UvCBx0hZqnn_",
        "outputId": "248c8480-828c-4df9-ebc5-96e283967fb2"
      },
      "execution_count": null,
      "outputs": [
        {
          "output_type": "stream",
          "name": "stdout",
          "text": [
            "Enter the number you want to check for square root11\n",
            "Square root of 11 is  3.3166247903554\n"
          ]
        }
      ]
    },
    {
      "cell_type": "code",
      "source": [
        "#To check the even number in list\n",
        "\n",
        "l1=[1,2,3,5,7,9,2]\n",
        "for i in l1:\n",
        "  print(i)\n",
        "  if i % 2 == 0:\n",
        "    print(f'The given list is having even number{i}')\n",
        "    break\n",
        "else:\n",
        "     print('the list is not having any even number')\n"
      ],
      "metadata": {
        "colab": {
          "base_uri": "https://localhost:8080/"
        },
        "id": "P4f4_du12-jt",
        "outputId": "b979f4b7-fcd3-4929-c684-e3988f2b17f3"
      },
      "execution_count": null,
      "outputs": [
        {
          "output_type": "stream",
          "name": "stdout",
          "text": [
            "1\n",
            "2\n",
            "The given list is having even number2\n"
          ]
        }
      ]
    },
    {
      "cell_type": "code",
      "source": [
        "#Check the prime number\n",
        "\n",
        "n=int(input('please enter number you wanted to check for Prime or Not Prime...'))\n",
        "if(n<=1):\n",
        "  print(\"the number is not primeyou might have entered number <=1\")\n",
        "else:\n",
        "  for i in range(2,int(n**0.5)+1):\n",
        "     if(n%i==0):\n",
        "        print(f'The number {n} is not prime ')\n",
        "        break\n",
        "  else:\n",
        "        print(f'The number {n} is prime')"
      ],
      "metadata": {
        "colab": {
          "base_uri": "https://localhost:8080/"
        },
        "id": "KHyZG5TC70We",
        "outputId": "f3ea1c72-7a9b-4c18-9a1e-222a6e899dbf"
      },
      "execution_count": null,
      "outputs": [
        {
          "output_type": "stream",
          "name": "stdout",
          "text": [
            "please enter number you wanted to check for Prime or Not Prime...11\n",
            "The number 11 is prime\n"
          ]
        }
      ]
    },
    {
      "cell_type": "markdown",
      "source": [
        "#List and tuples in details\n",
        "##List and Tuples are sequence of data\n",
        "#list are mutable but tuplese are immutable\n",
        "#A list is dynamic sized array (it can grows and shrinks automatically)\n",
        "#List Can contain duplicate Data\n",
        "#Mutable:We can modify,replace and delete the item in the list\n",
        "#Ordered:Maintains the order of elements based on how they are added\n",
        "#Items can access directly using their position(index),starting from 0\n",
        "#May contain the mixed type of items, this is possible because a list mainly stores the refferences at contigious location\n",
        "#...and actual items may be stored at different locations\n",
        "Creating List\n",
        "we can creat a list using []\n",
        " countries=[\"united states\",\"Canada\",\"poland\"]\n",
        "\n",
        " 2 Using Contructor-list()\n",
        "   Digits=list(range(10))\n",
        "\n",
        " 3. Converting tuple in list\n",
        "    L=list((1,2,3,4))  "
      ],
      "metadata": {
        "id": "PUQcg9CoC_Fb"
      }
    },
    {
      "cell_type": "code",
      "source": [
        "#List Creation\n",
        "\n",
        "l1=[]\n",
        "l2=list(range(10))\n",
        "t=(1,2,3,4) #tuple\n",
        "l3=list((t))\n",
        "print(l1,type(l1))\n",
        "print(l2,type(l2))\n",
        "print(l3,type(l3))\n",
        "str='hello'\n",
        "l4=list(str)\n",
        "l4\n",
        "\n"
      ],
      "metadata": {
        "colab": {
          "base_uri": "https://localhost:8080/"
        },
        "id": "A0xd-FOZBDnP",
        "outputId": "bb8f4716-4828-4a7d-df5a-4ce138ff15a6"
      },
      "execution_count": null,
      "outputs": [
        {
          "output_type": "stream",
          "name": "stdout",
          "text": [
            "[] <class 'list'>\n",
            "[0, 1, 2, 3, 4, 5, 6, 7, 8, 9] <class 'list'>\n",
            "[1, 2, 3, 4] <class 'list'>\n"
          ]
        },
        {
          "output_type": "execute_result",
          "data": {
            "text/plain": [
              "['h', 'e', 'l', 'l', 'o']"
            ]
          },
          "metadata": {},
          "execution_count": 43
        }
      ]
    },
    {
      "cell_type": "code",
      "source": [
        "#input a string and convert it in list\n",
        "#Check how many vowells are present in the string\n",
        "s=input('enter any string==>')\n",
        "l1=list(s)\n",
        "c=0\n",
        "for i in l1:\n",
        "  if i in 'aeiouAEIOU':\n",
        "    c=c+1\n",
        "print('the number of vowels present are ', c)\n"
      ],
      "metadata": {
        "colab": {
          "base_uri": "https://localhost:8080/"
        },
        "id": "pX7eE1W9FYx2",
        "outputId": "e098dc26-f65a-44dd-d22e-3d27c9d928a5"
      },
      "execution_count": null,
      "outputs": [
        {
          "output_type": "stream",
          "name": "stdout",
          "text": [
            "enter any stringSumit\n",
            "the number of vowels present are  2\n"
          ]
        }
      ]
    },
    {
      "cell_type": "code",
      "source": [
        "#Input the 2 strings and make them as list and concatinate them\n",
        "\n",
        "s1=list(input('Please enter the string 1==>'))\n",
        "s2=list(input('Please enter the string 2==>'))\n",
        "print(s1, type(s1))\n",
        "print(s2, type(s2))\n",
        "s3=s1+s2\n",
        "print(s3)"
      ],
      "metadata": {
        "colab": {
          "base_uri": "https://localhost:8080/"
        },
        "id": "ZNBeffnFJfOE",
        "outputId": "f7bb5885-869b-43d3-86ed-0aaa41462824"
      },
      "execution_count": null,
      "outputs": [
        {
          "output_type": "stream",
          "name": "stdout",
          "text": [
            "Please enter the string 1==>34\n",
            "Please enter the string 2==>35\n",
            "['3', '4'] <class 'list'>\n",
            "['3', '5'] <class 'list'>\n",
            "['3', '4', '3', '5']\n"
          ]
        }
      ]
    },
    {
      "cell_type": "code",
      "source": [
        "#input 4 digit number and add its digit\n",
        "#example 1234=10\n",
        "num1=input('Please enter the digits')\n",
        "t=0\n",
        "for i in num1:\n",
        "  t=t+int(i)\n",
        "print(t)"
      ],
      "metadata": {
        "colab": {
          "base_uri": "https://localhost:8080/"
        },
        "id": "j8Icn-u9KNez",
        "outputId": "4d647205-0e66-4a00-b5d3-67c2a76a365d"
      },
      "execution_count": null,
      "outputs": [
        {
          "output_type": "stream",
          "name": "stdout",
          "text": [
            "Please enter the digits1234\n",
            "10\n"
          ]
        }
      ]
    },
    {
      "cell_type": "code",
      "source": [
        "#Creating list with multiple repeatation\n",
        "a=[2]*5\n",
        "b=[3,4]*3\n",
        "print(a)\n",
        "print(b)"
      ],
      "metadata": {
        "colab": {
          "base_uri": "https://localhost:8080/"
        },
        "id": "fPncEowQP_Vc",
        "outputId": "2ab49aa2-f88f-47ae-cc2c-e1e41e5f4287"
      },
      "execution_count": null,
      "outputs": [
        {
          "output_type": "stream",
          "name": "stdout",
          "text": [
            "[2, 2, 2, 2, 2]\n",
            "[3, 4, 3, 4, 3, 4]\n"
          ]
        }
      ]
    },
    {
      "cell_type": "code",
      "source": [
        "#Create word list\n",
        "words=['foo','bar','baz','qux','quux','corge']\n",
        "print(words[-1])#corge\n",
        "print(words[-2])\n",
        "print(words[-len(words)])\n",
        "print(words[2:5])\n",
        "print(words[-5:-2])#upper limit is not included -2\n",
        "words[-5:-2] == words[1:4]\n",
        "print(words[-2:-5])\n",
        "print(words[2:len(words)])\n",
        "print(words[:4]+words[4:]==words)\n",
        "'qux' in words\n",
        "'qux' not in words"
      ],
      "metadata": {
        "colab": {
          "base_uri": "https://localhost:8080/"
        },
        "id": "CvsNkL7VQUK2",
        "outputId": "fc14c7ed-7499-4b8d-918d-bf4149992c9a"
      },
      "execution_count": null,
      "outputs": [
        {
          "output_type": "stream",
          "name": "stdout",
          "text": [
            "corge\n",
            "quux\n",
            "foo\n",
            "['baz', 'qux', 'quux']\n",
            "['bar', 'baz', 'qux']\n",
            "[]\n",
            "['baz', 'qux', 'quux', 'corge']\n",
            "True\n"
          ]
        },
        {
          "output_type": "execute_result",
          "data": {
            "text/plain": [
              "False"
            ]
          },
          "metadata": {},
          "execution_count": 65
        }
      ]
    },
    {
      "cell_type": "code",
      "source": [
        "#Nested list\n",
        "l1=['a',['bb',['ccc','ddd'],'ee','ff'],'g',[\"hh\",'ii'],'j']\n",
        "print(l1[0])\n",
        "print(l1[1][1]) #access ccc ddd\n",
        "print(l1[1][1][0])# access only ccc\n",
        "print(l1[1][1][1])# access only ddd\n",
        "print(l1[1][2])# access only ee\n",
        "print(l1[2])# access only g\n",
        "print(l1[1][3])# access only ff\n",
        "print(l1[3])# access only hh ii\n",
        "print(l1[3][0])# access only hh\n",
        "print(l1[3][1])# access only ii\n",
        "print(l1[4])#access value of j"
      ],
      "metadata": {
        "colab": {
          "base_uri": "https://localhost:8080/"
        },
        "id": "i0FrD6HlQnjo",
        "outputId": "3e806ec7-2595-4550-ffba-36d8a5c11cae"
      },
      "execution_count": null,
      "outputs": [
        {
          "output_type": "stream",
          "name": "stdout",
          "text": [
            "a\n",
            "['ccc', 'ddd']\n",
            "ccc\n",
            "ddd\n",
            "ee\n",
            "g\n",
            "ff\n",
            "['hh', 'ii']\n",
            "hh\n",
            "ii\n",
            "j\n"
          ]
        }
      ]
    },
    {
      "cell_type": "code",
      "source": [
        "#Compare the list/numbers it will check element by element\n",
        "l1=[1,2,3,4]\n",
        "l2=[1,2,3,4]\n",
        "l1==l2 #false as 5!=4\n",
        "l1>l2 #it will compare element by element if any value is more then its it compare the values numbers l1[0]\n"
      ],
      "metadata": {
        "colab": {
          "base_uri": "https://localhost:8080/"
        },
        "id": "fg9ScnlbVjR2",
        "outputId": "e277b708-29a0-4d33-c35f-9b22fcc18b21"
      },
      "execution_count": null,
      "outputs": [
        {
          "output_type": "execute_result",
          "data": {
            "text/plain": [
              "True"
            ]
          },
          "metadata": {},
          "execution_count": 28
        }
      ]
    },
    {
      "cell_type": "code",
      "source": [
        "#compare strings\n",
        "s1=['a','b','c'] #checking ascii values a=97, b=98 c=99\n",
        "s2=['a','b','c']\n",
        "s1==s2\n",
        "s1>s2\n",
        "s1=['a','b','c'] #checking ascii values a=97, b=98 c=99\n",
        "s2=['a','c','c']\n",
        "s1==s2\n",
        "s1<s2"
      ],
      "metadata": {
        "colab": {
          "base_uri": "https://localhost:8080/"
        },
        "id": "cE-h62LrWCEA",
        "outputId": "ac4eeac6-05e2-4236-f19a-32f551d97b3c"
      },
      "execution_count": null,
      "outputs": [
        {
          "output_type": "execute_result",
          "data": {
            "text/plain": [
              "True"
            ]
          },
          "metadata": {},
          "execution_count": 31
        }
      ]
    },
    {
      "cell_type": "code",
      "source": [
        "# make a copy of list\n",
        "a=[1,2,3,4]\n",
        "print(a, id(a))\n",
        "b=a\n",
        "print(b, id(b))\n",
        "b=list(a) #deep copy/shallow copy as it will be copied to different location altogether with different mem address using contructor list\n",
        "print(b, id(b))"
      ],
      "metadata": {
        "colab": {
          "base_uri": "https://localhost:8080/"
        },
        "id": "IVAVC-vTY16M",
        "outputId": "d55096ea-d83a-44e4-99a4-9c50afb2e688"
      },
      "execution_count": null,
      "outputs": [
        {
          "output_type": "stream",
          "name": "stdout",
          "text": [
            "[1, 2, 3, 4] 136624568672832\n",
            "[1, 2, 3, 4] 136624568672832\n",
            "[1, 2, 3, 4] 136624569881984\n"
          ]
        }
      ]
    },
    {
      "cell_type": "code",
      "source": [
        "#functions of list\n",
        "a=[1,2,3,4]\n",
        "print(a)\n",
        "a.append(5)\n",
        "print(a)\n",
        "a.extend([5,6,7])#we need to use list[] ow it will give error\n",
        "print(a)\n",
        "a.insert(3,89) #index, value\n",
        "print(a)\n"
      ],
      "metadata": {
        "colab": {
          "base_uri": "https://localhost:8080/"
        },
        "id": "e-myzlpLaMgL",
        "outputId": "dd0b8439-9684-4b9c-d343-07baefdf0128"
      },
      "execution_count": null,
      "outputs": [
        {
          "output_type": "stream",
          "name": "stdout",
          "text": [
            "[1, 2, 3, 4]\n",
            "[1, 2, 3, 4, 5]\n",
            "[1, 2, 3, 4, 5, 5, 6, 7]\n",
            "[1, 2, 3, 89, 4, 5, 5, 6, 7]\n"
          ]
        }
      ]
    },
    {
      "cell_type": "code",
      "source": [
        "#List deletion\n",
        "a=[1,2,3,4]\n",
        "print(a)\n",
        "a.pop()\n",
        "print(a) #pop from last element/end\n",
        "a.remove(1)# remove will search the value\n",
        "print(a)\n",
        "a.clear()#clear the list\n",
        "print(a)\n"
      ],
      "metadata": {
        "colab": {
          "base_uri": "https://localhost:8080/"
        },
        "id": "BQEY-fVFbDU2",
        "outputId": "924e0cdb-d364-4860-8ab1-d55784c3b1ff"
      },
      "execution_count": null,
      "outputs": [
        {
          "output_type": "stream",
          "name": "stdout",
          "text": [
            "[1, 2, 3, 4]\n",
            "[1, 2, 3]\n",
            "[2, 3]\n",
            "[]\n"
          ]
        }
      ]
    },
    {
      "cell_type": "code",
      "source": [
        "#reverse the string\n",
        "a=[1,2,3,4]\n",
        "print(a)\n",
        "a.reverse()#it will updated the a\n",
        "print(a)"
      ],
      "metadata": {
        "colab": {
          "base_uri": "https://localhost:8080/"
        },
        "id": "q6JU3Lswbrl-",
        "outputId": "ea77654b-2678-46d7-afa4-a55b88c1cf8d"
      },
      "execution_count": null,
      "outputs": [
        {
          "output_type": "stream",
          "name": "stdout",
          "text": [
            "[1, 2, 3, 4]\n",
            "[4, 3, 2, 1]\n"
          ]
        }
      ]
    },
    {
      "cell_type": "code",
      "source": [
        "#To sort the list\n",
        "a=[1,23,3,4]\n",
        "print(a)\n",
        "a.sort()\n",
        "print(a)\n"
      ],
      "metadata": {
        "colab": {
          "base_uri": "https://localhost:8080/"
        },
        "id": "_2j-Kk0gcKQr",
        "outputId": "47dc4624-9621-4ad3-cb8f-775691d18d00"
      },
      "execution_count": null,
      "outputs": [
        {
          "output_type": "stream",
          "name": "stdout",
          "text": [
            "[1, 23, 3, 4]\n",
            "[1, 3, 4, 23]\n"
          ]
        }
      ]
    },
    {
      "cell_type": "code",
      "source": [
        "#To count\n",
        "a=[1,2,3,4,5,2,2,2]\n",
        "print(a)\n",
        "a.count(2)\n",
        "print(a, a.count(2))"
      ],
      "metadata": {
        "colab": {
          "base_uri": "https://localhost:8080/"
        },
        "id": "PI4CrgDHcYLx",
        "outputId": "fcb4c647-7ee8-4829-a3d4-b82582c5ec17"
      },
      "execution_count": null,
      "outputs": [
        {
          "output_type": "stream",
          "name": "stdout",
          "text": [
            "[1, 2, 3, 4, 5, 2, 2, 2]\n",
            "[1, 2, 3, 4, 5, 2, 2, 2] 4\n"
          ]
        }
      ]
    },
    {
      "cell_type": "code",
      "source": [
        "#Itterating through list\n",
        "list1=[1,2,3,4,5,6,7,88,9,10]\n",
        "for num in list1:\n",
        "   print(num)"
      ],
      "metadata": {
        "colab": {
          "base_uri": "https://localhost:8080/"
        },
        "id": "Ulfn3KIgfoC2",
        "outputId": "e3832cd8-0244-4626-e3c4-9fc215fb2369"
      },
      "execution_count": null,
      "outputs": [
        {
          "output_type": "stream",
          "name": "stdout",
          "text": [
            "1\n",
            "2\n",
            "3\n",
            "4\n",
            "5\n",
            "6\n",
            "7\n",
            "88\n",
            "9\n",
            "10\n"
          ]
        }
      ]
    },
    {
      "cell_type": "code",
      "source": [],
      "metadata": {
        "id": "CYQhfg-ogHw8"
      },
      "execution_count": null,
      "outputs": []
    },
    {
      "cell_type": "markdown",
      "source": [
        "List comprehension\n",
        "List comprehension is a concise way to create list using a single line of code. it is useful for applying an opration or filter to items in an iterable, such as a list or range\n",
        "\n",
        "#create a list of squares from 1to 5\n",
        "squares=[x**2 for i in range(1,6)]\n",
        "print(squares)"
      ],
      "metadata": {
        "id": "gD8yfQg-hULg"
      }
    },
    {
      "cell_type": "code",
      "source": [
        "#List comprehension\n",
        "squares=[i**2 for i in range(1,6)]\n",
        "print(squares)\n",
        "\n",
        "\n",
        "\n",
        "\n"
      ],
      "metadata": {
        "id": "fd_KyOHeLmXx",
        "colab": {
          "base_uri": "https://localhost:8080/"
        },
        "outputId": "2b1e2dad-620d-40ba-e7d9-305fb2523d0f"
      },
      "execution_count": null,
      "outputs": [
        {
          "output_type": "stream",
          "name": "stdout",
          "text": [
            "[1, 4, 9, 16, 25]\n"
          ]
        }
      ]
    },
    {
      "cell_type": "code",
      "source": [
        "#List without comprehension\n",
        "\n",
        "l1=[]\n",
        "for l1 in range(1,6):\n",
        "  squares=l1**2\n",
        "  print(l1, squares)\n",
        "  print(squares)"
      ],
      "metadata": {
        "colab": {
          "base_uri": "https://localhost:8080/"
        },
        "id": "2AnP01tIihoA",
        "outputId": "1b66af95-220b-42b6-b0af-e7cd2d430bc3"
      },
      "execution_count": null,
      "outputs": [
        {
          "output_type": "stream",
          "name": "stdout",
          "text": [
            "[]\n",
            "[]\n",
            "[]\n",
            "[]\n",
            "[]\n"
          ]
        }
      ]
    },
    {
      "cell_type": "code",
      "source": [
        "#Without comprehension\n",
        "l1=[]\n",
        "for i in range(1,6):\n",
        "  l1.append(i**2)\n",
        "print(l1)\n",
        "l2=l1*2\n",
        "print(l2)\n",
        "print(l1)"
      ],
      "metadata": {
        "colab": {
          "base_uri": "https://localhost:8080/"
        },
        "id": "lfe_Moy3mJuk",
        "outputId": "22ad1c1f-3a5a-4f92-c9c1-2e79a0d9d4ea"
      },
      "execution_count": null,
      "outputs": [
        {
          "output_type": "stream",
          "name": "stdout",
          "text": [
            "[1, 4, 9, 16, 25]\n",
            "[1, 4, 9, 16, 25, 1, 4, 9, 16, 25]\n",
            "[1, 4, 9, 16, 25]\n"
          ]
        }
      ]
    },
    {
      "cell_type": "markdown",
      "source": [
        "Tuples\n",
        "A tuple in python is an immutable ordered collection of elements\n",
        "-Tuples are similar to lists,but unlike lists, they cannont be\n",
        "changed after their creatoin(ie:they are immutable)\n",
        "-Tuple can hold elements of different data types\n",
        "-the main charecteristics of tuples are\n",
        "being ordered, heterogenous and immutable"
      ],
      "metadata": {
        "id": "7RXeegvJn6wQ"
      }
    },
    {
      "cell_type": "code",
      "source": [
        "#List\n",
        "l1=['a',1,2,3]\n",
        "print(l1)\n",
        "print(type(l1))\n",
        "\n",
        "#Tuple\n",
        "t1=('a',1,2,3)\n",
        "print(t1)\n",
        "print(type(t1))"
      ],
      "metadata": {
        "colab": {
          "base_uri": "https://localhost:8080/"
        },
        "id": "mdNldmDaogEU",
        "outputId": "4967fb32-ae96-46f9-ae7d-ce5f30c097c8"
      },
      "execution_count": null,
      "outputs": [
        {
          "output_type": "stream",
          "name": "stdout",
          "text": [
            "['a', 1, 2, 3]\n",
            "<class 'list'>\n",
            "('a', 1, 2, 3)\n",
            "<class 'tuple'>\n"
          ]
        }
      ]
    },
    {
      "cell_type": "code",
      "source": [
        "#Creating tuple using (), using string, Using list , Using built in function /constructor tuple\n",
        "tup=()\n",
        "print(tup)\n",
        "print(type(tup))\n",
        "#Using String\n",
        "t1=('Geeks','of','Geeks')\n",
        "print(t1)\n",
        "#Using List\n",
        "l1=[1,2,3,4]\n",
        "t1=tuple(l1)#Using tuple fun/constructor from list to tuple\n",
        "print(t1)\n",
        "print(type(l1))\n",
        "print(type(t1))\n",
        "#Using fun contructor tuple()\n",
        "t2=tuple('Geeks')\n",
        "print(t2)\n"
      ],
      "metadata": {
        "colab": {
          "base_uri": "https://localhost:8080/"
        },
        "id": "y1h4y-GJpvWA",
        "outputId": "6433a832-85ba-41cf-892b-4b6ac02fc68f"
      },
      "execution_count": null,
      "outputs": [
        {
          "output_type": "stream",
          "name": "stdout",
          "text": [
            "()\n",
            "<class 'tuple'>\n",
            "('Geeks', 'of', 'Geeks')\n",
            "(1, 2, 3, 4)\n",
            "<class 'list'>\n",
            "<class 'tuple'>\n",
            "('G', 'e', 'e', 'k', 's')\n"
          ]
        }
      ]
    },
    {
      "cell_type": "code",
      "source": [
        "#Nested Tuples\n",
        "t1=(1,2,3,4,5)\n",
        "t2=('a','b','c','d')\n",
        "t3=(t1,t2)# plus sign will not work\n",
        "print(t3)\n",
        "#Tuple with mixed Data type\n",
        "tup=(1,2,3,'Geeks','key','value')\n",
        "print(tup)\n",
        "#repeatation of tuple\n",
        "tup3=tup*3\n",
        "print(tup3)"
      ],
      "metadata": {
        "colab": {
          "base_uri": "https://localhost:8080/"
        },
        "id": "2bxabp1Ts0KW",
        "outputId": "e47b4f0f-5cc5-4b40-b1ac-9930b04de318"
      },
      "execution_count": null,
      "outputs": [
        {
          "output_type": "stream",
          "name": "stdout",
          "text": [
            "((1, 2, 3, 4, 5), ('a', 'b', 'c', 'd'))\n",
            "(1, 2, 3, 'Geeks', 'key', 'value')\n",
            "(1, 2, 3, 'Geeks', 'key', 'value', 1, 2, 3, 'Geeks', 'key', 'value', 1, 2, 3, 'Geeks', 'key', 'value')\n"
          ]
        }
      ]
    },
    {
      "cell_type": "code",
      "source": [
        "#Creating tuple using loop\n",
        "num=int(input('Please enter the number of items you want ...'))\n",
        "l1=[]\n",
        "for i in range(num):\n",
        "    #print(i)\n",
        "    #print(l1)\n",
        "    value=input('Enter Value: ')\n",
        "    l1.append(value)\n",
        "print(l1)\n",
        "t1=tuple(l1)\n",
        "print(t1)\n",
        "\n"
      ],
      "metadata": {
        "colab": {
          "base_uri": "https://localhost:8080/"
        },
        "id": "Pn4ygmJivdmG",
        "outputId": "47c84733-eb44-45ce-daab-7784a24aee76"
      },
      "execution_count": null,
      "outputs": [
        {
          "output_type": "stream",
          "name": "stdout",
          "text": [
            "Please enter the number of items you want ...3\n",
            "Enter Value: 3\n",
            "Enter Value: 4\n",
            "Enter Value: 5\n",
            "['3', '4', '5']\n",
            "('3', '4', '5')\n"
          ]
        }
      ]
    },
    {
      "cell_type": "code",
      "source": [
        "#Unpacking of tuples\n",
        "t1=(1,2,3,4,5)\n",
        "a,*b,c=t1\n",
        "print(a)\n",
        "print(b)\n",
        "print(c)\n",
        "print('-'*10)\n",
        "a,d,*b,c=t1\n",
        "print(a)\n",
        "print(b)\n",
        "print(d)\n",
        "print(c)\n",
        "print('-'*10)\n",
        "*b,c=t1\n",
        "print(b)\n",
        "print(c)\n"
      ],
      "metadata": {
        "colab": {
          "base_uri": "https://localhost:8080/"
        },
        "id": "QY6PINUX5EK3",
        "outputId": "c27dbe0a-1cc4-45c4-efab-f5361eacfdc5"
      },
      "execution_count": null,
      "outputs": [
        {
          "output_type": "stream",
          "name": "stdout",
          "text": [
            "1\n",
            "[2, 3, 4]\n",
            "5\n",
            "----------\n",
            "1\n",
            "[3, 4]\n",
            "2\n",
            "5\n",
            "----------\n",
            "[1, 2, 3, 4]\n",
            "5\n"
          ]
        }
      ]
    },
    {
      "cell_type": "code",
      "source": [
        "#Using new feature eval for converting the input string to appropriate data type and convert to tuple\n",
        "lst=eval(input('Enter the list elements: '))\n",
        "print(lst, type(lst))\n",
        "l=len(lst)\n",
        "t=int(input('eneter any number to serarch: '))\n",
        "for i in range(0,len(lst)):\n",
        "  lst[i]==t\n",
        "  print(\"element found at index\",i+1)\n",
        "  break\n",
        "else:\n",
        "  print(\"element nout found\")"
      ],
      "metadata": {
        "colab": {
          "base_uri": "https://localhost:8080/"
        },
        "id": "63zrwm-f7TCW",
        "outputId": "479afd05-a5f9-4208-9969-950e8f6c0260"
      },
      "execution_count": null,
      "outputs": [
        {
          "output_type": "stream",
          "name": "stdout",
          "text": [
            "Enter the list elements: 1,2,3,4,5\n",
            "(1, 2, 3, 4, 5) <class 'tuple'>\n",
            "eneter any number to serarch: 5\n",
            "element found at index 1\n"
          ]
        }
      ]
    },
    {
      "cell_type": "code",
      "source": [
        "# program to search element in a list of numbers/eval by default convert inputed value to tuple\n",
        "\n",
        "lst=eval(input(\"enter list elements\"))# if we give 2,3,4,5 it will show tuple () but if we need to give list then we need to use[2,3,4,5]\n",
        "print(lst,type(lst))\n",
        "\n",
        "#l=len(lst)\n",
        "print(l)\n",
        "\n",
        "t=int(input('Enter any number to search'))\n",
        "for i in range(0,len(lst)):#optimization\n",
        "  if lst[i]==t:\n",
        "    print(\"Element is found at index\",i+1)\n",
        "    break\n",
        "else:\n",
        "  print('Element is not found')"
      ],
      "metadata": {
        "colab": {
          "base_uri": "https://localhost:8080/"
        },
        "id": "9MpDiw9YfX7g",
        "outputId": "a6169418-5906-4de6-f914-2b137fb0559a"
      },
      "execution_count": null,
      "outputs": [
        {
          "output_type": "stream",
          "name": "stdout",
          "text": [
            "enter list elements1,2,3,4\n",
            "(1, 2, 3, 4) <class 'tuple'>\n",
            "4\n",
            "Enter any number to search4\n",
            "Element is found at index 4\n"
          ]
        }
      ]
    },
    {
      "cell_type": "markdown",
      "source": [
        "Function:\n",
        "Function is a group of statements that is executed when it is called from some point of the program\n",
        "-Its a devide and conquer approach\n",
        "3 function types\n",
        "1> Built in functions like int() str() print() float() min() max() etc..\n",
        "\n",
        "2>Module: Is a container of functions,constants,variables,class in a seperate file which can be reused\n",
        "\n",
        "stored in extention of .py\n",
        "\n",
        "i>Importing modules\n",
        "\n",
        "1>import statement\n",
        "2>from statement\n",
        "\n",
        "eg import math\n",
        "\n",
        "To import all functions or selected one\n",
        "Syntax:\n",
        "from module name import function name\n",
        "\n",
        "for example\n",
        "\n",
        "from random import randint\n",
        "\n",
        "3>User defined function\n",
        "Function is set of statements that performs specific task\n",
        "\n",
        "Syntax of user defined funciton\n",
        "def function_name(list of parameters)\n",
        "..............\n",
        "...............\n",
        "statements\n",
        "\n",
        "def: is a keyword\n",
        "\n",
        "\n"
      ],
      "metadata": {
        "id": "-WYj6vNxmM8c"
      }
    },
    {
      "cell_type": "code",
      "source": [
        "#Function in Python\n",
        "#If function is not returning anything then we can say its a void function\n",
        "def func1():\n",
        "  print('Welcome to functions!!! You are funciton body')\n",
        "\n",
        "func1()\n",
        "print('You are in main body of the function')"
      ],
      "metadata": {
        "colab": {
          "base_uri": "https://localhost:8080/"
        },
        "id": "FbdItyFIkqn3",
        "outputId": "1c35efbf-2d1b-4bde-ace3-ffd4e14727ec"
      },
      "execution_count": null,
      "outputs": [
        {
          "output_type": "stream",
          "name": "stdout",
          "text": [
            "Welcome to functions!!! You are funciton body\n",
            "You are in main body of the function\n"
          ]
        }
      ]
    },
    {
      "cell_type": "code",
      "source": [
        "#Fuction sum\n",
        "def sum(a,b):\n",
        "  print('In Function')\n",
        "  c=a+b\n",
        "  d=a-b\n",
        "  return c,d\n",
        "#Main Code\n",
        "print('In Main')\n",
        "a=int(input('Enter first number'))\n",
        "b=int(input('Enter second number'))\n",
        "c,d=sum(a,b)\n",
        "print('Sum of two numbers',c)\n",
        "print('Sub of two numbers',d)"
      ],
      "metadata": {
        "colab": {
          "base_uri": "https://localhost:8080/"
        },
        "id": "BnXNgZCgmLBy",
        "outputId": "a8fef534-b72c-4164-8c13-30ff7143cb89"
      },
      "execution_count": null,
      "outputs": [
        {
          "output_type": "stream",
          "name": "stdout",
          "text": [
            "In Main\n",
            "Enter first number3\n",
            "Enter second number5\n",
            "In Function\n",
            "Sum of two numbers 8\n",
            "Sum of two numbers -2\n"
          ]
        }
      ]
    },
    {
      "cell_type": "code",
      "source": [
        "#If we take the output in one variable python will move it to tuples\n",
        "#Function getting value and returning value\n",
        "#Fuction sum\n",
        "def sum(a,b):\n",
        "  print('In Function')\n",
        "  c=a+b\n",
        "  d=a-b\n",
        "  return c,d\n",
        "#Main Code\n",
        "print('In Main')\n",
        "a=int(input('Enter first number: '))\n",
        "b=int(input('Enter second number: '))\n",
        "t=sum(a,b)#value will stored in t tuple c t[0]and t[1]\n",
        "print('Sum of two numbers',t[0])\n",
        "print('Sub of two numbers',t[1])"
      ],
      "metadata": {
        "colab": {
          "base_uri": "https://localhost:8080/"
        },
        "id": "xHk54Gy9wROX",
        "outputId": "dcc1a530-4890-43a0-fe29-cb017fb931ed"
      },
      "execution_count": null,
      "outputs": [
        {
          "output_type": "stream",
          "name": "stdout",
          "text": [
            "In Main\n",
            "Enter first number33\n",
            "Enter second number22\n",
            "In Function\n",
            "Sum of two numbers 55\n",
            "Sub of two numbers 11\n"
          ]
        }
      ]
    },
    {
      "cell_type": "code",
      "source": [
        "#Function getting value but not returning value\n",
        "#Function\n",
        "def even_odd(n):\n",
        "  if n%2==0:\n",
        "    print(n,'The given number is even')\n",
        "  else:\n",
        "    print(n,'The number is odd')\n",
        "\n",
        "#Main\n",
        "print('In Main')\n",
        "i=int(input('Enter the number to check: '))\n",
        "even_odd(i)\n"
      ],
      "metadata": {
        "colab": {
          "base_uri": "https://localhost:8080/"
        },
        "id": "_R94DX3UxT5s",
        "outputId": "2ee30a07-8f01-40e8-e45c-13324c2dfe97"
      },
      "execution_count": null,
      "outputs": [
        {
          "output_type": "stream",
          "name": "stdout",
          "text": [
            "In Main\n",
            "Enter the number to check: 5\n",
            "5 The number is odd\n"
          ]
        }
      ]
    },
    {
      "cell_type": "code",
      "source": [],
      "metadata": {
        "id": "vuW0fCi_1k-n"
      },
      "execution_count": null,
      "outputs": []
    },
    {
      "cell_type": "code",
      "source": [
        "#Function to\n",
        "#Function getting value and  returning value\n",
        "#Function\n",
        "def even_odd(n):\n",
        "  if n%2==0:\n",
        "    return(n,'The given number is even')\n",
        "  else:\n",
        "    return(n,'The number is odd')\n",
        "\n",
        "#Main\n",
        "print('In Main')\n",
        "i=int(input('Enter the number to check: '))\n",
        "even_odd(i)\n"
      ],
      "metadata": {
        "colab": {
          "base_uri": "https://localhost:8080/"
        },
        "id": "YYWmQ-3x1eem",
        "outputId": "74fd0036-75e6-4e47-8034-62739ee33366"
      },
      "execution_count": null,
      "outputs": [
        {
          "name": "stdout",
          "output_type": "stream",
          "text": [
            "In Main\n",
            "Enter the number to check: 5\n"
          ]
        },
        {
          "output_type": "execute_result",
          "data": {
            "text/plain": [
              "(5, 'The number is odd')"
            ]
          },
          "metadata": {},
          "execution_count": 45
        }
      ]
    },
    {
      "cell_type": "code",
      "source": [
        "#Function not getting anything but returning something\n",
        "\n",
        "def func1():\n",
        "   return('Welcome to the python class')\n",
        "\n",
        "#Main\n",
        "s=func1()\n",
        "print('In Main')\n",
        "print(s)"
      ],
      "metadata": {
        "colab": {
          "base_uri": "https://localhost:8080/"
        },
        "id": "6-wN1JX32meG",
        "outputId": "fd31ec76-693b-4642-a09c-975702075746"
      },
      "execution_count": null,
      "outputs": [
        {
          "output_type": "stream",
          "name": "stdout",
          "text": [
            "In Main\n",
            "Welcome to the python class\n"
          ]
        }
      ]
    },
    {
      "cell_type": "code",
      "source": [
        "#write a program to check square and cube of number\n",
        "#Function definition\n",
        "def square(num):\n",
        "  '''square a number.'''\n",
        "  return num ** 2\n",
        "\n",
        "def cube(num):\n",
        "  ''' cube of number'''\n",
        "  return num ** 3\n",
        "#Main Function\n",
        "num=float(input('Enter a number to chck square and cube of it: '))#always remember in python input( ) will give you the str type so we need to convert it to float or int\n",
        "print(f'square of {num} is ',square(num))\n",
        "print(f'cube of {num} is ',cube(num))\n"
      ],
      "metadata": {
        "colab": {
          "base_uri": "https://localhost:8080/"
        },
        "id": "v9eEls8eWe2o",
        "outputId": "28077720-ae90-4f49-a6e9-f4b4dc74a38b"
      },
      "execution_count": null,
      "outputs": [
        {
          "output_type": "stream",
          "name": "stdout",
          "text": [
            "Enter a number to chck square and cube of it: 2\n",
            "square of 2.0 is  4.0\n",
            "cube of 2.0 is  8.0\n"
          ]
        }
      ]
    },
    {
      "cell_type": "code",
      "source": [
        "#Writing square and cube of number\n",
        "\n",
        "def square(num):\n",
        "  return num ** 2 #Calculating square of number\n",
        "def cube(num):\n",
        "  return num ** 3 #Calculating cube of number\n",
        "\n",
        "num=float(input('Enter number: '))\n",
        "print(f'Square of {num} is {square(num)}')\n",
        "print(f'Cube of {num} is {cube(num)}')"
      ],
      "metadata": {
        "colab": {
          "base_uri": "https://localhost:8080/"
        },
        "id": "ANVyi3WPcfCW",
        "outputId": "b98f9f4f-1bff-4aea-f79e-f02fb61b21e2"
      },
      "execution_count": null,
      "outputs": [
        {
          "output_type": "stream",
          "name": "stdout",
          "text": [
            "Enter number: 3\n",
            "Square of 3.0 is 9.0\n",
            "Cube of 3.0 is 27.0\n"
          ]
        }
      ]
    },
    {
      "cell_type": "code",
      "source": [
        "#Default arguments\n",
        "#Default arguments should be last in the list\n",
        "def greet_msg(name='Mohan'):\n",
        "  print('Hello ', name)\n",
        "\n",
        "greet_msg()\n",
        "greet_msg('Vinay')"
      ],
      "metadata": {
        "colab": {
          "base_uri": "https://localhost:8080/"
        },
        "id": "UWWIP0s945nH",
        "outputId": "a60c8d1b-587b-4d77-f981-b5c612822a4c"
      },
      "execution_count": 3,
      "outputs": [
        {
          "output_type": "stream",
          "name": "stdout",
          "text": [
            "Hello  Mohan\n",
            "Hello  Vinay\n"
          ]
        }
      ]
    },
    {
      "cell_type": "code",
      "source": [],
      "metadata": {
        "id": "dMFimb9K7pO6"
      },
      "execution_count": null,
      "outputs": []
    },
    {
      "cell_type": "code",
      "source": [
        "#Default parameter with last\n",
        "\n",
        "def greet_msg(a,name='Mohan'):\n",
        "  print('welcome to python session', a,name)\n",
        "\n",
        "#main\n",
        "greet_msg(2,'Mohan')\n",
        "greet_msg(2)\n"
      ],
      "metadata": {
        "colab": {
          "base_uri": "https://localhost:8080/"
        },
        "id": "GVUogwzv5xX3",
        "outputId": "aa47ce46-e6f9-4644-e5fa-7e9ba15ffd0c"
      },
      "execution_count": 26,
      "outputs": [
        {
          "output_type": "stream",
          "name": "stdout",
          "text": [
            "welcome to python session 2 Mohan\n",
            "welcome to python session 2 Mohan\n"
          ]
        }
      ]
    },
    {
      "cell_type": "code",
      "source": [
        "#Keyword arguments\n",
        "\n",
        "def greet_ms(name,msg):\n",
        "  print(name, msg)\n",
        "#Main\n",
        "greet_ms('Rakhee','How are you?')\n",
        "greet_ms(msg='How are you?',name='Rakhee')\n",
        "#greet_ms(msg='Hi') will give error\n"
      ],
      "metadata": {
        "colab": {
          "base_uri": "https://localhost:8080/",
          "height": 211
        },
        "id": "9MFePBmN8oQO",
        "outputId": "90925c97-5e98-4bf4-9ee6-c9adcafa143d"
      },
      "execution_count": 30,
      "outputs": [
        {
          "output_type": "stream",
          "name": "stdout",
          "text": [
            "Rakhee How are you?\n",
            "Rakhee How are you?\n"
          ]
        },
        {
          "output_type": "error",
          "ename": "TypeError",
          "evalue": "greet_ms() missing 1 required positional argument: 'name'",
          "traceback": [
            "\u001b[0;31m---------------------------------------------------------------------------\u001b[0m",
            "\u001b[0;31mTypeError\u001b[0m                                 Traceback (most recent call last)",
            "\u001b[0;32m/tmp/ipython-input-1356775256.py\u001b[0m in \u001b[0;36m<cell line: 0>\u001b[0;34m()\u001b[0m\n\u001b[1;32m      6\u001b[0m \u001b[0mgreet_ms\u001b[0m\u001b[0;34m(\u001b[0m\u001b[0;34m'Rakhee'\u001b[0m\u001b[0;34m,\u001b[0m\u001b[0;34m'How are you?'\u001b[0m\u001b[0;34m)\u001b[0m\u001b[0;34m\u001b[0m\u001b[0;34m\u001b[0m\u001b[0m\n\u001b[1;32m      7\u001b[0m \u001b[0mgreet_ms\u001b[0m\u001b[0;34m(\u001b[0m\u001b[0mmsg\u001b[0m\u001b[0;34m=\u001b[0m\u001b[0;34m'How are you?'\u001b[0m\u001b[0;34m,\u001b[0m\u001b[0mname\u001b[0m\u001b[0;34m=\u001b[0m\u001b[0;34m'Rakhee'\u001b[0m\u001b[0;34m)\u001b[0m\u001b[0;34m\u001b[0m\u001b[0;34m\u001b[0m\u001b[0m\n\u001b[0;32m----> 8\u001b[0;31m \u001b[0mgreet_ms\u001b[0m\u001b[0;34m(\u001b[0m\u001b[0mmsg\u001b[0m\u001b[0;34m=\u001b[0m\u001b[0;34m'Hi'\u001b[0m\u001b[0;34m)\u001b[0m\u001b[0;34m\u001b[0m\u001b[0;34m\u001b[0m\u001b[0m\n\u001b[0m",
            "\u001b[0;31mTypeError\u001b[0m: greet_ms() missing 1 required positional argument: 'name'"
          ]
        }
      ]
    },
    {
      "cell_type": "code",
      "source": [
        "#Variable lenght arguments\n",
        "#*represents it as variable length...\n",
        "t=[1,2,3,4,5]\n",
        "a,*b,c=t\n",
        "print(a,b,c)"
      ],
      "metadata": {
        "colab": {
          "base_uri": "https://localhost:8080/"
        },
        "id": "usFS-jWb-xdy",
        "outputId": "84d1f60d-4c7c-4475-99cd-74f837d6ae7b"
      },
      "execution_count": 31,
      "outputs": [
        {
          "output_type": "stream",
          "name": "stdout",
          "text": [
            "1 [2, 3, 4] 5\n"
          ]
        }
      ]
    },
    {
      "cell_type": "code",
      "source": [
        "#variable length arguments\n",
        "\n",
        "def sum(*n):\n",
        "  total=0\n",
        "  for i in n:\n",
        "    total=i+i\n",
        "  print('Sum=',total)\n",
        "  #return total\n",
        "\n",
        "#main\n",
        "sum()\n",
        "sum(10)\n",
        "sum(10,20,30)\n",
        ""
      ],
      "metadata": {
        "colab": {
          "base_uri": "https://localhost:8080/"
        },
        "id": "VRjyfXa1_2mA",
        "outputId": "6fc8a4cb-5595-4147-ca89-e676621e94b9"
      },
      "execution_count": 41,
      "outputs": [
        {
          "output_type": "stream",
          "name": "stdout",
          "text": [
            "Sum= 0\n",
            "Sum= 20\n",
            "Sum= 60\n"
          ]
        }
      ]
    },
    {
      "cell_type": "code",
      "source": [
        "#Gloabal and Local scope of variable in python\n",
        "m=100\n",
        "def add_diff(x,y):\n",
        "  z=x+y\n",
        "  z1=x-y\n",
        "  #m=10\n",
        "  #global m\n",
        "  #m=m+10\n",
        "  print(\"The value of m in function is: \",m)\n",
        "  return z,z1 #Scope of local variable is finished\n",
        "def main()\n",
        "a=10\n",
        "b=20\n",
        "a,b=add_diff(a,b) #we can set it as t=add_diff(a,b) then we can access t[0],t[1]\n",
        "print('Sum is: ',a)\n",
        "print('diff is: ',b)\n",
        "global m\n",
        "m=9\n",
        "print('Value of m in main function is: ', m)"
      ],
      "metadata": {
        "colab": {
          "base_uri": "https://localhost:8080/"
        },
        "id": "M241cE6nCSGO",
        "outputId": "a0dcb07d-9fe6-412e-db20-e08623f8a768"
      },
      "execution_count": 53,
      "outputs": [
        {
          "output_type": "stream",
          "name": "stdout",
          "text": [
            "The value of m in function is:  100\n",
            "Sum is:  30\n",
            "diff is:  -10\n",
            "Value of m in main function is:  9\n"
          ]
        }
      ]
    },
    {
      "cell_type": "code",
      "source": [
        "#Variable length arguments\n",
        "\n",
        "def sum(*n):\n",
        "  Total=0\n",
        "  for i in n:\n",
        "\n",
        "    Total=i+i\n",
        "  print('Sum is: ',Total)\n",
        "  #return Total\n",
        "\n",
        "#n=int(input('Enter the number')\n",
        "sum()\n",
        "sum(10,20)\n",
        "sum(10,20,30)\n",
        "#print('Sum is: ',Total)"
      ],
      "metadata": {
        "colab": {
          "base_uri": "https://localhost:8080/"
        },
        "id": "xUegYnsKb2x4",
        "outputId": "c1a1df2a-0f5d-437e-bf14-b566c3104ca2"
      },
      "execution_count": 64,
      "outputs": [
        {
          "output_type": "stream",
          "name": "stdout",
          "text": [
            "Sum is:  0\n",
            "Sum is:  40\n",
            "Sum is:  60\n"
          ]
        }
      ]
    },
    {
      "cell_type": "code",
      "source": [
        "#calculate +,-,/,* using function\n",
        "\n",
        "def sum(a,b):\n",
        "  c=a+b\n",
        "  return c\n",
        "def sub(a,b):\n",
        "   c=a-b\n",
        "   return c\n",
        "def mul(a,b):\n",
        "   c=a*b\n",
        "   return c\n",
        "\n",
        "def div(a,b):\n",
        "  if(b==0):\n",
        "    return 'error division by zero'\n",
        "  else:\n",
        "    c=a/b\n",
        "    return c\n",
        "#main\n",
        "a=float(input('Enter the first number: '))\n",
        "b=float(input('Enter the second number: '))\n",
        "s=sum(a,b)\n",
        "print(f'Addition of {a} and {b} is ',s)\n",
        "minus=sub(a,b)\n",
        "print(f'Subtraction of {a} and {b} is ',minus)\n",
        "d=div(a,b)\n",
        "print(f'Division of {a} and {b} is ',d)\n",
        "m=mul(a,b)\n",
        "print(f'Multiplication of {a} and {b} is ', m)"
      ],
      "metadata": {
        "colab": {
          "base_uri": "https://localhost:8080/"
        },
        "id": "7ge7KWJUl3lS",
        "outputId": "e78be322-8dc0-4718-f2cf-747310e38b68"
      },
      "execution_count": 79,
      "outputs": [
        {
          "output_type": "stream",
          "name": "stdout",
          "text": [
            "Enter the first number: 4\n",
            "Enter the second number: 2\n",
            "Addition of 4.0 and 2.0 is  6.0\n",
            "Subtraction of 4.0 and 2.0 is  2.0\n",
            "Division of 4.0 and 2.0 is  2.0\n",
            "Multiplication of 4.0 and 2.0 is  8.0\n"
          ]
        }
      ]
    },
    {
      "cell_type": "code",
      "source": [
        "#Menue Driven calculator program in c\n",
        "\n",
        "#Functions\n",
        "def add(a,b):\n",
        "  return a + b\n",
        "\n",
        "def sub(a,b):\n",
        "  return a - b\n",
        "\n",
        "def mul(a,b):\n",
        "  return a * b\n",
        "\n",
        "def div(a,b):\n",
        "  if(b==0):\n",
        "    return \"Error! Devide By Zero\"\n",
        "  else:\n",
        "    return a / b\n",
        "#Main\n",
        "\n",
        "while True:#It will help to run the program till user prints 5 to exit\n",
        "  print(\"------------Simple Menue Driven Calaculator----------\")\n",
        "  print(\"Press 1: for Addition\")\n",
        "  print(\"Press 2: for Subtraction\")\n",
        "  print(\"Press 3: for Multiplication\")\n",
        "  print(\"Press 4: for Division\")\n",
        "  print(\"Press 5: for Exit\")\n",
        "\n",
        "  choice=int(input('Enter your choice...: '))\n",
        "\n",
        "  if choice==5:\n",
        "    print('Exiting from calculator! Bye...')\n",
        "    break\n",
        "\n",
        "  #Getting numbers after ensuring program is not exiting\n",
        "\n",
        "  a=float(input('Enter first number: '))\n",
        "  b=float(input('Enter Second number: '))\n",
        "\n",
        "  if choice==1:\n",
        "    s=add(a,b)\n",
        "    print(f'Addition of {a} and {b} is {s}')\n",
        "\n",
        "  elif choice==2:\n",
        "    s=sub(a,b)\n",
        "    print(f'Subtraction of {a} and {b} is {s}')\n",
        "\n",
        "  elif choice==3:\n",
        "    s=mul(a,b)\n",
        "    print(f'Multiplication of {a} and {b} is {s}')\n",
        "\n",
        "  elif choice==4:\n",
        "    s=div(a,b)\n",
        "    print(f'Division of {a} and {b} is {s}')\n",
        "  else:\n",
        "    print(\"Please enter valid choice....\")\n",
        ""
      ],
      "metadata": {
        "colab": {
          "base_uri": "https://localhost:8080/"
        },
        "id": "l3IIWK0jtAaz",
        "outputId": "635b9c86-4382-49ca-b0b0-60db93cd5ee9"
      },
      "execution_count": 83,
      "outputs": [
        {
          "output_type": "stream",
          "name": "stdout",
          "text": [
            "------------Simple Menue Driven Calaculator----------\n",
            "Press 1: for Addition\n",
            "Press 2: for Subtraction\n",
            "Press 3: for Multiplication\n",
            "Press 4: for Division\n",
            "Press 5: for Exit\n",
            "Enter your choice...: 1\n",
            "Enter first number: 4\n",
            "Enter Second number: 5\n",
            "Addition of 4.0 and 5.0 is 9.0\n",
            "------------Simple Menue Driven Calaculator----------\n",
            "Press 1: for Addition\n",
            "Press 2: for Subtraction\n",
            "Press 3: for Multiplication\n",
            "Press 4: for Division\n",
            "Press 5: for Exit\n",
            "Enter your choice...: 4\n",
            "Enter first number: 4\n",
            "Enter Second number: 4\n",
            "Division of 4.0 and 4.0 is 1.0\n",
            "------------Simple Menue Driven Calaculator----------\n",
            "Press 1: for Addition\n",
            "Press 2: for Subtraction\n",
            "Press 3: for Multiplication\n",
            "Press 4: for Division\n",
            "Press 5: for Exit\n",
            "Enter your choice...: 3\n",
            "Enter first number: 4\n",
            "Enter Second number: 5\n",
            "Multiplication of 4.0 and 5.0 is 20.0\n",
            "------------Simple Menue Driven Calaculator----------\n",
            "Press 1: for Addition\n",
            "Press 2: for Subtraction\n",
            "Press 3: for Multiplication\n",
            "Press 4: for Division\n",
            "Press 5: for Exit\n",
            "Enter your choice...: 5\n",
            "Exiting from calculator! Bye...\n"
          ]
        }
      ]
    },
    {
      "cell_type": "code",
      "source": [
        "#Passing Argument to the function\n",
        "def show_double(number):#Parameter variable /scope is the function in which the parameter is used\n",
        "    result=number * 2\n",
        "    print(result)\n",
        "\n",
        "def main():\n",
        "  value=5\n",
        "  show_double(value)#Argument\n",
        "\n",
        "main()\n"
      ],
      "metadata": {
        "colab": {
          "base_uri": "https://localhost:8080/"
        },
        "id": "GHOO8a6KGLy7",
        "outputId": "6f052497-9b30-4ad1-8fdb-5cadc2753141"
      },
      "execution_count": 92,
      "outputs": [
        {
          "output_type": "stream",
          "name": "stdout",
          "text": [
            "10\n"
          ]
        }
      ]
    },
    {
      "cell_type": "code",
      "source": [
        "#Passing Multiple arguments to and nested function\n",
        "\n",
        "\n",
        "def show_sum(num1,num2): #num1 and num2 are parameters and show_sum(num1,num2) is function definition\n",
        "    result=num1+num2\n",
        "    return result\n",
        "\n",
        "def main():\n",
        "  #print(\"Addition of 12 and 45 is \",result)\n",
        "  value1=float(input('Enter First Value: '))\n",
        "  value2=float(input('Enter Second Value: '))\n",
        "  show_sum(value1,value2)                    #Value1 and Value2 are arguments\n",
        "  print(f'Addition of {value1} and {value2} is {show_sum(value1,value2)}')\n",
        "\n",
        "main()   #Fuction calling"
      ],
      "metadata": {
        "colab": {
          "base_uri": "https://localhost:8080/"
        },
        "id": "SSaFiLZXKDS2",
        "outputId": "920cc66b-e3b4-4544-f457-1faa37fe2c1c"
      },
      "execution_count": 100,
      "outputs": [
        {
          "output_type": "stream",
          "name": "stdout",
          "text": [
            "Enter First Value: 43\n",
            "Enter Second Value: 55\n",
            "Addition of 43.0 and 55.0 is 98.0\n"
          ]
        }
      ]
    },
    {
      "cell_type": "code",
      "source": [
        "#Program to make the changes to parameters\n",
        "\n",
        "def main():\n",
        "  value=99\n",
        "  print('Initial Value in main function which we need to change by using change fun ',value)\n",
        "  value=change_me(value)\n",
        "  print('changed value using change_me fun become now ', value)\n",
        "\n",
        "def change_me(num):\n",
        "  print('I am changing the value')\n",
        "  num+=2\n",
        "  print('Now the value is ', num)\n",
        "  return num\n",
        "\n",
        "main()\n"
      ],
      "metadata": {
        "colab": {
          "base_uri": "https://localhost:8080/"
        },
        "id": "o0SrH0vj_W8H",
        "outputId": "93b167dd-d856-474a-fcc4-619bf210b47e"
      },
      "execution_count": 105,
      "outputs": [
        {
          "output_type": "stream",
          "name": "stdout",
          "text": [
            "Initial Value in main function which we need to change by using change fun  99\n",
            "I am changing the value\n",
            "Now the value is  101\n",
            "changed value using change_me fun become now  101\n"
          ]
        }
      ]
    },
    {
      "cell_type": "code",
      "source": [
        "#What is positional arguments\n",
        "\n",
        "def show_details(name,age):\n",
        "  print(f'Your name is {name} and age is {age}')\n",
        "\n",
        "show_details('Sumit',39)"
      ],
      "metadata": {
        "colab": {
          "base_uri": "https://localhost:8080/"
        },
        "id": "hf2QYuyrXg58",
        "outputId": "1db33c8b-45be-4691-cc48-a1acfee1f504"
      },
      "execution_count": 106,
      "outputs": [
        {
          "output_type": "stream",
          "name": "stdout",
          "text": [
            "Your name is Sumit and age is 39\n"
          ]
        }
      ]
    },
    {
      "cell_type": "code",
      "source": [
        "#Program for keyword arguments\n",
        "\n",
        "def student_info(name,course,city):\n",
        "   print(f'Student name {name} is learning {course} from {city}')\n",
        "\n",
        "student_info(name='Sumit', course='Python', city='Pune')#Pure keyword argument\n",
        "\n",
        "student_info('Sumit', course='Python', city='Pune')#If we are mixing then first argument should be the positional argurment ow we will get the error\n",
        "\n",
        "student_info(course='C',name='Sumit',city='Nasik')#In keyword parameters sequence doesnt matter\n",
        "\n",
        "'''student_info(course='C++','Sumit','Nasik') it will give error\n",
        "File \"/tmp/ipython-input-1768161467.py\", line 12\n",
        "    student_info(course='C++','Sumit','Nasik')\n",
        "                                             ^\n",
        "SyntaxError: positional argument follows keyword argument'''"
      ],
      "metadata": {
        "colab": {
          "base_uri": "https://localhost:8080/",
          "height": 104
        },
        "id": "7NCIOPyFYs85",
        "outputId": "c4efb263-1a3c-486e-b2ef-c7490e8ba533"
      },
      "execution_count": 112,
      "outputs": [
        {
          "output_type": "stream",
          "name": "stdout",
          "text": [
            "Student name Sumit is learning Python from Pune\n",
            "Student name Sumit is learning Python from Pune\n",
            "Student name Sumit is learning C from Nasik\n"
          ]
        },
        {
          "output_type": "execute_result",
          "data": {
            "text/plain": [
              "'student_info(course=\\'C++\\',\\'Sumit\\',\\'Nasik\\') it will give error\\nFile \"/tmp/ipython-input-1768161467.py\", line 12\\n    student_info(course=\\'C++\\',\\'Sumit\\',\\'Nasik\\')\\n                                             ^\\nSyntaxError: positional argument follows keyword argument'"
            ],
            "application/vnd.google.colaboratory.intrinsic+json": {
              "type": "string"
            }
          },
          "metadata": {},
          "execution_count": 112
        }
      ]
    },
    {
      "cell_type": "markdown",
      "source": [
        "Standard library: Is a library of prewritten functions that comes with python\n",
        "2. What is the Standard Library?\n",
        "\n",
        "Python’s Standard Library is a huge collection of built-in modules that come with Python — no need to install anything!\n",
        "\n",
        "It’s like a collection of ready-made tools to handle common tasks such as:\n",
        "\n",
        "Math operations (math)\n",
        "\n",
        "Working with dates (datetime)\n",
        "\n",
        "File compression (zipfile)\n",
        "\n",
        "Random numbers (random)\n",
        "\n",
        "System operations (os, sys)\n",
        "\n",
        "Internet access (urllib, http)\n",
        "\n",
        "You can use them anytime just by importing."
      ],
      "metadata": {
        "id": "1xF2BGzJfAYc"
      }
    },
    {
      "cell_type": "code",
      "source": [
        "%%writefile my_module.py\n",
        "\n",
        "def add(a, b):\n",
        "    \"\"\"This function returns the sum of two numbers\"\"\"\n",
        "    return a + b\n",
        "\n",
        "\n",
        "\n"
      ],
      "metadata": {
        "colab": {
          "base_uri": "https://localhost:8080/"
        },
        "id": "W9tOQtHpiByL",
        "outputId": "5415c4fd-aa2d-493b-85eb-f32f861c06a4"
      },
      "execution_count": 4,
      "outputs": [
        {
          "output_type": "stream",
          "name": "stdout",
          "text": [
            "Overwriting my_module.py\n"
          ]
        }
      ]
    },
    {
      "cell_type": "code",
      "source": [
        "!cat my_module.py\n"
      ],
      "metadata": {
        "colab": {
          "base_uri": "https://localhost:8080/"
        },
        "id": "g-3RoCSgilP8",
        "outputId": "b063dd25-642b-4e90-f9df-c2b420924ef0"
      },
      "execution_count": 5,
      "outputs": [
        {
          "output_type": "stream",
          "name": "stdout",
          "text": [
            "\n",
            "def add(a, b):\n",
            "    \"\"\"This function returns the sum of two numbers\"\"\"\n",
            "    return a + b\n",
            "\n",
            "\n"
          ]
        }
      ]
    },
    {
      "cell_type": "code",
      "source": [
        "import my_module\n",
        "result = my_module.add(12, 8)\n",
        "print(\"Addition of 12 and 8 is:\", result)\n"
      ],
      "metadata": {
        "colab": {
          "base_uri": "https://localhost:8080/"
        },
        "id": "rsqeJvmKjZFP",
        "outputId": "af3869b0-7f8b-4fa9-838c-50037b161c67"
      },
      "execution_count": 8,
      "outputs": [
        {
          "output_type": "stream",
          "name": "stdout",
          "text": [
            "Addition of 12 and 8 is: 20\n"
          ]
        }
      ]
    },
    {
      "cell_type": "code",
      "source": [
        "#Import Random function\n",
        "import random\n",
        "number=random.randint(1,100)\n",
        "print(number)\n"
      ],
      "metadata": {
        "colab": {
          "base_uri": "https://localhost:8080/"
        },
        "id": "ajrfQDeTmpbq",
        "outputId": "f9ac2bb8-2663-4669-a7e3-e275b97c1293"
      },
      "execution_count": 21,
      "outputs": [
        {
          "output_type": "stream",
          "name": "stdout",
          "text": [
            "71\n"
          ]
        }
      ]
    },
    {
      "cell_type": "code",
      "source": [
        "#Creating alise of module name 'import random as r'\n",
        "import random as r\n",
        "n=r.randint(1,100)\n",
        "print(n)"
      ],
      "metadata": {
        "colab": {
          "base_uri": "https://localhost:8080/"
        },
        "id": "fNNWUm_pm90p",
        "outputId": "a72782b7-9296-48cb-cacd-af2bd570bab8"
      },
      "execution_count": 25,
      "outputs": [
        {
          "output_type": "stream",
          "name": "stdout",
          "text": [
            "50\n"
          ]
        }
      ]
    },
    {
      "cell_type": "markdown",
      "source": [
        "What is a Nested Function?\n",
        "\n",
        "A nested function means:\n",
        "\n",
        "A function defined inside another function.\n",
        "\n",
        "It helps you:\n",
        "\n",
        "Organize code better\n",
        "\n",
        "Limit access (inner functions are not visible outside the outer one)\n",
        "\n",
        "Create closures (functions that remember values even after the outer function ends)"
      ],
      "metadata": {
        "id": "urGT0UaUrGVC"
      }
    },
    {
      "cell_type": "code",
      "source": [
        "#Nested Function///Scope of inner function is\n",
        "def outer():\n",
        "  print('I am in the outer function')#Scope of outer\n",
        "  def inner():#Local function to outer only not for main or any one\n",
        "    print('I am in the inner function')\n",
        "  inner()\n",
        "\n",
        "#main\n",
        "outer()\n"
      ],
      "metadata": {
        "colab": {
          "base_uri": "https://localhost:8080/"
        },
        "id": "e2_EZm3soNRP",
        "outputId": "3ddd1fa0-59f0-4c9c-f7d9-5b8120828b65"
      },
      "execution_count": 35,
      "outputs": [
        {
          "output_type": "stream",
          "name": "stdout",
          "text": [
            "I am in the outer function\n",
            "I am in the inner function\n"
          ]
        }
      ]
    },
    {
      "cell_type": "code",
      "source": [
        "#Passing values to inneer function\n",
        "\n",
        "def outerfun(name):\n",
        "    def inner_fun():\n",
        "      print('Hello',name)\n",
        "    inner_fun()\n",
        "\n",
        "#Main\n",
        "outerfun('sumit')"
      ],
      "metadata": {
        "colab": {
          "base_uri": "https://localhost:8080/"
        },
        "id": "YbDVl6i1vMD7",
        "outputId": "11ae1551-c944-4ced-bec0-056798a77876"
      },
      "execution_count": 38,
      "outputs": [
        {
          "output_type": "stream",
          "name": "stdout",
          "text": [
            "Hello sumit\n"
          ]
        }
      ]
    },
    {
      "cell_type": "code",
      "source": [],
      "metadata": {
        "id": "A8w28IRvJLGe"
      },
      "execution_count": null,
      "outputs": []
    },
    {
      "cell_type": "code",
      "source": [
        "def outer(x):\n",
        "  def inner(y):\n",
        "    return x + y\n",
        "  return inner   # return the function, not its callalso You just need to return inner (without parentheses) so that the function definition is returned, not the result.\n",
        "\n",
        "# main\n",
        "add_5 = outer(5)   # outer returns inner, where x = 5\n",
        "print(add_5(10))   # calls inner(10) → 5 + 10 = 15"
      ],
      "metadata": {
        "colab": {
          "base_uri": "https://localhost:8080/"
        },
        "id": "xTjRhwqZxh62",
        "outputId": "0e003e79-b8ae-4e55-9aaf-a26a0c09c605"
      },
      "execution_count": 53,
      "outputs": [
        {
          "output_type": "stream",
          "name": "stdout",
          "text": [
            "15\n"
          ]
        }
      ]
    },
    {
      "cell_type": "markdown",
      "source": [
        "What’s a Closure in Real Life?\n",
        "\n",
        "Think of a closure like a personal assistant who remembers a value you told them earlier — even after you’ve left the room.\n",
        "\n",
        "Example in words:\n",
        "\n",
        "You tell your assistant: “Always add 5 rupees to any price I give you.”\n",
        "\n",
        "The assistant remembers “+5” forever, even though you’re not there anymore.\n",
        "\n",
        "Later, when you say “price = 10”, they return “15”.\n",
        "\n",
        "That’s exactly what a closure does in code — it remembers values from the outer function even after that function is done running."
      ],
      "metadata": {
        "id": "XMSBmMonJaUn"
      }
    },
    {
      "cell_type": "markdown",
      "source": [
        "🧩 Example 1: Discount Calculator (E-commerce use case)\n",
        "\n",
        "Imagine you’re building an e-commerce website, and different categories have different fixed discounts.\n",
        "\n",
        "✅ Code:🧠 What happens:\n",
        "\n",
        "discount_generator(10) returns apply_discount that always applies 10%.\n",
        "\n",
        "Each returned function remembers its own discount_percent.\n",
        "\n",
        "Why useful:\n",
        "You can easily reuse and manage different discount rules without hardcoding them everywhere."
      ],
      "metadata": {
        "id": "vfaWu1FFJlQ2"
      }
    },
    {
      "cell_type": "code",
      "source": [
        "#Discount Calculator (E-commerce use case)\n",
        "def discount_generator(discount_percent):\n",
        "    def apply_discount(price):\n",
        "        return price - (price * discount_percent / 100)\n",
        "    return apply_discount  # closure\n",
        "\n",
        "# Create specific discount functions\n",
        "ten_percent_off = discount_generator(10)\n",
        "twenty_percent_off = discount_generator(20)\n",
        "\n",
        "print(ten_percent_off(1000))   # Output: 900.0\n",
        "print(twenty_percent_off(1000)) # Output: 800.0\n"
      ],
      "metadata": {
        "id": "Vo982_QmJu86"
      },
      "execution_count": null,
      "outputs": []
    },
    {
      "cell_type": "markdown",
      "source": [
        "💼 Example 2: Bank Account System (Data hiding)\n",
        "\n",
        "Closures help in encapsulation — keeping data private but still accessible through controlled functions.\n",
        "\n",
        "✅ Code:\n",
        "\n",
        "🧠 What happens:\n",
        "\n",
        "create_account(1000) creates a closure over the variable balance.\n",
        "\n",
        "The inner function can access and modify it even after create_account has finished.\n",
        "\n",
        "Why useful:\n",
        "It behaves like a secure mini object — no one can directly change balance, only through your inner function."
      ],
      "metadata": {
        "id": "rneHf9mfMqwD"
      }
    },
    {
      "cell_type": "code",
      "source": [
        "def create_account(initial_balance):\n",
        "    balance = initial_balance\n",
        "\n",
        "    def transaction(amount):\n",
        "        nonlocal balance\n",
        "        balance += amount\n",
        "        return balance\n",
        "\n",
        "    return transaction  # closure that remembers `balance`\n",
        "\n",
        "# Create account with ₹1000\n",
        "account = create_account(1000)\n",
        "print(account(500))   # Deposit ₹500 → 1500\n",
        "print(account(-200))  # Withdraw ₹200 → 1300\n"
      ],
      "metadata": {
        "id": "2KjVEXguMuUR"
      },
      "execution_count": null,
      "outputs": []
    },
    {
      "cell_type": "markdown",
      "source": [
        "Example 3: Logging / Debugging Utility\n",
        "\n",
        "Suppose you want a logging function that automatically includes a tag like \"TEST\", \"PROD\", or \"DEBUG\".\n",
        "\n",
        "✅ Code:\n",
        "\n",
        "\n",
        "Why useful:\n",
        "You can create multiple specialized loggers without repeating logic — closures store configuration data (tag)."
      ],
      "metadata": {
        "id": "eQhPzqLFM8FI"
      }
    },
    {
      "cell_type": "code",
      "source": [
        "def logger(tag):\n",
        "    def log_message(message):\n",
        "        print(f\"[{tag}] {message}\")\n",
        "    return log_message\n",
        "\n",
        "# Create loggers\n",
        "test_log = logger(\"TEST\")\n",
        "prod_log = logger(\"PROD\")\n",
        "\n",
        "test_log(\"Running test cases...\")   # [TEST] Running test cases...\n",
        "prod_log(\"Deployed to production!\") # [PROD] Deployed to production!\n"
      ],
      "metadata": {
        "id": "CaE3GnnBNDdF"
      },
      "execution_count": null,
      "outputs": []
    },
    {
      "cell_type": "markdown",
      "source": [
        "🧩 What is map()?\n",
        "\n",
        "map() is a higher-order function in Python.\n",
        "It takes two main things:\n",
        "\n",
        "A function (what operation to do)\n",
        "\n",
        "An iterable (like a list, tuple, etc.)\n",
        "\n",
        "Then it applies that function to every item in the iterable and returns a map object (which you can convert to a list, tuple, etc.).\n",
        "\n",
        "🧠 Syntax\n",
        "\n",
        "map(function, iterable)\n",
        "\n",
        "    function → what to apply\n",
        "\n",
        "    iterable → list, tuple, string, etc.\n",
        "\n",
        "It returns an iterator, not a list directly."
      ],
      "metadata": {
        "id": "Ns8YRkhPNOUv"
      }
    },
    {
      "cell_type": "code",
      "source": [
        "def square(num):\n",
        "    return num * num\n",
        "\n",
        "numbers = [1, 2, 3, 4, 5]\n",
        "\n",
        "# Apply 'square' function to all elements\n",
        "result = map(square, numbers)\n",
        "\n",
        "print(list(result))\n"
      ],
      "metadata": {
        "id": "_QfBsSC6Njws"
      },
      "execution_count": null,
      "outputs": []
    },
    {
      "cell_type": "markdown",
      "source": [],
      "metadata": {
        "id": "jD4nR-scMxPw"
      }
    },
    {
      "cell_type": "code",
      "source": [
        "#\n",
        "def multiplynumber(n):\n",
        "  return n*3\n",
        "\n",
        "#main\n",
        "n=map(multiplynumber,[1,2,3,4,5])\n",
        "print(list(n))"
      ],
      "metadata": {
        "colab": {
          "base_uri": "https://localhost:8080/"
        },
        "id": "G1g3SUvcOPMQ",
        "outputId": "12073a1c-bf1d-44ba-9ede-f0090399d75c"
      },
      "execution_count": 60,
      "outputs": [
        {
          "output_type": "stream",
          "name": "stdout",
          "text": [
            "[3, 6, 9, 12, 15]\n"
          ]
        }
      ]
    },
    {
      "cell_type": "code",
      "source": [
        "# square of all elements using map high order function\n",
        "\n",
        "def square(n):\n",
        "  n=n*n\n",
        "  return n\n",
        "\n",
        "la=[1,2,3,4]\n",
        "m=map(square,la)\n",
        "print(list(m))\n"
      ],
      "metadata": {
        "colab": {
          "base_uri": "https://localhost:8080/"
        },
        "id": "NjaA3X89QbX8",
        "outputId": "2bb59ca4-98b8-48a8-e891-8dbbb5922dd8"
      },
      "execution_count": 69,
      "outputs": [
        {
          "output_type": "stream",
          "name": "stdout",
          "text": [
            "[1, 4, 9, 16]\n"
          ]
        }
      ]
    },
    {
      "cell_type": "code",
      "source": [
        "\n",
        "# square of all elements using map high order function\n",
        "def square(n):\n",
        "  return n*n\n",
        "\n",
        "l=[2,3,4,5]\n",
        "m=map(square,l)\n",
        "for i in m:\n",
        "  print(i)"
      ],
      "metadata": {
        "colab": {
          "base_uri": "https://localhost:8080/"
        },
        "id": "2njzJMnOR6Bt",
        "outputId": "20b98f18-054d-491d-977d-04d06a7eaa46"
      },
      "execution_count": 68,
      "outputs": [
        {
          "output_type": "stream",
          "name": "stdout",
          "text": [
            "4\n",
            "9\n",
            "16\n",
            "25\n"
          ]
        }
      ]
    },
    {
      "cell_type": "markdown",
      "source": [],
      "metadata": {
        "id": "Y4WqVXT7Sn87"
      }
    },
    {
      "cell_type": "code",
      "source": [
        "#COnvert the string to integers\n",
        "str_numbers = [\"10\", \"20\", \"30\"]\n",
        "result = map(int, str_numbers)\n",
        "#print(list(result),type(result))\n",
        "\n",
        "for i in result:\n",
        "  print(i)\n"
      ],
      "metadata": {
        "colab": {
          "base_uri": "https://localhost:8080/"
        },
        "id": "7fyRls3xUMz1",
        "outputId": "147bdcac-7f3f-439d-8f43-3386021615ff"
      },
      "execution_count": 75,
      "outputs": [
        {
          "output_type": "stream",
          "name": "stdout",
          "text": [
            "10\n",
            "20\n",
            "30\n"
          ]
        }
      ]
    },
    {
      "cell_type": "markdown",
      "source": [
        "🧩 What is filter() in Python?\n",
        "\n",
        "The filter() function filters (selects) elements from an iterable (like a list or tuple) for which a given function returns True.\n",
        "\n",
        "🧠 Syntax\n",
        "filter(function, iterable)\n",
        "\n",
        "    function → A function that returns True or False\n",
        "\n",
        "    iterable → A sequence (list, tuple, string, etc.)\n",
        "\n",
        "It returns a filter object (an iterator), so you usually convert it to a list or tuple using:"
      ],
      "metadata": {
        "id": "blfaIeeRdG4A"
      }
    },
    {
      "cell_type": "code",
      "source": [
        "#Use of filter\n",
        "\n",
        "def VotingAge(age):\n",
        "  if age>=18:\n",
        "   return age\n",
        "\n",
        "l=[19,34,5,66,77]\n",
        "result=filter(VotingAge,l)\n",
        "print(list(result))"
      ],
      "metadata": {
        "colab": {
          "base_uri": "https://localhost:8080/"
        },
        "id": "wjZ-q8NddAjo",
        "outputId": "388627e1-b60f-444c-a971-a8b6946bfe3b"
      },
      "execution_count": 82,
      "outputs": [
        {
          "output_type": "stream",
          "name": "stdout",
          "text": [
            "[19, 34, 66, 77]\n"
          ]
        }
      ]
    },
    {
      "cell_type": "code",
      "source": [
        "#Even number using filter\n",
        "\n",
        "def Iseven(n):\n",
        "  if n % 2==0:\n",
        "    return n\n",
        "#main\n",
        "l=[2,4,5,6,7,8,89,]\n",
        "result=filter(Iseven,l)\n",
        "print(type(result))\n",
        "print(list(result))\n"
      ],
      "metadata": {
        "colab": {
          "base_uri": "https://localhost:8080/"
        },
        "id": "mkJqP2J4elZz",
        "outputId": "ef3b9ea2-21a9-4fa1-c99f-7baa31ea1ad3"
      },
      "execution_count": 84,
      "outputs": [
        {
          "output_type": "stream",
          "name": "stdout",
          "text": [
            "<class 'filter'>\n",
            "[2, 4, 6, 8]\n"
          ]
        }
      ]
    },
    {
      "cell_type": "markdown",
      "source": [
        "🧩 What is reduce() in Python?\n",
        "\n",
        "The reduce() function is used to apply a function cumulatively to all items in an iterable — reducing it to one single value.\n",
        "\n",
        "It comes from the functools module (not built-in like map or filter).\n",
        "\n",
        "🧠 Syntax\n",
        "from functools import reduce\n",
        "\n",
        "reduce(function, iterable[, initializer])\n"
      ],
      "metadata": {
        "id": "AQQWGhV2hpj4"
      }
    },
    {
      "cell_type": "code",
      "source": [
        "#Reduce function\n",
        "from functools import reduce\n",
        "def add(a,b):\n",
        "  return a+b\n",
        "\n",
        "#Main\n",
        "\n",
        "l=[1,2,3,4,5]\n",
        "s=reduce(add,l)\n",
        "print(s)"
      ],
      "metadata": {
        "colab": {
          "base_uri": "https://localhost:8080/"
        },
        "id": "8CLp_alzjR7G",
        "outputId": "802e1d48-6c09-41e7-ea56-f7cb3376bbd4"
      },
      "execution_count": 85,
      "outputs": [
        {
          "output_type": "stream",
          "name": "stdout",
          "text": [
            "15\n"
          ]
        }
      ]
    },
    {
      "cell_type": "markdown",
      "source": [
        "🧩 What is lambda in Python?\n",
        "\n",
        "A lambda function is a small, anonymous (nameless) function — used when you need a quick, simple function for a short task.\n",
        "\n",
        "It behaves exactly like a normal def function, but you don’t give it a name or use multiple lines.\n",
        "\n",
        "Syntax\n",
        "lambda arguments : expression\n",
        "\n",
        "\n",
        "\n"
      ],
      "metadata": {
        "id": "EkswMKNzo3Sr"
      }
    },
    {
      "cell_type": "code",
      "source": [
        "#Lambda function to chekc square of number\n",
        "\n",
        "square=lambda x:x*x\n",
        "print(square(5))"
      ],
      "metadata": {
        "colab": {
          "base_uri": "https://localhost:8080/"
        },
        "id": "mSxFT_ggpid3",
        "outputId": "9ec60492-ae41-4170-b117-3a229353147e"
      },
      "execution_count": 86,
      "outputs": [
        {
          "output_type": "stream",
          "name": "stdout",
          "text": [
            "25\n"
          ]
        }
      ]
    },
    {
      "cell_type": "code",
      "source": [
        "#Function to check number is positive,negative or zero in one line...Lambds for condition code checking\n",
        "\n",
        "n=lambda x : 'Positive' if x>0 else 'Negative' if x<0 else 'Zero'\n",
        "print(n(5))\n",
        "print(n(-5))\n",
        "print(n(0))"
      ],
      "metadata": {
        "colab": {
          "base_uri": "https://localhost:8080/"
        },
        "id": "uPYV3e8Op25T",
        "outputId": "5f0139ad-6189-4bb8-c4f8-8a6fe76516fb"
      },
      "execution_count": 97,
      "outputs": [
        {
          "output_type": "stream",
          "name": "stdout",
          "text": [
            "Positive\n",
            "Negative\n",
            "Zero\n"
          ]
        }
      ]
    },
    {
      "cell_type": "code",
      "source": [
        "#Lamda function or anonymous function\n",
        "s1=\"Hello How are u\"\n",
        "S2=lambda x : x.upper()\n",
        "print(type(s2))\n",
        "print(s2(s1))"
      ],
      "metadata": {
        "colab": {
          "base_uri": "https://localhost:8080/"
        },
        "id": "vlIxySZNtbpl",
        "outputId": "951adb10-a007-4eb8-ab64-8b89d8d5ff29"
      },
      "execution_count": 107,
      "outputs": [
        {
          "output_type": "stream",
          "name": "stdout",
          "text": [
            "<class 'function'>\n",
            "HELLO HOW ARE U\n"
          ]
        }
      ]
    },
    {
      "cell_type": "code",
      "source": [
        "#Lambda inside map function\n",
        "\n",
        "l=[1,2,3,4,5]\n",
        "\n",
        "result=map(lambda x:x*x ,l)\n",
        "print(list(result))"
      ],
      "metadata": {
        "colab": {
          "base_uri": "https://localhost:8080/"
        },
        "id": "gLYn2jKyyWXc",
        "outputId": "53bfa47a-e6f4-47a8-fc4e-cf39ea543020"
      },
      "execution_count": 108,
      "outputs": [
        {
          "output_type": "stream",
          "name": "stdout",
          "text": [
            "[1, 4, 9, 16, 25]\n"
          ]
        }
      ]
    },
    {
      "cell_type": "code",
      "source": [
        "#Lambda inside filter function\n",
        "\n",
        "l=[1,2,3,4,5,6,7,8]\n",
        "\n",
        "result=filter(lambda x:x%2==0, l)\n",
        "\n",
        "print(list(result))"
      ],
      "metadata": {
        "colab": {
          "base_uri": "https://localhost:8080/"
        },
        "id": "SWlDCatByt0B",
        "outputId": "b3910183-f122-4239-929e-47b3cfe2b4bf"
      },
      "execution_count": 109,
      "outputs": [
        {
          "output_type": "stream",
          "name": "stdout",
          "text": [
            "[2, 4, 6, 8]\n"
          ]
        }
      ]
    },
    {
      "cell_type": "code",
      "source": [
        "#Lambda inside reduce function\n",
        "from functools import reduce\n",
        "l=[1,2,3,4,5,6]\n",
        "\n",
        "result=reduce(lambda x,y : x+y,l)#Remember that result will return only one valuse so while printing we no need to give print(list(result)) like map or filter....\n",
        "\n",
        "print(result)"
      ],
      "metadata": {
        "colab": {
          "base_uri": "https://localhost:8080/"
        },
        "id": "On1yIy2vzI5-",
        "outputId": "ab6dad78-2aaa-4a92-9053-764960576747"
      },
      "execution_count": 111,
      "outputs": [
        {
          "output_type": "stream",
          "name": "stdout",
          "text": [
            "21\n"
          ]
        }
      ]
    },
    {
      "cell_type": "markdown",
      "source": [],
      "metadata": {
        "id": "O6vIi8nRdBWr"
      }
    },
    {
      "cell_type": "code",
      "source": [],
      "metadata": {
        "id": "YA5yRcq6UOtS"
      },
      "execution_count": null,
      "outputs": []
    }
  ],
  "metadata": {
    "colab": {
      "provenance": [],
      "authorship_tag": "ABX9TyN+u/hg6DO+MJ4WkWf4Q+V6",
      "include_colab_link": true
    },
    "kernelspec": {
      "display_name": "Python 3",
      "name": "python3"
    },
    "language_info": {
      "name": "python"
    }
  },
  "nbformat": 4,
  "nbformat_minor": 0
}