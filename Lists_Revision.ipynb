{
  "nbformat": 4,
  "nbformat_minor": 0,
  "metadata": {
    "colab": {
      "provenance": [],
      "authorship_tag": "ABX9TyP9MiljC0U4eyOO9t69/saC",
      "include_colab_link": true
    },
    "kernelspec": {
      "name": "python3",
      "display_name": "Python 3"
    },
    "language_info": {
      "name": "python"
    }
  },
  "cells": [
    {
      "cell_type": "markdown",
      "metadata": {
        "id": "view-in-github",
        "colab_type": "text"
      },
      "source": [
        "<a href=\"https://colab.research.google.com/github/sumitmsc/PythonPractice/blob/main/Lists_Revision.ipynb\" target=\"_parent\"><img src=\"https://colab.research.google.com/assets/colab-badge.svg\" alt=\"Open In Colab\"/></a>"
      ]
    },
    {
      "cell_type": "code",
      "execution_count": null,
      "metadata": {
        "id": "lXetd6THnxgi"
      },
      "outputs": [],
      "source": []
    },
    {
      "cell_type": "markdown",
      "source": [
        "🧠 What is a List in Python?\n",
        "A list is a built-in data structure in Python used to store multiple items in a single variable. Lists are:\n",
        "\n",
        "Ordered: Items have a defined order.\n",
        "Mutable: You can change, add, or remove items.\n",
        "Flexible: Can store different data types (strings, numbers, even other lists).\n",
        "Syntax\n",
        "my_list = [item1, item2, item3]"
      ],
      "metadata": {
        "id": "IBU7tU3xn1Dt"
      }
    },
    {
      "cell_type": "markdown",
      "source": [
        "OperationExampleResult / DescriptionAccess itemfruits[1]'banana' – Accesses item at index 1Add itemfruits.append(\"orange\")Adds 'orange' to the end of the listInsert itemfruits.insert(1, \"grape\")Inserts 'grape' at index 1Remove itemfruits.remove(\"banana\")Removes 'banana' from the listLength of listlen(fruits)Returns number of items in the listSlice listfruits[1:3]Returns ['banana', 'cherry'] – items from index 1 to 2Loop through listfor fruit in fruits:Iterates through each item in the list"
      ],
      "metadata": {
        "id": "25ry92hcpvFi"
      }
    },
    {
      "cell_type": "code",
      "source": [
        "fruits = [\"apple\", \"banana\", \"cherry\"]\n",
        "print(fruits[0])       # Output: apple\n",
        "print(fruits[-1])      # Output: cherry"
      ],
      "metadata": {
        "colab": {
          "base_uri": "https://localhost:8080/"
        },
        "id": "ircAIugAoBQv",
        "outputId": "41774253-2330-4887-bed8-bbe17d9fc006"
      },
      "execution_count": 1,
      "outputs": [
        {
          "output_type": "stream",
          "name": "stdout",
          "text": [
            "apple\n",
            "cherry\n"
          ]
        }
      ]
    },
    {
      "cell_type": "code",
      "source": [
        "#mixed data list\n",
        "info = [\"Sumit\", 39, True]\n",
        "print('original list',info)\n",
        "print(info[2])#Accessing 2 nd index value\n",
        "print('adding \"Apple\" in the list',info.append('Apple'))#adding apple in the list\n",
        "print(info)\n",
        "print('Insert Course at 0th index==>',info.insert(0,'course'))\n",
        "print(info)\n",
        "print('removing 39 from list',info.remove(39))\n",
        "print(info)\n",
        "print('lengh of list is ',len(info))\n",
        "print('slicing 1:3 means start till second element',info[1:3])\n",
        "print(info)\n",
        "print('looping the list')\n",
        "for l in info:\n",
        "  print(l)\n"
      ],
      "metadata": {
        "colab": {
          "base_uri": "https://localhost:8080/"
        },
        "id": "lDRBp-0IpsQS",
        "outputId": "79b111f2-4446-4228-d4ee-66ba57a27214"
      },
      "execution_count": 13,
      "outputs": [
        {
          "output_type": "stream",
          "name": "stdout",
          "text": [
            "original list ['Sumit', 39, True]\n",
            "True\n",
            "adding \"Apple\" in the list None\n",
            "['Sumit', 39, True, 'Apple']\n",
            "Insert Course at 0th index==> None\n",
            "['course', 'Sumit', 39, True, 'Apple']\n",
            "removing 39 from list None\n",
            "['course', 'Sumit', True, 'Apple']\n",
            "lengh of list is  4\n",
            "slicing 1:3 means start till second element ['Sumit', True]\n",
            "['course', 'Sumit', True, 'Apple']\n",
            "looping the list\n",
            "course\n",
            "Sumit\n",
            "True\n",
            "Apple\n"
          ]
        }
      ]
    }
  ]
}