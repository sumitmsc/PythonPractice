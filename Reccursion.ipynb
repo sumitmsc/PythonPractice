{
  "nbformat": 4,
  "nbformat_minor": 0,
  "metadata": {
    "colab": {
      "provenance": [],
      "authorship_tag": "ABX9TyPsxSlLoGtKxma1Ehn3rRpf",
      "include_colab_link": true
    },
    "kernelspec": {
      "name": "python3",
      "display_name": "Python 3"
    },
    "language_info": {
      "name": "python"
    }
  },
  "cells": [
    {
      "cell_type": "markdown",
      "metadata": {
        "id": "view-in-github",
        "colab_type": "text"
      },
      "source": [
        "<a href=\"https://colab.research.google.com/github/sumitmsc/PythonPractice/blob/main/Reccursion.ipynb\" target=\"_parent\"><img src=\"https://colab.research.google.com/assets/colab-badge.svg\" alt=\"Open In Colab\"/></a>"
      ]
    },
    {
      "cell_type": "code",
      "execution_count": null,
      "metadata": {
        "id": "HxCMpKulfbKI"
      },
      "outputs": [],
      "source": [
        "🔁 What is Recursion in Python?\n",
        "\n",
        "Recursion is a programming technique where a function calls itself to solve a smaller version of the same problem until it reaches a base condition (stopping point).\n",
        "\n",
        "Think of it like a mirror reflecting another mirror — the process continues until a limit is reached."
      ]
    },
    {
      "cell_type": "code",
      "source": [
        "def factorial(n):\n",
        "    \"\"\"\n",
        "    Recursive function to find the factorial of a number.\n",
        "    factorial(n) = n * factorial(n-1)\n",
        "    Base condition: factorial(0) = 1\n",
        "    \"\"\"\n",
        "    if n == 0 or n==1:\n",
        "        return 1        # base case\n",
        "    else:\n",
        "        return n * factorial(n - 1)   # recursive call\n",
        "\n",
        "print(factorial(5))\n",
        "print(factorial.__doc__)\n"
      ],
      "metadata": {
        "colab": {
          "base_uri": "https://localhost:8080/"
        },
        "id": "gaVSIi_jfhkb",
        "outputId": "964638dd-2456-49d4-8c18-4c13cad776ca"
      },
      "execution_count": 4,
      "outputs": [
        {
          "output_type": "stream",
          "name": "stdout",
          "text": [
            "120\n",
            "\n",
            "    Recursive function to find the factorial of a number.\n",
            "    factorial(n) = n * factorial(n-1)\n",
            "    Base condition: factorial(0) = 1\n",
            "    \n"
          ]
        }
      ]
    },
    {
      "cell_type": "markdown",
      "source": [
        "how it work\n",
        "factorial(5)\n",
        "= 5 * factorial(4)\n",
        "= 5 * 4 * factorial(3)\n",
        "= 5 * 4 * 3 * factorial(2)\n",
        "= 5 * 4 * 3 * 2 * factorial(1)\n",
        "= 5 * 4 * 3 * 2 * 1\n",
        "= 120\n"
      ],
      "metadata": {
        "id": "aOjxpxAXkQog"
      }
    },
    {
      "cell_type": "code",
      "source": [
        "#fabonanci Series\n",
        "def fibonanci(n):\n",
        "  if n==0 or n==1:\n",
        "     return n\n",
        "  else:\n",
        "    return fibonanci(n-1)+fibonanci(n-2)\n",
        "\n",
        "\n",
        "print(fibonanci(4))"
      ],
      "metadata": {
        "colab": {
          "base_uri": "https://localhost:8080/"
        },
        "id": "L_hQMUOlkVp-",
        "outputId": "d24740a0-2628-4145-fce2-edadbd0ff8bc"
      },
      "execution_count": 6,
      "outputs": [
        {
          "output_type": "stream",
          "name": "stdout",
          "text": [
            "3\n"
          ]
        }
      ]
    },
    {
      "cell_type": "markdown",
      "source": [
        "✅ Explanation:\n",
        "f(4) = f(3) + f(2)\n",
        "= (f(2) + f(1)) + (f(1) + f(0))\n",
        "= (1 + 1) + (1 + 0)\n",
        "= 3"
      ],
      "metadata": {
        "id": "p5N6x0fONF2F"
      }
    }
  ]
}