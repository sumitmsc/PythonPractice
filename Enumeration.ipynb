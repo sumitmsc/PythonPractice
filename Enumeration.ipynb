{
  "nbformat": 4,
  "nbformat_minor": 0,
  "metadata": {
    "colab": {
      "provenance": [],
      "authorship_tag": "ABX9TyNz/FFk3MBhBI/zVKg5RQRo",
      "include_colab_link": true
    },
    "kernelspec": {
      "name": "python3",
      "display_name": "Python 3"
    },
    "language_info": {
      "name": "python"
    }
  },
  "cells": [
    {
      "cell_type": "markdown",
      "metadata": {
        "id": "view-in-github",
        "colab_type": "text"
      },
      "source": [
        "<a href=\"https://colab.research.google.com/github/sumitmsc/PythonPractice/blob/main/Enumeration.ipynb\" target=\"_parent\"><img src=\"https://colab.research.google.com/assets/colab-badge.svg\" alt=\"Open In Colab\"/></a>"
      ]
    },
    {
      "cell_type": "markdown",
      "source": [
        "🧩 Enumeration in Python (the enumerate() function)\n",
        "🔹 Definition\n",
        "\n",
        "In Python, enumeration means looping through a sequence (like a list, tuple, or string) while keeping track of the index (position) of each element.\n",
        "\n",
        "The built-in function enumerate() adds a counter to an iterable and returns it as an enumerate object.\n",
        "\n",
        "enumerate(iterable, start=0)\n",
        "\n",
        "Parameters:\n",
        "\n",
        "    iterable → the sequence you want to loop over\n",
        "\n",
        "    start → the starting index (default is 0)"
      ],
      "metadata": {
        "id": "wBWIlBynUTYF"
      }
    },
    {
      "cell_type": "code",
      "source": [
        "fruits = [\"apple\", \"banana\", \"cherry\"]\n",
        "\n",
        "for index, fruit in enumerate(fruits):\n",
        "    print(index, fruit)\n",
        "\n",
        "#enumerate() automatically keeps count (index)\n",
        "\n",
        "#fruit is the value from the list"
      ],
      "metadata": {
        "colab": {
          "base_uri": "https://localhost:8080/"
        },
        "id": "AUkwHuX-Veph",
        "outputId": "8b6e9b88-5e29-480f-fbab-dbb3cc46ba96"
      },
      "execution_count": 5,
      "outputs": [
        {
          "output_type": "stream",
          "name": "stdout",
          "text": [
            "0 apple\n",
            "1 banana\n",
            "2 cherry\n"
          ]
        }
      ]
    },
    {
      "cell_type": "code",
      "source": [
        "#Example with start index\n",
        "for i, fruit in enumerate(fruits, start=1):\n",
        "    print(f\"{i}. {fruit}\")\n",
        "\n",
        "#This is useful when you want human-readable numbering (starting from 1).\n"
      ],
      "metadata": {
        "colab": {
          "base_uri": "https://localhost:8080/"
        },
        "id": "pNmSQlRyVviX",
        "outputId": "aea389aa-8892-4a29-d1d7-ce608c0cffe6"
      },
      "execution_count": 6,
      "outputs": [
        {
          "output_type": "stream",
          "name": "stdout",
          "text": [
            "1. apple\n",
            "2. banana\n",
            "3. cherry\n"
          ]
        }
      ]
    },
    {
      "cell_type": "code",
      "source": [
        "#🔹 Practical Automation Example\n",
        "\n",
        "#In automation scripts, enumerate() is very useful when verifying or logging test data.\n",
        "\n",
        "\n",
        "test_data = [\"login_success\", \"invalid_user\", \"invalid_password\"]\n",
        "\n",
        "for i, test_case in enumerate(test_data, start=1):\n",
        "    print(f\"Executing Test {i}: {test_case}\")\n",
        "\n",
        "#Helps you track which test case number is running.\n"
      ],
      "metadata": {
        "colab": {
          "base_uri": "https://localhost:8080/"
        },
        "id": "0rqMJv0sV7-q",
        "outputId": "b8150009-3b69-41bc-e62b-e2ee5ca959d0"
      },
      "execution_count": 7,
      "outputs": [
        {
          "output_type": "stream",
          "name": "stdout",
          "text": [
            "Executing Test 1: login_success\n",
            "Executing Test 2: invalid_user\n",
            "Executing Test 3: invalid_password\n"
          ]
        }
      ]
    },
    {
      "cell_type": "code",
      "source": [
        "#🔹 Real-World QA Example\n",
        "\n",
        "#Let’s say you’re validating a list of API responses:\n",
        "\n",
        "api_responses = [\"PASS\", \"FAIL\", \"PASS\"]\n",
        "\n",
        "for i, result in enumerate(api_responses, start=1):\n",
        "    assert result == \"PASS\", f\"Test case {i} failed\"\n",
        "\n",
        "#That’s enumeration helping you identify which test failed.\n"
      ],
      "metadata": {
        "colab": {
          "base_uri": "https://localhost:8080/",
          "height": 176
        },
        "id": "GyTCvsPBWmwg",
        "outputId": "f3ffdcdb-873f-41e7-9ff0-5de63d63a93b"
      },
      "execution_count": 8,
      "outputs": [
        {
          "output_type": "error",
          "ename": "AssertionError",
          "evalue": "Test case 2 failed",
          "traceback": [
            "\u001b[0;31m---------------------------------------------------------------------------\u001b[0m",
            "\u001b[0;31mAssertionError\u001b[0m                            Traceback (most recent call last)",
            "\u001b[0;32m/tmp/ipython-input-2549870963.py\u001b[0m in \u001b[0;36m<cell line: 0>\u001b[0;34m()\u001b[0m\n\u001b[1;32m      6\u001b[0m \u001b[0;34m\u001b[0m\u001b[0m\n\u001b[1;32m      7\u001b[0m \u001b[0;32mfor\u001b[0m \u001b[0mi\u001b[0m\u001b[0;34m,\u001b[0m \u001b[0mresult\u001b[0m \u001b[0;32min\u001b[0m \u001b[0menumerate\u001b[0m\u001b[0;34m(\u001b[0m\u001b[0mapi_responses\u001b[0m\u001b[0;34m,\u001b[0m \u001b[0mstart\u001b[0m\u001b[0;34m=\u001b[0m\u001b[0;36m1\u001b[0m\u001b[0;34m)\u001b[0m\u001b[0;34m:\u001b[0m\u001b[0;34m\u001b[0m\u001b[0;34m\u001b[0m\u001b[0m\n\u001b[0;32m----> 8\u001b[0;31m     \u001b[0;32massert\u001b[0m \u001b[0mresult\u001b[0m \u001b[0;34m==\u001b[0m \u001b[0;34m\"PASS\"\u001b[0m\u001b[0;34m,\u001b[0m \u001b[0;34mf\"Test case {i} failed\"\u001b[0m\u001b[0;34m\u001b[0m\u001b[0;34m\u001b[0m\u001b[0m\n\u001b[0m",
            "\u001b[0;31mAssertionError\u001b[0m: Test case 2 failed"
          ]
        }
      ]
    },
    {
      "cell_type": "code",
      "execution_count": 4,
      "metadata": {
        "colab": {
          "base_uri": "https://localhost:8080/",
          "height": 35
        },
        "id": "1IGnvGUhP2yX",
        "outputId": "b7f19cac-d191-492d-dcb6-7539f33b81d2"
      },
      "outputs": [
        {
          "output_type": "execute_result",
          "data": {
            "text/plain": [
              "'b is greator than a'"
            ],
            "application/vnd.google.colaboratory.intrinsic+json": {
              "type": "string"
            }
          },
          "metadata": {},
          "execution_count": 4
        }
      ],
      "source": [
        "#if else comprehension\n",
        "a=20\n",
        "b=30\n",
        "print('a is greater than b ') if(a>b) else print('a is equal to b') if(a==b) else('b is greator than a')"
      ]
    },
    {
      "cell_type": "code",
      "source": [],
      "metadata": {
        "id": "oyQ5VWcQSmkL"
      },
      "execution_count": null,
      "outputs": []
    }
  ]
}