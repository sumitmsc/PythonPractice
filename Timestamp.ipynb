{
  "nbformat": 4,
  "nbformat_minor": 0,
  "metadata": {
    "colab": {
      "provenance": [],
      "authorship_tag": "ABX9TyO6NxzbtiHRvyvl2u4eUSqr",
      "include_colab_link": true
    },
    "kernelspec": {
      "name": "python3",
      "display_name": "Python 3"
    },
    "language_info": {
      "name": "python"
    }
  },
  "cells": [
    {
      "cell_type": "markdown",
      "metadata": {
        "id": "view-in-github",
        "colab_type": "text"
      },
      "source": [
        "<a href=\"https://colab.research.google.com/github/sumitmsc/PythonPractice/blob/main/Timestamp.ipynb\" target=\"_parent\"><img src=\"https://colab.research.google.com/assets/colab-badge.svg\" alt=\"Open In Colab\"/></a>"
      ]
    },
    {
      "cell_type": "code",
      "source": [
        "#timestamp\n",
        "import time\n",
        "\n",
        "timestamp=time.strftime('%H:%M:%S')\n",
        "print(timestamp)\n",
        "\n",
        "timestamp=time.strftime('%H')\n",
        "print(timestamp)\n",
        "\n",
        "timestamp=time.strftime('%M')\n",
        "print(timestamp)\n",
        "\n",
        "timestamp=time.strftime('%S')\n",
        "print(timestamp)"
      ],
      "metadata": {
        "colab": {
          "base_uri": "https://localhost:8080/"
        },
        "id": "HfCxrXK4qMyc",
        "outputId": "642673c7-3b60-4459-f6c8-cb0f6ddf29d9"
      },
      "execution_count": null,
      "outputs": [
        {
          "output_type": "stream",
          "name": "stdout",
          "text": [
            "09:51:11\n",
            "09\n",
            "51\n",
            "11\n"
          ]
        }
      ]
    },
    {
      "cell_type": "code",
      "source": [
        "#Programt to check time and print Good Morning /noon /night accordingly\n",
        "import time\n",
        "t=time.strftime('%H:%M:%S')\n",
        "hour=int(time.strftime('%H'))\n",
        "print(hour)\n",
        "\n",
        "if(hour>=0 and hour<12):\n",
        "  print('Good Morning Sir!')\n",
        "elif(hour>12 and hour<17):\n",
        "  print('Good Afternoon Sir!')\n",
        "elif(hour>=17 and hour<0):\n",
        "  print('Good Night Sir!')"
      ],
      "metadata": {
        "colab": {
          "base_uri": "https://localhost:8080/"
        },
        "id": "WTJNItNwr6bh",
        "outputId": "15875363-0b2c-4c64-f292-aa8abde2a744"
      },
      "execution_count": null,
      "outputs": [
        {
          "output_type": "stream",
          "name": "stdout",
          "text": [
            "9\n",
            "Good Morning Sir!\n"
          ]
        }
      ]
    },
    {
      "cell_type": "code",
      "source": [
        "# format method and F string\n",
        "\n",
        "name='My name is {0} and I am from {1}'\n",
        "country='INDIA'\n",
        "name='Sumit'\n",
        "n=name.format('Sumit','INDIA')\n",
        "\n",
        "print(n)\n",
        "\n",
        "#F-String\n",
        "country='INDIA'\n",
        "name='Sumit'\n",
        "\n",
        "print(f'my name is {{name}} and I am from {{country}}')# Use of {{}} to pring like {name}\n",
        "\n",
        "price=49.444444\n",
        "print(f'Price is {price:.2f}') #decimal points"
      ],
      "metadata": {
        "colab": {
          "base_uri": "https://localhost:8080/"
        },
        "id": "vJl3zYUfugN_",
        "outputId": "fac6cbc9-cbba-4aa4-8277-4cff60aee1ac"
      },
      "execution_count": null,
      "outputs": [
        {
          "output_type": "stream",
          "name": "stdout",
          "text": [
            "Sumit\n",
            "my name is {name} and I am from {country}\n",
            "Price is 49.44\n"
          ]
        }
      ]
    },
    {
      "cell_type": "markdown",
      "source": [
        "🧩 What is a Docstring in Python?\n",
        "\n",
        "A docstring (documentation string) is a multi-line string written just below a function, class, or module definition to describe what it does.\n",
        "\n",
        "It’s enclosed in triple quotes (\"\"\" ... \"\"\") and helps anyone reading the code understand its purpose without reading the entire logic.\n"
      ],
      "metadata": {
        "id": "-zrTcOGlcB_1"
      }
    },
    {
      "cell_type": "code",
      "source": [
        "#Docstrings\n",
        "\n",
        "\n",
        "def square(n):\n",
        "  ''' Takes in a number n , returns the square of n'''\n",
        "  print(n**2)\n",
        "\n",
        "square(5)\n",
        "print(square.__doc__)"
      ],
      "metadata": {
        "colab": {
          "base_uri": "https://localhost:8080/"
        },
        "id": "llPsKWfjxXhy",
        "outputId": "7f6b79fb-dd6b-48e5-e8af-01fa0cf7ee4b"
      },
      "execution_count": null,
      "outputs": [
        {
          "output_type": "stream",
          "name": "stdout",
          "text": [
            "25\n",
            " Takes in a number n , returns the square of n\n"
          ]
        }
      ]
    },
    {
      "cell_type": "code",
      "source": [
        "def add_numbers(a, b):\n",
        "    \"\"\"\n",
        "    This function takes two numbers as input\n",
        "    and returns their sum.\n",
        "    \"\"\"\n",
        "    return a + b\n",
        "print(add_numbers.__doc__)\n",
        "#The docstring describes what the function does, what parameters it takes, and what it returns."
      ],
      "metadata": {
        "id": "FBe-GAi3v5yw",
        "colab": {
          "base_uri": "https://localhost:8080/"
        },
        "outputId": "4af18893-0c90-43b9-de71-9c1e5537b216"
      },
      "execution_count": 3,
      "outputs": [
        {
          "output_type": "stream",
          "name": "stdout",
          "text": [
            "\n",
            "    This function takes two numbers as input\n",
            "    and returns their sum.\n",
            "    \n"
          ]
        }
      ]
    },
    {
      "cell_type": "markdown",
      "source": [
        "Example: Using help()\n",
        "\n",
        "You can view docstrings using Python’s built-in help() function:"
      ],
      "metadata": {
        "id": "HXdaST4tdNGf"
      }
    },
    {
      "cell_type": "code",
      "source": [
        "class Calculator:\n",
        "    \"\"\"\n",
        "    Calculator class for performing basic arithmetic operations.\n",
        "    Methods:\n",
        "        add(a, b): returns sum\n",
        "        subtract(a, b): returns difference\n",
        "    \"\"\"\n",
        "\n",
        "    def add(self, a, b):\n",
        "        \"\"\"Return the sum of two numbers.\"\"\"\n",
        "        return a + b\n",
        "\n",
        "    def subtract(self, a, b):\n",
        "        \"\"\"Return the difference of two numbers.\"\"\"\n",
        "        return a - b\n",
        "help(add_numbers)"
      ],
      "metadata": {
        "colab": {
          "base_uri": "https://localhost:8080/"
        },
        "id": "_FDEe_sFdWQ-",
        "outputId": "c779dd51-ab56-4b44-acf7-ab566802eb29"
      },
      "execution_count": 4,
      "outputs": [
        {
          "output_type": "stream",
          "name": "stdout",
          "text": [
            "Help on function add_numbers in module __main__:\n",
            "\n",
            "add_numbers(a, b)\n",
            "    This function takes two numbers as input\n",
            "    and returns their sum.\n",
            "\n"
          ]
        }
      ]
    },
    {
      "cell_type": "markdown",
      "source": [
        "✅ In Summary\n",
        "\n",
        "A docstring is a multi-line descriptive string placed inside functions, classes, or modules.\n",
        "\n",
        "It’s used to document what the code does.\n",
        "\n",
        "You can access it with __doc__ or help()\n",
        "\n",
        "It’s best practice to always include it in production-quality or automation testing code."
      ],
      "metadata": {
        "id": "7PkKKbWNeZ5i"
      }
    }
  ]
}