{
  "nbformat": 4,
  "nbformat_minor": 0,
  "metadata": {
    "colab": {
      "provenance": [],
      "authorship_tag": "ABX9TyPKRfRkVIFpNJYGIlE3IJhj",
      "include_colab_link": true
    },
    "kernelspec": {
      "name": "python3",
      "display_name": "Python 3"
    },
    "language_info": {
      "name": "python"
    }
  },
  "cells": [
    {
      "cell_type": "markdown",
      "metadata": {
        "id": "view-in-github",
        "colab_type": "text"
      },
      "source": [
        "<a href=\"https://colab.research.google.com/github/sumitmsc/PythonPractice/blob/main/Dictionary_%26_Dictionary_Methods.ipynb\" target=\"_parent\"><img src=\"https://colab.research.google.com/assets/colab-badge.svg\" alt=\"Open In Colab\"/></a>"
      ]
    },
    {
      "cell_type": "markdown",
      "source": [],
      "metadata": {
        "id": "HjUeKYVWIGgA"
      }
    },
    {
      "cell_type": "markdown",
      "source": [
        "Dictionary & Dictionary Methods\n",
        "A dictionary in Python is an unordered, mutable, and key-value pair collection. It allows efficient data retrieval and modification. Dictionaries in Python are ordered as of Python 3.7\n"
      ],
      "metadata": {
        "id": "yLkhnZ9rIH8u"
      }
    },
    {
      "cell_type": "code",
      "source": [
        "#Empty Dictionary\n",
        "empty_dict={}\n",
        "print(type(empty_dict))\n",
        "\n",
        "#Dictionary with key value pair\n",
        "student={\"name\":\"Amit\",\n",
        "   \"age\":35,\n",
        "   \"marks\":50}\n",
        "\n",
        "print('age data type',type(\"age\"))\n",
        "\n",
        "print(student)\n",
        "\n",
        "#Dictionary with dict() constructor\n",
        "print('Using dict() constructor')\n",
        "\n",
        "sutdent=dict(name='Sumit', age=35, marks=50)\n",
        "print(sutdent)\n",
        "print('age data type',type(\"age\"))\n",
        "\n"
      ],
      "metadata": {
        "colab": {
          "base_uri": "https://localhost:8080/"
        },
        "id": "yZKa3xK_IWt3",
        "outputId": "d1f4134a-e4ff-42c7-fbd1-a41056d16a0c"
      },
      "execution_count": 18,
      "outputs": [
        {
          "output_type": "stream",
          "name": "stdout",
          "text": [
            "<class 'dict'>\n",
            "age data type <class 'str'>\n",
            "{'name': 'Amit', 'age': 35, 'marks': 50}\n",
            "Using dict() constructor\n",
            "{'name': 'Sumit', 'age': 35, 'marks': 50}\n",
            "age data type <class 'str'>\n"
          ]
        }
      ]
    },
    {
      "cell_type": "code",
      "source": [
        "#Dictionary operations\n",
        "\n",
        "student={'name':'Sumit',\n",
        "        'age':'39',\n",
        "        'marks':80}\n",
        "\n",
        "print(type('39'))\n",
        "\n",
        "print(student)"
      ],
      "metadata": {
        "colab": {
          "base_uri": "https://localhost:8080/"
        },
        "id": "EBZvm6HKZkX7",
        "outputId": "faf8f92f-f837-45a4-d9f2-2eb91a2aa7ca"
      },
      "execution_count": 31,
      "outputs": [
        {
          "output_type": "stream",
          "name": "stdout",
          "text": [
            "<class 'str'>\n",
            "{'name': 'Sumit', 'age': '39', 'marks': 80}\n"
          ]
        }
      ]
    },
    {
      "cell_type": "code",
      "source": [
        "#Dictionary program for student details\n",
        "#Create an empty dictionary\n",
        "\n",
        "student={}\n",
        "\n",
        "student['name']=input('Enter The Name Of The Student:')\n",
        "student['age']=int(input('Enter the age of the student:'))\n",
        "student['grade']=input('Enter the grade of the student:')\n",
        "student['subject']=input('Enter the subject of the student')\n",
        "\n",
        "\n",
        "\n",
        "for i in student:\n",
        "    print(i,student[i])"
      ],
      "metadata": {
        "colab": {
          "base_uri": "https://localhost:8080/"
        },
        "id": "ZkLTbPungFr8",
        "outputId": "bdab0f69-86d3-445c-e910-c8dfea89df95"
      },
      "execution_count": 39,
      "outputs": [
        {
          "output_type": "stream",
          "name": "stdout",
          "text": [
            "Enter The Name Of The Student:Sumit\n",
            "Enter the age of the student:39\n",
            "Enter the grade of the student:A+\n",
            "Enter the subject of the studentpython\n",
            "name Sumit\n",
            "age 39\n",
            "grade A+\n",
            "subject python\n"
          ]
        }
      ]
    },
    {
      "cell_type": "code",
      "source": [
        "\n",
        "student = {\n",
        "    \"name\": \"Amit\",\n",
        "    \"age\": 35,\n",
        "    \"marks\": 50\n",
        "}\n",
        "\n",
        "# Access value\n",
        "print(student[\"name\"])  # Output: Amit\n",
        "\n",
        "# Add or update\n",
        "student[\"grade\"] = \"A\"\n",
        "\n",
        "# Delete a key\n",
        "#del student[\"marks\"]\n",
        "\n",
        "# Check if key exists\n",
        "print(\"age\" in student)  # Output: True\n",
        "\n",
        "# Loop through dictionary\n",
        "for key, value in student.items():\n",
        "    print(key, value)\n"
      ],
      "metadata": {
        "colab": {
          "base_uri": "https://localhost:8080/"
        },
        "id": "cKMH7dyOs8HI",
        "outputId": "14ac0436-bf58-40fa-92ad-766dc80283b6"
      },
      "execution_count": 41,
      "outputs": [
        {
          "output_type": "stream",
          "name": "stdout",
          "text": [
            "Amit\n",
            "True\n",
            "name Amit\n",
            "age 35\n",
            "marks 50\n",
            "grade A\n"
          ]
        }
      ]
    },
    {
      "cell_type": "code",
      "source": [
        "#Use of item(),key() and value()\n",
        "\n",
        "student={\n",
        "    \"name\":\"Amit\",\n",
        "    \"age\":35,\n",
        "    \"marks\":50\n",
        "}\n",
        "\n",
        "print(student.items())\n",
        "print(student.keys())\n",
        "print(student.values())\n"
      ],
      "metadata": {
        "colab": {
          "base_uri": "https://localhost:8080/"
        },
        "id": "Ki4p-T6I4Hj-",
        "outputId": "824e6758-f0a9-4fb4-db13-8625e8bb57ec"
      },
      "execution_count": 43,
      "outputs": [
        {
          "output_type": "stream",
          "name": "stdout",
          "text": [
            "dict_items([('name', 'Amit'), ('age', 35), ('marks', 50)])\n",
            "dict_keys(['name', 'age', 'marks'])\n",
            "dict_values(['Amit', 35, 50])\n"
          ]
        }
      ]
    }
  ]
}