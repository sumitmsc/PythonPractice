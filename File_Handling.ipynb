{
  "nbformat": 4,
  "nbformat_minor": 0,
  "metadata": {
    "colab": {
      "provenance": [],
      "authorship_tag": "ABX9TyMZ0BvC+9rQi3d+tE7Sk4Pd",
      "include_colab_link": true
    },
    "kernelspec": {
      "name": "python3",
      "display_name": "Python 3"
    },
    "language_info": {
      "name": "python"
    }
  },
  "cells": [
    {
      "cell_type": "markdown",
      "metadata": {
        "id": "view-in-github",
        "colab_type": "text"
      },
      "source": [
        "<a href=\"https://colab.research.google.com/github/sumitmsc/PythonPractice/blob/main/File_Handling.ipynb\" target=\"_parent\"><img src=\"https://colab.research.google.com/assets/colab-badge.svg\" alt=\"Open In Colab\"/></a>"
      ]
    },
    {
      "cell_type": "code",
      "execution_count": null,
      "metadata": {
        "id": "TVsgX0hbmdFH"
      },
      "outputs": [],
      "source": []
    },
    {
      "cell_type": "markdown",
      "source": [
        "**File handling** allows Python programs to read, write, and manipulate files stored on disk. Python provides built-in functions for working with files.\n",
        "\n",
        "Opening a File\n",
        "Python uses the open() function to open a file.\n",
        "Syntax\n",
        "file = open(\"filename\", mode)\n",
        "filename → The name of the file to open.\n",
        "mode → Specifies how the file should be opened."
      ],
      "metadata": {
        "id": "u_vUMLqRmwix"
      }
    },
    {
      "cell_type": "code",
      "source": [
        "#Create a file\n",
        "new_file=open('New_File.txt','r')\n",
        "print(new_file)\n",
        "#write_content=new_file.write('This is first line\\n This is second line\\n')\n",
        "read=new_file.readlines()\n",
        "print(read)\n",
        "new_file.close()"
      ],
      "metadata": {
        "colab": {
          "base_uri": "https://localhost:8080/"
        },
        "id": "NINababbnGx9",
        "outputId": "c79f5843-915f-4a75-b68d-7ccdb7b0cc11"
      },
      "execution_count": 48,
      "outputs": [
        {
          "output_type": "stream",
          "name": "stdout",
          "text": [
            "<_io.TextIOWrapper name='New_File.txt' mode='r' encoding='utf-8'>\n",
            "['This is first line\\n', ' This is second line\\n', 'This is the appended line using append modeThis is the appended line using append modeThis is the appended line using append mode\\n']\n"
          ]
        }
      ]
    },
    {
      "cell_type": "code",
      "source": [
        "#Reading fine\n",
        "file=open('New_File.txt','r')\n",
        "content=file.readlines()\n",
        "print(content)\n",
        "file.close()"
      ],
      "metadata": {
        "colab": {
          "base_uri": "https://localhost:8080/"
        },
        "id": "L9XC-SZEvngX",
        "outputId": "61bd0052-c579-48a4-9540-4d663e492bbd"
      },
      "execution_count": 49,
      "outputs": [
        {
          "output_type": "stream",
          "name": "stdout",
          "text": [
            "['This is first line\\n', ' This is second line\\n', 'This is the appended line using append modeThis is the appended line using append modeThis is the appended line using append mode\\n']\n"
          ]
        }
      ]
    },
    {
      "cell_type": "code",
      "source": [
        "#Append the existing file\n",
        "file=open('New_File.txt','a')\n",
        "append=file.write('This is the appended line using append mode\\n')\n",
        "print(append)\n",
        "file.close()"
      ],
      "metadata": {
        "colab": {
          "base_uri": "https://localhost:8080/"
        },
        "id": "P1-7vMYlv3RK",
        "outputId": "6ff624ef-5722-424c-8b0b-854274f20939"
      },
      "execution_count": 50,
      "outputs": [
        {
          "output_type": "stream",
          "name": "stdout",
          "text": [
            "44\n"
          ]
        }
      ]
    },
    {
      "cell_type": "code",
      "source": [
        "#Reading appended file\n",
        "file=open('New_File.txt','r')\n",
        "file1=file.read()\n",
        "print(file1)\n",
        "file.close()\n"
      ],
      "metadata": {
        "colab": {
          "base_uri": "https://localhost:8080/"
        },
        "id": "unwgLvTCwQLT",
        "outputId": "7d6e1edd-ed69-4961-cffe-d8e087fcb95e"
      },
      "execution_count": 52,
      "outputs": [
        {
          "output_type": "stream",
          "name": "stdout",
          "text": [
            "This is first line\n",
            " This is second line\n",
            "This is the appended line using append modeThis is the appended line using append modeThis is the appended line using append mode\n",
            "This is the appended line using append mode\n",
            "\n"
          ]
        }
      ]
    },
    {
      "cell_type": "code",
      "source": [
        "#Reading one line\n",
        "file=open('New_File.txt','r')\n",
        "file1=file.readline()\n",
        "print(file1)\n",
        "file.close()"
      ],
      "metadata": {
        "colab": {
          "base_uri": "https://localhost:8080/"
        },
        "id": "hYNv-O9VwysR",
        "outputId": "43f35425-d708-491a-adfc-07b11edb69b8"
      },
      "execution_count": 54,
      "outputs": [
        {
          "output_type": "stream",
          "name": "stdout",
          "text": [
            "This is first line\n",
            "\n"
          ]
        }
      ]
    },
    {
      "cell_type": "code",
      "source": [
        "#Writing to file\n",
        "file_write=open('New_File_Writing.txt','w')\n",
        "file_write.write('Hello World! \\n This is the new file for checking write function')\n",
        "print(file_write)\n",
        "file_write.close()"
      ],
      "metadata": {
        "colab": {
          "base_uri": "https://localhost:8080/"
        },
        "id": "rZEk2cnZx693",
        "outputId": "77f14cf0-f03f-4a16-9dfc-e17fecf9ce3c"
      },
      "execution_count": 56,
      "outputs": [
        {
          "output_type": "stream",
          "name": "stdout",
          "text": [
            "<_io.TextIOWrapper name='New_File_Writing.txt' mode='w' encoding='utf-8'>\n"
          ]
        }
      ]
    },
    {
      "cell_type": "code",
      "source": [
        "#reading the file\n",
        "file=open('New_File_Writing.txt','r')\n",
        "file_read=file.read()\n",
        "print(file_read)\n",
        "file.close()"
      ],
      "metadata": {
        "colab": {
          "base_uri": "https://localhost:8080/"
        },
        "id": "sMOfHgIlykyZ",
        "outputId": "720bff5b-6404-4340-a7c5-fcae86b7becc"
      },
      "execution_count": 63,
      "outputs": [
        {
          "output_type": "stream",
          "name": "stdout",
          "text": [
            "Hello World! \n",
            " This is the new file for checking write function\n"
          ]
        }
      ]
    },
    {
      "cell_type": "code",
      "source": [
        "#Program to write the lines in list to the file using writelines function\n",
        "\n",
        "lines=['Hi Learners!\\n','Welcome to Python \\n','File Handling']\n",
        "#Writing to file\n",
        "open_file=open('New_Writeline_List.txt','w')\n",
        "open_file.writelines(lines)\n",
        "open_file.close()\n",
        "#Reading the file\n",
        "file_open=open('New_Writeline_List.txt','r')\n",
        "read=file_open.read()\n",
        "print(read)\n",
        "file_open.close()\n",
        "#Appending the file\n",
        "file_app_open=open('New_Writeline_List.txt','a')\n",
        "file_app_open.write('\\n This is additional append lines')\n",
        "file_app_open.close()\n",
        "#Reading after append\n",
        "app_read=open('New_Writeline_List.txt','r')\n",
        "read=app_read.read()\n",
        "print(read)"
      ],
      "metadata": {
        "colab": {
          "base_uri": "https://localhost:8080/"
        },
        "id": "CWHmd_pPzhEx",
        "outputId": "53774d9a-1650-4f04-abc6-ee60dc72ac92"
      },
      "execution_count": 77,
      "outputs": [
        {
          "output_type": "stream",
          "name": "stdout",
          "text": [
            "Hi Learners!\n",
            "Welcome to Python \n",
            "File Handling\n",
            "Hi Learners!\n",
            "Welcome to Python \n",
            "File Handling\n",
            " This is additional append lines\n"
          ]
        }
      ]
    },
    {
      "cell_type": "code",
      "source": [
        "#Opening the files\n",
        "open_file=open('New_Writeline_List.txt','r')\n",
        "readfile=open_file.read()\n",
        "print(readfile)\n",
        "open_file.close()"
      ],
      "metadata": {
        "colab": {
          "base_uri": "https://localhost:8080/"
        },
        "id": "PXMRMPlT0zXi",
        "outputId": "02e8a7c3-ee3b-4aeb-cb68-de5cbd5b493d"
      },
      "execution_count": 78,
      "outputs": [
        {
          "output_type": "stream",
          "name": "stdout",
          "text": [
            "Hi Learners!\n",
            "Welcome to Python \n",
            "File Handling\n",
            " This is additional append lines\n"
          ]
        }
      ]
    },
    {
      "cell_type": "markdown",
      "source": [
        "Using with Statement (Best Practice)\n",
        "Using with open() ensures the file is automatically closed after execution."
      ],
      "metadata": {
        "id": "nidaJbfu4Bjc"
      }
    },
    {
      "cell_type": "code",
      "source": [
        "#Using with Statement (Best Practice)\n",
        "#Using with open() ensures the file is automatically closed after execution.\n",
        "\n",
        "with open('New_Writeline_List.txt','r') as file:\n",
        "  content=file.read()\n",
        "  print(content)"
      ],
      "metadata": {
        "colab": {
          "base_uri": "https://localhost:8080/"
        },
        "id": "oLerlhJZ4Cvq",
        "outputId": "fbbd3b87-3b8a-4a94-cd8d-cef6c84a062b"
      },
      "execution_count": 83,
      "outputs": [
        {
          "output_type": "stream",
          "name": "stdout",
          "text": [
            "Hi Learners!\n",
            "Welcome to Python \n",
            "File Handling\n",
            " This is additional append lines\n"
          ]
        }
      ]
    },
    {
      "cell_type": "markdown",
      "source": [
        "MethodReturnsUse Case\n",
        "\n",
        "read()Single stringWhole file at once\n",
        "\n",
        " 1. read()\n",
        "\n",
        "Reads the entire file content as a single string.\n",
        "Useful when you want to process the whole file at once.\n",
        "\n",
        "readline()One line (string)Line-by-line reading\n",
        "\n",
        "with open('file.txt', 'r') as f:\n",
        "    content = f.read()\n",
        "    print(content)\n",
        "\n",
        "readlines()List of stringsAll lines as list\n",
        "2. readline()\n",
        "\n",
        "Reads one line at a time from the file.\n",
        "Each call reads the next line.\n",
        "Useful for line-by-line processing.\n",
        "\n",
        "with open('file.txt', 'r') as f:\n",
        "    line1 = f.readline()\n",
        "    line2 = f.readline()\n",
        "    print(line1)\n",
        "    print(line2)\n",
        "\n",
        "\n",
        "3. readlines()\n",
        "\n",
        "Reads all lines and returns them as a list of strings.\n",
        "Each line is a separate element in the list.\n",
        "\n",
        "with open('file.txt', 'r') as f:\n",
        "    lines = f.readlines()\n",
        "    print(lines)"
      ],
      "metadata": {
        "id": "7OwBfR5F5Dbc"
      }
    }
  ]
}