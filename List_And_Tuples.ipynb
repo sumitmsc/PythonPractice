{
  "cells": [
    {
      "cell_type": "markdown",
      "metadata": {
        "id": "view-in-github",
        "colab_type": "text"
      },
      "source": [
        "<a href=\"https://colab.research.google.com/github/sumitmsc/PythonPractice/blob/main/List_And_Tuples.ipynb\" target=\"_parent\"><img src=\"https://colab.research.google.com/assets/colab-badge.svg\" alt=\"Open In Colab\"/></a>"
      ]
    },
    {
      "cell_type": "code",
      "execution_count": null,
      "metadata": {
        "id": "vjaWDD-g56_w"
      },
      "outputs": [],
      "source": []
    },
    {
      "cell_type": "code",
      "execution_count": null,
      "metadata": {
        "colab": {
          "base_uri": "https://localhost:8080/"
        },
        "id": "ojv7oDjs5-E6",
        "outputId": "18cf0072-ef8f-4c61-8d9c-55900b496da3"
      },
      "outputs": [
        {
          "name": "stdout",
          "output_type": "stream",
          "text": [
            "addition of 10 and 23 is ==> 33\n"
          ]
        }
      ],
      "source": [
        "a=10\n",
        "b=23\n",
        "result=a+b\n",
        "print(f\"addition of {a} and {b} is ==>\",result)"
      ]
    },
    {
      "cell_type": "code",
      "execution_count": null,
      "metadata": {
        "colab": {
          "base_uri": "https://localhost:8080/"
        },
        "id": "IOgPlsFp7bhk",
        "outputId": "3b19d70f-9531-413e-d50d-6704b49680b0"
      },
      "outputs": [
        {
          "name": "stdout",
          "output_type": "stream",
          "text": [
            "hello- New Cell\n"
          ]
        }
      ],
      "source": [
        "print(\"hello- New Cell\")"
      ]
    },
    {
      "cell_type": "code",
      "execution_count": null,
      "metadata": {
        "colab": {
          "base_uri": "https://localhost:8080/"
        },
        "id": "lH677ewR_SUb",
        "outputId": "621bbc25-2a89-4235-8a56-bc816f940fa9"
      },
      "outputs": [
        {
          "data": {
            "text/plain": [
              "int"
            ]
          },
          "execution_count": 17,
          "metadata": {},
          "output_type": "execute_result"
        }
      ],
      "source": [
        "a=10\n",
        "if a>10:\n",
        "  print(\"hello\")\n",
        "\n",
        "type(a)"
      ]
    },
    {
      "cell_type": "code",
      "execution_count": null,
      "metadata": {
        "colab": {
          "base_uri": "https://localhost:8080/"
        },
        "id": "nvXRmJ-TAXfQ",
        "outputId": "9c7cf0bc-7906-400a-fe3d-b8cd8499e7a8"
      },
      "outputs": [
        {
          "name": "stdout",
          "output_type": "stream",
          "text": [
            "10\n"
          ]
        },
        {
          "data": {
            "text/plain": [
              "str"
            ]
          },
          "execution_count": 18,
          "metadata": {},
          "output_type": "execute_result"
        }
      ],
      "source": [
        "y=str(a)\n",
        "print(y)\n",
        "type(y)"
      ]
    },
    {
      "cell_type": "code",
      "execution_count": null,
      "metadata": {
        "colab": {
          "base_uri": "https://localhost:8080/"
        },
        "id": "Hti0DRbiAuLu",
        "outputId": "73c714a6-90a1-422e-f859-4a8296dacc2e"
      },
      "outputs": [
        {
          "name": "stdout",
          "output_type": "stream",
          "text": [
            "23 10\n",
            "11642376\n",
            "11642792\n"
          ]
        }
      ],
      "source": [
        "Age=10\n",
        "age=23\n",
        "print(age,Age)\n",
        "print(id(Age))\n",
        "print(id(age))"
      ]
    },
    {
      "cell_type": "code",
      "execution_count": null,
      "metadata": {
        "id": "EEstyl3PO2D4"
      },
      "outputs": [],
      "source": []
    },
    {
      "cell_type": "markdown",
      "metadata": {
        "id": "YXDy3ikVNrGA"
      },
      "source": [
        "Arithmetic operators +,-*/,//(integer devision),**\n",
        "Logical operators and, or , not\n",
        "relational operators ->,<,<=,>=,!=,==\n",
        "Unary operators are not available\n",
        "Bolean true false\\\n",
        "Bitwise- &,|\n",
        "membership operators in, not in\n",
        "is, is not\n",
        "\n"
      ]
    },
    {
      "cell_type": "code",
      "execution_count": null,
      "metadata": {
        "colab": {
          "base_uri": "https://localhost:8080/"
        },
        "id": "hNQrutGRO4bQ",
        "outputId": "35cf7e4b-2e2b-4189-8c46-f9d37d4781d1"
      },
      "outputs": [
        {
          "name": "stdout",
          "output_type": "stream",
          "text": [
            "32\n",
            "technical devision 0.4\n",
            "integer devision/floor 0\n"
          ]
        }
      ],
      "source": [
        "a=2\n",
        "b=5\n",
        "print(a**b)# a power of b\n",
        "\n",
        "print('technical devision', a/b)\n",
        "print('integer/floor devision',a//b)"
      ]
    },
    {
      "cell_type": "code",
      "execution_count": null,
      "metadata": {
        "colab": {
          "base_uri": "https://localhost:8080/"
        },
        "id": "iVAvIrokg22k",
        "outputId": "dd051e5a-78f3-4433-db57-124b644ba8b1"
      },
      "outputs": [
        {
          "name": "stdout",
          "output_type": "stream",
          "text": [
            "Python 3.12.11\n"
          ]
        }
      ],
      "source": [
        "!python --version\n"
      ]
    },
    {
      "cell_type": "code",
      "execution_count": null,
      "metadata": {
        "colab": {
          "base_uri": "https://localhost:8080/"
        },
        "id": "hWYrSofsC6SI",
        "outputId": "e2f6f293-4b52-45a2-fc27-0df2e9f6a83c"
      },
      "outputs": [
        {
          "name": "stdout",
          "output_type": "stream",
          "text": [
            "11642376\n",
            "11642376\n",
            "11642376\n",
            "\n",
            "11643656\n",
            "0xb1a608\n",
            "0xb1ab08\n",
            "0xb1a608\n"
          ]
        }
      ],
      "source": [
        "a=10\n",
        "b=10\n",
        "c=10\n",
        "print(id(a))\n",
        "print(id(b))\n",
        "print(id(c))\n",
        "\n",
        "b=50\n",
        "print()\n",
        "print(id(b))\n",
        "\n",
        "print(hex(id(a)))\n",
        "print(hex(id(b)))\n",
        "print(hex(id(c)))"
      ]
    },
    {
      "cell_type": "markdown",
      "metadata": {
        "id": "EGAanEY_haDT"
      },
      "source": []
    },
    {
      "cell_type": "code",
      "execution_count": null,
      "metadata": {
        "colab": {
          "base_uri": "https://localhost:8080/"
        },
        "id": "OlcKgGu8hezt",
        "outputId": "13289036-2601-450e-f5b8-39b87b75639a"
      },
      "outputs": [
        {
          "name": "stdout",
          "output_type": "stream",
          "text": [
            "21\n"
          ]
        }
      ],
      "source": [
        "#use of \\ for better readablilty\n",
        "total=1+2+3+\\\n",
        "4+5+6\n",
        "print(total)"
      ]
    },
    {
      "cell_type": "code",
      "execution_count": null,
      "metadata": {
        "colab": {
          "base_uri": "https://localhost:8080/"
        },
        "id": "h5Dl4aDdjcdR",
        "outputId": "13301f06-0784-45d1-c5a5-2af083a74779"
      },
      "outputs": [
        {
          "name": "stdout",
          "output_type": "stream",
          "text": [
            "100 11.11 Sumit\n",
            "<class 'int'>\n",
            "<class 'float'>\n",
            "<class 'str'>\n",
            "11.11\n",
            "Sumit\n",
            "12\n"
          ]
        }
      ],
      "source": [
        "#Program for checking dynamic nature of python, dynamically typed language\n",
        "counter=100\n",
        "miles=11.11\n",
        "name='Sumit'\n",
        "print(counter, miles, name)\n",
        "print(type(counter))\n",
        "print(type(miles))\n",
        "print(type(name))\n",
        "#del use\n",
        "\n",
        "#del counter\n",
        "print(miles)\n",
        "print(name)\n",
        "counter=12\n",
        "print(counter)"
      ]
    },
    {
      "cell_type": "code",
      "execution_count": null,
      "metadata": {
        "colab": {
          "base_uri": "https://localhost:8080/"
        },
        "id": "2U5lWS_hi0wq",
        "outputId": "34adb144-f27f-4621-b51f-8ebdef3a0915"
      },
      "outputs": [
        {
          "name": "stdout",
          "output_type": "stream",
          "text": [
            "Today we are learning explicit continuationand it will give error\n"
          ]
        }
      ],
      "source": [
        "#Explicit Continuation\n",
        "s=\"Today we are learning explicit continuation\"\\\n",
        "\"and it will give error\"\n",
        "print(s)"
      ]
    },
    {
      "cell_type": "code",
      "execution_count": null,
      "metadata": {
        "colab": {
          "base_uri": "https://localhost:8080/"
        },
        "id": "j39NqkcliVlB",
        "outputId": "64d68a05-686c-45bd-cf91-8f86fdd4c1da"
      },
      "outputs": [
        {
          "name": "stdout",
          "output_type": "stream",
          "text": [
            "[1, 2, 3, 4, 5, 6]\n"
          ]
        }
      ],
      "source": [
        "#implicit continuation\n",
        "numbers=[1,2,3,\n",
        "         4,5,6]\n",
        "print(numbers)"
      ]
    },
    {
      "cell_type": "code",
      "execution_count": null,
      "metadata": {
        "colab": {
          "base_uri": "https://localhost:8080/"
        },
        "id": "kYXJMDKX2E4q",
        "outputId": "647adfb8-9cfb-4dee-fba7-751907ebeedd"
      },
      "outputs": [
        {
          "name": "stdout",
          "output_type": "stream",
          "text": [
            "3\n",
            "3.3333333333333335\n",
            "1000\n",
            "checking identity for 10 is equal to 3==> False\n",
            "checking identity for 10 is not equal to 3==> True\n",
            "Membershio operator example\n",
            "True\n",
            "False\n"
          ]
        }
      ],
      "source": [
        "#Operators in Python\n",
        "a=10\n",
        "b=3\n",
        "print(a//b)#floor=nearest lower integer\n",
        "print(a/b)\n",
        "print(a**b)#10 to the power of 3\n",
        "print(f'checking identity for {a} is equal to {b}==>',a is b)#Identity operator\n",
        "print(f'checking identity for {a} is not equal to {b}==>',a is not b)#identity operator true\n",
        "#Membership operators\n",
        "str='hello'\n",
        "print('Membershio operator example')\n",
        "print('e' in str)\n",
        "print('e' not in str)"
      ]
    },
    {
      "cell_type": "code",
      "execution_count": null,
      "metadata": {
        "colab": {
          "base_uri": "https://localhost:8080/"
        },
        "id": "GLsbSvPh-Pa8",
        "outputId": "61f9a063-fb20-41be-a9f3-06a24d178b84"
      },
      "outputs": [
        {
          "name": "stdout",
          "output_type": "stream",
          "text": [
            "Type help() for interactive help, or help(object) for help about object.\n",
            "Help on built-in function print in module builtins:\n",
            "\n",
            "print(*args, sep=' ', end='\\n', file=None, flush=False)\n",
            "    Prints the values to a stream, or to sys.stdout by default.\n",
            "\n",
            "    sep\n",
            "      string inserted between values, default a space.\n",
            "    end\n",
            "      string appended after the last value, default a newline.\n",
            "    file\n",
            "      a file-like object (stream); defaults to the current sys.stdout.\n",
            "    flush\n",
            "      whether to forcibly flush the stream.\n",
            "\n"
          ]
        }
      ],
      "source": [
        "print(help)\n",
        "help(print)"
      ]
    },
    {
      "cell_type": "code",
      "execution_count": null,
      "metadata": {
        "colab": {
          "base_uri": "https://localhost:8080/"
        },
        "id": "SjJKOywg8XgX",
        "outputId": "c45a2026-321f-4b6b-ced2-bf21fe4e99e2"
      },
      "outputs": [
        {
          "name": "stdout",
          "output_type": "stream",
          "text": [
            "Please enter the word you want to search\n",
            "h\n",
            "you are searching the word h in the string\n",
            "True\n"
          ]
        }
      ],
      "source": [
        "#Use of membership opertor to check the word in given string\n",
        "\n",
        "str='hello'\n",
        "print('Please enter the word you want to search')\n",
        "s=input()\n",
        "print(f'you are searching the word {s} in the string')\n",
        "'''if s in str:\n",
        "   print(f'{s} is avalable in string')\n",
        "else:\n",
        "   print(f'{s} is not available in string')\n",
        "'''\n",
        "print(s in str)\n"
      ]
    },
    {
      "cell_type": "code",
      "execution_count": null,
      "metadata": {
        "colab": {
          "base_uri": "https://localhost:8080/"
        },
        "id": "MR5ziztLAKaK",
        "outputId": "7c228440-0bec-48c9-bc1a-5fb8e21ee24d"
      },
      "outputs": [
        {
          "name": "stdout",
          "output_type": "stream",
          "text": [
            "False\n"
          ]
        }
      ],
      "source": [
        "#Use of identity operator is , is not\n",
        "\n",
        "a=10\n",
        "b=10\n",
        "print(a is not b)"
      ]
    },
    {
      "cell_type": "code",
      "execution_count": null,
      "metadata": {
        "colab": {
          "base_uri": "https://localhost:8080/"
        },
        "id": "GLHul061CuDZ",
        "outputId": "4b7b7b8d-57e1-4276-d8f8-34f74cf80d8c"
      },
      "outputs": [
        {
          "name": "stdout",
          "output_type": "stream",
          "text": [
            "<class 'int'>\n",
            "<class 'int'>\n",
            "11642376\n",
            "11642376\n",
            "12\n",
            "11642440\n"
          ]
        }
      ],
      "source": [
        "#Class of a variable\n",
        "a=10\n",
        "b=10\n",
        "print(type(a))\n",
        "print(type(b))\n",
        "print(id(a))\n",
        "print(id(b))\n",
        "a=a+2\n",
        "print(a)\n",
        "print(id(a))\n"
      ]
    },
    {
      "cell_type": "code",
      "execution_count": null,
      "metadata": {
        "colab": {
          "base_uri": "https://localhost:8080/"
        },
        "id": "sZGq6DkStm26",
        "outputId": "a9f891a6-c39b-4841-ec0b-b0c4536c9315"
      },
      "outputs": [
        {
          "name": "stdout",
          "output_type": "stream",
          "text": [
            "rogra\n",
            "rr\n"
          ]
        }
      ],
      "source": [
        "#Slicing (start:end:step)\n",
        "str=\"Program\"\n",
        "print(str[1:6])#Upper limit is not inclusive thats why rogra str[lower limit: upper limit -1]\n",
        "#Now we are checking the step 2 result it should be r g a as those are situated in the range 1:6 with steps 2\n",
        "print(str[1:6:3])"
      ]
    },
    {
      "cell_type": "code",
      "execution_count": null,
      "metadata": {
        "colab": {
          "base_uri": "https://localhost:8080/"
        },
        "id": "gRFIyOrzXuqB",
        "outputId": "d2e1205e-36aa-4ce8-d247-b38336ff6abc"
      },
      "outputs": [
        {
          "name": "stdout",
          "output_type": "stream",
          "text": [
            "enter the string Nitin\n",
            "not palindrom\n"
          ]
        }
      ],
      "source": [
        "#Check for Palindrom\n",
        "s=input(\"enter the string \").lower()\n",
        "if s==s[::-1]:\n",
        "  print(\"palindrom\")\n",
        "else:\n",
        "  print(\"not palindrom\")\n",
        "\n",
        "  '''s = input(\"enter the string \")\n",
        "\n",
        "This line asks the user to type a string.\n",
        "\n",
        "Whatever you type will be stored in the variable s.\n",
        "\n",
        "Example: if you type madam, then s = \"madam\".\n",
        "\n",
        "s[::-1]\n",
        "\n",
        "This is Python slicing.\n",
        "\n",
        "It means: take the string s and reverse it.\n",
        "\n",
        "Breakdown:\n",
        "\n",
        "s[start:stop:step]\n",
        "\n",
        "Here, start and stop are empty → it takes the whole string.\n",
        "\n",
        "step = -1 → means \"go backwards\".\n",
        "\n",
        "So if s = \"madam\", then s[::-1] = \"madam\" (same when reversed).\n",
        "\n",
        "if s == s[::-1]:\n",
        "\n",
        "This compares the original string to its reversed version.\n",
        "\n",
        "If both are the same → it’s a palindrome.\n",
        "\n",
        "Example:\n",
        "\n",
        "\"madam\" == \"madam\" ✅ (palindrome)\n",
        "\n",
        "\"hello\" == \"olleh\" ❌ (not palindrome)\n",
        "\n",
        "print(\"palindrom\") / print(\"not palindrom\")\n",
        "\n",
        "Based on the condition:\n",
        "\n",
        "If true → prints palindrom\n",
        "\n",
        "If false → prints not palindrom'''\n"
      ]
    },
    {
      "cell_type": "code",
      "execution_count": null,
      "metadata": {
        "colab": {
          "base_uri": "https://localhost:8080/"
        },
        "id": "kBu4i7EbZOl0",
        "outputId": "7a54634d-0c21-4420-9c11-3f80898be122"
      },
      "outputs": [
        {
          "name": "stdout",
          "output_type": "stream",
          "text": [
            "enter the string to check if the string is  palindrom or not Nitin\n",
            "You have entered string Nitin and string is Not Palindrom\n"
          ]
        }
      ],
      "source": [
        "#Program to check palindrom or not\n",
        "s=input('enter the string to check if the string is  palindrom or not ')\n",
        "if s==s[::-1]:\n",
        "  print(f'You have entered string {s} and string is Palindrom')\n",
        "else:\n",
        "  print(f'You have entered string {s} and string is Not Palindrom')\n",
        "\n"
      ]
    },
    {
      "cell_type": "code",
      "execution_count": null,
      "metadata": {
        "colab": {
          "base_uri": "https://localhost:8080/"
        },
        "id": "edLIzpIbbTe4",
        "outputId": "2c59889c-e5a3-433d-a6ff-bf3c79382e58"
      },
      "outputs": [
        {
          "name": "stdout",
          "output_type": "stream",
          "text": [
            "\n"
          ]
        }
      ],
      "source": [
        "str='program'\n",
        "str=str[-1:-2]\n",
        "print(str)"
      ]
    },
    {
      "cell_type": "code",
      "execution_count": null,
      "metadata": {
        "colab": {
          "base_uri": "https://localhost:8080/"
        },
        "id": "3WDu_QJbc4KX",
        "outputId": "c5d5aa49-26eb-4dde-ee0a-066344e0b6eb"
      },
      "outputs": [
        {
          "name": "stdout",
          "output_type": "stream",
          "text": [
            "hello\n",
            "Hllo\n",
            "Checking replace function\n",
            "HelloH\n",
            "helloh\n"
          ]
        }
      ],
      "source": [
        "#String immutability\n",
        "a=\"hello\"\n",
        "print(a)\n",
        "a=\"H\" + a[2:]\n",
        "print(a)\n"
      ]
    },
    {
      "cell_type": "code",
      "execution_count": null,
      "metadata": {
        "colab": {
          "base_uri": "https://localhost:8080/"
        },
        "id": "V9qjGYV0e86Z",
        "outputId": "4b1f42e0-915c-4121-a1a9-881b59bbdd31"
      },
      "outputs": [
        {
          "name": "stdout",
          "output_type": "stream",
          "text": [
            "Checking replace function\n",
            "HelloH\n",
            "helloh\n"
          ]
        }
      ],
      "source": [
        "#checking replace function\n",
        "print('Checking replace function')\n",
        "a='helloh'\n",
        "a1=a.replace('h','H')\n",
        "print(a1)\n",
        "print(a)"
      ]
    },
    {
      "cell_type": "code",
      "execution_count": null,
      "metadata": {
        "colab": {
          "base_uri": "https://localhost:8080/"
        },
        "id": "zN_TTQw_fOIq",
        "outputId": "f75ccef7-5119-40c8-96d1-567767555d00"
      },
      "outputs": [
        {
          "name": "stdout",
          "output_type": "stream",
          "text": [
            "Checking replace function\n",
            "HelloH\n",
            "helloh\n",
            "6\n",
            "HELLOH\n",
            "helloh\n",
            "Helloh\n"
          ]
        }
      ],
      "source": [
        "\n",
        "#checking replace function\n",
        "print('Checking replace function')\n",
        "a='helloh'\n",
        "a1=a.replace('h','H')\n",
        "print(a1)\n",
        "print(a)\n",
        "print(len(a))\n",
        "print(a.upper())\n",
        "print(a.lower())\n",
        "print(a.capitalize())\n"
      ]
    },
    {
      "cell_type": "code",
      "execution_count": null,
      "metadata": {
        "colab": {
          "base_uri": "https://localhost:8080/"
        },
        "id": "cmfT0eNxfsh1",
        "outputId": "3b58bef6-9353-4d75-f3a0-e07b335f5153"
      },
      "outputs": [
        {
          "name": "stdout",
          "output_type": "stream",
          "text": [
            "how\n",
            "Hello how are you\n",
            "Hello#how#are#you\n",
            "Hello,how,are,you\n"
          ]
        }
      ],
      "source": [
        "#Join function\n",
        "l=[\"Hello\",\"how\",\"are\",\"you\"]\n",
        "print(l[1])\n",
        "print(\" \".join(l))#Seperated by space\n",
        "print(\"#\".join(l))#Seperated by #\n",
        "print(\",\".join(l))#Seperated by ,\n"
      ]
    },
    {
      "cell_type": "code",
      "execution_count": null,
      "metadata": {
        "colab": {
          "base_uri": "https://localhost:8080/"
        },
        "id": "LSlMZMEegskj",
        "outputId": "07d4970b-58e9-4451-805e-0834626c6d72"
      },
      "outputs": [
        {
          "name": "stdout",
          "output_type": "stream",
          "text": [
            "heelo sumit heelo sumit heelo sumit \n",
            "**********\n"
          ]
        }
      ],
      "source": [
        "#concatination symbol\n",
        "a='heelo'\n",
        "b='sumit'\n",
        "c=a + \" \" + b + \" \"\n",
        "print(c*3)\n",
        "print('*'*10)#in strings * is repitation operator"
      ]
    },
    {
      "cell_type": "code",
      "execution_count": null,
      "metadata": {
        "colab": {
          "base_uri": "https://localhost:8080/"
        },
        "id": "50q9OT--iUqa",
        "outputId": "86540821-f64c-49ca-f1c5-309a66dc0a96"
      },
      "outputs": [
        {
          "name": "stdout",
          "output_type": "stream",
          "text": [
            "<class 'list'>\n",
            "[1, 2, 3, 4, 5]\n",
            "[1, 2, 3, 4, 5] [10.3, 20, 30, 'Rakhee']\n",
            "<class 'str'>\n",
            "Rakhee\n",
            "['hello', 'how', 'are', 'you']\n",
            "hello how are you\n"
          ]
        }
      ],
      "source": [
        "#List uses []\n",
        "#List are mutable l1[2]='NEW' is posible/replace ment is possible (assignment operator)\n",
        "#\n",
        "l=[1,2,3,4,5]\n",
        "l1=list()\n",
        "print(type(l))\n",
        "print(l)\n",
        "l1=[10.3,20,30,'Rakhee']#Multiple type of data can be stored in the list\n",
        "print(l,l1)\n",
        "print(type(l1[3]))\n",
        "print(l1[-1])\n",
        "st=[\"hello\",\"how\",\"are\",\"you\"]\n",
        "print(st)\n",
        "s1=\" \".join(st)# Converting list into string by using join method\n",
        "print(s1)"
      ]
    },
    {
      "cell_type": "code",
      "execution_count": null,
      "metadata": {
        "colab": {
          "base_uri": "https://localhost:8080/",
          "height": 263
        },
        "id": "UFOdHu7yktqX",
        "outputId": "9d81b319-e670-4b36-fb50-d3de89577fac"
      },
      "outputs": [
        {
          "name": "stdout",
          "output_type": "stream",
          "text": [
            "<class 'tuple'>\n",
            "<class 'tuple'>\n",
            "(1, 2, 3, 4)\n",
            "(10.5, 34, 'Rakhee')\n"
          ]
        },
        {
          "ename": "TypeError",
          "evalue": "'tuple' object does not support item assignment",
          "output_type": "error",
          "traceback": [
            "\u001b[0;31m---------------------------------------------------------------------------\u001b[0m",
            "\u001b[0;31mTypeError\u001b[0m                                 Traceback (most recent call last)",
            "\u001b[0;32m/tmp/ipython-input-765083079.py\u001b[0m in \u001b[0;36m<cell line: 0>\u001b[0;34m()\u001b[0m\n\u001b[1;32m     11\u001b[0m \u001b[0mprint\u001b[0m\u001b[0;34m(\u001b[0m\u001b[0mt1\u001b[0m\u001b[0;34m)\u001b[0m\u001b[0;34m\u001b[0m\u001b[0;34m\u001b[0m\u001b[0m\n\u001b[1;32m     12\u001b[0m \u001b[0;34m\u001b[0m\u001b[0m\n\u001b[0;32m---> 13\u001b[0;31m \u001b[0mt1\u001b[0m\u001b[0;34m[\u001b[0m\u001b[0;36m2\u001b[0m\u001b[0;34m]\u001b[0m\u001b[0;34m=\u001b[0m\u001b[0;34m'New'\u001b[0m\u001b[0;34m\u001b[0m\u001b[0;34m\u001b[0m\u001b[0m\n\u001b[0m\u001b[1;32m     14\u001b[0m \u001b[0mprint\u001b[0m\u001b[0;34m(\u001b[0m\u001b[0mt1\u001b[0m\u001b[0;34m)\u001b[0m\u001b[0;34m\u001b[0m\u001b[0;34m\u001b[0m\u001b[0m\n",
            "\u001b[0;31mTypeError\u001b[0m: 'tuple' object does not support item assignment"
          ]
        }
      ],
      "source": [
        "#tuple\n",
        "#tuple dose not support the assignamet operator\n",
        "#Tuple/strings are immutable\n",
        "t=(1,2,3,4)\n",
        "t1=tuple()#Constructor\n",
        "print(type(t))\n",
        "print(type(t1))\n",
        "t1=(10.5,34,\"Rakhee\")\n",
        "\n",
        "print(t)\n",
        "print(t1)\n",
        "\n",
        "t1[2]='New'\n",
        "print(t1)"
      ]
    },
    {
      "cell_type": "code",
      "execution_count": null,
      "metadata": {
        "colab": {
          "base_uri": "https://localhost:8080/"
        },
        "id": "IBoSJqymnWzs",
        "outputId": "f62712c7-189f-48a9-dcfa-d8efecff2ff7"
      },
      "outputs": [
        {
          "output_type": "stream",
          "name": "stdout",
          "text": [
            "<class 'set'>\n",
            "<class 'set'>\n",
            "{1, 2, 3, 4, 5}\n",
            "{1, 2, 3, 4, 5, 8}\n",
            "after removing {1, 2, 4, 5, 8}\n",
            "{}\n",
            "<class 'dict'>\n"
          ]
        }
      ],
      "source": [
        "#Set\n",
        "#sets are mutable\n",
        "s=set() #set constructor\n",
        "print(type(s))\n",
        "s1={1,2,3,3,3, 4,5} #set must have comma seperation ow s1={} empty it is a dictionary also it will show single value of duplicate data\n",
        "print(type(s1))\n",
        "print(s1)\n",
        "s1.add(8)\n",
        "print(s1)\n",
        "s1.remove(3)\n",
        "print(f'after removing',s1)\n",
        "s2={}\n",
        "print(s2)\n",
        "print(type(s2))"
      ]
    },
    {
      "cell_type": "code",
      "source": [],
      "metadata": {
        "id": "hOaiNMw3rIPf"
      },
      "execution_count": null,
      "outputs": []
    },
    {
      "cell_type": "code",
      "source": [],
      "metadata": {
        "id": "7qirlpB5ovUV"
      },
      "execution_count": null,
      "outputs": []
    },
    {
      "cell_type": "code",
      "execution_count": null,
      "metadata": {
        "colab": {
          "base_uri": "https://localhost:8080/",
          "height": 245
        },
        "id": "cYT1xAFfn0bk",
        "outputId": "86470fee-13e2-416c-c383-8101b985401d"
      },
      "outputs": [
        {
          "output_type": "stream",
          "name": "stdout",
          "text": [
            "<class 'dict'>\n",
            "<class 'dict'>\n",
            "{1: 'Rakhee', 2: 'New'}\n",
            "Rakhee\n"
          ]
        },
        {
          "output_type": "error",
          "ename": "KeyError",
          "evalue": "3",
          "traceback": [
            "\u001b[0;31m---------------------------------------------------------------------------\u001b[0m",
            "\u001b[0;31mKeyError\u001b[0m                                  Traceback (most recent call last)",
            "\u001b[0;32m/tmp/ipython-input-2058480134.py\u001b[0m in \u001b[0;36m<cell line: 0>\u001b[0;34m()\u001b[0m\n\u001b[1;32m      7\u001b[0m \u001b[0mprint\u001b[0m\u001b[0;34m(\u001b[0m\u001b[0md\u001b[0m\u001b[0;34m)\u001b[0m\u001b[0;34m\u001b[0m\u001b[0;34m\u001b[0m\u001b[0m\n\u001b[1;32m      8\u001b[0m \u001b[0mprint\u001b[0m\u001b[0;34m(\u001b[0m\u001b[0md\u001b[0m\u001b[0;34m[\u001b[0m\u001b[0;36m1\u001b[0m\u001b[0;34m]\u001b[0m\u001b[0;34m)\u001b[0m\u001b[0;34m\u001b[0m\u001b[0;34m\u001b[0m\u001b[0m\n\u001b[0;32m----> 9\u001b[0;31m \u001b[0mprint\u001b[0m\u001b[0;34m(\u001b[0m\u001b[0md\u001b[0m\u001b[0;34m[\u001b[0m\u001b[0;36m3\u001b[0m\u001b[0;34m]\u001b[0m\u001b[0;34m)\u001b[0m\u001b[0;34m\u001b[0m\u001b[0;34m\u001b[0m\u001b[0m\n\u001b[0m",
            "\u001b[0;31mKeyError\u001b[0m: 3"
          ]
        }
      ],
      "source": [
        "#Dictionary\n",
        "d={}\n",
        "d1=dict() #Constructor\n",
        "print(type(d))\n",
        "print(type(d1))\n",
        "d={1:\"Rakhee\",2:\"New\"}# Key: Value pair considered as one value\n",
        "print(d)\n",
        "print(d[1])\n",
        "print(d[3])\n"
      ]
    },
    {
      "cell_type": "code",
      "source": [
        "#IF...Else\n",
        "s=int(input(\"enter age ==>\"))\n",
        "if s>=18:\n",
        "  print(\" eligible for vote\")\n",
        "else:\n",
        "  print(\"not eligible for vote\")\n",
        "  print('Bye')"
      ],
      "metadata": {
        "colab": {
          "base_uri": "https://localhost:8080/"
        },
        "id": "AalroCz5oydv",
        "outputId": "bcac4931-0cd9-49e9-f0e3-bc960f8105d6"
      },
      "execution_count": null,
      "outputs": [
        {
          "output_type": "stream",
          "name": "stdout",
          "text": [
            "enter age ==>18\n",
            " eligible for vote\n"
          ]
        }
      ]
    },
    {
      "cell_type": "code",
      "source": [
        "#Program to check If age is >24 and exp is >5 eligible for job ow not\n",
        "age=int(input('enter the age of the candidate==>'))\n",
        "exp=int(input('enter the experience of the candidate==>'))\n",
        "if age>=24 and exp>=5:\n",
        "  print('Candidate is eligible for job')\n",
        "else:\n",
        "  print('Candidate is not eligible for job')"
      ],
      "metadata": {
        "colab": {
          "base_uri": "https://localhost:8080/"
        },
        "id": "T3T2NUsoqmAH",
        "outputId": "ba3f0c99-4b37-428a-9f4e-5ab5fd0a4fcc"
      },
      "execution_count": null,
      "outputs": [
        {
          "output_type": "stream",
          "name": "stdout",
          "text": [
            "enter the age of the candidate==>34\n",
            "enter the experience of the candidate==>5\n",
            "Candidate is eligible for job\n"
          ]
        }
      ]
    },
    {
      "cell_type": "code",
      "source": [
        "#Program to check leap year\n",
        "year=int(input('Please enter the year you want to check wether its Leap year or not ==>'))\n",
        "if(year%100!=0 and year%4==0) or year%400==0:\n",
        "  print(f'you have entered {year} and is a leap year')\n",
        "else:\n",
        "  print(f'you have entered{year} and is not leap year')"
      ],
      "metadata": {
        "colab": {
          "base_uri": "https://localhost:8080/"
        },
        "id": "wvu8DxgWr-55",
        "outputId": "17b57c3c-347e-4af8-90a4-956521177d39"
      },
      "execution_count": null,
      "outputs": [
        {
          "output_type": "stream",
          "name": "stdout",
          "text": [
            "Please enter the year you want to check wether its Leap year or not ==>1900\n",
            "you have entered1900 and is not leap year\n"
          ]
        }
      ]
    },
    {
      "cell_type": "code",
      "source": [
        "#Program to check leap year using ternary operator\n",
        "year=int(input('Enter the year you want to check weather its a Leap year or not==>'))\n",
        "print(f'{year} is a leap year') if (year%100!=0 and year%4==0) or year%400==0 else print(f'{year} not a leap year')"
      ],
      "metadata": {
        "colab": {
          "base_uri": "https://localhost:8080/"
        },
        "id": "1n25LZXO2aMD",
        "outputId": "b53455a7-46d2-43ea-b866-aa8f3dac5ec3"
      },
      "execution_count": null,
      "outputs": [
        {
          "output_type": "stream",
          "name": "stdout",
          "text": [
            "Enter the year you want to check weather its a Leap year or not==>2024\n",
            "2024 is a leap year\n"
          ]
        }
      ]
    },
    {
      "cell_type": "code",
      "source": [
        "#Program to check weather number is positive, negative or zero\n",
        "number=float(input('Please enter a number to check weather its positive, negative or zero'))\n",
        "if(number>0):\n",
        "  print(f'{number} is positive')\n",
        "elif(number<0):\n",
        "  print(f'{number} is negative')\n",
        "else:\n",
        "   print(f'{number} is zero')\n"
      ],
      "metadata": {
        "colab": {
          "base_uri": "https://localhost:8080/"
        },
        "id": "gLSLxWSN4mV0",
        "outputId": "01282a47-3808-47bd-a1e8-7666b9bb045b"
      },
      "execution_count": null,
      "outputs": [
        {
          "output_type": "stream",
          "name": "stdout",
          "text": [
            "Please enter a number to check weather its positive, negative or zero-2\n",
            "-2.0 is negative\n"
          ]
        }
      ]
    },
    {
      "cell_type": "code",
      "source": [
        "'''#Write a program for grade calculator the accepts the marks of students for 5 subjects. and\n",
        "#give grade accordingly\n",
        "90>=A+\n",
        "80-89 = B\n",
        "70-79= C\n",
        "60-69=d\n",
        "<60=Fail'''\n",
        "maths=int(input('enter the marks for Maths'))\n",
        "english=int(input('enter the marks for English'))\n",
        "science=int(input('enter the marks for Science'))\n",
        "physics=int(input('enter the marks for Physics'))\n",
        "Chemistry=int(input('enter the marks for Chemistry'))\n",
        "TotalMarks=maths+english+science+physics+Chemistry\n",
        "Total=(TotalMarks/500)*100\n",
        "print(f'Total Marks obtained by student is {TotalMarks} out of 500 whch is {Total}')\n",
        "if Total>=90:\n",
        "  print(\"A+\")\n",
        "elif Total>=80 and Total<=89:\n",
        "  print('B')\n",
        "elif Total>=70 and Total<=79:\n",
        "  print('C')\n",
        "elif Total>=60 and Total<=69:\n",
        "  print('D')\n",
        "else:\n",
        "  print('Fail')\n",
        "\n"
      ],
      "metadata": {
        "colab": {
          "base_uri": "https://localhost:8080/"
        },
        "id": "XjK7LmU-Nkoa",
        "outputId": "ad680688-410a-498a-a7c7-140900d1da59"
      },
      "execution_count": null,
      "outputs": [
        {
          "output_type": "stream",
          "name": "stdout",
          "text": [
            "enter the marks for Maths50\n",
            "enter the marks for English50\n",
            "enter the marks for Science50\n",
            "enter the marks for Physics50\n",
            "enter the marks for Chemistry50\n",
            "Total Marks obtained by student is 250 whch is 50.0\n",
            "Fail\n"
          ]
        }
      ]
    },
    {
      "cell_type": "code",
      "source": [
        "'''#Write a code which takes user input reresenting a\n",
        "geometric shape and its dimensions, and then calculates and print the area of that shape using match case'''\n",
        "\n",
        "#Program to check area of the circle, rectangle, tringle and square using match\n",
        "\n",
        "print('please enter the shape you want check area of circle, tringle, rectangle or square==>')\n",
        "\n",
        "shape=input(\"Enter the shape\").lower()\n",
        "\n",
        "match shape:\n",
        "    case \"circle\":\n",
        "      print('Enter the radius of the circle')\n",
        "      r=float(input())\n",
        "      area=3.14159 * r * r\n",
        "      print(f'area of circle is ',area:.2f)\n",
        "    case _:\n",
        "      print\n",
        "\n"
      ],
      "metadata": {
        "colab": {
          "base_uri": "https://localhost:8080/"
        },
        "id": "GJIqoG8IdSoq",
        "outputId": "6fc0802d-8c58-4eb9-87e4-94d4afac5886"
      },
      "execution_count": null,
      "outputs": [
        {
          "name": "stdout",
          "output_type": "stream",
          "text": [
            "please enter the shape you want check area of circle, tringle, rectangle or square==>\n",
            "circle\n",
            "Enter the radius of the circle\n",
            "4\n",
            "area of circle is  50.26544\n",
            "please enter the shape you want check area of circle, tringle, rectangle or square==>\n",
            "Enter the shape12\n"
          ]
        }
      ]
    },
    {
      "cell_type": "code",
      "source": [
        "# Program to calculate area using match-case\n",
        "\n",
        "print(\"Choose a shape: circle, rectangle, triangle, square\")\n",
        "shape = input(\"Enter the shape: \").lower()\n",
        "\n",
        "match shape:\n",
        "    case \"circle\":\n",
        "        r = float(input(\"Enter radius: \"))\n",
        "        area = 3.14159 * r * r\n",
        "        print(f\"Area of circle = {area:.2f}\")\n",
        "\n",
        "    case \"rectangle\":\n",
        "        l = float(input(\"Enter length: \"))\n",
        "        w = float(input(\"Enter width: \"))\n",
        "        area = l * w\n",
        "        print(f\"Area of rectangle = {area:.2f}\")\n",
        "\n",
        "    case \"triangle\":\n",
        "        b = float(input(\"Enter base: \"))\n",
        "        h = float(input(\"Enter height: \"))\n",
        "        area = 0.5 * b * h\n",
        "        print(f\"Area of triangle = {area:.2f}\")\n",
        "\n",
        "    case \"square\":\n",
        "        s = float(input(\"Enter side: \"))\n",
        "        area = s * s\n",
        "        print(f\"Area of square = {area:.2f}\")\n",
        "\n",
        "    case _:\n",
        "        print(\"Invalid shape! Please choose circle, rectangle, triangle, or square.\")\n"
      ],
      "metadata": {
        "id": "_iWl4DFdiyvB"
      },
      "execution_count": null,
      "outputs": []
    },
    {
      "cell_type": "code",
      "source": [
        "# Program to calculate area using match-case\n",
        "print(\"Choose a shape circle, rectangle, tringle or square\")\n",
        "shape=input(\"Enter a shape=>\").lower()\n",
        "\n",
        "match shape:\n",
        "  case \"circle\":\n",
        "    print(\"Enter radius of circle \")\n",
        "    r=float(input())\n",
        "    area=3.14159*r*r\n",
        "    print(f\"Area of circle is {area:.2f}\")\n",
        "  case \"square\":\n",
        "    s=float(input(\"please enter side of the square \"))\n",
        "    area=s*s\n",
        "    print(f'Area of the square is {area:.2f}')\n",
        "  case \"tringle\":\n",
        "    base=float(input('please enter base of the tringle'))\n",
        "    height=float(input('please enter the height of the tringle'))\n",
        "    area=0.5*base*height\n",
        "    print(f'Area of tringle is {area:.2f}')\n",
        "  case \"rectangle\":\n",
        "    length=float(input('Enter the lenght of rectangle'))\n",
        "    width=float(input('Enter the width of rectangle'))\n",
        "    area=length*width\n",
        "    print(f'Area of rectangle is {area:.2f}')\n",
        "  case _:\n",
        "    print(\"Invalid Shape!, please enter any of shape circle, rectangle, tringle or square\")"
      ],
      "metadata": {
        "colab": {
          "base_uri": "https://localhost:8080/"
        },
        "id": "d-gIHxftpaLp",
        "outputId": "35983c37-353a-4413-d42d-b1831b6a025a"
      },
      "execution_count": null,
      "outputs": [
        {
          "output_type": "stream",
          "name": "stdout",
          "text": [
            "Choose a shape circle, rectangle, tringle or square\n",
            "Enter a shape=>asdf\n",
            "Invalid Shape!, please enter shape circle, rectangle, tringle or square\n"
          ]
        }
      ]
    },
    {
      "cell_type": "code",
      "source": [
        "#Odd even check\n",
        "n=int(input('Enter any number '))\n",
        "if n%2==0:\n",
        "  print('even')\n",
        "else:\n",
        "  print('odd')\n"
      ],
      "metadata": {
        "colab": {
          "base_uri": "https://localhost:8080/"
        },
        "id": "d3TUyWaawc91",
        "outputId": "70fe63db-4543-416e-9936-ad61e84ced60"
      },
      "execution_count": null,
      "outputs": [
        {
          "output_type": "stream",
          "name": "stdout",
          "text": [
            "Enter any number 2\n",
            "even\n"
          ]
        }
      ]
    },
    {
      "cell_type": "code",
      "source": [
        "#Ternary operator\n",
        "n=int(input('Enter the number =>'))\n",
        "res='even' if n%2==0 else 'odd' #True condition, Condition, else part\n",
        "print('Given number is ', res)"
      ],
      "metadata": {
        "colab": {
          "base_uri": "https://localhost:8080/"
        },
        "id": "rzyiXoVzwyxs",
        "outputId": "7de8cf68-a22f-47c3-910e-075f4b67acef"
      },
      "execution_count": null,
      "outputs": [
        {
          "output_type": "stream",
          "name": "stdout",
          "text": [
            "Enter the number =>4\n",
            "Given number is  even\n"
          ]
        }
      ]
    },
    {
      "cell_type": "code",
      "source": [
        "#Ternary operator using nested if\n",
        "n=int(input('Enter the number'))\n",
        "res='zero' if n==0 else 'positive' if n>0 else 'negative'\n",
        "print('Given number is ',res)\n"
      ],
      "metadata": {
        "colab": {
          "base_uri": "https://localhost:8080/",
          "height": 211
        },
        "id": "SjyumbogyS9v",
        "outputId": "b5fc2a15-aaee-41bb-d34e-23c805a61868"
      },
      "execution_count": null,
      "outputs": [
        {
          "name": "stdout",
          "output_type": "stream",
          "text": [
            "Enter the number-\n"
          ]
        },
        {
          "output_type": "error",
          "ename": "ValueError",
          "evalue": "invalid literal for int() with base 10: '-'",
          "traceback": [
            "\u001b[0;31m---------------------------------------------------------------------------\u001b[0m",
            "\u001b[0;31mValueError\u001b[0m                                Traceback (most recent call last)",
            "\u001b[0;32m/tmp/ipython-input-2481222975.py\u001b[0m in \u001b[0;36m<cell line: 0>\u001b[0;34m()\u001b[0m\n\u001b[1;32m      1\u001b[0m \u001b[0;31m#Ternary operator using nested if\u001b[0m\u001b[0;34m\u001b[0m\u001b[0;34m\u001b[0m\u001b[0m\n\u001b[0;32m----> 2\u001b[0;31m \u001b[0mn\u001b[0m\u001b[0;34m=\u001b[0m\u001b[0mint\u001b[0m\u001b[0;34m(\u001b[0m\u001b[0minput\u001b[0m\u001b[0;34m(\u001b[0m\u001b[0;34m'Enter the number'\u001b[0m\u001b[0;34m)\u001b[0m\u001b[0;34m)\u001b[0m\u001b[0;34m\u001b[0m\u001b[0;34m\u001b[0m\u001b[0m\n\u001b[0m\u001b[1;32m      3\u001b[0m \u001b[0mres\u001b[0m\u001b[0;34m=\u001b[0m\u001b[0;34m'zero'\u001b[0m \u001b[0;32mif\u001b[0m \u001b[0mn\u001b[0m\u001b[0;34m==\u001b[0m\u001b[0;36m0\u001b[0m \u001b[0;32melse\u001b[0m \u001b[0;34m'positive'\u001b[0m \u001b[0;32mif\u001b[0m \u001b[0mn\u001b[0m\u001b[0;34m>\u001b[0m\u001b[0;36m0\u001b[0m \u001b[0;32melse\u001b[0m \u001b[0;34m'negative'\u001b[0m\u001b[0;34m\u001b[0m\u001b[0;34m\u001b[0m\u001b[0m\n\u001b[1;32m      4\u001b[0m \u001b[0mprint\u001b[0m\u001b[0;34m(\u001b[0m\u001b[0;34m'Given number is '\u001b[0m\u001b[0;34m,\u001b[0m\u001b[0mres\u001b[0m\u001b[0;34m)\u001b[0m\u001b[0;34m\u001b[0m\u001b[0;34m\u001b[0m\u001b[0m\n",
            "\u001b[0;31mValueError\u001b[0m: invalid literal for int() with base 10: '-'"
          ]
        }
      ]
    },
    {
      "cell_type": "code",
      "source": [
        "#Range function in python\n",
        "\n",
        "for i in range(1,5): #range(start, end, step)\n",
        "  print(i)           #[start:end:step]"
      ],
      "metadata": {
        "colab": {
          "base_uri": "https://localhost:8080/"
        },
        "id": "Fn13v4ql2mR0",
        "outputId": "1a79259b-78ef-4082-bbaf-d5dad8cbd8da"
      },
      "execution_count": null,
      "outputs": [
        {
          "output_type": "stream",
          "name": "stdout",
          "text": [
            "1\n",
            "2\n",
            "3\n",
            "4\n"
          ]
        }
      ]
    },
    {
      "cell_type": "code",
      "source": [
        "#Range using step\n",
        "\n",
        "for i in range(15,1,-2):\n",
        "  print(i)"
      ],
      "metadata": {
        "colab": {
          "base_uri": "https://localhost:8080/"
        },
        "id": "bQ02sOG74Ji0",
        "outputId": "f69823f6-3734-4627-b0e0-ca7402e2a5b4"
      },
      "execution_count": null,
      "outputs": [
        {
          "output_type": "stream",
          "name": "stdout",
          "text": [
            "15\n",
            "13\n",
            "11\n",
            "9\n",
            "7\n",
            "5\n",
            "3\n"
          ]
        }
      ]
    },
    {
      "cell_type": "code",
      "source": [
        "#Range -5 no option\n",
        "\n",
        "for i in range(-5): #By default step is +1...\n",
        "  print(i)    #(0,-5,1)  if -5 ...0+1.....it will not reach to 0 so it wont give us output"
      ],
      "metadata": {
        "id": "cjs4ajD65Y5d"
      },
      "execution_count": null,
      "outputs": []
    },
    {
      "cell_type": "code",
      "source": [
        "#Range and use of seperator\n",
        "\n",
        "for i in range(-5,-1):\n",
        "  print(i,end='.')"
      ],
      "metadata": {
        "colab": {
          "base_uri": "https://localhost:8080/"
        },
        "id": "p9L7-zC56QPl",
        "outputId": "0631436f-83b2-4678-f613-5364b3f149cd"
      },
      "execution_count": null,
      "outputs": [
        {
          "output_type": "stream",
          "name": "stdout",
          "text": [
            "-5.-4.-3.-2."
          ]
        }
      ]
    },
    {
      "cell_type": "code",
      "source": [
        "#check the range from -5 to -1\n",
        "for i in range(-5,0):\n",
        "  print(i,end='#')"
      ],
      "metadata": {
        "colab": {
          "base_uri": "https://localhost:8080/"
        },
        "id": "h5cRE9tL7Lt7",
        "outputId": "56eee915-7b90-4d9a-a884-ae174263be7b"
      },
      "execution_count": null,
      "outputs": [
        {
          "output_type": "stream",
          "name": "stdout",
          "text": [
            "-5#-4#-3#-2#-1#"
          ]
        }
      ]
    },
    {
      "cell_type": "code",
      "source": [
        "#checking the range 6 to -1\n",
        "for i in range(6,-6,-1):\n",
        "  print(i,end=' ')"
      ],
      "metadata": {
        "colab": {
          "base_uri": "https://localhost:8080/"
        },
        "id": "p76j0Azl8t8N",
        "outputId": "a609f2c2-a506-4e17-f2b7-1971fc77ca86"
      },
      "execution_count": null,
      "outputs": [
        {
          "output_type": "stream",
          "name": "stdout",
          "text": [
            "6 5 4 3 2 1 0 -1 -2 -3 -4 -5 "
          ]
        }
      ]
    },
    {
      "cell_type": "code",
      "source": [
        "#Range function with the list Data Structure\n",
        "\n",
        "l1=['aa','bb','cc','dd']\n",
        "for i in range(len(l1)):\n",
        "  print(l1[i],i)\n",
        "x=str(l1).upper()\n",
        "print(type(x))\n",
        "print(x)"
      ],
      "metadata": {
        "colab": {
          "base_uri": "https://localhost:8080/"
        },
        "id": "B5TaR9aK9eik",
        "outputId": "5fb81ca9-75f1-4ed4-e73b-a5118d11d90b"
      },
      "execution_count": null,
      "outputs": [
        {
          "output_type": "stream",
          "name": "stdout",
          "text": [
            "aa 0\n",
            "bb 1\n",
            "cc 2\n",
            "dd 3\n",
            "<class 'str'>\n",
            "['AA', 'BB', 'CC', 'DD']\n"
          ]
        }
      ]
    },
    {
      "cell_type": "code",
      "source": [
        "#Range() function with list in python\n",
        "\n",
        "fruits=['apple','banana','cherry','date']\n",
        "for i in range(len(fruits)):\n",
        "  print(fruits[i])\n",
        "print('type of i in for loop',type(i))\n",
        "print('type of fruits[i] in for loop',type(fruits[i]))"
      ],
      "metadata": {
        "colab": {
          "base_uri": "https://localhost:8080/"
        },
        "id": "jl4ZVoyVbrBn",
        "outputId": "6afd3fc0-c27a-4496-df16-c4e72a9480d2"
      },
      "execution_count": null,
      "outputs": [
        {
          "output_type": "stream",
          "name": "stdout",
          "text": [
            "apple\n",
            "banana\n",
            "cherry\n",
            "date\n",
            "type of i in for loop <class 'int'>\n",
            "type of fruits[i] in for loop <class 'str'>\n"
          ]
        }
      ]
    },
    {
      "cell_type": "code",
      "source": [
        "#Range function in List\n",
        "\n",
        "l1=['aa','bb','cc','dd']\n",
        "for i in l1:\n",
        "  x=i.upper()\n",
        "  print(i,\" \",x)\n",
        "\n"
      ],
      "metadata": {
        "colab": {
          "base_uri": "https://localhost:8080/"
        },
        "id": "7Q_9qRMGdJQs",
        "outputId": "acd5c8eb-1fab-4c6d-9856-736cea6f7a94"
      },
      "execution_count": null,
      "outputs": [
        {
          "output_type": "stream",
          "name": "stdout",
          "text": [
            "aa   AA\n",
            "bb   BB\n",
            "cc   CC\n",
            "dd   DD\n"
          ]
        }
      ]
    },
    {
      "cell_type": "code",
      "source": [
        "#itterating oveer list, tuple, string , dictionary ,set\n",
        "\n",
        "l1=['aa','bb','cc','dd']\n",
        "for i in range(len(l1)):\n",
        "  print(l1[i])"
      ],
      "metadata": {
        "colab": {
          "base_uri": "https://localhost:8080/"
        },
        "id": "Reybh52SfNCi",
        "outputId": "c4309caa-92f9-4f43-f1be-9f94e7d8032d"
      },
      "execution_count": null,
      "outputs": [
        {
          "output_type": "stream",
          "name": "stdout",
          "text": [
            "aa\n",
            "bb\n",
            "cc\n",
            "dd\n"
          ]
        }
      ]
    },
    {
      "cell_type": "code",
      "source": [
        "#iterating tuple\n",
        "tup=(\"aa\",\"bb\",\"cc\")\n",
        "for i in tup:\n",
        "  print(i)"
      ],
      "metadata": {
        "colab": {
          "base_uri": "https://localhost:8080/"
        },
        "id": "zIEh9cuygqlG",
        "outputId": "b656ff85-0f43-466a-fe73-08136e0715d6"
      },
      "execution_count": null,
      "outputs": [
        {
          "output_type": "stream",
          "name": "stdout",
          "text": [
            "aa\n",
            "bb\n",
            "cc\n"
          ]
        }
      ]
    },
    {
      "cell_type": "code",
      "source": [
        "#iterating string\n",
        "str=\"testing\"\n",
        "for i in str:\n",
        "  print(i)"
      ],
      "metadata": {
        "colab": {
          "base_uri": "https://localhost:8080/"
        },
        "id": "ejY_ZV2gg69L",
        "outputId": "9e40a24b-e269-4198-8555-413b4de437c6"
      },
      "execution_count": null,
      "outputs": [
        {
          "output_type": "stream",
          "name": "stdout",
          "text": [
            "t\n",
            "e\n",
            "s\n",
            "t\n",
            "i\n",
            "n\n",
            "g\n"
          ]
        }
      ]
    },
    {
      "cell_type": "code",
      "source": [
        "#iterating dictionary\n",
        "\n",
        "d={'Name':'Sumit','key test':'test value',1:10}\n",
        "for i in d:\n",
        "  print(i,\" \",d[i])\n"
      ],
      "metadata": {
        "colab": {
          "base_uri": "https://localhost:8080/"
        },
        "id": "H5enBXP-hIbX",
        "outputId": "bfec1565-4b44-4f22-926b-e5197dc0e3bf"
      },
      "execution_count": null,
      "outputs": [
        {
          "output_type": "stream",
          "name": "stdout",
          "text": [
            "key   value\n",
            "key test   test value\n",
            "1   10\n"
          ]
        }
      ]
    },
    {
      "cell_type": "code",
      "source": [
        "#Set itteration\n",
        "set1={1,2,3,4,5}\n",
        "for i in set1:\n",
        "  print(i)"
      ],
      "metadata": {
        "colab": {
          "base_uri": "https://localhost:8080/"
        },
        "id": "3H3EO05_5ZRX",
        "outputId": "b0fdf359-e4cc-466a-e42e-2e8abc1b085e"
      },
      "execution_count": null,
      "outputs": [
        {
          "output_type": "stream",
          "name": "stdout",
          "text": [
            "1\n",
            "2\n",
            "3\n",
            "4\n",
            "5\n"
          ]
        }
      ]
    },
    {
      "cell_type": "code",
      "source": [
        "#using else statement in for loop in python\n",
        "li=[\"geeks\",'for', 'geeks']\n",
        "for index in range(len(li)): #executes the for loop first then it will\n",
        "  print(li[index])\n",
        "else:\n",
        "  print('Inside else block')"
      ],
      "metadata": {
        "colab": {
          "base_uri": "https://localhost:8080/"
        },
        "id": "zgj2kQ2A6vLb",
        "outputId": "f1681799-ea72-4d55-935e-307ba5b64eda"
      },
      "execution_count": null,
      "outputs": [
        {
          "output_type": "stream",
          "name": "stdout",
          "text": [
            "geeks\n",
            "for\n",
            "geeks\n",
            "Inside else block\n"
          ]
        }
      ]
    },
    {
      "cell_type": "code",
      "source": [
        "#while loop in python\n",
        "\n",
        "cnt=0\n",
        "while(cnt<3):\n",
        "  cnt=cnt+1\n",
        "  print(\"hello geeks\")"
      ],
      "metadata": {
        "colab": {
          "base_uri": "https://localhost:8080/"
        },
        "id": "wRxd2jKe8FaH",
        "outputId": "56040b04-8322-4e84-a197-95b8086d0724"
      },
      "execution_count": null,
      "outputs": [
        {
          "output_type": "stream",
          "name": "stdout",
          "text": [
            "hello geets\n",
            "hello geets\n",
            "hello geets\n"
          ]
        }
      ]
    },
    {
      "cell_type": "code",
      "source": [
        "#while loop 2\\\n",
        "cnt=0\n",
        "while(cnt<3):\n",
        "  cnt=cnt+1\n",
        "  print(\"geeks\")\n",
        "else:\n",
        "  print('inside else part')"
      ],
      "metadata": {
        "colab": {
          "base_uri": "https://localhost:8080/"
        },
        "id": "D82ZRSSY8sgC",
        "outputId": "b799467d-0b7f-45b0-9167-0cf4f70834a4"
      },
      "execution_count": null,
      "outputs": [
        {
          "output_type": "stream",
          "name": "stdout",
          "text": [
            "geeks\n",
            "geeks\n",
            "geeks\n",
            "inside else part\n"
          ]
        }
      ]
    },
    {
      "cell_type": "code",
      "source": [
        "#loop control statement break use in program\n",
        "nums=[1,2,3,4,5,6,7]\n",
        "for n in nums:\n",
        "  if n==3:\n",
        "    print('3 is found!')\n",
        "    break\n",
        "  else:\n",
        "    print('3 not found!')"
      ],
      "metadata": {
        "colab": {
          "base_uri": "https://localhost:8080/"
        },
        "id": "jNp2SyfQ97tM",
        "outputId": "e83d6015-140c-46dc-aef0-5001b89cac12"
      },
      "execution_count": null,
      "outputs": [
        {
          "output_type": "stream",
          "name": "stdout",
          "text": [
            "3 not found!\n",
            "3 not found!\n",
            "3 is found!\n"
          ]
        }
      ]
    },
    {
      "cell_type": "code",
      "source": [
        "#loop control statemenst continue\n",
        "for i in \"Geeksandgeeks\":\n",
        "  if i=='e' or i=='s':\n",
        "   continue\n",
        "  print('Current Letter',i)"
      ],
      "metadata": {
        "colab": {
          "base_uri": "https://localhost:8080/"
        },
        "id": "RfWsg008-xNS",
        "outputId": "c31c2e6e-2f94-4af5-e9b2-97bfa071c7ff"
      },
      "execution_count": null,
      "outputs": [
        {
          "output_type": "stream",
          "name": "stdout",
          "text": [
            "Current Letter G\n",
            "Current Letter k\n",
            "Current Letter a\n",
            "Current Letter n\n",
            "Current Letter d\n",
            "Current Letter g\n",
            "Current Letter k\n"
          ]
        }
      ]
    },
    {
      "cell_type": "code",
      "source": [
        "#loop control statemenst break\n",
        "for j in range(5):\n",
        "  for i in \"Geeksandgeeks\":\n",
        "    if i=='e' or i=='s':\n",
        "      break  #it will break the inner loop only\n",
        "    print('Current Letter',i)"
      ],
      "metadata": {
        "colab": {
          "base_uri": "https://localhost:8080/"
        },
        "id": "Ly04kP2z_WYV",
        "outputId": "c84db698-9bc2-4b60-e108-7de5c05d3118"
      },
      "execution_count": null,
      "outputs": [
        {
          "output_type": "stream",
          "name": "stdout",
          "text": [
            "Current Letter G\n",
            "Current Letter G\n",
            "Current Letter G\n",
            "Current Letter G\n",
            "Current Letter G\n"
          ]
        }
      ]
    },
    {
      "cell_type": "code",
      "source": [
        "#Control structure pass no operation will performed\n",
        "for i in \"Geeksandgeeks\":\n",
        "  if i=='e' or i=='s':\n",
        "    pass\n",
        "  print('Current Letter',i)"
      ],
      "metadata": {
        "colab": {
          "base_uri": "https://localhost:8080/"
        },
        "id": "pcenNNpsIzwY",
        "outputId": "fad56d79-22be-46dd-fcca-12437b6e28cb"
      },
      "execution_count": null,
      "outputs": [
        {
          "output_type": "stream",
          "name": "stdout",
          "text": [
            "Current Letter G\n",
            "Current Letter e\n",
            "Current Letter e\n",
            "Current Letter k\n",
            "Current Letter s\n",
            "Current Letter a\n",
            "Current Letter n\n",
            "Current Letter d\n",
            "Current Letter g\n",
            "Current Letter e\n",
            "Current Letter e\n",
            "Current Letter k\n",
            "Current Letter s\n"
          ]
        }
      ]
    },
    {
      "cell_type": "code",
      "source": [
        "#Control structure another example for pass\n",
        "\n",
        "for i in range(5):\n",
        "  pass #empty loop"
      ],
      "metadata": {
        "id": "vGgifQ_uJzgE"
      },
      "execution_count": null,
      "outputs": []
    },
    {
      "cell_type": "code",
      "source": [
        "#Program to check weather the number is primt or not\n",
        "\n",
        "print(\"enter the numbers you want to check for prime or not\")\n",
        "n=int(input())\n",
        "for i in range(2,n):\n",
        "  if n%i==0:\n",
        "   print(f'you have entered the number {n} and it is not prime')\n",
        "   break\n",
        "else:\n",
        "  print(f'your number {n} is a prime number')"
      ],
      "metadata": {
        "colab": {
          "base_uri": "https://localhost:8080/"
        },
        "id": "eyLx5iItLO_w",
        "outputId": "48d838f6-3567-4cd8-fc8e-18f9483e9eca"
      },
      "execution_count": null,
      "outputs": [
        {
          "output_type": "stream",
          "name": "stdout",
          "text": [
            "enter the numbers you want to check for prime or not\n",
            "9\n",
            "you have entered the number 9 and it is not prime\n"
          ]
        }
      ]
    },
    {
      "cell_type": "code",
      "source": [
        "#Program to check weather the number is primt or not with optimization using sqrt of the n\n",
        "print('Please enter the number you want to checck for prime')\n",
        "n=int(input())\n",
        "if n<=1:\n",
        "  print(f'you have entered {n} which is not prime as its 1 or o or negative number')\n",
        "else:\n",
        "  for i in range(2,int(n**0.5)+1):\n",
        "      if n%i==0:\n",
        "        print(f'your number {n} is not prime number')\n",
        "        break\n",
        "\n",
        "  else:#if you give wrong indentation for this else output will be wrong please consider this else is for's else\n",
        "        print(f'your number {n} is prime number')\n",
        "\n"
      ],
      "metadata": {
        "colab": {
          "base_uri": "https://localhost:8080/"
        },
        "id": "ILfFGSVbeBia",
        "outputId": "74ca87ff-7801-4359-dadc-086cdc407025"
      },
      "execution_count": null,
      "outputs": [
        {
          "output_type": "stream",
          "name": "stdout",
          "text": [
            "Please enter the number you want to checck for prime\n",
            "11\n",
            "your number 11 is prime number\n"
          ]
        }
      ]
    },
    {
      "cell_type": "code",
      "source": [
        "#to check square root of given number\n",
        "\n",
        "n=int(input('Enter the number you want to check for square root'))\n",
        "sqrt_n = n ** 0.5\n",
        "print(f'Square root of {n} is ' ,sqrt_n)"
      ],
      "metadata": {
        "colab": {
          "base_uri": "https://localhost:8080/"
        },
        "id": "UvCBx0hZqnn_",
        "outputId": "248c8480-828c-4df9-ebc5-96e283967fb2"
      },
      "execution_count": null,
      "outputs": [
        {
          "output_type": "stream",
          "name": "stdout",
          "text": [
            "Enter the number you want to check for square root11\n",
            "Square root of 11 is  3.3166247903554\n"
          ]
        }
      ]
    },
    {
      "cell_type": "code",
      "source": [
        "#To check the even number in list\n",
        "\n",
        "l1=[1,2,3,5,7,9,2]\n",
        "for i in l1:\n",
        "  print(i)\n",
        "  if i % 2 == 0:\n",
        "    print(f'The given list is having even number{i}')\n",
        "    break\n",
        "else:\n",
        "     print('the list is not having any even number')\n"
      ],
      "metadata": {
        "colab": {
          "base_uri": "https://localhost:8080/"
        },
        "id": "P4f4_du12-jt",
        "outputId": "b979f4b7-fcd3-4929-c684-e3988f2b17f3"
      },
      "execution_count": null,
      "outputs": [
        {
          "output_type": "stream",
          "name": "stdout",
          "text": [
            "1\n",
            "2\n",
            "The given list is having even number2\n"
          ]
        }
      ]
    },
    {
      "cell_type": "code",
      "source": [
        "#Check the prime number\n",
        "\n",
        "n=int(input('please enter number you wanted to check for Prime or Not Prime...'))\n",
        "if(n<=1):\n",
        "  print(\"the number is not primeyou might have entered number <=1\")\n",
        "else:\n",
        "  for i in range(2,int(n**0.5)+1):\n",
        "     if(n%i==0):\n",
        "        print(f'The number {n} is not prime ')\n",
        "        break\n",
        "  else:\n",
        "        print(f'The number {n} is prime')"
      ],
      "metadata": {
        "colab": {
          "base_uri": "https://localhost:8080/"
        },
        "id": "KHyZG5TC70We",
        "outputId": "f3ea1c72-7a9b-4c18-9a1e-222a6e899dbf"
      },
      "execution_count": null,
      "outputs": [
        {
          "output_type": "stream",
          "name": "stdout",
          "text": [
            "please enter number you wanted to check for Prime or Not Prime...11\n",
            "The number 11 is prime\n"
          ]
        }
      ]
    },
    {
      "cell_type": "markdown",
      "source": [
        "#List and tuples in details\n",
        "##List and Tuples are sequence of data\n",
        "#list are mutable but tuplese are immutable\n",
        "#A list is dynamic sized array (it can grows and shrinks automatically)\n",
        "#List Can contain duplicate Data\n",
        "#Mutable:We can modify,replace and delete the item in the list\n",
        "#Ordered:Maintains the order of elements based on how they are added\n",
        "#Items can access directly using their position(index),starting from 0\n",
        "#May contain the mixed type of items, this is possible because a list mainly stores the refferences at contigious location\n",
        "#...and actual items may be stored at different locations\n",
        "Creating List\n",
        "we can creat a list using []\n",
        " countries=[\"united states\",\"Canada\",\"poland\"]\n",
        "\n",
        " 2 Using Contructor-list()\n",
        "   Digits=list(range(10))\n",
        "\n",
        " 3. Converting tuple in list\n",
        "    L=list((1,2,3,4))  "
      ],
      "metadata": {
        "id": "PUQcg9CoC_Fb"
      }
    },
    {
      "cell_type": "code",
      "source": [
        "#List Creation\n",
        "\n",
        "l1=[]\n",
        "l2=list(range(10))\n",
        "t=(1,2,3,4) #tuple\n",
        "l3=list((t))\n",
        "print(l1,type(l1))\n",
        "print(l2,type(l2))\n",
        "print(l3,type(l3))\n",
        "str='hello'\n",
        "l4=list(str)\n",
        "l4\n",
        "\n"
      ],
      "metadata": {
        "colab": {
          "base_uri": "https://localhost:8080/"
        },
        "id": "A0xd-FOZBDnP",
        "outputId": "bb8f4716-4828-4a7d-df5a-4ce138ff15a6"
      },
      "execution_count": null,
      "outputs": [
        {
          "output_type": "stream",
          "name": "stdout",
          "text": [
            "[] <class 'list'>\n",
            "[0, 1, 2, 3, 4, 5, 6, 7, 8, 9] <class 'list'>\n",
            "[1, 2, 3, 4] <class 'list'>\n"
          ]
        },
        {
          "output_type": "execute_result",
          "data": {
            "text/plain": [
              "['h', 'e', 'l', 'l', 'o']"
            ]
          },
          "metadata": {},
          "execution_count": 43
        }
      ]
    },
    {
      "cell_type": "code",
      "source": [
        "#input a string and convert it in list\n",
        "#Check how many vowells are present in the string\n",
        "s=input('enter any string==>')\n",
        "l1=list(s)\n",
        "c=0\n",
        "for i in l1:\n",
        "  if i in 'aeiouAEIOU':\n",
        "    c=c+1\n",
        "print('the number of vowels present are ', c)\n"
      ],
      "metadata": {
        "colab": {
          "base_uri": "https://localhost:8080/"
        },
        "id": "pX7eE1W9FYx2",
        "outputId": "e098dc26-f65a-44dd-d22e-3d27c9d928a5"
      },
      "execution_count": null,
      "outputs": [
        {
          "output_type": "stream",
          "name": "stdout",
          "text": [
            "enter any stringSumit\n",
            "the number of vowels present are  2\n"
          ]
        }
      ]
    },
    {
      "cell_type": "code",
      "source": [
        "#Input the 2 strings and make them as list and concatinate them\n",
        "\n",
        "s1=list(input('Please enter the string 1==>'))\n",
        "s2=list(input('Please enter the string 2==>'))\n",
        "print(s1, type(s1))\n",
        "print(s2, type(s2))\n",
        "s3=s1+s2\n",
        "print(s3)"
      ],
      "metadata": {
        "colab": {
          "base_uri": "https://localhost:8080/"
        },
        "id": "ZNBeffnFJfOE",
        "outputId": "f7bb5885-869b-43d3-86ed-0aaa41462824"
      },
      "execution_count": null,
      "outputs": [
        {
          "output_type": "stream",
          "name": "stdout",
          "text": [
            "Please enter the string 1==>34\n",
            "Please enter the string 2==>35\n",
            "['3', '4'] <class 'list'>\n",
            "['3', '5'] <class 'list'>\n",
            "['3', '4', '3', '5']\n"
          ]
        }
      ]
    },
    {
      "cell_type": "code",
      "source": [
        "#input 4 digit number and add its digit\n",
        "#example 1234=10\n",
        "num1=input('Please enter the digits')\n",
        "t=0\n",
        "for i in num1:\n",
        "  t=t+int(i)\n",
        "print(t)"
      ],
      "metadata": {
        "colab": {
          "base_uri": "https://localhost:8080/"
        },
        "id": "j8Icn-u9KNez",
        "outputId": "4d647205-0e66-4a00-b5d3-67c2a76a365d"
      },
      "execution_count": null,
      "outputs": [
        {
          "output_type": "stream",
          "name": "stdout",
          "text": [
            "Please enter the digits1234\n",
            "10\n"
          ]
        }
      ]
    },
    {
      "cell_type": "code",
      "source": [
        "#Creating list with multiple repeatation\n",
        "a=[2]*5\n",
        "b=[3,4]*3\n",
        "print(a)\n",
        "print(b)"
      ],
      "metadata": {
        "colab": {
          "base_uri": "https://localhost:8080/"
        },
        "id": "fPncEowQP_Vc",
        "outputId": "2ab49aa2-f88f-47ae-cc2c-e1e41e5f4287"
      },
      "execution_count": null,
      "outputs": [
        {
          "output_type": "stream",
          "name": "stdout",
          "text": [
            "[2, 2, 2, 2, 2]\n",
            "[3, 4, 3, 4, 3, 4]\n"
          ]
        }
      ]
    },
    {
      "cell_type": "code",
      "source": [
        "#Create word list\n",
        "words=['foo','bar','baz','qux','quux','corge']\n",
        "print(words[-1])#corge\n",
        "print(words[-2])\n",
        "print(words[-len(words)])\n",
        "print(words[2:5])\n",
        "print(words[-5:-2])#upper limit is not included -2\n",
        "words[-5:-2] == words[1:4]\n",
        "print(words[-2:-5])\n",
        "print(words[2:len(words)])\n",
        "print(words[:4]+words[4:]==words)\n",
        "'qux' in words\n",
        "'qux' not in words"
      ],
      "metadata": {
        "colab": {
          "base_uri": "https://localhost:8080/"
        },
        "id": "CvsNkL7VQUK2",
        "outputId": "fc14c7ed-7499-4b8d-918d-bf4149992c9a"
      },
      "execution_count": null,
      "outputs": [
        {
          "output_type": "stream",
          "name": "stdout",
          "text": [
            "corge\n",
            "quux\n",
            "foo\n",
            "['baz', 'qux', 'quux']\n",
            "['bar', 'baz', 'qux']\n",
            "[]\n",
            "['baz', 'qux', 'quux', 'corge']\n",
            "True\n"
          ]
        },
        {
          "output_type": "execute_result",
          "data": {
            "text/plain": [
              "False"
            ]
          },
          "metadata": {},
          "execution_count": 65
        }
      ]
    },
    {
      "cell_type": "code",
      "source": [
        "#Nested list\n",
        "l1=['a',['bb',['ccc','ddd'],'ee','ff'],'g',[\"hh\",'ii'],'j']\n",
        "print(l1[0])\n",
        "print(l1[1][1]) #access ccc ddd\n",
        "print(l1[1][1][0])# access only ccc\n",
        "print(l1[1][1][1])# access only ddd\n",
        "print(l1[1][2])# access only ee\n",
        "print(l1[2])# access only g\n",
        "print(l1[1][3])# access only ff\n",
        "print(l1[3])# access only hh ii\n",
        "print(l1[3][0])# access only hh\n",
        "print(l1[3][1])# access only ii\n",
        "print(l1[4])#access value of j"
      ],
      "metadata": {
        "colab": {
          "base_uri": "https://localhost:8080/"
        },
        "id": "i0FrD6HlQnjo",
        "outputId": "3e806ec7-2595-4550-ffba-36d8a5c11cae"
      },
      "execution_count": 15,
      "outputs": [
        {
          "output_type": "stream",
          "name": "stdout",
          "text": [
            "a\n",
            "['ccc', 'ddd']\n",
            "ccc\n",
            "ddd\n",
            "ee\n",
            "g\n",
            "ff\n",
            "['hh', 'ii']\n",
            "hh\n",
            "ii\n",
            "j\n"
          ]
        }
      ]
    },
    {
      "cell_type": "code",
      "source": [
        "\n",
        "\n"
      ],
      "metadata": {
        "id": "fd_KyOHeLmXx"
      },
      "execution_count": null,
      "outputs": []
    }
  ],
  "metadata": {
    "colab": {
      "provenance": [],
      "authorship_tag": "ABX9TyNtDsTWWooI8wQJUOGkMrhS",
      "include_colab_link": true
    },
    "kernelspec": {
      "display_name": "Python 3",
      "name": "python3"
    },
    "language_info": {
      "name": "python"
    }
  },
  "nbformat": 4,
  "nbformat_minor": 0
}