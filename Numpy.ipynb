{
  "nbformat": 4,
  "nbformat_minor": 0,
  "metadata": {
    "colab": {
      "provenance": [],
      "authorship_tag": "ABX9TyOvClDW4lmNGCbx6DuZM4d5",
      "include_colab_link": true
    },
    "kernelspec": {
      "name": "python3",
      "display_name": "Python 3"
    },
    "language_info": {
      "name": "python"
    }
  },
  "cells": [
    {
      "cell_type": "markdown",
      "metadata": {
        "id": "view-in-github",
        "colab_type": "text"
      },
      "source": [
        "<a href=\"https://colab.research.google.com/github/sumitmsc/PythonPractice/blob/main/Numpy.ipynb\" target=\"_parent\"><img src=\"https://colab.research.google.com/assets/colab-badge.svg\" alt=\"Open In Colab\"/></a>"
      ]
    },
    {
      "cell_type": "code",
      "execution_count": null,
      "metadata": {
        "colab": {
          "base_uri": "https://localhost:8080/"
        },
        "id": "H8bdcrFh0j_E",
        "outputId": "9078ab94-42ce-4507-983a-b8cd0522a399"
      },
      "outputs": [
        {
          "output_type": "stream",
          "name": "stdout",
          "text": [
            "2.0.2\n"
          ]
        }
      ],
      "source": [
        "import numpy as np\n",
        "print(np.__version__)"
      ]
    },
    {
      "cell_type": "code",
      "source": [
        "!pip install numpy"
      ],
      "metadata": {
        "colab": {
          "base_uri": "https://localhost:8080/"
        },
        "id": "bqiVHzp20ywb",
        "outputId": "b2e4b7c7-5dbf-4799-c980-f976d3958165"
      },
      "execution_count": null,
      "outputs": [
        {
          "output_type": "stream",
          "name": "stdout",
          "text": [
            "Requirement already satisfied: numpy in /usr/local/lib/python3.12/dist-packages (2.0.2)\n"
          ]
        }
      ]
    },
    {
      "cell_type": "code",
      "source": [
        "import numpy as np\n",
        "arr=np.array([1,2,3,4,5])\n",
        "print(arr,type(arr))\n"
      ],
      "metadata": {
        "colab": {
          "base_uri": "https://localhost:8080/"
        },
        "id": "t4c1YWZw0-I1",
        "outputId": "7e0e1b37-0dfc-44e3-bf65-49871143f283"
      },
      "execution_count": null,
      "outputs": [
        {
          "output_type": "stream",
          "name": "stdout",
          "text": [
            "[1 2 3 4 5] <class 'numpy.ndarray'>\n"
          ]
        }
      ]
    },
    {
      "cell_type": "code",
      "source": [
        "import numpy as np\n",
        "arr1=np.array((1,2,3,4,5))\n",
        "print(arr,type(arr))"
      ],
      "metadata": {
        "colab": {
          "base_uri": "https://localhost:8080/"
        },
        "id": "JMmBtQNQ1Ryv",
        "outputId": "9c9dafe2-372d-4823-8788-d5442952650f"
      },
      "execution_count": null,
      "outputs": [
        {
          "output_type": "stream",
          "name": "stdout",
          "text": [
            "[1 2 3 4 5] <class 'numpy.ndarray'>\n"
          ]
        }
      ]
    },
    {
      "cell_type": "code",
      "source": [
        "#0d\n",
        "import numpy as np\n",
        "arr=np.array(42)\n",
        "print(arr,type(arr))\n",
        "a=42\n",
        "print(a,type(a),arr.ndim)"
      ],
      "metadata": {
        "colab": {
          "base_uri": "https://localhost:8080/"
        },
        "id": "-T33Mv-G2Kv0",
        "outputId": "a4ffac8a-a328-460f-f055-89178a5c8870"
      },
      "execution_count": null,
      "outputs": [
        {
          "output_type": "stream",
          "name": "stdout",
          "text": [
            "42 <class 'numpy.ndarray'>\n",
            "42 <class 'int'> 0\n"
          ]
        }
      ]
    },
    {
      "cell_type": "code",
      "source": [
        "#1d\n",
        "import numpy as np\n",
        "arr=np.array([1,2,3,4])\n",
        "print(arr,type(arr),arr.ndim)\n"
      ],
      "metadata": {
        "colab": {
          "base_uri": "https://localhost:8080/"
        },
        "id": "crx5v5h34F7Q",
        "outputId": "d3098b0c-05a9-45e4-aa2b-aeb239834f24"
      },
      "execution_count": null,
      "outputs": [
        {
          "output_type": "stream",
          "name": "stdout",
          "text": [
            "[1 2 3 4] <class 'numpy.ndarray'> 1\n"
          ]
        }
      ]
    },
    {
      "cell_type": "code",
      "source": [
        "#2d\n",
        "import numpy as np\n",
        "arr=np.array([[1,2,3,4],[5,6,7,8]])#Nested List\n",
        "print(arr,type(arr),arr.ndim)"
      ],
      "metadata": {
        "colab": {
          "base_uri": "https://localhost:8080/"
        },
        "id": "QAsXKCVO4rjY",
        "outputId": "9cd0f512-18e0-4a4a-9c7c-f257db90332a"
      },
      "execution_count": null,
      "outputs": [
        {
          "output_type": "stream",
          "name": "stdout",
          "text": [
            "[[1 2 3 4]\n",
            " [5 6 7 8]] <class 'numpy.ndarray'> 2\n"
          ]
        }
      ]
    },
    {
      "cell_type": "code",
      "source": [
        "#3d\n",
        "import numpy as np\n",
        "arr=np.array([[[1,2,3],[5,6,7]],[[1,2,3],[5,6,7]],[[1,2,3],[5,6,7]]])#Nested List\n",
        "print(arr,type(arr),arr.ndim)"
      ],
      "metadata": {
        "colab": {
          "base_uri": "https://localhost:8080/"
        },
        "id": "-h1priLU5Sxt",
        "outputId": "91f1a5b5-e7c3-4f7e-8c1e-66b2662a248b"
      },
      "execution_count": null,
      "outputs": [
        {
          "output_type": "stream",
          "name": "stdout",
          "text": [
            "[[[1 2 3]\n",
            "  [5 6 7]]\n",
            "\n",
            " [[1 2 3]\n",
            "  [5 6 7]]\n",
            "\n",
            " [[1 2 3]\n",
            "  [5 6 7]]] <class 'numpy.ndarray'> 3\n"
          ]
        }
      ]
    },
    {
      "cell_type": "code",
      "source": [
        "#ND\n",
        "import numpy as np\n",
        "arr=np.array([1,2,3,4,5], ndmin=5)\n",
        "print(arr,type(arr),arr.ndim)"
      ],
      "metadata": {
        "colab": {
          "base_uri": "https://localhost:8080/"
        },
        "id": "NNSeimhe7yqa",
        "outputId": "8b60c4bb-7e1b-43df-a602-8fd728f56ef8"
      },
      "execution_count": null,
      "outputs": [
        {
          "output_type": "stream",
          "name": "stdout",
          "text": [
            "[[[[[1 2 3 4 5]]]]] <class 'numpy.ndarray'> 5\n"
          ]
        }
      ]
    },
    {
      "cell_type": "code",
      "source": [
        "#Accessing the array\n",
        "import numpy as np\n",
        "arr1=np.array((1,2,3,4,5))\n",
        "print(arr1[0],arr1[1])\n"
      ],
      "metadata": {
        "colab": {
          "base_uri": "https://localhost:8080/"
        },
        "id": "zkNtmDbb9Mz9",
        "outputId": "83d82f4b-114a-4e2b-c098-d70ad0f1d50a"
      },
      "execution_count": null,
      "outputs": [
        {
          "output_type": "stream",
          "name": "stdout",
          "text": [
            "1 2\n"
          ]
        }
      ]
    },
    {
      "cell_type": "code",
      "source": [
        "'''Write a code which will check weather an array is having same elements from left to right or right to left\n",
        "1234321 =yes\n",
        "12234=no\n",
        "'''\n",
        "import numpy as np\n",
        "\n",
        "arr1=np.array((1,2,3,4))\n",
        "print(arr1,type(arr1),arr1.ndim)\n",
        "\n",
        "for i in arr1:\n",
        "  print(i)\n",
        "\n",
        "\n"
      ],
      "metadata": {
        "colab": {
          "base_uri": "https://localhost:8080/"
        },
        "id": "tmSvJCS6-gv9",
        "outputId": "6364a059-0b79-4cc3-e386-3b45d3690e4b"
      },
      "execution_count": null,
      "outputs": [
        {
          "output_type": "stream",
          "name": "stdout",
          "text": [
            "[1 2 3 4] <class 'numpy.ndarray'> 1\n",
            "1\n",
            "2\n",
            "3\n",
            "4\n"
          ]
        }
      ]
    },
    {
      "cell_type": "code",
      "source": [
        "'''Write a code which will check weather an array is having same elements from left to right or right to left\n",
        "1234321 =yes\n",
        "12234=no\n",
        "'''\n",
        "l=[1,2,3,2,1]\n",
        "for i in range(len(l)//2+1):\n",
        "  if l[i]!=l[-(i+1)]:\n",
        "   print('Not equal')\n",
        "   break\n",
        "\n",
        "else:\n",
        "     print('list is palindrom ')\n",
        "\n",
        "\n",
        "\n",
        "\n"
      ],
      "metadata": {
        "colab": {
          "base_uri": "https://localhost:8080/"
        },
        "id": "90cf0LUpB3xr",
        "outputId": "e071a604-dde2-4bad-8b68-6eaaf5b66553"
      },
      "execution_count": null,
      "outputs": [
        {
          "output_type": "stream",
          "name": "stdout",
          "text": [
            "list is palindrom \n"
          ]
        }
      ]
    },
    {
      "cell_type": "code",
      "source": [
        "#Accessing 2D array\n",
        "import numpy as np\n",
        "arr=np.array([[1,2,3,4,5],[6,7,8,9,10]])\n",
        "print(arr)\n",
        "print('elements')\n",
        "print(arr[0,0])\n",
        "print(arr[0,-1])\n",
        "print(arr[1,-2])"
      ],
      "metadata": {
        "colab": {
          "base_uri": "https://localhost:8080/"
        },
        "id": "VgBjlirPLhfO",
        "outputId": "7fb09089-957a-480f-aa98-a9b207728b1d"
      },
      "execution_count": null,
      "outputs": [
        {
          "output_type": "stream",
          "name": "stdout",
          "text": [
            "[[ 1  2  3  4  5]\n",
            " [ 6  7  8  9 10]]\n",
            "elements\n",
            "1\n",
            "5\n",
            "9\n"
          ]
        }
      ]
    },
    {
      "cell_type": "code",
      "source": [
        "import numpy as np\n",
        "\n",
        "arr=np.array([1,2,3,4,5])\n",
        "print(arr,arr.shape)\n",
        "print(arr[1:3])\n",
        "print(arr[::-1])"
      ],
      "metadata": {
        "colab": {
          "base_uri": "https://localhost:8080/"
        },
        "id": "yPuaEta1LrSF",
        "outputId": "7d0fbd87-ed42-4f32-abda-b0f3cabc449b"
      },
      "execution_count": 11,
      "outputs": [
        {
          "output_type": "stream",
          "name": "stdout",
          "text": [
            "[1 2 3 4 5] (5,)\n",
            "[2 3]\n",
            "[5 4 3 2 1]\n"
          ]
        }
      ]
    },
    {
      "cell_type": "code",
      "source": [
        "#Checking data type\n",
        "arr=np.array([1,2,3,4])\n",
        "arr1=np.array(['apple','bananajjj','grapes'])\n",
        "arr2=np.array(['a','b'])\n",
        "print(arr,arr.dtype)\n",
        "print(arr1,arr1.dtype)\n",
        "print(arr2,arr2.dtype)"
      ],
      "metadata": {
        "colab": {
          "base_uri": "https://localhost:8080/"
        },
        "id": "WRDDBcMiQuCP",
        "outputId": "08097276-b8b2-45fc-cb04-e190e1a32448"
      },
      "execution_count": 16,
      "outputs": [
        {
          "output_type": "stream",
          "name": "stdout",
          "text": [
            "[1 2 3 4] int64\n",
            "['apple' 'bananajjj' 'grapes'] <U9\n",
            "['a' 'b'] <U1\n"
          ]
        }
      ]
    },
    {
      "cell_type": "code",
      "source": [
        "#Creating arrays with the deffined data type\n",
        "\n",
        "import numpy as np\n",
        "\n",
        "arr=np.array([1,24,3,4,5], dtype='S')\n",
        "print(arr,arr.dtype)"
      ],
      "metadata": {
        "colab": {
          "base_uri": "https://localhost:8080/"
        },
        "id": "BUfJ7yNjR8IN",
        "outputId": "45853872-bed6-425e-f699-da834bb4f1b9"
      },
      "execution_count": 23,
      "outputs": [
        {
          "output_type": "stream",
          "name": "stdout",
          "text": [
            "[b'1' b'24' b'3' b'4' b'5'] |S2\n"
          ]
        }
      ]
    },
    {
      "cell_type": "code",
      "source": [],
      "metadata": {
        "id": "ZFInJn12TNgf"
      },
      "execution_count": null,
      "outputs": []
    },
    {
      "cell_type": "code",
      "source": [
        "#Creating arrays with the deffined size of int\n",
        "\n",
        "import numpy as np\n",
        "\n",
        "arr=np.array([1,24,3,4,5], dtype=np.int8)\n",
        "print(arr,arr.dtype)"
      ],
      "metadata": {
        "colab": {
          "base_uri": "https://localhost:8080/"
        },
        "outputId": "d12f08b0-56eb-4920-8e36-9719e0d22258",
        "id": "wCglH66-TNx_"
      },
      "execution_count": 24,
      "outputs": [
        {
          "output_type": "stream",
          "name": "stdout",
          "text": [
            "[ 1 24  3  4  5] int8\n"
          ]
        }
      ]
    },
    {
      "cell_type": "code",
      "source": [
        "#float to int\n",
        "a=[1.2,1.3,5.6,7.8]\n",
        "new_a=np.array(a)\n",
        "new_int=new_a.astype(int)\n",
        "print(new_int,new_int.dtype)"
      ],
      "metadata": {
        "colab": {
          "base_uri": "https://localhost:8080/"
        },
        "id": "GR1Xb9j9TVNA",
        "outputId": "ade4788f-7a98-4705-88e2-c33046600884"
      },
      "execution_count": 32,
      "outputs": [
        {
          "output_type": "stream",
          "name": "stdout",
          "text": [
            "[1 1 5 7] int64\n"
          ]
        }
      ]
    },
    {
      "cell_type": "code",
      "source": [
        "#Array rreshape\n",
        "\n",
        "arr=np.array([1,2,3,4,5,6,7,8,9,10,11,12])\n",
        "n=arr.reshape(3,4)\n",
        "print(n,n.ndim)"
      ],
      "metadata": {
        "colab": {
          "base_uri": "https://localhost:8080/"
        },
        "id": "W-9EYUJEXPnN",
        "outputId": "83c55752-fb85-4bbb-c1e5-2ecca392370d"
      },
      "execution_count": 34,
      "outputs": [
        {
          "output_type": "stream",
          "name": "stdout",
          "text": [
            "[[ 1  2  3  4]\n",
            " [ 5  6  7  8]\n",
            " [ 9 10 11 12]] 2\n"
          ]
        }
      ]
    },
    {
      "cell_type": "code",
      "source": [
        "# 2 d to 1 d using reshape (-1) :Flattening the aarrya converting multidimensional array to 1 D array\n",
        "import numpy as np\n",
        "\n",
        "arr=np.array(([1,2,3,4,5],[6,7,8,9,10]))\n",
        "print(arr)\n",
        "new_arr=arr.reshape(-1)\n",
        "print(new_arr)\n"
      ],
      "metadata": {
        "colab": {
          "base_uri": "https://localhost:8080/"
        },
        "id": "jLh1JD9AYJLM",
        "outputId": "cd28ba06-cd75-4d72-8b42-987880fe8d19"
      },
      "execution_count": 40,
      "outputs": [
        {
          "output_type": "stream",
          "name": "stdout",
          "text": [
            "[[ 1  2  3  4  5]\n",
            " [ 6  7  8  9 10]]\n",
            "[ 1  2  3  4  5  6  7  8  9 10]\n"
          ]
        }
      ]
    },
    {
      "cell_type": "code",
      "source": [
        "#Iterating an array: going through elements one by one.\n",
        "import numpy as np\n",
        "arr=np.array([1,2,3,4,5,6,7,8,9,10,11,12])\n",
        "print(arr,arr.ndim)\n",
        "print(type(arr[0]))\n",
        "print(\"Data type:\", arr.dtype)\n",
        "print(type(arr))\n",
        "for i in arr:\n",
        "  print(i)\n"
      ],
      "metadata": {
        "colab": {
          "base_uri": "https://localhost:8080/"
        },
        "id": "i9E0nkyerjMK",
        "outputId": "d87f2fe4-772a-4c84-99de-284c6c53daed"
      },
      "execution_count": 55,
      "outputs": [
        {
          "output_type": "stream",
          "name": "stdout",
          "text": [
            "[ 1  2  3  4  5  6  7  8  9 10 11 12] 1\n",
            "<class 'numpy.int64'>\n",
            "Data type: int64\n",
            "<class 'numpy.ndarray'>\n",
            "1\n",
            "2\n",
            "3\n",
            "4\n",
            "5\n",
            "6\n",
            "7\n",
            "8\n",
            "9\n",
            "10\n",
            "11\n",
            "12\n"
          ]
        }
      ]
    },
    {
      "cell_type": "markdown",
      "source": [
        "Great question! Here's why NumPy accepts 'test':\n",
        "What's happening:\n",
        "NumPy arrays must have a single data type for all elements. When you mix integers and a string, NumPy converts everything to the \"lowest common denominator\" - which is strings!"
      ],
      "metadata": {
        "id": "X9gjK1lFuU_S"
      }
    },
    {
      "cell_type": "code",
      "source": [
        "import numpy as np\n",
        "\n",
        "arr = np.array([1, 2, 3, 4, 5, 6, 7, 8, 9, 10, 11, 12, 'test'])\n",
        "print(arr)\n",
        "# Output: ['1' '2' '3' '4' '5' '6' '7' '8' '9' '10' '11' '12' 'test']\n",
        "\n",
        "print(\"Data type:\", arr.dtype)  # <-- Check this!\n",
        "# Output: <U21 (Unicode string)\n",
        "\n",
        "# Now your integers are strings!\n",
        "print(type(arr[0]))  # <class 'numpy.str_'>\n",
        "print(arr[0] + arr[1])  # '12' not 3! (string concatenation)"
      ],
      "metadata": {
        "colab": {
          "base_uri": "https://localhost:8080/"
        },
        "id": "t7qgNegJuS9g",
        "outputId": "f0477575-5c79-4cf9-d8e6-7002868f55b1"
      },
      "execution_count": 52,
      "outputs": [
        {
          "output_type": "stream",
          "name": "stdout",
          "text": [
            "['1' '2' '3' '4' '5' '6' '7' '8' '9' '10' '11' '12' 'test']\n",
            "Data type: <U21\n",
            "<class 'numpy.str_'>\n",
            "12\n"
          ]
        }
      ]
    },
    {
      "cell_type": "markdown",
      "source": [
        "Great question! Let me explain with examples:\n",
        "\"Lowest common denominator\" in NumPy means the data type that can hold ALL the values without losing information.\n",
        "Think of it like a hierarchy:\n",
        "\n",
        "string (most flexible - can hold anything)\n",
        "  ↑\n",
        "float (can hold decimals and whole numbers)\n",
        "  ↑\n",
        "int (can only hold whole numbers)\n",
        "  ↑\n",
        "bool (can only hold True/False)\n",
        "\n",
        "\n",
        "The Rule:\n",
        "NumPy always picks the type that can represent all your data. String wins because it can represent anything (numbers, text, symbols), but you lose the ability to do math!\n",
        "Think of it like packing boxes - you need a box big enough to fit everything, even if most items are small! 📦\n",
        "Does that make sense?"
      ],
      "metadata": {
        "id": "DtP5948HwMi9"
      }
    },
    {
      "cell_type": "code",
      "source": [
        "import numpy as np\n",
        "\n",
        "# Example 1: int + float → float\n",
        "arr1 = np.array([1, 2, 3.5])\n",
        "print(arr1.dtype)  # float64\n",
        "# Why? 3.5 needs decimals, so ALL become floats: [1.0, 2.0, 3.5]\n",
        "\n",
        "# Example 2: int + string → string\n",
        "arr2 = np.array([1, 2, 'hello'])\n",
        "print(arr2.dtype)  # <U21 (string)\n",
        "# Why? 'hello' can't be a number, so ALL become strings: ['1', '2', 'hello']\n",
        "\n",
        "# Example 3: bool + int → int\n",
        "arr3 = np.array([True, False, 5])\n",
        "print(arr3.dtype)  # int64\n",
        "# Result: [1, 0, 5] - bools converted to 1s and 0s\n",
        "\n",
        "# Example 4: All ints stay ints\n",
        "arr4 = np.array([1, 2, 3, 4])\n",
        "print(arr4.dtype)  # int64\n",
        "# Perfect! No conversion needed"
      ],
      "metadata": {
        "colab": {
          "base_uri": "https://localhost:8080/"
        },
        "id": "4EJgDv2hTf7E",
        "outputId": "e06f13ad-af92-43eb-8f11-5ab5e923fff0"
      },
      "execution_count": 56,
      "outputs": [
        {
          "output_type": "stream",
          "name": "stdout",
          "text": [
            "float64\n",
            "<U21\n",
            "int64\n",
            "int64\n"
          ]
        }
      ]
    },
    {
      "cell_type": "markdown",
      "source": [
        "🧩 What Does Iterating an Array Mean?\n",
        "\n",
        "Iteration simply means going through each element (or sub-array) in an array, one by one — just like looping over a list.\n",
        "\n",
        "In Python:\n",
        " Iterating 1d num py\n",
        "import numpy as np\n",
        "\n",
        "arr = np.array([10, 20, 30, 40])\n",
        "\n",
        "for x in arr:\n",
        "    print(x)\n"
      ],
      "metadata": {
        "id": "KMKnGLzAySAL"
      }
    },
    {
      "cell_type": "code",
      "source": [
        "import numpy as np\n",
        "\n",
        "arr = np.array([10, 20, 30, 40])\n",
        "\n",
        "for x in arr:\n",
        "    print(x)\n"
      ],
      "metadata": {
        "colab": {
          "base_uri": "https://localhost:8080/"
        },
        "id": "Kwu_oU1Vy6rA",
        "outputId": "82a6e865-ca3d-45fb-eae6-8078190d494a"
      },
      "execution_count": 57,
      "outputs": [
        {
          "output_type": "stream",
          "name": "stdout",
          "text": [
            "10\n",
            "20\n",
            "30\n",
            "40\n"
          ]
        }
      ]
    },
    {
      "cell_type": "code",
      "source": [
        "#2D array and sum of all elements\n",
        "import numpy as np\n",
        "\n",
        "arr=np.array([[1,2,4],[5,6,7]])\n",
        "print(arr.ndim)\n",
        "print(type(arr))\n",
        "print('Shape of array',arr.shape)\n",
        "for i  in arr:\n",
        "  print(i)\n",
        "print(sum(i))\n"
      ],
      "metadata": {
        "colab": {
          "base_uri": "https://localhost:8080/"
        },
        "id": "R6bBIeDMzCFR",
        "outputId": "56b2eefb-2ec3-402e-d3cc-f710de1c2537"
      },
      "execution_count": 64,
      "outputs": [
        {
          "output_type": "stream",
          "name": "stdout",
          "text": [
            "2\n",
            "<class 'numpy.ndarray'>\n",
            "Shape of array (2, 3)\n",
            "[1 2 4]\n",
            "[5 6 7]\n",
            "18\n"
          ]
        }
      ]
    },
    {
      "cell_type": "markdown",
      "source": [],
      "metadata": {
        "id": "O4GNxRw8ySMa"
      }
    },
    {
      "cell_type": "code",
      "source": [],
      "metadata": {
        "id": "yDbX2AoRvG01"
      },
      "execution_count": null,
      "outputs": []
    }
  ]
}