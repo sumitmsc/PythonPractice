{
  "nbformat": 4,
  "nbformat_minor": 0,
  "metadata": {
    "colab": {
      "provenance": [],
      "authorship_tag": "ABX9TyO+Nz43l/B6pgO2LvSCydGR",
      "include_colab_link": true
    },
    "kernelspec": {
      "name": "python3",
      "display_name": "Python 3"
    },
    "language_info": {
      "name": "python"
    }
  },
  "cells": [
    {
      "cell_type": "markdown",
      "metadata": {
        "id": "view-in-github",
        "colab_type": "text"
      },
      "source": [
        "<a href=\"https://colab.research.google.com/github/sumitmsc/PythonPractice/blob/main/Numpy.ipynb\" target=\"_parent\"><img src=\"https://colab.research.google.com/assets/colab-badge.svg\" alt=\"Open In Colab\"/></a>"
      ]
    },
    {
      "cell_type": "code",
      "execution_count": null,
      "metadata": {
        "colab": {
          "base_uri": "https://localhost:8080/"
        },
        "id": "H8bdcrFh0j_E",
        "outputId": "9078ab94-42ce-4507-983a-b8cd0522a399"
      },
      "outputs": [
        {
          "output_type": "stream",
          "name": "stdout",
          "text": [
            "2.0.2\n"
          ]
        }
      ],
      "source": [
        "import numpy as np\n",
        "print(np.__version__)"
      ]
    },
    {
      "cell_type": "code",
      "source": [
        "!pip install numpy"
      ],
      "metadata": {
        "colab": {
          "base_uri": "https://localhost:8080/"
        },
        "id": "bqiVHzp20ywb",
        "outputId": "b2e4b7c7-5dbf-4799-c980-f976d3958165"
      },
      "execution_count": null,
      "outputs": [
        {
          "output_type": "stream",
          "name": "stdout",
          "text": [
            "Requirement already satisfied: numpy in /usr/local/lib/python3.12/dist-packages (2.0.2)\n"
          ]
        }
      ]
    },
    {
      "cell_type": "code",
      "source": [
        "import numpy as np\n",
        "arr=np.array([1,2,3,4,5])\n",
        "print(arr,type(arr))\n"
      ],
      "metadata": {
        "colab": {
          "base_uri": "https://localhost:8080/"
        },
        "id": "t4c1YWZw0-I1",
        "outputId": "7e0e1b37-0dfc-44e3-bf65-49871143f283"
      },
      "execution_count": null,
      "outputs": [
        {
          "output_type": "stream",
          "name": "stdout",
          "text": [
            "[1 2 3 4 5] <class 'numpy.ndarray'>\n"
          ]
        }
      ]
    },
    {
      "cell_type": "code",
      "source": [
        "import numpy as np\n",
        "arr1=np.array((1,2,3,4,5))\n",
        "print(arr,type(arr))"
      ],
      "metadata": {
        "colab": {
          "base_uri": "https://localhost:8080/"
        },
        "id": "JMmBtQNQ1Ryv",
        "outputId": "9c9dafe2-372d-4823-8788-d5442952650f"
      },
      "execution_count": null,
      "outputs": [
        {
          "output_type": "stream",
          "name": "stdout",
          "text": [
            "[1 2 3 4 5] <class 'numpy.ndarray'>\n"
          ]
        }
      ]
    },
    {
      "cell_type": "code",
      "source": [
        "#0d\n",
        "import numpy as np\n",
        "arr=np.array(42)\n",
        "print(arr,type(arr))\n",
        "a=42\n",
        "print(a,type(a),arr.ndim)"
      ],
      "metadata": {
        "colab": {
          "base_uri": "https://localhost:8080/"
        },
        "id": "-T33Mv-G2Kv0",
        "outputId": "a4ffac8a-a328-460f-f055-89178a5c8870"
      },
      "execution_count": null,
      "outputs": [
        {
          "output_type": "stream",
          "name": "stdout",
          "text": [
            "42 <class 'numpy.ndarray'>\n",
            "42 <class 'int'> 0\n"
          ]
        }
      ]
    },
    {
      "cell_type": "code",
      "source": [
        "#1d\n",
        "import numpy as np\n",
        "arr=np.array([1,2,3,4])\n",
        "print(arr,type(arr),arr.ndim)\n"
      ],
      "metadata": {
        "colab": {
          "base_uri": "https://localhost:8080/"
        },
        "id": "crx5v5h34F7Q",
        "outputId": "d3098b0c-05a9-45e4-aa2b-aeb239834f24"
      },
      "execution_count": null,
      "outputs": [
        {
          "output_type": "stream",
          "name": "stdout",
          "text": [
            "[1 2 3 4] <class 'numpy.ndarray'> 1\n"
          ]
        }
      ]
    },
    {
      "cell_type": "code",
      "source": [
        "#2d\n",
        "import numpy as np\n",
        "arr=np.array([[1,2,3,4],[5,6,7,8]])#Nested List\n",
        "print(arr,type(arr),arr.ndim)"
      ],
      "metadata": {
        "colab": {
          "base_uri": "https://localhost:8080/"
        },
        "id": "QAsXKCVO4rjY",
        "outputId": "9cd0f512-18e0-4a4a-9c7c-f257db90332a"
      },
      "execution_count": null,
      "outputs": [
        {
          "output_type": "stream",
          "name": "stdout",
          "text": [
            "[[1 2 3 4]\n",
            " [5 6 7 8]] <class 'numpy.ndarray'> 2\n"
          ]
        }
      ]
    },
    {
      "cell_type": "code",
      "source": [
        "#3d\n",
        "import numpy as np\n",
        "arr=np.array([[[1,2,3],[5,6,7]],[[1,2,3],[5,6,7]],[[1,2,3],[5,6,7]]])#Nested List\n",
        "print(arr,type(arr),arr.ndim)"
      ],
      "metadata": {
        "colab": {
          "base_uri": "https://localhost:8080/"
        },
        "id": "-h1priLU5Sxt",
        "outputId": "91f1a5b5-e7c3-4f7e-8c1e-66b2662a248b"
      },
      "execution_count": null,
      "outputs": [
        {
          "output_type": "stream",
          "name": "stdout",
          "text": [
            "[[[1 2 3]\n",
            "  [5 6 7]]\n",
            "\n",
            " [[1 2 3]\n",
            "  [5 6 7]]\n",
            "\n",
            " [[1 2 3]\n",
            "  [5 6 7]]] <class 'numpy.ndarray'> 3\n"
          ]
        }
      ]
    },
    {
      "cell_type": "code",
      "source": [
        "#ND\n",
        "import numpy as np\n",
        "arr=np.array([1,2,3,4,5], ndmin=5)\n",
        "print(arr,type(arr),arr.ndim)"
      ],
      "metadata": {
        "colab": {
          "base_uri": "https://localhost:8080/"
        },
        "id": "NNSeimhe7yqa",
        "outputId": "8b60c4bb-7e1b-43df-a602-8fd728f56ef8"
      },
      "execution_count": null,
      "outputs": [
        {
          "output_type": "stream",
          "name": "stdout",
          "text": [
            "[[[[[1 2 3 4 5]]]]] <class 'numpy.ndarray'> 5\n"
          ]
        }
      ]
    },
    {
      "cell_type": "code",
      "source": [
        "#Accessing the array\n",
        "import numpy as np\n",
        "arr1=np.array((1,2,3,4,5))\n",
        "print(arr1[0],arr1[1])\n"
      ],
      "metadata": {
        "colab": {
          "base_uri": "https://localhost:8080/"
        },
        "id": "zkNtmDbb9Mz9",
        "outputId": "83d82f4b-114a-4e2b-c098-d70ad0f1d50a"
      },
      "execution_count": null,
      "outputs": [
        {
          "output_type": "stream",
          "name": "stdout",
          "text": [
            "1 2\n"
          ]
        }
      ]
    },
    {
      "cell_type": "code",
      "source": [
        "'''Write a code which will check weather an array is having same elements from left to right or right to left\n",
        "1234321 =yes\n",
        "12234=no\n",
        "'''\n",
        "import numpy as np\n",
        "\n",
        "arr1=np.array((1,2,3,4))\n",
        "print(arr1,type(arr1),arr1.ndim)\n",
        "\n",
        "for i in arr1:\n",
        "  print(i)\n",
        "\n",
        "\n"
      ],
      "metadata": {
        "colab": {
          "base_uri": "https://localhost:8080/"
        },
        "id": "tmSvJCS6-gv9",
        "outputId": "6364a059-0b79-4cc3-e386-3b45d3690e4b"
      },
      "execution_count": null,
      "outputs": [
        {
          "output_type": "stream",
          "name": "stdout",
          "text": [
            "[1 2 3 4] <class 'numpy.ndarray'> 1\n",
            "1\n",
            "2\n",
            "3\n",
            "4\n"
          ]
        }
      ]
    },
    {
      "cell_type": "code",
      "source": [
        "'''Write a code which will check weather an array is having same elements from left to right or right to left\n",
        "1234321 =yes\n",
        "12234=no\n",
        "'''\n",
        "l=[1,2,3,2,1]\n",
        "for i in range(len(l)//2+1):\n",
        "  if l[i]!=l[-(i+1)]:\n",
        "   print('Not equal')\n",
        "   break\n",
        "\n",
        "else:\n",
        "     print('list is palindrom ')\n",
        "\n",
        "\n",
        "\n",
        "\n"
      ],
      "metadata": {
        "colab": {
          "base_uri": "https://localhost:8080/"
        },
        "id": "90cf0LUpB3xr",
        "outputId": "e071a604-dde2-4bad-8b68-6eaaf5b66553"
      },
      "execution_count": null,
      "outputs": [
        {
          "output_type": "stream",
          "name": "stdout",
          "text": [
            "list is palindrom \n"
          ]
        }
      ]
    },
    {
      "cell_type": "code",
      "source": [
        "#Accessing 2D array\n",
        "import numpy as np\n",
        "arr=np.array([[1,2,3,4,5],[6,7,8,9,10]])\n",
        "print(arr)\n",
        "print('elements')\n",
        "print(arr[0,0])\n",
        "print(arr[0,-1])\n",
        "print(arr[1,-2])"
      ],
      "metadata": {
        "colab": {
          "base_uri": "https://localhost:8080/"
        },
        "id": "VgBjlirPLhfO",
        "outputId": "7fb09089-957a-480f-aa98-a9b207728b1d"
      },
      "execution_count": null,
      "outputs": [
        {
          "output_type": "stream",
          "name": "stdout",
          "text": [
            "[[ 1  2  3  4  5]\n",
            " [ 6  7  8  9 10]]\n",
            "elements\n",
            "1\n",
            "5\n",
            "9\n"
          ]
        }
      ]
    },
    {
      "cell_type": "code",
      "source": [
        "import numpy as np\n",
        "\n",
        "arr=np.array([1,2,3,4,5])\n",
        "print(arr,arr.shape)\n",
        "print(arr[1:3])\n",
        "print(arr[::-1])"
      ],
      "metadata": {
        "colab": {
          "base_uri": "https://localhost:8080/"
        },
        "id": "yPuaEta1LrSF",
        "outputId": "7d0fbd87-ed42-4f32-abda-b0f3cabc449b"
      },
      "execution_count": 11,
      "outputs": [
        {
          "output_type": "stream",
          "name": "stdout",
          "text": [
            "[1 2 3 4 5] (5,)\n",
            "[2 3]\n",
            "[5 4 3 2 1]\n"
          ]
        }
      ]
    },
    {
      "cell_type": "code",
      "source": [
        "#Checking data type\n",
        "arr=np.array([1,2,3,4])\n",
        "arr1=np.array(['apple','bananajjj','grapes'])\n",
        "arr2=np.array(['a','b'])\n",
        "print(arr,arr.dtype)\n",
        "print(arr1,arr1.dtype)\n",
        "print(arr2,arr2.dtype)"
      ],
      "metadata": {
        "colab": {
          "base_uri": "https://localhost:8080/"
        },
        "id": "WRDDBcMiQuCP",
        "outputId": "08097276-b8b2-45fc-cb04-e190e1a32448"
      },
      "execution_count": 16,
      "outputs": [
        {
          "output_type": "stream",
          "name": "stdout",
          "text": [
            "[1 2 3 4] int64\n",
            "['apple' 'bananajjj' 'grapes'] <U9\n",
            "['a' 'b'] <U1\n"
          ]
        }
      ]
    },
    {
      "cell_type": "code",
      "source": [
        "#Creating arrays with the deffined data type\n",
        "\n",
        "import numpy as np\n",
        "\n",
        "arr=np.array([1,24,3,4,5], dtype='S')\n",
        "print(arr,arr.dtype)"
      ],
      "metadata": {
        "colab": {
          "base_uri": "https://localhost:8080/"
        },
        "id": "BUfJ7yNjR8IN",
        "outputId": "45853872-bed6-425e-f699-da834bb4f1b9"
      },
      "execution_count": 23,
      "outputs": [
        {
          "output_type": "stream",
          "name": "stdout",
          "text": [
            "[b'1' b'24' b'3' b'4' b'5'] |S2\n"
          ]
        }
      ]
    },
    {
      "cell_type": "code",
      "source": [],
      "metadata": {
        "id": "ZFInJn12TNgf"
      },
      "execution_count": null,
      "outputs": []
    },
    {
      "cell_type": "code",
      "source": [
        "#Creating arrays with the deffined size of int\n",
        "\n",
        "import numpy as np\n",
        "\n",
        "arr=np.array([1,24,3,4,5], dtype=np.int8)\n",
        "print(arr,arr.dtype)"
      ],
      "metadata": {
        "colab": {
          "base_uri": "https://localhost:8080/"
        },
        "outputId": "d12f08b0-56eb-4920-8e36-9719e0d22258",
        "id": "wCglH66-TNx_"
      },
      "execution_count": 24,
      "outputs": [
        {
          "output_type": "stream",
          "name": "stdout",
          "text": [
            "[ 1 24  3  4  5] int8\n"
          ]
        }
      ]
    },
    {
      "cell_type": "code",
      "source": [
        "#float to int\n",
        "a=[1.2,1.3,5.6,7.8]\n",
        "new_a=np.array(a)\n",
        "new_int=new_a.astype(int)\n",
        "print(new_int,new_int.dtype)"
      ],
      "metadata": {
        "colab": {
          "base_uri": "https://localhost:8080/"
        },
        "id": "GR1Xb9j9TVNA",
        "outputId": "ade4788f-7a98-4705-88e2-c33046600884"
      },
      "execution_count": 32,
      "outputs": [
        {
          "output_type": "stream",
          "name": "stdout",
          "text": [
            "[1 1 5 7] int64\n"
          ]
        }
      ]
    },
    {
      "cell_type": "code",
      "source": [
        "#Array rreshape\n",
        "\n",
        "arr=np.array([1,2,3,4,5,6,7,8,9,10,11,12])\n",
        "n=arr.reshape(3,4)\n",
        "print(n,n.ndim)"
      ],
      "metadata": {
        "colab": {
          "base_uri": "https://localhost:8080/"
        },
        "id": "W-9EYUJEXPnN",
        "outputId": "83c55752-fb85-4bbb-c1e5-2ecca392370d"
      },
      "execution_count": 34,
      "outputs": [
        {
          "output_type": "stream",
          "name": "stdout",
          "text": [
            "[[ 1  2  3  4]\n",
            " [ 5  6  7  8]\n",
            " [ 9 10 11 12]] 2\n"
          ]
        }
      ]
    },
    {
      "cell_type": "code",
      "source": [
        "# 2 d to 1 d using reshape (-1) :Flattening the aarrya converting multidimensional array to 1 D array\n",
        "import numpy as np\n",
        "\n",
        "arr=np.array(([1,2,3,4,5],[6,7,8,9,10]))\n",
        "print(arr)\n",
        "new_arr=arr.reshape(-1)\n",
        "print(new_arr)\n"
      ],
      "metadata": {
        "colab": {
          "base_uri": "https://localhost:8080/"
        },
        "id": "jLh1JD9AYJLM",
        "outputId": "cd28ba06-cd75-4d72-8b42-987880fe8d19"
      },
      "execution_count": 40,
      "outputs": [
        {
          "output_type": "stream",
          "name": "stdout",
          "text": [
            "[[ 1  2  3  4  5]\n",
            " [ 6  7  8  9 10]]\n",
            "[ 1  2  3  4  5  6  7  8  9 10]\n"
          ]
        }
      ]
    },
    {
      "cell_type": "code",
      "source": [
        "#Iterating an array: going through elements one by one.\n",
        "import numpy as np\n",
        "arr=np.array([1,2,3,4,5,6,7,8,9,10,11,12])\n",
        "print(arr,arr.ndim)\n",
        "print(type(arr[0]))\n",
        "print(\"Data type:\", arr.dtype)\n",
        "print(type(arr))\n",
        "for i in arr:\n",
        "  print(i)\n"
      ],
      "metadata": {
        "colab": {
          "base_uri": "https://localhost:8080/"
        },
        "id": "i9E0nkyerjMK",
        "outputId": "d87f2fe4-772a-4c84-99de-284c6c53daed"
      },
      "execution_count": 55,
      "outputs": [
        {
          "output_type": "stream",
          "name": "stdout",
          "text": [
            "[ 1  2  3  4  5  6  7  8  9 10 11 12] 1\n",
            "<class 'numpy.int64'>\n",
            "Data type: int64\n",
            "<class 'numpy.ndarray'>\n",
            "1\n",
            "2\n",
            "3\n",
            "4\n",
            "5\n",
            "6\n",
            "7\n",
            "8\n",
            "9\n",
            "10\n",
            "11\n",
            "12\n"
          ]
        }
      ]
    },
    {
      "cell_type": "markdown",
      "source": [
        "Great question! Here's why NumPy accepts 'test':\n",
        "What's happening:\n",
        "NumPy arrays must have a single data type for all elements. When you mix integers and a string, NumPy converts everything to the \"lowest common denominator\" - which is strings!"
      ],
      "metadata": {
        "id": "X9gjK1lFuU_S"
      }
    },
    {
      "cell_type": "code",
      "source": [
        "import numpy as np\n",
        "\n",
        "arr = np.array([1, 2, 3, 4, 5, 6, 7, 8, 9, 10, 11, 12, 'test'])\n",
        "print(arr)\n",
        "# Output: ['1' '2' '3' '4' '5' '6' '7' '8' '9' '10' '11' '12' 'test']\n",
        "\n",
        "print(\"Data type:\", arr.dtype)  # <-- Check this!\n",
        "# Output: <U21 (Unicode string)\n",
        "\n",
        "# Now your integers are strings!\n",
        "print(type(arr[0]))  # <class 'numpy.str_'>\n",
        "print(arr[0] + arr[1])  # '12' not 3! (string concatenation)"
      ],
      "metadata": {
        "colab": {
          "base_uri": "https://localhost:8080/"
        },
        "id": "t7qgNegJuS9g",
        "outputId": "f0477575-5c79-4cf9-d8e6-7002868f55b1"
      },
      "execution_count": 52,
      "outputs": [
        {
          "output_type": "stream",
          "name": "stdout",
          "text": [
            "['1' '2' '3' '4' '5' '6' '7' '8' '9' '10' '11' '12' 'test']\n",
            "Data type: <U21\n",
            "<class 'numpy.str_'>\n",
            "12\n"
          ]
        }
      ]
    },
    {
      "cell_type": "markdown",
      "source": [
        "Great question! Let me explain with examples:\n",
        "\"Lowest common denominator\" in NumPy means the data type that can hold ALL the values without losing information.\n",
        "Think of it like a hierarchy:\n",
        "\n",
        "string (most flexible - can hold anything)\n",
        "  ↑\n",
        "float (can hold decimals and whole numbers)\n",
        "  ↑\n",
        "int (can only hold whole numbers)\n",
        "  ↑\n",
        "bool (can only hold True/False)\n",
        "\n",
        "\n",
        "The Rule:\n",
        "NumPy always picks the type that can represent all your data. String wins because it can represent anything (numbers, text, symbols), but you lose the ability to do math!\n",
        "Think of it like packing boxes - you need a box big enough to fit everything, even if most items are small! 📦\n",
        "Does that make sense?"
      ],
      "metadata": {
        "id": "DtP5948HwMi9"
      }
    },
    {
      "cell_type": "code",
      "source": [
        "import numpy as np\n",
        "\n",
        "# Example 1: int + float → float\n",
        "arr1 = np.array([1, 2, 3.5])\n",
        "print(arr1.dtype)  # float64\n",
        "# Why? 3.5 needs decimals, so ALL become floats: [1.0, 2.0, 3.5]\n",
        "\n",
        "# Example 2: int + string → string\n",
        "arr2 = np.array([1, 2, 'hello'])\n",
        "print(arr2.dtype)  # <U21 (string)\n",
        "# Why? 'hello' can't be a number, so ALL become strings: ['1', '2', 'hello']\n",
        "\n",
        "# Example 3: bool + int → int\n",
        "arr3 = np.array([True, False, 5])\n",
        "print(arr3.dtype)  # int64\n",
        "# Result: [1, 0, 5] - bools converted to 1s and 0s\n",
        "\n",
        "# Example 4: All ints stay ints\n",
        "arr4 = np.array([1, 2, 3, 4])\n",
        "print(arr4.dtype)  # int64\n",
        "# Perfect! No conversion needed"
      ],
      "metadata": {
        "colab": {
          "base_uri": "https://localhost:8080/"
        },
        "id": "4EJgDv2hTf7E",
        "outputId": "e06f13ad-af92-43eb-8f11-5ab5e923fff0"
      },
      "execution_count": 56,
      "outputs": [
        {
          "output_type": "stream",
          "name": "stdout",
          "text": [
            "float64\n",
            "<U21\n",
            "int64\n",
            "int64\n"
          ]
        }
      ]
    },
    {
      "cell_type": "markdown",
      "source": [
        "🧩 What Does Iterating an Array Mean?\n",
        "\n",
        "Iteration simply means going through each element (or sub-array) in an array, one by one — just like looping over a list.\n",
        "\n",
        "In Python:\n",
        " Iterating 1d num py\n",
        "import numpy as np\n",
        "\n",
        "arr = np.array([10, 20, 30, 40])\n",
        "\n",
        "for x in arr:\n",
        "    print(x)\n"
      ],
      "metadata": {
        "id": "KMKnGLzAySAL"
      }
    },
    {
      "cell_type": "code",
      "source": [
        "import numpy as np\n",
        "\n",
        "arr = np.array([10, 20, 30, 40])\n",
        "\n",
        "for x in arr:\n",
        "    print(x)\n"
      ],
      "metadata": {
        "colab": {
          "base_uri": "https://localhost:8080/"
        },
        "id": "Kwu_oU1Vy6rA",
        "outputId": "82a6e865-ca3d-45fb-eae6-8078190d494a"
      },
      "execution_count": 57,
      "outputs": [
        {
          "output_type": "stream",
          "name": "stdout",
          "text": [
            "10\n",
            "20\n",
            "30\n",
            "40\n"
          ]
        }
      ]
    },
    {
      "cell_type": "code",
      "source": [
        "#2D array and sum of all elements\n",
        "import numpy as np\n",
        "\n",
        "arr=np.array([[1,2,4],[5,6,7]])\n",
        "print(arr.ndim)\n",
        "print(type(arr))\n",
        "print('Shape of array',arr.shape)\n",
        "for i  in arr:\n",
        "  print(i)\n",
        "print(sum(i))\n"
      ],
      "metadata": {
        "colab": {
          "base_uri": "https://localhost:8080/"
        },
        "id": "R6bBIeDMzCFR",
        "outputId": "56b2eefb-2ec3-402e-d3cc-f710de1c2537"
      },
      "execution_count": 64,
      "outputs": [
        {
          "output_type": "stream",
          "name": "stdout",
          "text": [
            "2\n",
            "<class 'numpy.ndarray'>\n",
            "Shape of array (2, 3)\n",
            "[1 2 4]\n",
            "[5 6 7]\n",
            "18\n"
          ]
        }
      ]
    },
    {
      "cell_type": "markdown",
      "source": [
        "⚙️ Example 3: Using np.nditer() (Best for any dimension)\n",
        "\n",
        "numpy.nditer() is a special iterator designed for efficient looping over arrays of any dimension.\n",
        "\n",
        "import numpy as np\n",
        "\n",
        "arr = np.array([[1, 2, 3], [4, 5, 6]])\n",
        "\n",
        "for x in np.nditer(arr):\n",
        "    print(x)\n",
        "\n",
        "nditer() flattens the array automatically and gives each element one by one."
      ],
      "metadata": {
        "id": "KDjzxmqf0ow8"
      }
    },
    {
      "cell_type": "markdown",
      "source": [],
      "metadata": {
        "id": "O4GNxRw8ySMa"
      }
    },
    {
      "cell_type": "code",
      "source": [
        "import numpy as np\n",
        "\n",
        "arr = np.array([[1, 2, 3], [4, 5, 6]])\n",
        "\n",
        "for x in np.nditer(arr):\n",
        "    print(x)\n"
      ],
      "metadata": {
        "colab": {
          "base_uri": "https://localhost:8080/"
        },
        "id": "yDbX2AoRvG01",
        "outputId": "caef9834-1c60-4504-bd69-f3f0af6058b3"
      },
      "execution_count": 65,
      "outputs": [
        {
          "output_type": "stream",
          "name": "stdout",
          "text": [
            "1\n",
            "2\n",
            "3\n",
            "4\n",
            "5\n",
            "6\n"
          ]
        }
      ]
    },
    {
      "cell_type": "code",
      "source": [
        "#Concatinate of array\n",
        "\n",
        "import numpy as np\n",
        "\n",
        "arr=np.array([1,2,3,4])\n",
        "arr2=np.array([3,4,5,6])\n",
        "print(type(arr))\n",
        "print('Shape of array',arr.shape,arr2.shape,'dimension of arrays',arr.ndim,arr2.ndim)\n",
        "print(arr)\n",
        "print(arr2)\n",
        "print(\"_\"*20)\n",
        "con=np.concatenate((arr,arr2))\n",
        "print(con)\n",
        "\n"
      ],
      "metadata": {
        "colab": {
          "base_uri": "https://localhost:8080/"
        },
        "id": "jwe9vO3o1BGF",
        "outputId": "cc1bf6fe-90dd-46ea-b5c2-f955991ec75f"
      },
      "execution_count": 76,
      "outputs": [
        {
          "output_type": "stream",
          "name": "stdout",
          "text": [
            "<class 'numpy.ndarray'>\n",
            "Shape of array (4,) (4,) dimension of arrays 1 1\n",
            "[1 2 3 4]\n",
            "[3 4 5 6]\n",
            "____________________\n",
            "[1 2 3 4 3 4 5 6]\n"
          ]
        }
      ]
    },
    {
      "cell_type": "code",
      "source": [
        "#Cocatenate 2d array with consecutive rows and columns in sequence\n",
        "\n",
        "import numpy as np\n",
        "\n",
        "arr=np.array([[1,2,3],[4,5,6]])\n",
        "arr2=np.array([[7,8,9],[10,11,12]])\n",
        "\n",
        "print(type(arr),arr.ndim,arr.shape)\n",
        "print(type(arr2),arr2.ndim,arr2.shape)\n",
        "print(arr)\n",
        "print(arr2)\n",
        "print('*'*20)\n",
        "\n",
        "new_arr=np.concatenate((arr,arr2))\n",
        "\n",
        "print(new_arr)"
      ],
      "metadata": {
        "colab": {
          "base_uri": "https://localhost:8080/"
        },
        "id": "By40ZVPS3d-V",
        "outputId": "540977dd-e742-44d8-cce9-b72e7a946d17"
      },
      "execution_count": 84,
      "outputs": [
        {
          "output_type": "stream",
          "name": "stdout",
          "text": [
            "<class 'numpy.ndarray'> 2 (2, 3)\n",
            "<class 'numpy.ndarray'> 2 (2, 3)\n",
            "[[1 2 3]\n",
            " [4 5 6]]\n",
            "[[ 7  8  9]\n",
            " [10 11 12]]\n",
            "********************\n",
            "[[ 1  2  3]\n",
            " [ 4  5  6]\n",
            " [ 7  8  9]\n",
            " [10 11 12]]\n"
          ]
        }
      ]
    },
    {
      "cell_type": "code",
      "source": [
        "#Cocatenate 2d array with consecutive rows and columns in sequence second matrix columnwise\n",
        "\n",
        "\n",
        "import numpy as np\n",
        "\n",
        "arr=np.array([[1,2,3],[4,5,6]])\n",
        "arr2=np.array([[7,8,9],[10,11,12]])\n",
        "\n",
        "print(type(arr),arr.ndim,arr.shape)\n",
        "print(type(arr2),arr2.ndim,arr2.shape)\n",
        "print(arr)\n",
        "print(arr2)\n",
        "print('*'*20)\n",
        "\n",
        "new_arr=np.concatenate((arr,arr2),axis=1)\n",
        "\n",
        "print(new_arr)"
      ],
      "metadata": {
        "colab": {
          "base_uri": "https://localhost:8080/"
        },
        "id": "uZO6ykGGMxiI",
        "outputId": "b026a753-907a-4ebf-ce89-22c28f13580a"
      },
      "execution_count": 85,
      "outputs": [
        {
          "output_type": "stream",
          "name": "stdout",
          "text": [
            "<class 'numpy.ndarray'> 2 (2, 3)\n",
            "<class 'numpy.ndarray'> 2 (2, 3)\n",
            "[[1 2 3]\n",
            " [4 5 6]]\n",
            "[[ 7  8  9]\n",
            " [10 11 12]]\n",
            "********************\n",
            "[[ 1  2  3  7  8  9]\n",
            " [ 4  5  6 10 11 12]]\n"
          ]
        }
      ]
    },
    {
      "cell_type": "code",
      "source": [
        "#Split Array\n",
        "import numpy as np\n",
        "\n",
        "arr=np.array([1,2,3,4,5,6,7,8,9,10,11,12])\n",
        "newarr=np.array_split(arr,4)\n",
        "print(newarr)\n",
        "print(newarr[0])\n",
        "print(newarr[1])\n",
        "print(newarr[2])\n",
        "print(newarr[3])"
      ],
      "metadata": {
        "colab": {
          "base_uri": "https://localhost:8080/"
        },
        "id": "qYxtgJJzNkox",
        "outputId": "d32bb0cd-2457-4348-9445-83ab71430d22"
      },
      "execution_count": 88,
      "outputs": [
        {
          "output_type": "stream",
          "name": "stdout",
          "text": [
            "[array([1, 2, 3]), array([4, 5, 6]), array([7, 8, 9]), array([10, 11, 12])]\n",
            "[1 2 3]\n",
            "[4 5 6]\n",
            "[7 8 9]\n",
            "[10 11 12]\n"
          ]
        }
      ]
    },
    {
      "cell_type": "code",
      "source": [
        "#np.where(arr==4) finds the index where the value is 4\n",
        "#Output: (array([3]),) means 4 is at index 3\n",
        "\n",
        "import numpy as np\n",
        "\n",
        "arr=np.array([1,2,3,4,5,6,7,8,9,10,11,12])\n",
        "\n",
        "x=np.where(arr==4)\n",
        "print(x)\n"
      ],
      "metadata": {
        "colab": {
          "base_uri": "https://localhost:8080/"
        },
        "id": "gcFDMFyPQecg",
        "outputId": "054cb04d-2a88-43c9-8863-508ffc5a31d7"
      },
      "execution_count": 89,
      "outputs": [
        {
          "output_type": "stream",
          "name": "stdout",
          "text": [
            "(array([3]),)\n"
          ]
        }
      ]
    },
    {
      "cell_type": "code",
      "source": [
        "#np.where(arr==4) finds the index where the value is 4\n",
        "#Output: (array([3]),) means 4 is at index 3\n",
        "\n",
        "import numpy as np\n",
        "\n",
        "arr=np.array([1,2,3,4,5,6,4,7,8,9,4,10,11,12])\n",
        "\n",
        "x=np.where(arr==4)\n",
        "print(x)"
      ],
      "metadata": {
        "colab": {
          "base_uri": "https://localhost:8080/"
        },
        "id": "YiabiiwgRvAj",
        "outputId": "154369bb-fe46-4278-fa9d-040cabaf815a"
      },
      "execution_count": 90,
      "outputs": [
        {
          "output_type": "stream",
          "name": "stdout",
          "text": [
            "(array([ 3,  6, 10]),)\n"
          ]
        }
      ]
    },
    {
      "cell_type": "code",
      "source": [
        "#zero metrix\n",
        "z=np.zeros((3,3))\n",
        "print(z)\n",
        "o=np.ones((3,3))\n",
        "print(o)\n",
        "e=np.eye((3))#Identity Matrix\n",
        "print(e)"
      ],
      "metadata": {
        "colab": {
          "base_uri": "https://localhost:8080/"
        },
        "id": "5zQDP8WBR5BG",
        "outputId": "d9539d96-1b77-4702-a6e4-9e002831343c"
      },
      "execution_count": 95,
      "outputs": [
        {
          "output_type": "stream",
          "name": "stdout",
          "text": [
            "[[0. 0. 0.]\n",
            " [0. 0. 0.]\n",
            " [0. 0. 0.]]\n",
            "[[1. 1. 1.]\n",
            " [1. 1. 1.]\n",
            " [1. 1. 1.]]\n",
            "[[1. 0. 0.]\n",
            " [0. 1. 0.]\n",
            " [0. 0. 1.]]\n"
          ]
        }
      ]
    },
    {
      "cell_type": "code",
      "source": [
        "print('Random Intergers',np.random.randint(100,10000,3))\n",
        "print('Random Intergers',np.random.rand(100,10000,3))\n",
        "print('Random Intergers',np.random.randint(100,10000,3))"
      ],
      "metadata": {
        "colab": {
          "base_uri": "https://localhost:8080/"
        },
        "id": "vNXk1Ai3Twef",
        "outputId": "597317cb-081f-44c2-b67e-3a01062ae03a"
      },
      "execution_count": 98,
      "outputs": [
        {
          "output_type": "stream",
          "name": "stdout",
          "text": [
            "Random Intergers [8487 2464  527]\n",
            "Random Intergers [[[0.2258349  0.96267382 0.98763823]\n",
            "  [0.79122145 0.15052802 0.57513571]\n",
            "  [0.19316453 0.43415148 0.71619524]\n",
            "  ...\n",
            "  [0.98731402 0.77144119 0.77288142]\n",
            "  [0.30559881 0.67505766 0.04887195]\n",
            "  [0.52592726 0.05532812 0.90920526]]\n",
            "\n",
            " [[0.61077561 0.74853188 0.56659992]\n",
            "  [0.62529861 0.15857308 0.55610196]\n",
            "  [0.48294778 0.35653399 0.13517947]\n",
            "  ...\n",
            "  [0.19882456 0.11051709 0.08604845]\n",
            "  [0.13566911 0.63602737 0.28369668]\n",
            "  [0.81897664 0.73169722 0.55552996]]\n",
            "\n",
            " [[0.06325243 0.25246913 0.82764758]\n",
            "  [0.39108902 0.88468937 0.2673178 ]\n",
            "  [0.64850705 0.58110138 0.2015652 ]\n",
            "  ...\n",
            "  [0.89101131 0.4120789  0.90710797]\n",
            "  [0.30024684 0.65255023 0.60497303]\n",
            "  [0.29359458 0.47023747 0.64441395]]\n",
            "\n",
            " ...\n",
            "\n",
            " [[0.8519296  0.98178627 0.46497502]\n",
            "  [0.11503722 0.30185266 0.79046954]\n",
            "  [0.61156969 0.74792232 0.38954129]\n",
            "  ...\n",
            "  [0.66755312 0.71668822 0.43415694]\n",
            "  [0.92614337 0.11305142 0.42201735]\n",
            "  [0.57714522 0.49062195 0.29502392]]\n",
            "\n",
            " [[0.54038253 0.19076621 0.01072604]\n",
            "  [0.67270798 0.33913259 0.74808725]\n",
            "  [0.28129857 0.92613197 0.5092074 ]\n",
            "  ...\n",
            "  [0.80414385 0.7745277  0.73658221]\n",
            "  [0.86919101 0.48962457 0.66791417]\n",
            "  [0.7918233  0.23668232 0.04755303]]\n",
            "\n",
            " [[0.40123625 0.24781131 0.54968698]\n",
            "  [0.84615444 0.60976671 0.9784132 ]\n",
            "  [0.65612538 0.24743812 0.42639248]\n",
            "  ...\n",
            "  [0.47808852 0.17037815 0.09260717]\n",
            "  [0.04222009 0.03822441 0.75845649]\n",
            "  [0.46730913 0.27148872 0.96002986]]]\n"
          ]
        }
      ]
    },
    {
      "cell_type": "code",
      "source": [
        "\n",
        "a=np.array(([1,2],[3,4]))\n",
        "arr2=np.array(([5,6],[7,8]))\n",
        "arr_add=arr+arr2\n",
        "print(type(arr),a.ndim,a.dtype,a.shape)\n",
        "print(arr_add)\n",
        "print(a.T)"
      ],
      "metadata": {
        "colab": {
          "base_uri": "https://localhost:8080/"
        },
        "id": "XY4gL6gNUUiV",
        "outputId": "d13ef56e-f716-43b5-e933-2865a89d6a3a"
      },
      "execution_count": 112,
      "outputs": [
        {
          "output_type": "stream",
          "name": "stdout",
          "text": [
            "<class 'numpy.ndarray'> 2 int64 (2, 2)\n",
            "[[ 6  8]\n",
            " [10 12]]\n",
            "[[1 3]\n",
            " [2 4]]\n"
          ]
        }
      ]
    },
    {
      "cell_type": "code",
      "source": [
        "#weather Data\n",
        "import numpy as np\n",
        "\n",
        "temps=np.random.randint(20,40,30)\n",
        "print(temps)\n",
        "print('Lowest temparature \\n',np.min(temps))\n",
        "print('Highest temparature \\n',np.max(temps))\n",
        "print('Avg temparature \\n',np.average(temps))"
      ],
      "metadata": {
        "colab": {
          "base_uri": "https://localhost:8080/"
        },
        "id": "jCJSd8D8XpM9",
        "outputId": "428fe726-bcb2-44cd-eec9-b21eeb3d11b2"
      },
      "execution_count": 114,
      "outputs": [
        {
          "output_type": "stream",
          "name": "stdout",
          "text": [
            "[30 27 25 33 37 26 24 22 37 34 37 29 36 37 35 31 24 37 22 38 37 38 34 26\n",
            " 29 33 20 30 29 35]\n",
            "Lowest temparature \n",
            " 20\n",
            "Highest temparature \n",
            " 38\n",
            "Avg temparature \n",
            " 31.066666666666666\n"
          ]
        }
      ]
    },
    {
      "cell_type": "code",
      "source": [],
      "metadata": {
        "id": "SovqaHraPjkE"
      },
      "execution_count": null,
      "outputs": []
    }
  ]
}