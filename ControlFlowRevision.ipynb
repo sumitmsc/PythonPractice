{
  "nbformat": 4,
  "nbformat_minor": 0,
  "metadata": {
    "colab": {
      "provenance": [],
      "authorship_tag": "ABX9TyMPuktbHK+p/MVgLj/v5unN",
      "include_colab_link": true
    },
    "kernelspec": {
      "name": "python3",
      "display_name": "Python 3"
    },
    "language_info": {
      "name": "python"
    }
  },
  "cells": [
    {
      "cell_type": "markdown",
      "metadata": {
        "id": "view-in-github",
        "colab_type": "text"
      },
      "source": [
        "<a href=\"https://colab.research.google.com/github/sumitmsc/PythonPractice/blob/main/ControlFlowRevision.ipynb\" target=\"_parent\"><img src=\"https://colab.research.google.com/assets/colab-badge.svg\" alt=\"Open In Colab\"/></a>"
      ]
    },
    {
      "cell_type": "code",
      "execution_count": null,
      "metadata": {
        "id": "w8snz3GqcLwX"
      },
      "outputs": [],
      "source": []
    },
    {
      "cell_type": "markdown",
      "source": [
        "Control Flow in Python refers to the way the program decides which instructions to execute and in what order based on conditions and loops. It controls the “flow” of your code.\n",
        "\n",
        "✅ Why Do We Need Control Flow?\n",
        "Because not all programs run in a straight line. Sometimes you need:\n",
        "\n",
        "Decisions (if something is true, do this)\n",
        "Repetition (repeat something multiple times)"
      ],
      "metadata": {
        "id": "q6mix4NmfykT"
      }
    },
    {
      "cell_type": "code",
      "source": [
        "#Conditinal statements if , if-else, if-elif-else\n",
        "\n",
        "age=int(input('Enter your age :'))\n",
        "if age>=18:\n",
        "  print('Eligible for voting')\n",
        "else:\n",
        "  print('Not Eligible for voting')\n"
      ],
      "metadata": {
        "colab": {
          "base_uri": "https://localhost:8080/"
        },
        "id": "pTbYcEI1h6hY",
        "outputId": "8146cf40-aaf6-4cbb-b48f-e148d001731f"
      },
      "execution_count": null,
      "outputs": [
        {
          "output_type": "stream",
          "name": "stdout",
          "text": [
            "Enter your age :18\n",
            "Eligible for voting\n"
          ]
        }
      ]
    },
    {
      "cell_type": "code",
      "source": [
        "#if-else-checking if adhar number starts from 12 then only on the booth\n",
        "\n",
        "adhar_number=input('please enter your adhar number')\n",
        "if adhar_number.startswith('12') and adhar_number.isdigit() and len(adhar_number)==4:\n",
        "  print('Eligible for this booth')\n",
        "else:\n",
        "  print('Not eligible for this booth')\n",
        "\n"
      ],
      "metadata": {
        "colab": {
          "base_uri": "https://localhost:8080/"
        },
        "id": "Q0cZEqd0iZAB",
        "outputId": "1d261c05-50f5-417c-9fd9-95d4282f5ae2"
      },
      "execution_count": null,
      "outputs": [
        {
          "output_type": "stream",
          "name": "stdout",
          "text": [
            "please enter your adhar numbereeeee\n",
            "Not eligible for this booth\n"
          ]
        }
      ]
    },
    {
      "cell_type": "code",
      "source": [
        "#if-elif-else\n",
        "adhar_number=input('Please enter the Aadhar Number :').strip()\n",
        "if adhar_number.startswith('11') and adhar_number.isdigit() and len(adhar_number)==4:\n",
        "  print('Eligible for voting in booth')\n",
        "elif adhar_number.isalnum() and not adhar_number.isdigit():\n",
        "  print('You are adhar number is alpha numeric and not eligible here')\n",
        "elif adhar_number.isdigit() and len(adhar_number)!=12:\n",
        "  print('Your booth does not belong here , please check with coordinator')\n",
        "else:\n",
        "  print('Not Eligble on this booth')"
      ],
      "metadata": {
        "colab": {
          "base_uri": "https://localhost:8080/"
        },
        "id": "S3R5LgzVlykR",
        "outputId": "bd777e74-7b32-4c1c-ee5d-ba5ac23ccfcf"
      },
      "execution_count": null,
      "outputs": [
        {
          "output_type": "stream",
          "name": "stdout",
          "text": [
            "Please enter the Aadhar Number :hhh\n",
            "You are adhar number is alpha numeric and not eligible here\n"
          ]
        }
      ]
    },
    {
      "cell_type": "markdown",
      "source": [
        "A for loop in Python is used to repeat a block of code for each item in a sequence (like a list, string, tuple, or range). It’s one of the most common ways to iterate over data.\n",
        "Syntax\n",
        "\n",
        "for variable in sequence:\n",
        "   #Block of data\n",
        "\n",
        "   🔍 How It Works:\n",
        "\n",
        "variable takes each value from the sequence one by one.\n",
        "The loop runs until all items are processed."
      ],
      "metadata": {
        "id": "kDXAzM6YxcYq"
      }
    },
    {
      "cell_type": "code",
      "source": [
        "#Loop through list\n",
        "\n",
        "fruits=['apple','banana','grapes']\n",
        "print(fruits) #Displays the list structure\n",
        "for fruit in fruits:\n",
        "  print(fruit) #Displays the each value or elements one by one , making it cleaner for user facing output"
      ],
      "metadata": {
        "colab": {
          "base_uri": "https://localhost:8080/"
        },
        "id": "T2KzKSjkzsn8",
        "outputId": "88d7dfaf-8bac-46d8-8146-a8f4391b7939"
      },
      "execution_count": null,
      "outputs": [
        {
          "output_type": "stream",
          "name": "stdout",
          "text": [
            "['apple', 'banana', 'grapes']\n",
            "apple\n",
            "banana\n",
            "grapes\n"
          ]
        }
      ]
    },
    {
      "cell_type": "code",
      "source": [
        "#Loop through string\n",
        "\n",
        "my_string='I am learning python' #Stores the string in my_string variable\n",
        "print(my_string)  #Prints the entire string as one line\n",
        "\n",
        "#Using for loop\n",
        "for each in my_string:   #Loop through each element/charecter in the string, including spaces\n",
        "  print(each)            #Prints each charecter on a new line"
      ],
      "metadata": {
        "colab": {
          "base_uri": "https://localhost:8080/"
        },
        "id": "0c-0TmOv1MDn",
        "outputId": "c3f5ea04-72a5-43d4-b190-83a36ff7d878"
      },
      "execution_count": null,
      "outputs": [
        {
          "output_type": "stream",
          "name": "stdout",
          "text": [
            "I am learning python\n",
            "I\n",
            " \n",
            "a\n",
            "m\n",
            " \n",
            "l\n",
            "e\n",
            "a\n",
            "r\n",
            "n\n",
            "i\n",
            "n\n",
            "g\n",
            " \n",
            "p\n",
            "y\n",
            "t\n",
            "h\n",
            "o\n",
            "n\n"
          ]
        }
      ]
    },
    {
      "cell_type": "markdown",
      "source": [
        "In Python, range is a built-in function that generates a sequence of numbers. It’s commonly used in loops, especially for loops.\n",
        "\n",
        "✅ Syntax\n",
        "Pythonrange(start, stop, step)Show more lines\n",
        "\n",
        "start → Beginning of the sequence (default = 0)\n",
        "stop → End of the sequence (not included)\n",
        "step → Increment (default = 1)\n"
      ],
      "metadata": {
        "id": "zMEQpdw75w-d"
      }
    },
    {
      "cell_type": "code",
      "source": [
        "#Using Range\n",
        "\n",
        "for each in range(0,11,2):\n",
        "  print(each)\n",
        "\n",
        "print('#Basic Range pirnts numbers from 0 to 10')\n",
        "\n",
        "for i in range(11):\n",
        " print(i)\n",
        "\n",
        "print('#Range with start 1 and end 10 and step count is 3')\n",
        "for i in range(1,11,3): #op 1,4,7,10\n",
        "  print(i)\n"
      ],
      "metadata": {
        "colab": {
          "base_uri": "https://localhost:8080/"
        },
        "id": "QADGWssXxaGq",
        "outputId": "94cb2d3e-b5f5-46f0-d011-41ba56a2e401"
      },
      "execution_count": null,
      "outputs": [
        {
          "output_type": "stream",
          "name": "stdout",
          "text": [
            "0\n",
            "2\n",
            "4\n",
            "6\n",
            "8\n",
            "10\n",
            "0\n",
            "1\n",
            "2\n",
            "3\n",
            "4\n",
            "5\n",
            "6\n",
            "7\n",
            "8\n",
            "9\n",
            "10\n",
            "1\n",
            "4\n",
            "7\n",
            "10\n"
          ]
        }
      ]
    },
    {
      "cell_type": "code",
      "source": [
        "#String\n",
        "my_string='Testing'\n",
        "print(my_string[-1])\n",
        "\n",
        "print('------------')\n",
        "for i in my_string:\n",
        "  print(i)\n",
        "\n",
        "#To check strings are immutable\n",
        "print('--Checking string immutability')\n",
        "my_string[0]='J'"
      ],
      "metadata": {
        "colab": {
          "base_uri": "https://localhost:8080/",
          "height": 349
        },
        "id": "A26Km8AZCA_C",
        "outputId": "827e1ac9-cc04-4e71-85ec-4311f6235281"
      },
      "execution_count": null,
      "outputs": [
        {
          "output_type": "stream",
          "name": "stdout",
          "text": [
            "g\n",
            "------------\n",
            "T\n",
            "e\n",
            "s\n",
            "t\n",
            "i\n",
            "n\n",
            "g\n",
            "--Checking string immutability\n"
          ]
        },
        {
          "output_type": "error",
          "ename": "TypeError",
          "evalue": "'str' object does not support item assignment",
          "traceback": [
            "\u001b[0;31m---------------------------------------------------------------------------\u001b[0m",
            "\u001b[0;31mTypeError\u001b[0m                                 Traceback (most recent call last)",
            "\u001b[0;32m/tmp/ipython-input-1941614601.py\u001b[0m in \u001b[0;36m<cell line: 0>\u001b[0;34m()\u001b[0m\n\u001b[1;32m      9\u001b[0m \u001b[0;31m#To check strings are immutable\u001b[0m\u001b[0;34m\u001b[0m\u001b[0;34m\u001b[0m\u001b[0m\n\u001b[1;32m     10\u001b[0m \u001b[0mprint\u001b[0m\u001b[0;34m(\u001b[0m\u001b[0;34m'--Checking string immutability'\u001b[0m\u001b[0;34m)\u001b[0m\u001b[0;34m\u001b[0m\u001b[0;34m\u001b[0m\u001b[0m\n\u001b[0;32m---> 11\u001b[0;31m \u001b[0mmy_string\u001b[0m\u001b[0;34m[\u001b[0m\u001b[0;36m0\u001b[0m\u001b[0;34m]\u001b[0m\u001b[0;34m=\u001b[0m\u001b[0;34m'J'\u001b[0m\u001b[0;34m\u001b[0m\u001b[0;34m\u001b[0m\u001b[0m\n\u001b[0m",
            "\u001b[0;31mTypeError\u001b[0m: 'str' object does not support item assignment"
          ]
        }
      ]
    },
    {
      "cell_type": "markdown",
      "source": [
        "A while loop in Python is used to repeat a block of code as long as a condition is true. It’s great when you don’t know in advance how many times you need to repeat something.\n",
        "\n",
        "✅ Syntax:\n",
        "\n",
        "while condition:    # code blockShow more lines\n",
        "\n",
        "The loop checks the condition before each iteration.\n",
        "If the condition is True, the code runs.\n",
        "If the condition becomes False, the loop stops."
      ],
      "metadata": {
        "id": "ZRrpu6iND2nG"
      }
    },
    {
      "cell_type": "code",
      "source": [
        "#While loop\n",
        "count=1\n",
        "while count<=5:\n",
        "  print(count)\n",
        "  count+=1"
      ],
      "metadata": {
        "colab": {
          "base_uri": "https://localhost:8080/"
        },
        "id": "IzIsYGhdDv12",
        "outputId": "997934be-fc86-4384-9afd-8126dc3312b4"
      },
      "execution_count": null,
      "outputs": [
        {
          "output_type": "stream",
          "name": "stdout",
          "text": [
            "1\n",
            "2\n",
            "3\n",
            "4\n",
            "5\n"
          ]
        }
      ]
    },
    {
      "cell_type": "code",
      "source": [
        "#Reverse of a string\n",
        "\n",
        "text='Python'\n",
        "rev=''\n",
        "index=len(text)-1\n",
        "while index>=0:\n",
        "  rev+=text[index]\n",
        "  index-=1\n",
        "print('Reversed Text of Python is',rev)"
      ],
      "metadata": {
        "colab": {
          "base_uri": "https://localhost:8080/"
        },
        "id": "llHzjBv2JXXH",
        "outputId": "9c504791-aad3-4419-c20a-4da6f400ddac"
      },
      "execution_count": null,
      "outputs": [
        {
          "output_type": "stream",
          "name": "stdout",
          "text": [
            "Reversed Text of Python is nohtyP\n"
          ]
        }
      ]
    },
    {
      "cell_type": "code",
      "source": [
        "#Print even numbers between 1 to 20 using while\n",
        "\n",
        "n=2\n",
        "while n<=20:\n",
        "  if(n>=20):\n",
        "    break\n",
        "  print(n)\n",
        "  n+=2\n",
        "\n",
        "print(n)\n"
      ],
      "metadata": {
        "colab": {
          "base_uri": "https://localhost:8080/"
        },
        "id": "Se6u-ujFKHv4",
        "outputId": "4b7abb68-285a-45ab-fe3e-f54c608a42a2"
      },
      "execution_count": null,
      "outputs": [
        {
          "output_type": "stream",
          "name": "stdout",
          "text": [
            "2\n",
            "4\n",
            "6\n",
            "8\n",
            "10\n",
            "12\n",
            "14\n",
            "16\n",
            "18\n",
            "20\n"
          ]
        }
      ]
    },
    {
      "cell_type": "code",
      "source": [
        "#Sum of natural numbers from 1 to 10\n",
        "\n",
        "n=1\n",
        "total=0\n",
        "while n<=10:\n",
        "  total+=n\n",
        "  n+=1\n",
        "print('Sum of numbers from 1 to 10 is :',total)\n"
      ],
      "metadata": {
        "colab": {
          "base_uri": "https://localhost:8080/"
        },
        "id": "OejnWJXLNRSK",
        "outputId": "21fee5ca-234c-4dc3-8c28-f3b05af45384"
      },
      "execution_count": null,
      "outputs": [
        {
          "output_type": "stream",
          "name": "stdout",
          "text": [
            "Sum of numbers from 1 to 10 is : 55\n"
          ]
        }
      ]
    },
    {
      "cell_type": "code",
      "source": [
        "#Factorial of number\n",
        "n=5\n",
        "fact=1\n",
        "while n>0:\n",
        "  fact=fact*n\n",
        "  n=n-1\n",
        "  print(f'fact is {fact} and number is {n}')\n",
        "\n",
        "print(fact)"
      ],
      "metadata": {
        "colab": {
          "base_uri": "https://localhost:8080/"
        },
        "id": "3NzrS-2TKl8m",
        "outputId": "c766a6b0-dafc-4406-da2d-6069ff651273"
      },
      "execution_count": null,
      "outputs": [
        {
          "output_type": "stream",
          "name": "stdout",
          "text": [
            "fact is 5 and number is 4\n",
            "fact is 20 and number is 3\n",
            "fact is 60 and number is 2\n",
            "fact is 120 and number is 1\n",
            "fact is 120 and number is 0\n",
            "120\n"
          ]
        }
      ]
    },
    {
      "cell_type": "code",
      "source": [
        "#Checking number is prime or not\n",
        "#if its divisible by 2 and itself\n",
        "\n",
        "num=int(input('Enter the number you want to check if its prime or not :'))\n",
        "\n",
        "if num>1:\n",
        "  i=2\n",
        "  while i<=num // 2 :\n",
        "    if num%i==0:\n",
        "      print(f'The number {num} is not prime')\n",
        "      break\n",
        "    i+=1\n",
        "  else:\n",
        "      print(f'The number {num} is prime')\n",
        "else:\n",
        "  print('Please enter number greator than 1')"
      ],
      "metadata": {
        "colab": {
          "base_uri": "https://localhost:8080/"
        },
        "id": "_9RojhjnuHjk",
        "outputId": "ae1daa36-c3bf-464c-9a57-1bc0a10fd2ff"
      },
      "execution_count": null,
      "outputs": [
        {
          "output_type": "stream",
          "name": "stdout",
          "text": [
            "Enter the number you want to check if its prime or not :7\n",
            "The number 7 is prime\n"
          ]
        }
      ]
    },
    {
      "cell_type": "code",
      "source": [
        "#Using For loop\n",
        "\n",
        "num=int(input('Enter the number to check prime or not:'))\n",
        "if num>1:\n",
        "  i=2\n",
        "  for i in range(2,int(num**0.5)+1):\n",
        "    if num%i==0:\n",
        "      print(f'The number {num} is not prime')\n",
        "      break\n",
        "  else:\n",
        "      print(f'The number {num} is prime')\n",
        "else:\n",
        "  print('Please enter the number greator than 1')"
      ],
      "metadata": {
        "colab": {
          "base_uri": "https://localhost:8080/"
        },
        "id": "qvIlgvGR0MTV",
        "outputId": "f1179fe3-bf55-45db-eb8c-02dfe9badf72"
      },
      "execution_count": null,
      "outputs": [
        {
          "output_type": "stream",
          "name": "stdout",
          "text": [
            "Enter the number to check prime or not:7\n",
            "The number 7 is prime\n"
          ]
        }
      ]
    },
    {
      "cell_type": "code",
      "source": [
        "#Perfect Number is a positive integer that is equal to its all positive devisors\n",
        "#eg 6=1+2+3==6\n",
        "\n",
        "num=int(input('Please enter the number for checking perfect number :'))\n",
        "\n",
        "devisor=0\n",
        "\n",
        "for i in range(1,num):\n",
        "  if num%i==0:\n",
        "    devisor+=i\n",
        "\n",
        "if devisor==num:\n",
        "  print(f'The number {num} is perfect number ')\n",
        "else:\n",
        "  print(f'The number {num} is not perfect number')\n"
      ],
      "metadata": {
        "colab": {
          "base_uri": "https://localhost:8080/"
        },
        "id": "nr8c1XcXqC9-",
        "outputId": "c3b61a53-5d25-4c74-e0f3-6bbaed3ab60d"
      },
      "execution_count": null,
      "outputs": [
        {
          "output_type": "stream",
          "name": "stdout",
          "text": [
            "Please enter the number for checking perfect number6\n",
            "The number 6 is perfect number \n"
          ]
        }
      ]
    },
    {
      "cell_type": "code",
      "source": [
        "#Perfect number using while loop\n",
        "\n",
        "num=int(input('Enter the number you want to check for perfect number or not :'))\n",
        "\n",
        "devisor_sum=0\n",
        "i=1\n",
        "while i<num:# Check all numbers less than n\n",
        "\n",
        "  if num % i == 0: #if i is devisor\n",
        "   devisor_sum+=i\n",
        "\n",
        "  i+=1\n",
        "\n",
        "if devisor_sum==num:\n",
        "  print(f'The number {num} is perfect number')\n",
        "else:\n",
        "  print(f'The number {num} is not perfect number')"
      ],
      "metadata": {
        "colab": {
          "base_uri": "https://localhost:8080/"
        },
        "id": "cgzkJI1ZradB",
        "outputId": "a1d6d667-8d1b-4a72-c75d-cdd1a61208fc"
      },
      "execution_count": null,
      "outputs": [
        {
          "output_type": "stream",
          "name": "stdout",
          "text": [
            "Enter the number you want to check for perfect number or not :7\n",
            "The number 7 is not perfect number\n"
          ]
        }
      ]
    },
    {
      "cell_type": "markdown",
      "source": [
        "A palindrome is a word, number, phrase, or sequence that reads the same forward and backward, ignoring spaces, punctuation, and capitalization.\n",
        "Examples of Palindromes:\n",
        "Words:\n",
        "\n",
        "madam\n",
        "racecar\n",
        "level\n",
        "noon\n",
        "\n",
        "Numbers:\n",
        "\n",
        "121\n",
        "1331\n",
        "12321\n",
        "\n",
        "Phrases (ignoring spaces and punctuation):\n",
        "\n",
        "\"A man, a plan, a canal, Panama!\"\n",
        "\"Was it a car or a cat I saw?\"\n",
        "\n"
      ],
      "metadata": {
        "id": "IGl0NbdpC7_D"
      }
    },
    {
      "cell_type": "code",
      "source": [
        "#To check string is palindrom or not\n",
        "\n",
        "my_string=input('Enter the string :')\n",
        "my_string=my_string.lower().replace(\" \",\"\").replace(\",\",\"\").replace('.','')\n",
        "\n",
        "left=0\n",
        "right=len(my_string)-1\n",
        "is_palindrome=True\n",
        "\n",
        "while left < right:\n",
        "   if my_string[left]!=my_string[right]:\n",
        "      is_palindrom=False\n",
        "      break     #Important to break after string string mismatch\n",
        "\n",
        "   left+=1\n",
        "   right-=1\n",
        "\n",
        "if is_palindrom==True:\n",
        "  print(f'The string {my_string} is palindrom')\n",
        "else:\n",
        "  print(f'The string {my_string} is not palindrom')\n"
      ],
      "metadata": {
        "colab": {
          "base_uri": "https://localhost:8080/"
        },
        "id": "A7MEuqmS7xX0",
        "outputId": "9b7b9ab7-bf77-4f77-fe87-cf58a666eb75"
      },
      "execution_count": 4,
      "outputs": [
        {
          "output_type": "stream",
          "name": "stdout",
          "text": [
            "Enter the string :asdfsadf\n",
            "The string asdfsadf is not palindrom\n"
          ]
        }
      ]
    },
    {
      "cell_type": "code",
      "source": [
        "#Using for loop checking string for palindrome or not\n",
        "\n",
        "s=input('Enter the string...:')\n",
        "#Normalize the string: removing spaces and punctuations\n",
        "s=s.lower().replace(' ','').replace(',','').replace('.','')\n",
        "\n",
        "left=0\n",
        "right=len(s)-1\n",
        "is_palindrome=True\n",
        "\n",
        "#Loop through the string using two pointers\n",
        "for i in s:\n",
        "    if s[left]!=s[right]:\n",
        "      is_palindrome=False\n",
        "      break\n",
        "\n",
        "    left+=1\n",
        "    right-=1\n",
        "\n",
        " #output the result\n",
        "\n",
        "if is_palindrome==True:\n",
        "  print(f'String {s} is palindrome')\n",
        "else:\n",
        "  print((f'String{s} is not palindrome'))\n",
        "\n"
      ],
      "metadata": {
        "colab": {
          "base_uri": "https://localhost:8080/"
        },
        "id": "sj42ooyjABYC",
        "outputId": "879d5dc5-a25f-4a3b-b87f-2611639b2194"
      },
      "execution_count": 6,
      "outputs": [
        {
          "output_type": "stream",
          "name": "stdout",
          "text": [
            "Enter the string...:MaDaM\n",
            "String madam is palindrome\n"
          ]
        }
      ]
    },
    {
      "cell_type": "code",
      "source": [
        "#Check Palindrome Using while loop\n",
        "\n",
        "#Input from user\n",
        "num=int(input('Enter the number...:'))\n",
        "\n",
        "#Store Original string\n",
        "\n",
        "original=num\n",
        "reversed_num=0\n",
        "\n",
        "#Checking numbers till n>0\n",
        "\n",
        "while num > 0:\n",
        "  digit= num % 10  #Getting last digit\n",
        "  reversed_num= reversed_num * 10 + digit #Appending Digit\n",
        "  num=num//10    #removing appended digit\n",
        "\n",
        "if original==reversed_num:\n",
        "  print(f'The Given String {original} is palindrome')\n",
        "else:\n",
        "  print(f'The Given String {original} is not palindrome')\n",
        "\n"
      ],
      "metadata": {
        "colab": {
          "base_uri": "https://localhost:8080/"
        },
        "id": "aIw22VKlVbAq",
        "outputId": "99fc44d9-7010-4c83-f7d0-1560aa8c9380"
      },
      "execution_count": 10,
      "outputs": [
        {
          "output_type": "stream",
          "name": "stdout",
          "text": [
            "Enter the number...:121\n",
            "The Given String 121 is palindrome\n"
          ]
        }
      ]
    },
    {
      "cell_type": "code",
      "source": [
        "# Checking Palindrome using for loop\n",
        "#we can not use for loop for iterating numbers\n",
        "#because for loop is used to iterate the data structures/sequences like string,list,tuple,dictionaries,set\n",
        "#Instead we can convert the numbers to string can check by using for loop\n",
        "\n",
        "num_string=input('Enter the number...')\n",
        "print(\"Note:We are using for loop so we will be cheking it as a string\")\n",
        "\n",
        "reversed_string=num_string[::-1]\n",
        "\n",
        "if num_string==reversed_string:\n",
        "  print(f'numbers {num_string} is palindrom')\n",
        "else:\n",
        "  print(f'numbers {num_string} is not polindrom')"
      ],
      "metadata": {
        "colab": {
          "base_uri": "https://localhost:8080/"
        },
        "id": "-AfSVXVtXWBz",
        "outputId": "6787f52c-4bf0-4f15-b8c2-6a9f51478c6a"
      },
      "execution_count": 13,
      "outputs": [
        {
          "output_type": "stream",
          "name": "stdout",
          "text": [
            "Enter the number...121\n",
            "Note:We are using for loop so we will be cheking it as a string\n",
            "numbers 121 is palindrom\n"
          ]
        }
      ]
    },
    {
      "cell_type": "markdown",
      "source": [
        " What Happens When You Write:\n",
        "Pythonfor num in [10, 20, 30]:    print(num)Show more lines\n",
        "\n",
        "🔍 Internal Process:\n",
        "\n",
        "\n",
        "Convert the iterable into an iterator\n",
        "\n",
        "Python calls iter([10, 20, 30]) to get an iterator object.\n",
        "\n",
        "\n",
        "\n",
        "Start Loop\n",
        "\n",
        "The for loop repeatedly calls next() on the iterator.\n",
        "\n",
        "\n",
        "\n",
        "Fetch Next Item\n",
        "\n",
        "First call: next() returns 10 → assigns to num → executes print(num).\n",
        "Second call: returns 20.\n",
        "Third call: returns 30.\n",
        "\n",
        "StopIteration\n",
        "\n",
        "When there are no more items, next() raises StopIteration.\n",
        "The for loop catches this and ends gracefully."
      ],
      "metadata": {
        "id": "pjRNZRWghFR7"
      }
    },
    {
      "cell_type": "markdown",
      "source": [
        "🔁 What is a for loop?\n",
        "A for loop in Python is used to iterate over a sequence (like a list, string, tuple, or range). Internally, it uses an iterator to go through each item one by one.\n",
        "\n",
        "Internal Working of a for loop:\n",
        "\n",
        "for char in \"sumit\":\n",
        "    print(char)\n",
        "\n",
        "    Internally, Python does something like this:\n",
        "\n",
        "\n",
        "Convert the sequence to an iterator:\n",
        "\n",
        "iterator = iter(\"sumit\")\n",
        "\n",
        "Loop through using next():\n",
        "while True:\n",
        "    try:\n",
        "        char = next(iterator)\n",
        "        print(char)\n",
        "    except StopIteration:\n",
        "        break\n",
        "\n",
        "\n",
        "          iter() creates an iterator object.\n",
        "next() fetches the next item from the iterator.\n",
        "When there are no more items, StopIteration is raised, and the loop ends.\n",
        "\n",
        "\n",
        "ConceptDescriptioniter\n",
        "()Converts a sequence into an iteratornext\n",
        "()Gets the next item from the iteratorStopIterationSignals the end of the loopfor loopInternally uses iter() and next()"
      ],
      "metadata": {
        "id": "KGpLOg6FfkLo"
      }
    },
    {
      "cell_type": "code",
      "source": [
        "for char in 'Sumit':\n",
        " print(char)"
      ],
      "metadata": {
        "colab": {
          "base_uri": "https://localhost:8080/"
        },
        "id": "kszY7wx9gOEU",
        "outputId": "f26f3dac-8cfd-4e24-e064-2c5546f2c7c5"
      },
      "execution_count": 14,
      "outputs": [
        {
          "output_type": "stream",
          "name": "stdout",
          "text": [
            "S\n",
            "u\n",
            "m\n",
            "i\n",
            "t\n"
          ]
        }
      ]
    },
    {
      "cell_type": "code",
      "source": [
        "iterator=iter('Sumit')\n",
        "\n",
        "while True:\n",
        "  try:\n",
        "    char=next(iterator)\n",
        "    print(char)\n",
        "  except StopIteration:\n",
        "    break\n",
        "#iter() creates an iterator object.\n",
        "#next() fetches the next item from the iterator.\n",
        "#When there are no more items, StopIteration is raised, and the loop ends."
      ],
      "metadata": {
        "colab": {
          "base_uri": "https://localhost:8080/"
        },
        "id": "80nPDZNcgWBf",
        "outputId": "54d07e63-7b01-47d1-f451-c26790106d3c"
      },
      "execution_count": 15,
      "outputs": [
        {
          "output_type": "stream",
          "name": "stdout",
          "text": [
            "S\n",
            "u\n",
            "m\n",
            "i\n",
            "t\n"
          ]
        }
      ]
    }
  ]
}