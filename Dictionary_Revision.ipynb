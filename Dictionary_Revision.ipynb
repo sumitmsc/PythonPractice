{
  "nbformat": 4,
  "nbformat_minor": 0,
  "metadata": {
    "colab": {
      "provenance": [],
      "authorship_tag": "ABX9TyNNP0y+zgBsHEjqloHK3v/J",
      "include_colab_link": true
    },
    "kernelspec": {
      "name": "python3",
      "display_name": "Python 3"
    },
    "language_info": {
      "name": "python"
    }
  },
  "cells": [
    {
      "cell_type": "markdown",
      "metadata": {
        "id": "view-in-github",
        "colab_type": "text"
      },
      "source": [
        "<a href=\"https://colab.research.google.com/github/sumitmsc/PythonPractice/blob/main/Dictionary_Revision.ipynb\" target=\"_parent\"><img src=\"https://colab.research.google.com/assets/colab-badge.svg\" alt=\"Open In Colab\"/></a>"
      ]
    },
    {
      "cell_type": "code",
      "execution_count": null,
      "metadata": {
        "id": "MHGDRfdF8lOX"
      },
      "outputs": [],
      "source": []
    },
    {
      "cell_type": "markdown",
      "source": [
        "✅ Think of a Dictionary Like a Real Dictionary\n",
        "\n",
        "In a real dictionary, you look up a word (key) to find its meaning (value).\n",
        "In Python, a dictionary works the same way:\n",
        "Key → Value\n",
        "\n",
        "In Python, a dictionary is a built-in data structure that stores data in key-value pairs. It’s like a real-world dictionary where you look up a word (key) to find its meaning (value).\n",
        "\n",
        " Key Features:\n",
        "\n",
        "Unordered (in older versions; from Python 3.7+, insertion order is preserved)\n",
        "Mutable (you can add, update, or remove items)\n",
        "Keys must be unique and immutable (strings, numbers, tuples)\n",
        "Values can be any type (string, number, list, another dictionary, etc.)\n",
        "\n",
        "Syntax\n",
        "\n",
        "my_dict = {\n",
        "    \"name\": \"Sumit\",\n",
        "    \"age\": 39,\n",
        "    \"marks\": 85\n",
        "}\n"
      ],
      "metadata": {
        "id": "rHc-3HyP8pHn"
      }
    },
    {
      "cell_type": "code",
      "source": [
        "#Dictionary syntax\n",
        "\n",
        "my_dict={ 'name':'Sumit',\n",
        "          'age':39,\n",
        "          'Marks':100}\n",
        "\n",
        "print(my_dict)"
      ],
      "metadata": {
        "colab": {
          "base_uri": "https://localhost:8080/"
        },
        "id": "7pVSGVZ2CnDU",
        "outputId": "46f4679f-cd3d-44a6-9e53-528a3af98176"
      },
      "execution_count": 3,
      "outputs": [
        {
          "output_type": "stream",
          "name": "stdout",
          "text": [
            "{'name': 'Sumit', 'age': 39, 'Marks': 100}\n"
          ]
        }
      ]
    },
    {
      "cell_type": "code",
      "source": [
        "#Access\n",
        "print(my_dict['name'])\n",
        "print(my_dict['age'])\n",
        "print(my_dict['Marks'])\n",
        "\n",
        "#Add or update\n",
        "my_dict['Grade']='A'\n",
        "my_dict['City']='Mumbai'\n",
        "my_dict['University']='Pune'\n",
        "my_dict['Phone']=12345567\n",
        "my_dict['Phone']=23324324\n",
        "my_dict['Phone']=3333333  #If we repeat the key then it will take the recent values , it will be overwritten\n",
        "my_dict['name']='Amit'\n",
        "print(my_dict)\n",
        "#remove /delete\n",
        "\n",
        "del my_dict['Phone']\n",
        "print(my_dict)\n",
        "\n",
        "#search by key\n",
        "print('phone' in my_dict) #True if yes Flase if not\n",
        "print('name' in my_dict)\n",
        "#loop\n",
        "for key,value in my_dict.items():\n",
        "  print(key,value)"
      ],
      "metadata": {
        "colab": {
          "base_uri": "https://localhost:8080/"
        },
        "id": "Qo8-2caUDd2k",
        "outputId": "676b91f2-de6b-4b90-d232-543a5146f8e4"
      },
      "execution_count": 28,
      "outputs": [
        {
          "output_type": "stream",
          "name": "stdout",
          "text": [
            "Amit\n",
            "39\n",
            "100\n",
            "{'name': 'Amit', 'age': 39, 'Marks': 100, 'Grade': 'A', 'City': 'Mumbai', 'University': 'Pune', 'Phone': 3333333}\n",
            "{'name': 'Amit', 'age': 39, 'Marks': 100, 'Grade': 'A', 'City': 'Mumbai', 'University': 'Pune'}\n",
            "False\n",
            "True\n",
            "name Amit\n",
            "age 39\n",
            "Marks 100\n",
            "Grade A\n",
            "City Mumbai\n",
            "University Pune\n"
          ]
        }
      ]
    },
    {
      "cell_type": "code",
      "source": [
        "#Create a dictionary for Bank Account\n",
        "\n",
        "my_account={'account_holders_name :': 'Sumit Anil Shrivastav',\n",
        "            'account_number :':123456,\n",
        "            'bank_name :':'SBI Universal',\n",
        "            'account_type :':'Salary Account',\n",
        "            'amount :': 10000000,\n",
        "            'credit_card_access :' : 'No',\n",
        "            'demat_account :':'No'}\n",
        "\n",
        "#printing the dictionary using for loop and items() method\n",
        "for key,values in my_account.items():\n",
        "  print(f'{key},{values}')\n",
        "\n",
        "#Access data by its key\n",
        "print('Account Holder\\'s name is :',my_account['account_holders_name :'])\n",
        "\n",
        "#add and update data\n",
        "#Adding Debit Card\n",
        "my_account['crebit_card_access']='Yes'\n",
        "print(my_account)\n",
        "\n",
        "#Updating Demat Account to Yes\n",
        "print('Demat Account is activated Y/N :',my_account['demat_account :'])\n",
        "print('Activating Now...')\n",
        "my_account['dmat_account :']='Yes'\n",
        "print('Your Dmat Account is Activated...')\n",
        "print('Demat Account is activated  Y/N :',my_account['demat_account :'])\n",
        "\n",
        "#Deleting the Demat Account\n",
        "print('Deleting your Dmat Account')\n",
        "print('Current Account Status is :',my_account['demat_account :'])\n",
        "del my_account['dmat_account :']\n",
        "print('Dmat account is deleted')\n",
        "\n",
        "\n",
        "\n",
        "\n",
        "\n",
        "\n",
        "\n",
        "\n"
      ],
      "metadata": {
        "colab": {
          "base_uri": "https://localhost:8080/"
        },
        "id": "HA2a9X3jOg3d",
        "outputId": "792ffbef-a047-4333-eb68-35bdc6fa93c7"
      },
      "execution_count": 48,
      "outputs": [
        {
          "output_type": "stream",
          "name": "stdout",
          "text": [
            "account_holders_name :,Sumit Anil Shrivastav\n",
            "account_number :,123456\n",
            "bank_name :,SBI Universal\n",
            "account_type :,Salary Account\n",
            "amount :,10000000\n",
            "credit_card_access :,No\n",
            "demat_account :,No\n",
            "Account Holder's name is : Sumit Anil Shrivastav\n",
            "{'account_holders_name :': 'Sumit Anil Shrivastav', 'account_number :': 123456, 'bank_name :': 'SBI Universal', 'account_type :': 'Salary Account', 'amount :': 10000000, 'credit_card_access :': 'No', 'demat_account :': 'No', 'crebit_card_access': 'Yes'}\n",
            "Demat Account is activated Y/N : No\n",
            "Activating Now...\n",
            "Your Dmat Account is Activated...\n",
            "Demat Account is activated  Y/N : No\n",
            "Deleting your Dmat Account\n",
            "Current Account Status is : No\n",
            "Dmat account is deleted\n"
          ]
        }
      ]
    },
    {
      "cell_type": "code",
      "source": [
        "#Basic Practice\n",
        "\n",
        "d={1:'a',2:'b',3:'c'}\n",
        "print(d)\n",
        "\n",
        "#Accessing one element at key 1 d[1]\n",
        "print(d[1])\n",
        "\n",
        "#Accessing using get function, here also get function will take only one orgument ow it will give key error\n",
        "\n",
        "print('Using get function d.get(1)-->Output is :',d.get(1))"
      ],
      "metadata": {
        "colab": {
          "base_uri": "https://localhost:8080/"
        },
        "id": "F1p3hRTBX4_O",
        "outputId": "fb2987a5-19a5-4876-b486-9b39c27fe8b1"
      },
      "execution_count": 60,
      "outputs": [
        {
          "output_type": "stream",
          "name": "stdout",
          "text": [
            "{1: 'a', 2: 'b', 3: 'c'}\n",
            "a\n",
            "Using get function d.get(1)-->Output is : a\n"
          ]
        }
      ]
    },
    {
      "cell_type": "code",
      "source": [
        "#Creating dictionary using dict() constructor\n",
        "#del dict :remember if by mistake you have created dict as variable then it wont be used as constructor we need to delete it\n",
        "dic=dict({1:'ab',2:'cd',3:'ef',4:'gh'})\n",
        "\n",
        "print(dic)\n",
        "\n",
        "#Accessing an element in dictionary using get() method\n",
        "\n",
        "#Using format method\n",
        "print('Value at key 4 is :',format(dic.get(4)))\n",
        "\n",
        "#Using f-string\n",
        "print(f'Value at key 4 is : {dic.get(4)}')\n",
        "\n"
      ],
      "metadata": {
        "colab": {
          "base_uri": "https://localhost:8080/"
        },
        "id": "TecrVfspZEHt",
        "outputId": "61bf807f-d32e-4864-9a78-c3fdf6e097c6"
      },
      "execution_count": 80,
      "outputs": [
        {
          "output_type": "stream",
          "name": "stdout",
          "text": [
            "{1: 'ab', 2: 'cd', 3: 'ef', 4: 'gh'}\n",
            "Value at key 4 is : gh\n",
            "Value at key 4 is : gh\n"
          ]
        }
      ]
    }
  ]
}