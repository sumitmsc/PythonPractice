{
  "nbformat": 4,
  "nbformat_minor": 0,
  "metadata": {
    "colab": {
      "provenance": [],
      "authorship_tag": "ABX9TyNdpwJ14CKNsKDvcMTAE8eM",
      "include_colab_link": true
    },
    "kernelspec": {
      "name": "python3",
      "display_name": "Python 3"
    },
    "language_info": {
      "name": "python"
    }
  },
  "cells": [
    {
      "cell_type": "markdown",
      "metadata": {
        "id": "view-in-github",
        "colab_type": "text"
      },
      "source": [
        "<a href=\"https://colab.research.google.com/github/sumitmsc/PythonPractice/blob/main/TupleRevision.ipynb\" target=\"_parent\"><img src=\"https://colab.research.google.com/assets/colab-badge.svg\" alt=\"Open In Colab\"/></a>"
      ]
    },
    {
      "cell_type": "code",
      "execution_count": null,
      "metadata": {
        "id": "9Bx4ilwPxleD"
      },
      "outputs": [],
      "source": []
    },
    {
      "cell_type": "markdown",
      "source": [
        "In Python, a tuple is a built-in data structure used to store a collection of items. It is similar to a list, but with one key difference:\n",
        "✅ Tuples are immutable, meaning once created, their elements cannot be changed, added, or removed.\n",
        " Key Features\n",
        "\n",
        "Ordered: Elements have a fixed position.\n",
        "Immutable: You cannot modify elements after creation.\n",
        "Can contain mixed data types: Integers, strings, booleans, etc.\n",
        "Faster than lists for iteration and fixed data.\n",
        "\n",
        "\n",
        "🔹 Use Cases\n",
        "\n",
        "Storing fixed collections of items (like coordinates, RGB values).\n",
        "Returning multiple values from a function.\n",
        "Using as keys in dictionaries (if the tuple contains only immutable elements)."
      ],
      "metadata": {
        "id": "1Szkqtn1xo_z"
      }
    },
    {
      "cell_type": "code",
      "source": [
        "# Creating a tuple\n",
        "my_tuple = (1, 2, 3, \"apple\", True)\n",
        "\n",
        "# Accessing elements\n",
        "print(my_tuple[0])  # Output: 1\n",
        "\n",
        "# Length of tuple\n",
        "print(len(my_tuple))  # Output: 5"
      ],
      "metadata": {
        "id": "VNk7usMNzPZ0"
      },
      "execution_count": null,
      "outputs": []
    },
    {
      "cell_type": "markdown",
      "source": [
        "Accessing Elements in a Tuple in Python\n",
        "A tuple is an ordered, immutable collection of items. You can access elements in a tuple using indexing and slicing, just like with lists."
      ],
      "metadata": {
        "id": "T-YJ8_Pw1EOA"
      }
    },
    {
      "cell_type": "code",
      "source": [
        "my_tuple = (\"apple\", \"banana\", \"cherry\")\n",
        "print(my_tuple[0])  # Output: apple\n",
        "print(my_tuple[2])  # Output: cherry"
      ],
      "metadata": {
        "colab": {
          "base_uri": "https://localhost:8080/"
        },
        "id": "55kz7uGk1F_A",
        "outputId": "b24ed512-9407-4ea5-d31f-c1591733d03e"
      },
      "execution_count": 1,
      "outputs": [
        {
          "output_type": "stream",
          "name": "stdout",
          "text": [
            "apple\n",
            "cherry\n"
          ]
        }
      ]
    },
    {
      "cell_type": "code",
      "source": [
        "#Negative indexing\n",
        "print(my_tuple[-1])  # Output: cherry\n",
        "print(my_tuple[-2])  # Output: banana"
      ],
      "metadata": {
        "colab": {
          "base_uri": "https://localhost:8080/"
        },
        "id": "JVoTc_y91bwM",
        "outputId": "9a410b6d-d994-48d1-d612-6509a828944c"
      },
      "execution_count": 2,
      "outputs": [
        {
          "output_type": "stream",
          "name": "stdout",
          "text": [
            "cherry\n",
            "banana\n"
          ]
        }
      ]
    },
    {
      "cell_type": "code",
      "source": [
        "#Slicing\n",
        "print(my_tuple[0:2])  # Output: ('apple', 'banana')\n",
        "print(my_tuple[:])    # Output: entire tuple\n",
        "print(my_tuple[::-1]) #reverse ordering"
      ],
      "metadata": {
        "colab": {
          "base_uri": "https://localhost:8080/"
        },
        "id": "YPv-6iyI1xAn",
        "outputId": "204e30e1-30a9-4a3a-e648-cb4679d1b4ae"
      },
      "execution_count": 3,
      "outputs": [
        {
          "output_type": "stream",
          "name": "stdout",
          "text": [
            "('apple', 'banana')\n",
            "('apple', 'banana', 'cherry')\n",
            "('cherry', 'banana', 'apple')\n"
          ]
        }
      ]
    },
    {
      "cell_type": "code",
      "source": [
        "#Looping in tuple\n",
        "for item in my_tuple:\n",
        "  print(item)"
      ],
      "metadata": {
        "colab": {
          "base_uri": "https://localhost:8080/"
        },
        "id": "vsGNjXpU2B39",
        "outputId": "f6097a4a-4535-41e9-bfcf-bcab5c5298d8"
      },
      "execution_count": 4,
      "outputs": [
        {
          "output_type": "stream",
          "name": "stdout",
          "text": [
            "apple\n",
            "banana\n",
            "cherry\n"
          ]
        }
      ]
    },
    {
      "cell_type": "markdown",
      "source": [
        "The expression my_tuple[-1:-2] will return an empty tuple. Here's why:\n",
        "\n",
        "🔍 Breakdown:\n",
        "\n",
        "my_tuple[-1:-2] is a slice from index -1 to -2.\n",
        "By default, slicing moves forward (left to right), and -1 is after -2 in that direction.\n",
        "Since Python can't move forward from a higher index to a lower one without a negative step, it returns an empty result.\n",
        "\n",
        "\n",
        "\n",
        " Correct Usage with Negative Step:\n",
        "If you want to go backward, you need to specify a negative step:\n",
        "Pythonmy_tuple = (10, 20, 30, 40, 50)print(my_tuple[-1:-3:-1])  # Output: (50, 40)Show more lines\n",
        "\n",
        "Starts at index -1 (50)\n",
        "Moves backward to index -3 (30), but stops before it\n",
        "Step -1 tells Python to move in reverse\n"
      ],
      "metadata": {
        "id": "CmgzJYmN5ad9"
      }
    },
    {
      "cell_type": "code",
      "source": [
        "#Negative slicing\n",
        "print(my_tuple)\n",
        "my_tuple[-1:-2:-1]\n",
        "\n"
      ],
      "metadata": {
        "colab": {
          "base_uri": "https://localhost:8080/"
        },
        "id": "NTZEa-9o2iM_",
        "outputId": "b2fbea9e-f25e-4b68-989d-12388bb7d313"
      },
      "execution_count": 19,
      "outputs": [
        {
          "output_type": "stream",
          "name": "stdout",
          "text": [
            "('apple', 'banana', 'cherry')\n"
          ]
        },
        {
          "output_type": "execute_result",
          "data": {
            "text/plain": [
              "('cherry',)"
            ]
          },
          "metadata": {},
          "execution_count": 19
        }
      ]
    },
    {
      "cell_type": "markdown",
      "source": [
        "Starts at index -1 (50)\n",
        "Moves backward to index -3 (30), but stops before it\n",
        "Step -1 tells Python to move in reverse"
      ],
      "metadata": {
        "id": "c8Pk-ft-5-jZ"
      }
    },
    {
      "cell_type": "code",
      "source": [
        "my_tuple = (10, 20, 30, 40, 50)\n",
        "print(my_tuple[-1:-3:-1])  # Output: (50, 40)"
      ],
      "metadata": {
        "colab": {
          "base_uri": "https://localhost:8080/"
        },
        "id": "YNLA8dhR5jyq",
        "outputId": "b9b79533-9a30-4f91-89b7-d7efeaa0f33e"
      },
      "execution_count": 20,
      "outputs": [
        {
          "output_type": "stream",
          "name": "stdout",
          "text": [
            "(50, 40)\n"
          ]
        }
      ]
    }
  ]
}