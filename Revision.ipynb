{
  "nbformat": 4,
  "nbformat_minor": 0,
  "metadata": {
    "colab": {
      "provenance": [],
      "authorship_tag": "ABX9TyPSpqhLolUNlnogG13mbOtp",
      "include_colab_link": true
    },
    "kernelspec": {
      "name": "python3",
      "display_name": "Python 3"
    },
    "language_info": {
      "name": "python"
    }
  },
  "cells": [
    {
      "cell_type": "markdown",
      "metadata": {
        "id": "view-in-github",
        "colab_type": "text"
      },
      "source": [
        "<a href=\"https://colab.research.google.com/github/sumitmsc/PythonPractice/blob/main/Revision.ipynb\" target=\"_parent\"><img src=\"https://colab.research.google.com/assets/colab-badge.svg\" alt=\"Open In Colab\"/></a>"
      ]
    },
    {
      "cell_type": "markdown",
      "source": [
        "🧠 What is Slicing?\n",
        "Slicing is used to extract a portion of a sequence like a list, string, or tuple.\n",
        "sequence[start:stop:step]\n",
        "\n",
        "sequence[start:stop:step]Show more lines\n",
        "\n",
        "start: index to begin (inclusive)\n",
        "stop: index to end (exclusive)\n",
        "step: how many steps to move forward\n"
      ],
      "metadata": {
        "id": "1iL9tHL8ADpl"
      }
    },
    {
      "cell_type": "code",
      "execution_count": 1,
      "metadata": {
        "colab": {
          "base_uri": "https://localhost:8080/"
        },
        "id": "1z7PQTv1_tIy",
        "outputId": "e951bfac-e9ae-406c-d2ff-0f5cea2968e7"
      },
      "outputs": [
        {
          "output_type": "stream",
          "name": "stdout",
          "text": [
            "Python\n",
            "Programming\n",
            "Python\n",
            "PtoPormig\n",
            "gnimmargorPnohtyP\n"
          ]
        }
      ],
      "source": [
        "\n",
        "text = \"PythonProgramming\"\n",
        "\n",
        "print(text[0:6])       # Output: Python\n",
        "print(text[6:])        # Output: Programming\n",
        "print(text[:6])        # Output: Python\n",
        "print(text[::2])       # Output: PtoPrgamn\n",
        "print(text[::-1])      # Output: gnimmargorPnohtyP (reversed)\n",
        "\n"
      ]
    },
    {
      "cell_type": "code",
      "source": [
        "\n",
        "numbers = [10, 20, 30, 40, 50, 60]\n",
        "\n",
        "print(numbers[1:4])     # Output: [20, 30, 40]\n",
        "print(numbers[:3])      # Output: [10, 20, 30]\n",
        "print(numbers[::2])     # Output: [10, 30, 50]\n",
        "print(numbers[::-1])    # Output: [60, 50, 40, 30, 20, 10]\n"
      ],
      "metadata": {
        "colab": {
          "base_uri": "https://localhost:8080/"
        },
        "id": "q5xpFg_NABp_",
        "outputId": "c278d90e-e5e7-4dd9-8d37-10501e1f8d71"
      },
      "execution_count": 2,
      "outputs": [
        {
          "output_type": "stream",
          "name": "stdout",
          "text": [
            "[20, 30, 40]\n",
            "[10, 20, 30]\n",
            "[10, 30, 50]\n",
            "[60, 50, 40, 30, 20, 10]\n"
          ]
        }
      ]
    },
    {
      "cell_type": "code",
      "source": [
        "\n",
        "text = \"Python\"\n",
        "\n",
        "print(text[-1])         # Output: n (last character)\n",
        "print(text[-3:])        # Output: hon\n",
        "print(text[-4:-1])      # Output: tho\n"
      ],
      "metadata": {
        "colab": {
          "base_uri": "https://localhost:8080/"
        },
        "id": "ADhYtLyZCNjX",
        "outputId": "b0eed5c4-262d-4a80-cf7c-de511fd2514e"
      },
      "execution_count": 3,
      "outputs": [
        {
          "output_type": "stream",
          "name": "stdout",
          "text": [
            "n\n",
            "hon\n",
            "tho\n"
          ]
        }
      ]
    },
    {
      "cell_type": "code",
      "source": [
        "\n",
        "\n",
        "text = \"PythonProgramming\"\n",
        "print(text[-1])         # Output: n (last character)\n",
        "print(text[7:1:-2])\n",
        "\n",
        "cc"
      ],
      "metadata": {
        "colab": {
          "base_uri": "https://localhost:8080/"
        },
        "id": "1g6KkaT0UsGa",
        "outputId": "692db630-48e5-4f93-db93-e06a55188ecb"
      },
      "execution_count": 21,
      "outputs": [
        {
          "output_type": "stream",
          "name": "stdout",
          "text": [
            "g\n",
            "rnh\n",
            "GPythonProgramming\n"
          ]
        }
      ]
    },
    {
      "cell_type": "code",
      "source": [
        "text = \"PythonProgramming\"\n",
        "new_text='G'+text[0:]\n",
        "print(new_text)"
      ],
      "metadata": {
        "colab": {
          "base_uri": "https://localhost:8080/"
        },
        "id": "yae0AujNgZBI",
        "outputId": "265bc8d6-2904-42d7-8685-8ebc1291323b"
      },
      "execution_count": 22,
      "outputs": [
        {
          "output_type": "stream",
          "name": "stdout",
          "text": [
            "GPythonProgramming\n"
          ]
        }
      ]
    },
    {
      "cell_type": "code",
      "source": [
        "string='Testing'\n",
        "print(string)\n",
        "del string\n",
        "print(string)\n"
      ],
      "metadata": {
        "colab": {
          "base_uri": "https://localhost:8080/",
          "height": 193
        },
        "id": "QvDaQ-HxhRb_",
        "outputId": "46ac1352-a6a2-4be4-bc08-a9e92c0bf67d"
      },
      "execution_count": 29,
      "outputs": [
        {
          "output_type": "stream",
          "name": "stdout",
          "text": [
            "Testing\n"
          ]
        },
        {
          "output_type": "error",
          "ename": "NameError",
          "evalue": "name 'string' is not defined",
          "traceback": [
            "\u001b[0;31m---------------------------------------------------------------------------\u001b[0m",
            "\u001b[0;31mNameError\u001b[0m                                 Traceback (most recent call last)",
            "\u001b[0;32m/tmp/ipython-input-4132028953.py\u001b[0m in \u001b[0;36m<cell line: 0>\u001b[0;34m()\u001b[0m\n\u001b[1;32m      2\u001b[0m \u001b[0mprint\u001b[0m\u001b[0;34m(\u001b[0m\u001b[0mstring\u001b[0m\u001b[0;34m)\u001b[0m\u001b[0;34m\u001b[0m\u001b[0;34m\u001b[0m\u001b[0m\n\u001b[1;32m      3\u001b[0m \u001b[0;32mdel\u001b[0m \u001b[0mstring\u001b[0m\u001b[0;34m\u001b[0m\u001b[0;34m\u001b[0m\u001b[0m\n\u001b[0;32m----> 4\u001b[0;31m \u001b[0mprint\u001b[0m\u001b[0;34m(\u001b[0m\u001b[0mstring\u001b[0m\u001b[0;34m)\u001b[0m\u001b[0;34m\u001b[0m\u001b[0;34m\u001b[0m\u001b[0m\n\u001b[0m",
            "\u001b[0;31mNameError\u001b[0m: name 'string' is not defined"
          ]
        }
      ]
    },
    {
      "cell_type": "code",
      "source": [
        "#Updating the string\n",
        "\n",
        "s='testing JAVA'\n",
        "print('Original String',s)\n",
        "#updating string\n",
        "s1='T'+s[1:]\n",
        "print('updated T ',s1)\n",
        "#replacing JAVA with python\n",
        "s2=s.replace('JAVA','Python')\n",
        "print('We have replaced JAVA with Python',s2)\n",
        "print(s2)\n"
      ],
      "metadata": {
        "colab": {
          "base_uri": "https://localhost:8080/"
        },
        "id": "kjvzpVL5inCq",
        "outputId": "d635173d-8f0f-45da-c2ea-e474e14e1c43"
      },
      "execution_count": 33,
      "outputs": [
        {
          "output_type": "stream",
          "name": "stdout",
          "text": [
            "Original String testing JAVA\n",
            "updated T  Testing JAVA\n",
            "We have replaced JAVA with Python testing Python\n",
            "testing Python\n"
          ]
        }
      ]
    },
    {
      "cell_type": "code",
      "source": [
        "#Revision of common string methods len(),upper(),lower(),strip(),replace()\n",
        "\n",
        "string='            I am Testing Python Program  '\n",
        "print(string)\n",
        "\n",
        "print('Lenght of string is :',len(string))\n",
        "\n",
        "print('Upper case of string:',string.upper())\n",
        "\n",
        "print('Lower case of string',string.lower())\n",
        "\n",
        "print('Removing and spaces from both ends ')\n",
        "print(string.strip())\n",
        "\n",
        "print('Replacing Testing with Development',string.replace('Testing','Developing'))\n"
      ],
      "metadata": {
        "colab": {
          "base_uri": "https://localhost:8080/"
        },
        "id": "E9tqFor1j4B_",
        "outputId": "94715b48-c0ad-4be8-a0c6-d5fbc0d26ac7"
      },
      "execution_count": 39,
      "outputs": [
        {
          "output_type": "stream",
          "name": "stdout",
          "text": [
            "            I am Testing Python Program  \n",
            "Lenght of string is : 41\n",
            "Upper case of string:             I AM TESTING PYTHON PROGRAM  \n",
            "Lower case of string             i am testing python program  \n",
            "Removing and spaces from both ends \n",
            "I am Testing Python Program\n",
            "Replacing Testing with Development             I am Developing Python Program  \n"
          ]
        }
      ]
    },
    {
      "cell_type": "markdown",
      "source": [
        "Step-by-Step Execution\n",
        "\n",
        "\n",
        "Class Definition:\n",
        "\n",
        "StringProcessor is a class that encapsulates all string operations.\n",
        "It takes an input string and stores it in self.input_string.\n",
        "\n",
        "\n",
        "\n",
        "Main Block:\n",
        "\n",
        "if __name__ == \"__main__\": ensures the code runs only when the script is executed directly (not imported).\n",
        "A string is defined: \"            I am Testing Python Program  \".\n",
        "\n",
        "\n",
        "\n",
        "Object Creation:\n",
        "\n",
        "processor = StringProcessor(string) creates an instance of the class and passes the string to it.\n",
        "\n",
        "\n",
        "\n",
        "Method Calls:\n",
        "\n",
        "display_original() prints the raw string using repr() to show spaces.\n",
        "get_length() prints the total number of characters including spaces.\n",
        "to_upper() converts the string to uppercase.\n",
        "to_lower() converts the string to lowercase.\n",
        "strip_spaces() removes leading and trailing spaces.\n",
        "replace_word(\"Testing\", \"Developing\") replaces the word \"Testing\" with \"Developing\".\n",
        "\n",
        "\n",
        "\n",
        "\n",
        "✅ Why This Structure Is Good\n",
        "\n",
        "Modular: Each operation is in its own method.\n",
        "Reusable: You can reuse the class with different strings.\n",
        "Maintainable: Easy to extend with more string operations."
      ],
      "metadata": {
        "id": "NUd1uYMot7-P"
      }
    },
    {
      "cell_type": "code",
      "source": [
        "#Class based program for executing all the functions\n",
        "\n",
        "class StringProcessor:\n",
        "    def __init__(self, input_string):\n",
        "        self.input_string = input_string\n",
        "\n",
        "    def display_original(self):\n",
        "        print(\"Original string:\", repr(self.input_string))\n",
        "\n",
        "    def get_length(self):\n",
        "        print(\"Length of string:\", len(self.input_string))\n",
        "\n",
        "    def to_upper(self):\n",
        "        print(\"Uppercase:\", self.input_string.upper())\n",
        "\n",
        "    def to_lower(self):\n",
        "        print(\"Lowercase:\", self.input_string.lower())\n",
        "\n",
        "    def strip_spaces(self):\n",
        "        print(\"Stripped string:\", self.input_string.strip())\n",
        "\n",
        "    def replace_word(self, old, new):\n",
        "        print(f\"Replacing '{old}' with '{new}':\", self.input_string.replace(old, new))\n",
        "\n",
        "\n",
        "# Main execution\n",
        "if __name__ == \"__main__\":\n",
        "    string = \"            I am Testing Python Program  \"\n",
        "    processor = StringProcessor(string)\n",
        "\n",
        "    processor.display_original()\n",
        "    processor.get_length()\n",
        "    processor.to_upper()\n",
        "    processor.to_lower()\n",
        "    processor.strip_spaces()\n",
        "    processor.replace_word(\"Testing\", \"Developing\")"
      ],
      "metadata": {
        "id": "e4hbZH7unsxL"
      },
      "execution_count": null,
      "outputs": []
    },
    {
      "cell_type": "code",
      "source": [
        "#Creating constructor for the class student\n",
        "class Student:\n",
        "  def __init__(self,name,age):#Constructor of class Student/__init__is a method runs automatically when we run object from a class\n",
        "    self.name=name  # name will be stored in the instance's name attribute\n",
        "    self.age=age    # age will be stored in the instance's age attribute\n",
        "\n",
        "student_obj=Student('Ram',99)   #first object of student class\n",
        "student_obj2=Student('Sham',88)#Second object of student class\n",
        "print(student_obj.name)\n",
        "print(student_obj.age)\n",
        "print(student_obj2.name)\n",
        "print(student_obj2.age)\n",
        "\n"
      ],
      "metadata": {
        "colab": {
          "base_uri": "https://localhost:8080/"
        },
        "id": "tki7M3o3zjos",
        "outputId": "5661370a-b209-4fa0-f07d-6ef616aee8d7"
      },
      "execution_count": 42,
      "outputs": [
        {
          "output_type": "stream",
          "name": "stdout",
          "text": [
            "Ram\n",
            "99\n",
            "Sham\n",
            "88\n"
          ]
        }
      ]
    }
  ]
}