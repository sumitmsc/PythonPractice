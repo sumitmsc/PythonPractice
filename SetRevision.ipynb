{
  "nbformat": 4,
  "nbformat_minor": 0,
  "metadata": {
    "colab": {
      "provenance": [],
      "authorship_tag": "ABX9TyNj0L5XKvKxXl2nrVSK2PZu",
      "include_colab_link": true
    },
    "kernelspec": {
      "name": "python3",
      "display_name": "Python 3"
    },
    "language_info": {
      "name": "python"
    }
  },
  "cells": [
    {
      "cell_type": "markdown",
      "metadata": {
        "id": "view-in-github",
        "colab_type": "text"
      },
      "source": [
        "<a href=\"https://colab.research.google.com/github/sumitmsc/PythonPractice/blob/main/SetRevision.ipynb\" target=\"_parent\"><img src=\"https://colab.research.google.com/assets/colab-badge.svg\" alt=\"Open In Colab\"/></a>"
      ]
    },
    {
      "cell_type": "code",
      "execution_count": null,
      "metadata": {
        "id": "o5YBbcgW6wCQ"
      },
      "outputs": [],
      "source": []
    },
    {
      "cell_type": "markdown",
      "source": [
        "🧠 What is a Set in Python?\n",
        "A set is a built-in data structure in Python used to store unique, unordered items. It’s useful when you want to eliminate duplicates or perform mathematical set operations like union, intersection, and difference.\n",
        "\n",
        "✅ Key Features of Sets:\n",
        "\n",
        "Unordered: No indexing or slicing.\n",
        "Unique elements: No duplicates allowed.\n",
        "Mutable: You can add or remove items.\n",
        "Efficient: Fast membership testing (in)."
      ],
      "metadata": {
        "id": "pPxJC8p_6zxS"
      }
    },
    {
      "cell_type": "code",
      "source": [
        "#Creating set with {}\n",
        "my_set={1,2,3,4,5,5}\n",
        "print(my_set)\n",
        "#Note: empty opening and closing braces will be considered as dictionary object as below\n",
        "#set={}\n",
        "print(type(set))"
      ],
      "metadata": {
        "colab": {
          "base_uri": "https://localhost:8080/"
        },
        "id": "AhUldh-h7V5B",
        "outputId": "ce10143a-4aa1-4f7a-9b4b-d430a91e69bb"
      },
      "execution_count": 5,
      "outputs": [
        {
          "output_type": "stream",
          "name": "stdout",
          "text": [
            "{1, 2, 3, 4, 5}\n",
            "<class 'dict'>\n"
          ]
        }
      ]
    },
    {
      "cell_type": "code",
      "source": [
        "#Creating set with set() function\n",
        "my_set=set([1,2,2,3])\n",
        "print(my_set)"
      ],
      "metadata": {
        "colab": {
          "base_uri": "https://localhost:8080/"
        },
        "id": "a2l6EtIZ7zQp",
        "outputId": "1e8d9b49-8341-4fc2-e9e0-7a9c16a56f58"
      },
      "execution_count": 2,
      "outputs": [
        {
          "output_type": "stream",
          "name": "stdout",
          "text": [
            "{1, 2, 3}\n"
          ]
        }
      ]
    },
    {
      "cell_type": "code",
      "source": [
        "#functions with set add , remove , discard,pop,clear, union , intersection, difference\n",
        "\n",
        "my_set={1,2,3,4}\n",
        "my_set2={3,4,5,6}\n",
        "print('original set1',my_set)\n",
        "print('original set2',my_set2)\n",
        "#add method\n",
        "print('---------------------')\n",
        "print('using add function to add 5 and 7')\n",
        "my_set.add(5)#Set: add method will take exactly one element\n",
        "my_set2.add(7)\n",
        "print(my_set)\n",
        "print(my_set2)\n",
        "print('---------------------')\n",
        "#remove elements\n",
        "print('Use of remove function for 5 and 7')\n",
        "my_set.remove(5)\n",
        "my_set2.remove(7)\n",
        "print(my_set)\n",
        "print(my_set2)\n",
        "print('---------------------')\n",
        "#discard elements even if its not in the set it wont give use key 9 error\n",
        "print('Use of discard function for 5 and 7')\n",
        "my_set.discard(5)\n",
        "my_set2.discard(9)\n",
        "print(my_set)\n",
        "print(my_set2)\n",
        "\n",
        "\n"
      ],
      "metadata": {
        "colab": {
          "base_uri": "https://localhost:8080/"
        },
        "id": "nJ4XSSbG_r70",
        "outputId": "4b8bd917-71c4-4dc8-db9d-35759f3bd61e"
      },
      "execution_count": 18,
      "outputs": [
        {
          "output_type": "stream",
          "name": "stdout",
          "text": [
            "original set1 {1, 2, 3, 4}\n",
            "original set2 {3, 4, 5, 6}\n",
            "---------------------\n",
            "using add function to add 5 and 7\n",
            "{1, 2, 3, 4, 5}\n",
            "{3, 4, 5, 6, 7}\n",
            "---------------------\n",
            "Use of remove function for 5 and 7\n",
            "{1, 2, 3, 4}\n",
            "{3, 4, 5, 6}\n",
            "---------------------\n",
            "Use of discard function for 5 and 7\n",
            "{1, 2, 3, 4}\n",
            "{3, 4, 5, 6}\n"
          ]
        }
      ]
    },
    {
      "cell_type": "code",
      "source": [
        "#using function pop() removes arbitrary element and clear() removes all elements\n",
        "\n",
        "set1={1,2,3,4}\n",
        "set2={4,5,6,7,'test'}\n",
        "print(set1)\n",
        "print(set2)\n",
        "print('-------------------')\n",
        "#remove fuctnion\n",
        "print('Using remove functin to remove \"test\" from set 2')\n",
        "set2.remove('test')\n",
        "print(set2)\n",
        "#pop function\n",
        "print('-------------------')\n",
        "print('Using pop function to remove arbitrary value  from set 2')\n",
        "print('set2 before pop fuction',set2)\n",
        "p=set2.pop()\n",
        "print(f'after pop function {p} has been poped out',set2)\n",
        "p=set2.pop()\n",
        "print(f'after pop function {p} has been poped out',set2)\n",
        "#clear method in set\n",
        "print('-------------------')\n",
        "set1={3,4,5,6,7}\n",
        "print('Set1 before clear',set1)\n",
        "print('Using clear function to remove/delete all elements from set 2')\n",
        "set1.clear()\n",
        "print(set1)\n"
      ],
      "metadata": {
        "colab": {
          "base_uri": "https://localhost:8080/"
        },
        "id": "YEpdOSfeCTP3",
        "outputId": "ca52c991-29a9-4333-b33b-8dfe12a5a7ae"
      },
      "execution_count": 32,
      "outputs": [
        {
          "output_type": "stream",
          "name": "stdout",
          "text": [
            "{1, 2, 3, 4}\n",
            "{4, 5, 6, 7, 'test'}\n",
            "-------------------\n",
            "Using remove functin to remove \"test\" from set 2\n",
            "{4, 5, 6, 7}\n",
            "-------------------\n",
            "Using pop function to remove arbitrary value  from set 2\n",
            "set2 before pop fuction {4, 5, 6, 7}\n",
            "after pop function 4 has been poped out {5, 6, 7}\n",
            "after pop function 5 has been poped out {6, 7}\n",
            "-------------------\n",
            "Set1 before clear {3, 4, 5, 6, 7}\n",
            "Using clear function to remove/delete all elements from set 2\n",
            "set()\n"
          ]
        }
      ]
    },
    {
      "cell_type": "code",
      "source": [
        "#Mathematical functions in set\n",
        "\n",
        "s1={1,2,3,4,5}\n",
        "s2={3,4,5,6,7}\n",
        "#union\n",
        "combine=s1.union(s2)\n",
        "print(combine) # output: {1,2,3,4,5,6,7}\n",
        "intersection=s1.intersection(s2)\n",
        "print(intersection)# output:{3,4,5} Common elements\n",
        "difference=s1.difference(s2)# output:{1,2} it will give us the elements which are in s1 only and not in s2\n",
        "print(difference)"
      ],
      "metadata": {
        "colab": {
          "base_uri": "https://localhost:8080/"
        },
        "id": "gGcEiaEvKHl9",
        "outputId": "c6d37212-0063-49e5-9a6b-5daba8a71eab"
      },
      "execution_count": 35,
      "outputs": [
        {
          "output_type": "stream",
          "name": "stdout",
          "text": [
            "{1, 2, 3, 4, 5, 6, 7}\n",
            "{3, 4, 5}\n",
            "{1, 2}\n"
          ]
        }
      ]
    },
    {
      "cell_type": "code",
      "source": [
        "#list with sets\n",
        "#convert the list in to set\n",
        "\n",
        "#del set\n",
        "my_list1=[1,2,3,3,4,4,5]\n",
        "#Convert the list to set for uniqueness\n",
        "my_set123=set(my_list1)\n",
        "\n",
        "print('Original List: ',my_list1)\n",
        "print('Converted set :', my_set123)\n",
        "\n",
        "#Set back the unique elements of my_set123 back to the to list with unique elements\n",
        "\n",
        "unique_list=list((my_set123))\n",
        "print('Set back to list with unique elements ',unique_list)"
      ],
      "metadata": {
        "colab": {
          "base_uri": "https://localhost:8080/"
        },
        "id": "VNB7lW-yMk3r",
        "outputId": "44a20bbe-136c-475f-815b-3ec445914021"
      },
      "execution_count": 50,
      "outputs": [
        {
          "output_type": "stream",
          "name": "stdout",
          "text": [
            "Original List:  [1, 2, 3, 3, 4, 4, 5]\n",
            "Converted set : {1, 2, 3, 4, 5}\n",
            "Set back to list with unique elements  [1, 2, 3, 4, 5]\n"
          ]
        }
      ]
    },
    {
      "cell_type": "code",
      "source": [
        "#remove duplicates from list\n",
        "names = [\"Sumit\", \"Amit\", \"Sumit\", \"Neha\"]\n",
        "unique_names = list(set(names))\n",
        "print(unique_names)  # Output: ['Neha', 'Sumit', 'Amit']"
      ],
      "metadata": {
        "colab": {
          "base_uri": "https://localhost:8080/"
        },
        "id": "80hTRgjIWVxm",
        "outputId": "7abd97e5-175d-4f93-c234-79ef669a7d90"
      },
      "execution_count": 1,
      "outputs": [
        {
          "output_type": "stream",
          "name": "stdout",
          "text": [
            "['Amit', 'Sumit', 'Neha']\n"
          ]
        }
      ]
    },
    {
      "cell_type": "code",
      "source": [
        "#Remove duplicates from list\n",
        "\n",
        "duplicate_list=['a','a','b','b','c','c']\n",
        "unique_list=list(set(duplicate_list))\n",
        "print(unique_list)"
      ],
      "metadata": {
        "colab": {
          "base_uri": "https://localhost:8080/"
        },
        "id": "Pdcf03Dl46-u",
        "outputId": "18edec87-3051-478f-c4e7-e2fce7205ee3"
      },
      "execution_count": 6,
      "outputs": [
        {
          "output_type": "stream",
          "name": "stdout",
          "text": [
            "['c', 'b', 'a']\n"
          ]
        }
      ]
    }
  ]
}