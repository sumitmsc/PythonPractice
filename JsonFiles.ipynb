{
  "nbformat": 4,
  "nbformat_minor": 0,
  "metadata": {
    "colab": {
      "provenance": [],
      "authorship_tag": "ABX9TyOvTAC6Zx9kSKuEajENwGZw",
      "include_colab_link": true
    },
    "kernelspec": {
      "name": "python3",
      "display_name": "Python 3"
    },
    "language_info": {
      "name": "python"
    }
  },
  "cells": [
    {
      "cell_type": "markdown",
      "metadata": {
        "id": "view-in-github",
        "colab_type": "text"
      },
      "source": [
        "<a href=\"https://colab.research.google.com/github/sumitmsc/PythonPractice/blob/main/JsonFiles.ipynb\" target=\"_parent\"><img src=\"https://colab.research.google.com/assets/colab-badge.svg\" alt=\"Open In Colab\"/></a>"
      ]
    },
    {
      "cell_type": "markdown",
      "source": [
        "🧠 What is JSON?\n",
        "JSON stands for JavaScript Object Notation. It’s a lightweight data format used for storing and exchanging data, especially between a server and a web application.\n",
        "In Python, JSON is commonly used to:\n",
        "\n",
        "Read and write structured data (like dictionaries)\n",
        "Exchange data with APIs\n",
        "Save configuration or data files\n",
        "\n",
        "🔧 Python's json Module\n",
        "Python provides a built-in module called json to work with JSON data."
      ],
      "metadata": {
        "id": "YcmX7io0MJdh"
      }
    },
    {
      "cell_type": "code",
      "source": [
        "#Json Files: Convert dictioinary to Json file\n",
        "\n",
        "import json\n",
        "student={'Name': 'Ram', 'Age':25, 'Marks': 50}\n",
        "json_string=json.dumps(student)#Convert the python dictionary object to Joson String'json.dumps()\n",
        "print(json_string)\n"
      ],
      "metadata": {
        "colab": {
          "base_uri": "https://localhost:8080/"
        },
        "id": "sZDcDRTfMR8D",
        "outputId": "0bb3f2cf-f318-437f-953e-9214ef425998"
      },
      "execution_count": 1,
      "outputs": [
        {
          "output_type": "stream",
          "name": "stdout",
          "text": [
            "{\"Name\": \"Ram\", \"Age\": 25, \"Marks\": 50}\n"
          ]
        }
      ]
    },
    {
      "cell_type": "markdown",
      "source": [
        "Converting Python Objects to JSON (Serialization)\n",
        "Serialization (also called encoding or dumping) is converting a Python object into a JSON-formatted string.\n",
        "\n",
        "json.dumps() – Convert Python object to JSON string"
      ],
      "metadata": {
        "id": "p_bTyAv6a4wy"
      }
    },
    {
      "cell_type": "code",
      "source": [
        "#Another program\n",
        "\n",
        "data={'Name':'Alice','Age':35,'City':'New York'}\n",
        "print(data)\n",
        "print('Type of python object data',type(data))\n",
        "json_string=json.dumps(data)#Converting python object data to JSON String format using json.dumps() called Serialization/encoding or dumping\n",
        "print(json_string)\n",
        "print('Type of json string',type(json_string))\n",
        "\n"
      ],
      "metadata": {
        "colab": {
          "base_uri": "https://localhost:8080/"
        },
        "id": "gcfMIhh-Y62X",
        "outputId": "a3a51383-7feb-4c8c-da50-3b94508410a1"
      },
      "execution_count": 4,
      "outputs": [
        {
          "output_type": "stream",
          "name": "stdout",
          "text": [
            "{'Name': 'Alice', 'Age': 35, 'City': 'New York'}\n",
            "Type of python object data <class 'dict'>\n",
            "{\"Name\": \"Alice\", \"Age\": 35, \"City\": \"New York\"}\n",
            "Type of json string <class 'str'>\n"
          ]
        }
      ]
    },
    {
      "cell_type": "markdown",
      "source": [
        "json.dump() – Write JSON data to a file"
      ],
      "metadata": {
        "id": "dwlRrspIa9VM"
      }
    },
    {
      "cell_type": "code",
      "source": [
        "#Writing JSON data to a file\n",
        "\n",
        "import json\n",
        "print(json_string)\n",
        "file=open('data.json','w')\n",
        "js=json.dump(data,file)\n",
        "#Point to remember here json.dump() will expect first orgument as python object(data)and not the json_string\n",
        "#print(file,js)\n",
        "file.close()\n"
      ],
      "metadata": {
        "colab": {
          "base_uri": "https://localhost:8080/"
        },
        "id": "QBzBfz2-bDXt",
        "outputId": "eccd8885-16a0-4e1c-bfd2-36b884c5a68c"
      },
      "execution_count": 25,
      "outputs": [
        {
          "output_type": "stream",
          "name": "stdout",
          "text": [
            "{\"Name\": \"Alice\", \"Age\": 35, \"City\": \"New York\"}\n",
            "<_io.TextIOWrapper name='data.json' mode='w' encoding='utf-8'> None\n"
          ]
        }
      ]
    },
    {
      "cell_type": "code",
      "source": [
        "#Reading the Json file the file\n",
        "import json\n",
        "dump_file=open('data.json','r')\n",
        "read_data=dump_file.read()\n",
        "print(read_data)\n",
        "dump_file.close()"
      ],
      "metadata": {
        "colab": {
          "base_uri": "https://localhost:8080/"
        },
        "id": "Mzd48ADhbidu",
        "outputId": "51a3000c-f6d2-426b-d8cf-e37f4d29799a"
      },
      "execution_count": 26,
      "outputs": [
        {
          "output_type": "stream",
          "name": "stdout",
          "text": [
            "{\"Name\": \"Alice\", \"Age\": 35, \"City\": \"New York\"}\n"
          ]
        }
      ]
    },
    {
      "cell_type": "code",
      "source": [
        "#Using with statement this is serialization/ecoding/dumping python object(data) to json file(data1.json)\n",
        "\n",
        "with open('data1.json','w') as fj:\n",
        "  fj_write=json.dump(data,fj)\n",
        "  print(fj_write)"
      ],
      "metadata": {
        "colab": {
          "base_uri": "https://localhost:8080/"
        },
        "id": "VRmAW082hFns",
        "outputId": "93cfda3f-8b14-44c3-b731-799a770e17eb"
      },
      "execution_count": 27,
      "outputs": [
        {
          "output_type": "stream",
          "name": "stdout",
          "text": [
            "None\n"
          ]
        }
      ]
    },
    {
      "cell_type": "markdown",
      "source": [
        "Converting JSON to Python Objects (Deserialization)\n",
        "Deserialization (also called decoding or loading) is converting JSON-formatted data into Python objects.\n",
        "\n",
        "json.loads() – Convert JSON string to Python object"
      ],
      "metadata": {
        "id": "QazmN3D2h-mp"
      }
    },
    {
      "cell_type": "code",
      "source": [
        "#Now we will decode/deserialize/load the JSON file data(data1.json) to python object(dictionar)\n",
        "\n",
        "with open('data1.json','r') as jsonfile:\n",
        "  python_object=json.load(jsonfile)\n",
        "  print(python_object)\n",
        "  print(type(python_object))\n",
        "\n"
      ],
      "metadata": {
        "colab": {
          "base_uri": "https://localhost:8080/"
        },
        "id": "GTGJW4R5ia4t",
        "outputId": "cd4583fb-0011-49b0-b408-cb0a38a47fd5"
      },
      "execution_count": 29,
      "outputs": [
        {
          "output_type": "stream",
          "name": "stdout",
          "text": [
            "{'Name': 'Alice', 'Age': 35, 'City': 'New York'}\n",
            "<class 'dict'>\n"
          ]
        }
      ]
    },
    {
      "cell_type": "code",
      "source": [
        "#Serialization/encoding/dumping\n",
        "#Python object to json string json.dumps(data1(ptyhon object))or file\n",
        "#Python object to json file json.dump(data,file)\n",
        "\n",
        "#Deserialization/decoding/loading\n",
        "\n",
        "#Serialization/encoding/dumping\n",
        "import json\n",
        "data1={'a':1,'b':2,'c':3} #Python Object\n",
        "json_string=json.dumps(data1)\n",
        "print(json_string)\n",
        "print(type(json_string))\n",
        "print(data1)\n",
        "#Creating one json file data2.json and dumping python object into the file\n",
        "print('In Json File Creation/Serialization/dumping/encoding')\n",
        "file=open('data2.json','w')\n",
        "new_file=json.dump(data1,file)\n",
        "file.close()\n",
        "print(\"File writing completed after closing\")\n",
        "print(\"----------------------------------\")\n",
        "#Opeining data2 file/Deserialization/decoding/loading of json file to python object\n",
        "print('File reading started /deserialization/decoding/loading ')\n",
        "fileread=open('data2.json','r')\n",
        "python_object=json.load(fileread)\n",
        "print('---------------------')\n",
        "print(python_object)\n",
        "print(type(python_object))\n",
        "print('Now converting Json string to python object using json.loads()')\n",
        "#Now converting Json string to python object using json.loads()\n",
        "print(json_string)\n",
        "print('Class of json string',type(json_string))\n",
        "python_object=json.loads(json_string)\n",
        "print('Done the loading of json string python object( dict ) ')\n",
        "print(python_object)\n",
        "print('type of python_object now',type(python_object))"
      ],
      "metadata": {
        "colab": {
          "base_uri": "https://localhost:8080/"
        },
        "id": "KDeIGAUzr7Wz",
        "outputId": "e5a30cdd-eddc-4ff0-b5dc-ca1ece6025b0"
      },
      "execution_count": 44,
      "outputs": [
        {
          "output_type": "stream",
          "name": "stdout",
          "text": [
            "{\"a\": 1, \"b\": 2, \"c\": 3}\n",
            "<class 'str'>\n",
            "{'a': 1, 'b': 2, 'c': 3}\n",
            "In Json File Creation/Serialization/dumping/encoding\n",
            "File writing completed after closing\n",
            "----------------------------------\n",
            "File reading started /deserialization/decoding/loading \n",
            "---------------------\n",
            "{'a': 1, 'b': 2, 'c': 3}\n",
            "<class 'dict'>\n",
            "Now converting Json string to python object using json.loads()\n",
            "{\"a\": 1, \"b\": 2, \"c\": 3}\n",
            "Class of json string <class 'str'>\n",
            "Done the loading of json string python object( dict ) \n",
            "{'a': 1, 'b': 2, 'c': 3}\n",
            "type of python_object now <class 'dict'>\n"
          ]
        }
      ]
    }
  ]
}