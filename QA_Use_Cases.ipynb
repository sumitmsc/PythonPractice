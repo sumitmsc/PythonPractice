{
  "nbformat": 4,
  "nbformat_minor": 0,
  "metadata": {
    "colab": {
      "provenance": [],
      "authorship_tag": "ABX9TyOgIXQDhQG93ci3RkXricmi",
      "include_colab_link": true
    },
    "kernelspec": {
      "name": "python3",
      "display_name": "Python 3"
    },
    "language_info": {
      "name": "python"
    }
  },
  "cells": [
    {
      "cell_type": "markdown",
      "metadata": {
        "id": "view-in-github",
        "colab_type": "text"
      },
      "source": [
        "<a href=\"https://colab.research.google.com/github/sumitmsc/PythonPractice/blob/main/QA_Use_Cases.ipynb\" target=\"_parent\"><img src=\"https://colab.research.google.com/assets/colab-badge.svg\" alt=\"Open In Colab\"/></a>"
      ]
    },
    {
      "cell_type": "markdown",
      "source": [
        "This mimics a real test where you:\n",
        "\n",
        "Call an API\n",
        "\n",
        "Save the response in a file\n",
        "\n",
        "Reopen the file to verify content\n",
        "\n",
        "Objective\n",
        "\n",
        "This document explains how to use file handling in Python to:\n",
        "\n",
        "Send an API request\n",
        "\n",
        "Save the API response in a text file\n",
        "\n",
        "Read the file back\n",
        "\n",
        "Validate its contents\n",
        "\n",
        "This is a common use case in automation testing, especially in API testing frameworks."
      ],
      "metadata": {
        "id": "WklguP7vgZRD"
      }
    },
    {
      "cell_type": "code",
      "source": [
        "#Mini Practical Example (QA Use Case)\n",
        "def test_save_api_response():\n",
        "    import requests\n",
        "    response = requests.get(\"https://reqres.in/api/users/2\")\n",
        "    with open(\"api_output.txt\", \"w\") as f:\n",
        "        f.write(response.text)\n",
        "\n",
        "    # Validate saved file\n",
        "    with open(\"api_output.txt\", \"r\") as f:\n",
        "        data = f.read()\n",
        "    assert \"email\" in data\n",
        "    print(data)"
      ],
      "metadata": {
        "id": "CoHuKDNOfZ1R"
      },
      "execution_count": null,
      "outputs": []
    },
    {
      "cell_type": "markdown",
      "source": [
        "Step-by-Step Explanation\n",
        "✅ def test_save_api_response():\n",
        "\n",
        "This defines a test function for pytest.\n",
        "Any function starting with test_ is automatically recognized and executed when you run:\n",
        "\n",
        "⚙️ How to Run It\n",
        "\n",
        "Save this code in a file, e.g. test_api_file_handling.py\n",
        "\n",
        "Run in terminal:\n",
        "pytest -v\n",
        "\n",
        "\n",
        "test_api_file_handling.py::test_save_api_response PASSED"
      ],
      "metadata": {
        "id": "mOsClTsuLJbp"
      }
    },
    {
      "cell_type": "code",
      "execution_count": null,
      "metadata": {
        "id": "IVrd7j9bf3Go",
        "colab": {
          "base_uri": "https://localhost:8080/"
        },
        "outputId": "c7af1bcc-ca01-41ae-c056-f6f2fd4b8b51"
      },
      "outputs": [
        {
          "output_type": "stream",
          "name": "stdout",
          "text": [
            "H\n",
            "i\n",
            " \n",
            "M\n",
            "y\n",
            " \n",
            "n\n",
            "a\n",
            "m\n",
            "e\n",
            " \n",
            "i\n",
            "s\n",
            " \n",
            "s\n",
            "u\n",
            "m\n",
            "i\n",
            "t\n"
          ]
        }
      ],
      "source": [
        "#Practice#\n",
        "\n",
        "with open('file1.txt','w') as file:\n",
        "  file='Hi My name is sumit'\n",
        "\n",
        "  for i in file:\n",
        "    print(i)"
      ]
    }
  ]
}