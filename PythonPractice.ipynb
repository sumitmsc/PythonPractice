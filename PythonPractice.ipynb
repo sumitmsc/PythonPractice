{
  "nbformat": 4,
  "nbformat_minor": 0,
  "metadata": {
    "colab": {
      "provenance": [],
      "authorship_tag": "ABX9TyNjLbkFZWIscC3qIEmJvWXi",
      "include_colab_link": true
    },
    "kernelspec": {
      "name": "python3",
      "display_name": "Python 3"
    },
    "language_info": {
      "name": "python"
    }
  },
  "cells": [
    {
      "cell_type": "markdown",
      "metadata": {
        "id": "view-in-github",
        "colab_type": "text"
      },
      "source": [
        "<a href=\"https://colab.research.google.com/github/sumitmsc/PythonPractice/blob/main/PythonPractice.ipynb\" target=\"_parent\"><img src=\"https://colab.research.google.com/assets/colab-badge.svg\" alt=\"Open In Colab\"/></a>"
      ]
    },
    {
      "cell_type": "code",
      "execution_count": null,
      "metadata": {
        "id": "vjaWDD-g56_w"
      },
      "outputs": [],
      "source": []
    },
    {
      "cell_type": "code",
      "source": [
        "a=10\n",
        "b=23\n",
        "result=a+b\n",
        "print(f\"addition of {a} and {b} is ==>\",result)"
      ],
      "metadata": {
        "colab": {
          "base_uri": "https://localhost:8080/"
        },
        "id": "ojv7oDjs5-E6",
        "outputId": "18cf0072-ef8f-4c61-8d9c-55900b496da3"
      },
      "execution_count": null,
      "outputs": [
        {
          "output_type": "stream",
          "name": "stdout",
          "text": [
            "addition of 10 and 23 is ==> 33\n"
          ]
        }
      ]
    },
    {
      "cell_type": "code",
      "source": [
        "print(\"hello- New Cell\")"
      ],
      "metadata": {
        "colab": {
          "base_uri": "https://localhost:8080/"
        },
        "id": "IOgPlsFp7bhk",
        "outputId": "3b19d70f-9531-413e-d50d-6704b49680b0"
      },
      "execution_count": null,
      "outputs": [
        {
          "output_type": "stream",
          "name": "stdout",
          "text": [
            "hello- New Cell\n"
          ]
        }
      ]
    },
    {
      "cell_type": "code",
      "source": [
        "a=10\n",
        "if a>10:\n",
        "  print(\"hello\")\n",
        "\n",
        "type(a)"
      ],
      "metadata": {
        "colab": {
          "base_uri": "https://localhost:8080/"
        },
        "id": "lH677ewR_SUb",
        "outputId": "621bbc25-2a89-4235-8a56-bc816f940fa9"
      },
      "execution_count": null,
      "outputs": [
        {
          "output_type": "execute_result",
          "data": {
            "text/plain": [
              "int"
            ]
          },
          "metadata": {},
          "execution_count": 17
        }
      ]
    },
    {
      "cell_type": "code",
      "source": [
        "y=str(a)\n",
        "print(y)\n",
        "type(y)"
      ],
      "metadata": {
        "colab": {
          "base_uri": "https://localhost:8080/"
        },
        "id": "nvXRmJ-TAXfQ",
        "outputId": "9c7cf0bc-7906-400a-fe3d-b8cd8499e7a8"
      },
      "execution_count": null,
      "outputs": [
        {
          "output_type": "stream",
          "name": "stdout",
          "text": [
            "10\n"
          ]
        },
        {
          "output_type": "execute_result",
          "data": {
            "text/plain": [
              "str"
            ]
          },
          "metadata": {},
          "execution_count": 18
        }
      ]
    },
    {
      "cell_type": "code",
      "source": [
        "Age=10\n",
        "age=23\n",
        "print(age,Age)\n",
        "print(id(Age))\n",
        "print(id(age))"
      ],
      "metadata": {
        "colab": {
          "base_uri": "https://localhost:8080/"
        },
        "id": "Hti0DRbiAuLu",
        "outputId": "73c714a6-90a1-422e-f859-4a8296dacc2e"
      },
      "execution_count": null,
      "outputs": [
        {
          "output_type": "stream",
          "name": "stdout",
          "text": [
            "23 10\n",
            "11642376\n",
            "11642792\n"
          ]
        }
      ]
    },
    {
      "cell_type": "code",
      "source": [],
      "metadata": {
        "id": "EEstyl3PO2D4"
      },
      "execution_count": null,
      "outputs": []
    },
    {
      "cell_type": "markdown",
      "source": [
        "Arithmetic operators +,-*/,//(integer devision),**\n",
        "Logical operators and, or , not\n",
        "relational operators ->,<,<=,>=,!=,==\n",
        "Unary operators are not available\n",
        "Bolean true false\\\n",
        "Bitwise- &,|\n",
        "membership operators in, not in\n",
        "is, is not\n",
        "\n"
      ],
      "metadata": {
        "id": "YXDy3ikVNrGA"
      }
    },
    {
      "cell_type": "code",
      "source": [
        "a=2\n",
        "b=5\n",
        "print(a**b)# a power of b\n",
        "\n",
        "print('technical devision', a/b)\n",
        "print('integer/floor devision',a//b)"
      ],
      "metadata": {
        "colab": {
          "base_uri": "https://localhost:8080/"
        },
        "id": "hNQrutGRO4bQ",
        "outputId": "35cf7e4b-2e2b-4189-8c46-f9d37d4781d1"
      },
      "execution_count": null,
      "outputs": [
        {
          "output_type": "stream",
          "name": "stdout",
          "text": [
            "32\n",
            "technical devision 0.4\n",
            "integer devision/floor 0\n"
          ]
        }
      ]
    },
    {
      "cell_type": "code",
      "source": [
        "!python --version\n"
      ],
      "metadata": {
        "colab": {
          "base_uri": "https://localhost:8080/"
        },
        "id": "iVAvIrokg22k",
        "outputId": "dd051e5a-78f3-4433-db57-124b644ba8b1"
      },
      "execution_count": null,
      "outputs": [
        {
          "output_type": "stream",
          "name": "stdout",
          "text": [
            "Python 3.12.11\n"
          ]
        }
      ]
    },
    {
      "cell_type": "code",
      "source": [
        "a=10\n",
        "b=10\n",
        "c=10\n",
        "print(id(a))\n",
        "print(id(b))\n",
        "print(id(c))\n",
        "\n",
        "b=50\n",
        "print()\n",
        "print(id(b))\n",
        "\n",
        "print(hex(id(a)))\n",
        "print(hex(id(b)))\n",
        "print(hex(id(c)))"
      ],
      "metadata": {
        "colab": {
          "base_uri": "https://localhost:8080/"
        },
        "id": "hWYrSofsC6SI",
        "outputId": "e2f6f293-4b52-45a2-fc27-0df2e9f6a83c"
      },
      "execution_count": null,
      "outputs": [
        {
          "output_type": "stream",
          "name": "stdout",
          "text": [
            "11642376\n",
            "11642376\n",
            "11642376\n",
            "\n",
            "11643656\n",
            "0xb1a608\n",
            "0xb1ab08\n",
            "0xb1a608\n"
          ]
        }
      ]
    },
    {
      "cell_type": "markdown",
      "source": [],
      "metadata": {
        "id": "EGAanEY_haDT"
      }
    },
    {
      "cell_type": "code",
      "source": [
        "#use of \\ for better readablilty\n",
        "total=1+2+3+\\\n",
        "4+5+6\n",
        "print(total)"
      ],
      "metadata": {
        "colab": {
          "base_uri": "https://localhost:8080/"
        },
        "id": "OlcKgGu8hezt",
        "outputId": "13289036-2601-450e-f5b8-39b87b75639a"
      },
      "execution_count": null,
      "outputs": [
        {
          "output_type": "stream",
          "name": "stdout",
          "text": [
            "21\n"
          ]
        }
      ]
    },
    {
      "cell_type": "code",
      "source": [
        "#Program for checking dynamic nature of python, dynamically typed language\n",
        "counter=100\n",
        "miles=11.11\n",
        "name='Sumit'\n",
        "print(counter, miles, name)\n",
        "print(type(counter))\n",
        "print(type(miles))\n",
        "print(type(name))\n",
        "#del use\n",
        "\n",
        "#del counter\n",
        "print(miles)\n",
        "print(name)\n",
        "counter=12\n",
        "print(counter)"
      ],
      "metadata": {
        "colab": {
          "base_uri": "https://localhost:8080/"
        },
        "id": "h5Dl4aDdjcdR",
        "outputId": "13301f06-0784-45d1-c5a5-2af083a74779"
      },
      "execution_count": null,
      "outputs": [
        {
          "output_type": "stream",
          "name": "stdout",
          "text": [
            "100 11.11 Sumit\n",
            "<class 'int'>\n",
            "<class 'float'>\n",
            "<class 'str'>\n",
            "11.11\n",
            "Sumit\n",
            "12\n"
          ]
        }
      ]
    },
    {
      "cell_type": "code",
      "source": [
        "#Explicit Continuation\n",
        "s=\"Today we are learning explicit continuation\"\\\n",
        "\"and it will give error\"\n",
        "print(s)"
      ],
      "metadata": {
        "colab": {
          "base_uri": "https://localhost:8080/"
        },
        "id": "2U5lWS_hi0wq",
        "outputId": "34adb144-f27f-4621-b51f-8ebdef3a0915"
      },
      "execution_count": null,
      "outputs": [
        {
          "output_type": "stream",
          "name": "stdout",
          "text": [
            "Today we are learning explicit continuationand it will give error\n"
          ]
        }
      ]
    },
    {
      "cell_type": "code",
      "source": [
        "#implicit continuation\n",
        "numbers=[1,2,3,\n",
        "         4,5,6]\n",
        "print(numbers)"
      ],
      "metadata": {
        "colab": {
          "base_uri": "https://localhost:8080/"
        },
        "id": "j39NqkcliVlB",
        "outputId": "64d68a05-686c-45bd-cf91-8f86fdd4c1da"
      },
      "execution_count": null,
      "outputs": [
        {
          "output_type": "stream",
          "name": "stdout",
          "text": [
            "[1, 2, 3, 4, 5, 6]\n"
          ]
        }
      ]
    },
    {
      "cell_type": "code",
      "source": [
        "#Operators in Python\n",
        "a=10\n",
        "b=3\n",
        "print(a//b)#floor=nearest lower integer\n",
        "print(a/b)\n",
        "print(a**b)#10 to the power of 3\n",
        "print(f'checking identity for {a} is equal to {b}==>',a is b)#Identity operator\n",
        "print(f'checking identity for {a} is not equal to {b}==>',a is not b)#identity operator true\n",
        "#Membership operators\n",
        "str='hello'\n",
        "print('Membershio operator example')\n",
        "print('e' in str)\n",
        "print('e' not in str)"
      ],
      "metadata": {
        "colab": {
          "base_uri": "https://localhost:8080/"
        },
        "id": "kYXJMDKX2E4q",
        "outputId": "647adfb8-9cfb-4dee-fba7-751907ebeedd"
      },
      "execution_count": null,
      "outputs": [
        {
          "output_type": "stream",
          "name": "stdout",
          "text": [
            "3\n",
            "3.3333333333333335\n",
            "1000\n",
            "checking identity for 10 is equal to 3==> False\n",
            "checking identity for 10 is not equal to 3==> True\n",
            "Membershio operator example\n",
            "True\n",
            "False\n"
          ]
        }
      ]
    },
    {
      "cell_type": "code",
      "source": [
        "print(help)\n",
        "help(print)"
      ],
      "metadata": {
        "colab": {
          "base_uri": "https://localhost:8080/"
        },
        "id": "GLsbSvPh-Pa8",
        "outputId": "61f9a063-fb20-41be-a9f3-06a24d178b84"
      },
      "execution_count": null,
      "outputs": [
        {
          "output_type": "stream",
          "name": "stdout",
          "text": [
            "Type help() for interactive help, or help(object) for help about object.\n",
            "Help on built-in function print in module builtins:\n",
            "\n",
            "print(*args, sep=' ', end='\\n', file=None, flush=False)\n",
            "    Prints the values to a stream, or to sys.stdout by default.\n",
            "\n",
            "    sep\n",
            "      string inserted between values, default a space.\n",
            "    end\n",
            "      string appended after the last value, default a newline.\n",
            "    file\n",
            "      a file-like object (stream); defaults to the current sys.stdout.\n",
            "    flush\n",
            "      whether to forcibly flush the stream.\n",
            "\n"
          ]
        }
      ]
    },
    {
      "cell_type": "code",
      "source": [
        "#Use of membership opertor to check the word in given string\n",
        "\n",
        "str='hello'\n",
        "print('Please enter the word you want to search')\n",
        "s=input()\n",
        "print(f'you are searching the word {s} in the string')\n",
        "'''if s in str:\n",
        "   print(f'{s} is avalable in string')\n",
        "else:\n",
        "   print(f'{s} is not available in string')\n",
        "'''\n",
        "print(s in str)\n"
      ],
      "metadata": {
        "colab": {
          "base_uri": "https://localhost:8080/"
        },
        "id": "SjJKOywg8XgX",
        "outputId": "c45a2026-321f-4b6b-ced2-bf21fe4e99e2"
      },
      "execution_count": null,
      "outputs": [
        {
          "output_type": "stream",
          "name": "stdout",
          "text": [
            "Please enter the word you want to search\n",
            "h\n",
            "you are searching the word h in the string\n",
            "True\n"
          ]
        }
      ]
    },
    {
      "cell_type": "code",
      "source": [
        "#Use of identity operator is , is not\n",
        "\n",
        "a=10\n",
        "b=10\n",
        "print(a is not b)"
      ],
      "metadata": {
        "colab": {
          "base_uri": "https://localhost:8080/"
        },
        "id": "MR5ziztLAKaK",
        "outputId": "7c228440-0bec-48c9-bc1a-5fb8e21ee24d"
      },
      "execution_count": null,
      "outputs": [
        {
          "output_type": "stream",
          "name": "stdout",
          "text": [
            "False\n"
          ]
        }
      ]
    },
    {
      "cell_type": "code",
      "source": [
        "#Class of a variable\n",
        "a=10\n",
        "b=10\n",
        "print(type(a))\n",
        "print(type(b))\n",
        "print(id(a))\n",
        "print(id(b))\n",
        "a=a+2\n",
        "print(a)\n",
        "print(id(a))\n"
      ],
      "metadata": {
        "colab": {
          "base_uri": "https://localhost:8080/"
        },
        "id": "GLHul061CuDZ",
        "outputId": "4b7b7b8d-57e1-4276-d8f8-34f74cf80d8c"
      },
      "execution_count": null,
      "outputs": [
        {
          "output_type": "stream",
          "name": "stdout",
          "text": [
            "<class 'int'>\n",
            "<class 'int'>\n",
            "11642376\n",
            "11642376\n",
            "12\n",
            "11642440\n"
          ]
        }
      ]
    },
    {
      "cell_type": "code",
      "source": [
        "#Slicing (start:end:step)\n",
        "str=\"Program\"\n",
        "print(str[1:6])#Upper limit is not inclusive thats why rogra str[lower limit: upper limit -1]\n",
        "#Now we are checking the step 2 result it should be r g a as those are situated in the range 1:6 with steps 2\n",
        "print(str[1:6:3])"
      ],
      "metadata": {
        "colab": {
          "base_uri": "https://localhost:8080/"
        },
        "id": "sZGq6DkStm26",
        "outputId": "a9f891a6-c39b-4841-ec0b-b0c4536c9315"
      },
      "execution_count": null,
      "outputs": [
        {
          "output_type": "stream",
          "name": "stdout",
          "text": [
            "rogra\n",
            "rr\n"
          ]
        }
      ]
    },
    {
      "cell_type": "code",
      "source": [
        "#Check for Palindrom\n",
        "s=input(\"enter the string \").lower()\n",
        "if s==s[::-1]:\n",
        "  print(\"palindrom\")\n",
        "else:\n",
        "  print(\"not palindrom\")\n",
        "\n",
        "  '''s = input(\"enter the string \")\n",
        "\n",
        "This line asks the user to type a string.\n",
        "\n",
        "Whatever you type will be stored in the variable s.\n",
        "\n",
        "Example: if you type madam, then s = \"madam\".\n",
        "\n",
        "s[::-1]\n",
        "\n",
        "This is Python slicing.\n",
        "\n",
        "It means: take the string s and reverse it.\n",
        "\n",
        "Breakdown:\n",
        "\n",
        "s[start:stop:step]\n",
        "\n",
        "Here, start and stop are empty → it takes the whole string.\n",
        "\n",
        "step = -1 → means \"go backwards\".\n",
        "\n",
        "So if s = \"madam\", then s[::-1] = \"madam\" (same when reversed).\n",
        "\n",
        "if s == s[::-1]:\n",
        "\n",
        "This compares the original string to its reversed version.\n",
        "\n",
        "If both are the same → it’s a palindrome.\n",
        "\n",
        "Example:\n",
        "\n",
        "\"madam\" == \"madam\" ✅ (palindrome)\n",
        "\n",
        "\"hello\" == \"olleh\" ❌ (not palindrome)\n",
        "\n",
        "print(\"palindrom\") / print(\"not palindrom\")\n",
        "\n",
        "Based on the condition:\n",
        "\n",
        "If true → prints palindrom\n",
        "\n",
        "If false → prints not palindrom'''\n"
      ],
      "metadata": {
        "colab": {
          "base_uri": "https://localhost:8080/"
        },
        "id": "gRFIyOrzXuqB",
        "outputId": "d2e1205e-36aa-4ce8-d247-b38336ff6abc"
      },
      "execution_count": 4,
      "outputs": [
        {
          "output_type": "stream",
          "name": "stdout",
          "text": [
            "enter the string Nitin\n",
            "not palindrom\n"
          ]
        }
      ]
    },
    {
      "cell_type": "code",
      "source": [
        "#Program to check palindrom or not\n",
        "s=input('enter the string to check if the string is  palindrom or not ')\n",
        "if s==s[::-1]:\n",
        "  print(f'You have entered string {s} and string is Palindrom')\n",
        "else:\n",
        "  print(f'You have entered string {s} and string is Not Palindrom')\n",
        "\n"
      ],
      "metadata": {
        "colab": {
          "base_uri": "https://localhost:8080/"
        },
        "id": "kBu4i7EbZOl0",
        "outputId": "7a54634d-0c21-4420-9c11-3f80898be122"
      },
      "execution_count": 10,
      "outputs": [
        {
          "output_type": "stream",
          "name": "stdout",
          "text": [
            "enter the string to check if the string is  palindrom or not Nitin\n",
            "You have entered string Nitin and string is Not Palindrom\n"
          ]
        }
      ]
    }
  ]
}