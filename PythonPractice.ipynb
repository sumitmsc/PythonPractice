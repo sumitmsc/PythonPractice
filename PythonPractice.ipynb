{
  "cells": [
    {
      "cell_type": "markdown",
      "metadata": {
        "id": "view-in-github",
        "colab_type": "text"
      },
      "source": [
        "<a href=\"https://colab.research.google.com/github/sumitmsc/PythonPractice/blob/main/PythonPractice.ipynb\" target=\"_parent\"><img src=\"https://colab.research.google.com/assets/colab-badge.svg\" alt=\"Open In Colab\"/></a>"
      ]
    },
    {
      "cell_type": "code",
      "execution_count": null,
      "metadata": {
        "id": "vjaWDD-g56_w"
      },
      "outputs": [],
      "source": []
    },
    {
      "cell_type": "code",
      "execution_count": null,
      "metadata": {
        "colab": {
          "base_uri": "https://localhost:8080/"
        },
        "id": "ojv7oDjs5-E6",
        "outputId": "18cf0072-ef8f-4c61-8d9c-55900b496da3"
      },
      "outputs": [
        {
          "name": "stdout",
          "output_type": "stream",
          "text": [
            "addition of 10 and 23 is ==> 33\n"
          ]
        }
      ],
      "source": [
        "a=10\n",
        "b=23\n",
        "result=a+b\n",
        "print(f\"addition of {a} and {b} is ==>\",result)"
      ]
    },
    {
      "cell_type": "code",
      "execution_count": null,
      "metadata": {
        "colab": {
          "base_uri": "https://localhost:8080/"
        },
        "id": "IOgPlsFp7bhk",
        "outputId": "3b19d70f-9531-413e-d50d-6704b49680b0"
      },
      "outputs": [
        {
          "name": "stdout",
          "output_type": "stream",
          "text": [
            "hello- New Cell\n"
          ]
        }
      ],
      "source": [
        "print(\"hello- New Cell\")"
      ]
    },
    {
      "cell_type": "code",
      "execution_count": null,
      "metadata": {
        "colab": {
          "base_uri": "https://localhost:8080/"
        },
        "id": "lH677ewR_SUb",
        "outputId": "621bbc25-2a89-4235-8a56-bc816f940fa9"
      },
      "outputs": [
        {
          "data": {
            "text/plain": [
              "int"
            ]
          },
          "execution_count": 17,
          "metadata": {},
          "output_type": "execute_result"
        }
      ],
      "source": [
        "a=10\n",
        "if a>10:\n",
        "  print(\"hello\")\n",
        "\n",
        "type(a)"
      ]
    },
    {
      "cell_type": "code",
      "execution_count": null,
      "metadata": {
        "colab": {
          "base_uri": "https://localhost:8080/"
        },
        "id": "nvXRmJ-TAXfQ",
        "outputId": "9c7cf0bc-7906-400a-fe3d-b8cd8499e7a8"
      },
      "outputs": [
        {
          "name": "stdout",
          "output_type": "stream",
          "text": [
            "10\n"
          ]
        },
        {
          "data": {
            "text/plain": [
              "str"
            ]
          },
          "execution_count": 18,
          "metadata": {},
          "output_type": "execute_result"
        }
      ],
      "source": [
        "y=str(a)\n",
        "print(y)\n",
        "type(y)"
      ]
    },
    {
      "cell_type": "code",
      "execution_count": null,
      "metadata": {
        "colab": {
          "base_uri": "https://localhost:8080/"
        },
        "id": "Hti0DRbiAuLu",
        "outputId": "73c714a6-90a1-422e-f859-4a8296dacc2e"
      },
      "outputs": [
        {
          "name": "stdout",
          "output_type": "stream",
          "text": [
            "23 10\n",
            "11642376\n",
            "11642792\n"
          ]
        }
      ],
      "source": [
        "Age=10\n",
        "age=23\n",
        "print(age,Age)\n",
        "print(id(Age))\n",
        "print(id(age))"
      ]
    },
    {
      "cell_type": "code",
      "execution_count": null,
      "metadata": {
        "id": "EEstyl3PO2D4"
      },
      "outputs": [],
      "source": []
    },
    {
      "cell_type": "markdown",
      "metadata": {
        "id": "YXDy3ikVNrGA"
      },
      "source": [
        "Arithmetic operators +,-*/,//(integer devision),**\n",
        "Logical operators and, or , not\n",
        "relational operators ->,<,<=,>=,!=,==\n",
        "Unary operators are not available\n",
        "Bolean true false\\\n",
        "Bitwise- &,|\n",
        "membership operators in, not in\n",
        "is, is not\n",
        "\n"
      ]
    },
    {
      "cell_type": "code",
      "execution_count": null,
      "metadata": {
        "colab": {
          "base_uri": "https://localhost:8080/"
        },
        "id": "hNQrutGRO4bQ",
        "outputId": "35cf7e4b-2e2b-4189-8c46-f9d37d4781d1"
      },
      "outputs": [
        {
          "name": "stdout",
          "output_type": "stream",
          "text": [
            "32\n",
            "technical devision 0.4\n",
            "integer devision/floor 0\n"
          ]
        }
      ],
      "source": [
        "a=2\n",
        "b=5\n",
        "print(a**b)# a power of b\n",
        "\n",
        "print('technical devision', a/b)\n",
        "print('integer/floor devision',a//b)"
      ]
    },
    {
      "cell_type": "code",
      "execution_count": null,
      "metadata": {
        "colab": {
          "base_uri": "https://localhost:8080/"
        },
        "id": "iVAvIrokg22k",
        "outputId": "dd051e5a-78f3-4433-db57-124b644ba8b1"
      },
      "outputs": [
        {
          "name": "stdout",
          "output_type": "stream",
          "text": [
            "Python 3.12.11\n"
          ]
        }
      ],
      "source": [
        "!python --version\n"
      ]
    },
    {
      "cell_type": "code",
      "execution_count": null,
      "metadata": {
        "colab": {
          "base_uri": "https://localhost:8080/"
        },
        "id": "hWYrSofsC6SI",
        "outputId": "e2f6f293-4b52-45a2-fc27-0df2e9f6a83c"
      },
      "outputs": [
        {
          "name": "stdout",
          "output_type": "stream",
          "text": [
            "11642376\n",
            "11642376\n",
            "11642376\n",
            "\n",
            "11643656\n",
            "0xb1a608\n",
            "0xb1ab08\n",
            "0xb1a608\n"
          ]
        }
      ],
      "source": [
        "a=10\n",
        "b=10\n",
        "c=10\n",
        "print(id(a))\n",
        "print(id(b))\n",
        "print(id(c))\n",
        "\n",
        "b=50\n",
        "print()\n",
        "print(id(b))\n",
        "\n",
        "print(hex(id(a)))\n",
        "print(hex(id(b)))\n",
        "print(hex(id(c)))"
      ]
    },
    {
      "cell_type": "markdown",
      "metadata": {
        "id": "EGAanEY_haDT"
      },
      "source": []
    },
    {
      "cell_type": "code",
      "execution_count": null,
      "metadata": {
        "colab": {
          "base_uri": "https://localhost:8080/"
        },
        "id": "OlcKgGu8hezt",
        "outputId": "13289036-2601-450e-f5b8-39b87b75639a"
      },
      "outputs": [
        {
          "name": "stdout",
          "output_type": "stream",
          "text": [
            "21\n"
          ]
        }
      ],
      "source": [
        "#use of \\ for better readablilty\n",
        "total=1+2+3+\\\n",
        "4+5+6\n",
        "print(total)"
      ]
    },
    {
      "cell_type": "code",
      "execution_count": null,
      "metadata": {
        "colab": {
          "base_uri": "https://localhost:8080/"
        },
        "id": "h5Dl4aDdjcdR",
        "outputId": "13301f06-0784-45d1-c5a5-2af083a74779"
      },
      "outputs": [
        {
          "name": "stdout",
          "output_type": "stream",
          "text": [
            "100 11.11 Sumit\n",
            "<class 'int'>\n",
            "<class 'float'>\n",
            "<class 'str'>\n",
            "11.11\n",
            "Sumit\n",
            "12\n"
          ]
        }
      ],
      "source": [
        "#Program for checking dynamic nature of python, dynamically typed language\n",
        "counter=100\n",
        "miles=11.11\n",
        "name='Sumit'\n",
        "print(counter, miles, name)\n",
        "print(type(counter))\n",
        "print(type(miles))\n",
        "print(type(name))\n",
        "#del use\n",
        "\n",
        "#del counter\n",
        "print(miles)\n",
        "print(name)\n",
        "counter=12\n",
        "print(counter)"
      ]
    },
    {
      "cell_type": "code",
      "execution_count": null,
      "metadata": {
        "colab": {
          "base_uri": "https://localhost:8080/"
        },
        "id": "2U5lWS_hi0wq",
        "outputId": "34adb144-f27f-4621-b51f-8ebdef3a0915"
      },
      "outputs": [
        {
          "name": "stdout",
          "output_type": "stream",
          "text": [
            "Today we are learning explicit continuationand it will give error\n"
          ]
        }
      ],
      "source": [
        "#Explicit Continuation\n",
        "s=\"Today we are learning explicit continuation\"\\\n",
        "\"and it will give error\"\n",
        "print(s)"
      ]
    },
    {
      "cell_type": "code",
      "execution_count": null,
      "metadata": {
        "colab": {
          "base_uri": "https://localhost:8080/"
        },
        "id": "j39NqkcliVlB",
        "outputId": "64d68a05-686c-45bd-cf91-8f86fdd4c1da"
      },
      "outputs": [
        {
          "name": "stdout",
          "output_type": "stream",
          "text": [
            "[1, 2, 3, 4, 5, 6]\n"
          ]
        }
      ],
      "source": [
        "#implicit continuation\n",
        "numbers=[1,2,3,\n",
        "         4,5,6]\n",
        "print(numbers)"
      ]
    },
    {
      "cell_type": "code",
      "execution_count": null,
      "metadata": {
        "colab": {
          "base_uri": "https://localhost:8080/"
        },
        "id": "kYXJMDKX2E4q",
        "outputId": "647adfb8-9cfb-4dee-fba7-751907ebeedd"
      },
      "outputs": [
        {
          "name": "stdout",
          "output_type": "stream",
          "text": [
            "3\n",
            "3.3333333333333335\n",
            "1000\n",
            "checking identity for 10 is equal to 3==> False\n",
            "checking identity for 10 is not equal to 3==> True\n",
            "Membershio operator example\n",
            "True\n",
            "False\n"
          ]
        }
      ],
      "source": [
        "#Operators in Python\n",
        "a=10\n",
        "b=3\n",
        "print(a//b)#floor=nearest lower integer\n",
        "print(a/b)\n",
        "print(a**b)#10 to the power of 3\n",
        "print(f'checking identity for {a} is equal to {b}==>',a is b)#Identity operator\n",
        "print(f'checking identity for {a} is not equal to {b}==>',a is not b)#identity operator true\n",
        "#Membership operators\n",
        "str='hello'\n",
        "print('Membershio operator example')\n",
        "print('e' in str)\n",
        "print('e' not in str)"
      ]
    },
    {
      "cell_type": "code",
      "execution_count": null,
      "metadata": {
        "colab": {
          "base_uri": "https://localhost:8080/"
        },
        "id": "GLsbSvPh-Pa8",
        "outputId": "61f9a063-fb20-41be-a9f3-06a24d178b84"
      },
      "outputs": [
        {
          "name": "stdout",
          "output_type": "stream",
          "text": [
            "Type help() for interactive help, or help(object) for help about object.\n",
            "Help on built-in function print in module builtins:\n",
            "\n",
            "print(*args, sep=' ', end='\\n', file=None, flush=False)\n",
            "    Prints the values to a stream, or to sys.stdout by default.\n",
            "\n",
            "    sep\n",
            "      string inserted between values, default a space.\n",
            "    end\n",
            "      string appended after the last value, default a newline.\n",
            "    file\n",
            "      a file-like object (stream); defaults to the current sys.stdout.\n",
            "    flush\n",
            "      whether to forcibly flush the stream.\n",
            "\n"
          ]
        }
      ],
      "source": [
        "print(help)\n",
        "help(print)"
      ]
    },
    {
      "cell_type": "code",
      "execution_count": null,
      "metadata": {
        "colab": {
          "base_uri": "https://localhost:8080/"
        },
        "id": "SjJKOywg8XgX",
        "outputId": "c45a2026-321f-4b6b-ced2-bf21fe4e99e2"
      },
      "outputs": [
        {
          "name": "stdout",
          "output_type": "stream",
          "text": [
            "Please enter the word you want to search\n",
            "h\n",
            "you are searching the word h in the string\n",
            "True\n"
          ]
        }
      ],
      "source": [
        "#Use of membership opertor to check the word in given string\n",
        "\n",
        "str='hello'\n",
        "print('Please enter the word you want to search')\n",
        "s=input()\n",
        "print(f'you are searching the word {s} in the string')\n",
        "'''if s in str:\n",
        "   print(f'{s} is avalable in string')\n",
        "else:\n",
        "   print(f'{s} is not available in string')\n",
        "'''\n",
        "print(s in str)\n"
      ]
    },
    {
      "cell_type": "code",
      "execution_count": null,
      "metadata": {
        "colab": {
          "base_uri": "https://localhost:8080/"
        },
        "id": "MR5ziztLAKaK",
        "outputId": "7c228440-0bec-48c9-bc1a-5fb8e21ee24d"
      },
      "outputs": [
        {
          "name": "stdout",
          "output_type": "stream",
          "text": [
            "False\n"
          ]
        }
      ],
      "source": [
        "#Use of identity operator is , is not\n",
        "\n",
        "a=10\n",
        "b=10\n",
        "print(a is not b)"
      ]
    },
    {
      "cell_type": "code",
      "execution_count": null,
      "metadata": {
        "colab": {
          "base_uri": "https://localhost:8080/"
        },
        "id": "GLHul061CuDZ",
        "outputId": "4b7b7b8d-57e1-4276-d8f8-34f74cf80d8c"
      },
      "outputs": [
        {
          "name": "stdout",
          "output_type": "stream",
          "text": [
            "<class 'int'>\n",
            "<class 'int'>\n",
            "11642376\n",
            "11642376\n",
            "12\n",
            "11642440\n"
          ]
        }
      ],
      "source": [
        "#Class of a variable\n",
        "a=10\n",
        "b=10\n",
        "print(type(a))\n",
        "print(type(b))\n",
        "print(id(a))\n",
        "print(id(b))\n",
        "a=a+2\n",
        "print(a)\n",
        "print(id(a))\n"
      ]
    },
    {
      "cell_type": "code",
      "execution_count": null,
      "metadata": {
        "colab": {
          "base_uri": "https://localhost:8080/"
        },
        "id": "sZGq6DkStm26",
        "outputId": "a9f891a6-c39b-4841-ec0b-b0c4536c9315"
      },
      "outputs": [
        {
          "name": "stdout",
          "output_type": "stream",
          "text": [
            "rogra\n",
            "rr\n"
          ]
        }
      ],
      "source": [
        "#Slicing (start:end:step)\n",
        "str=\"Program\"\n",
        "print(str[1:6])#Upper limit is not inclusive thats why rogra str[lower limit: upper limit -1]\n",
        "#Now we are checking the step 2 result it should be r g a as those are situated in the range 1:6 with steps 2\n",
        "print(str[1:6:3])"
      ]
    },
    {
      "cell_type": "code",
      "execution_count": null,
      "metadata": {
        "colab": {
          "base_uri": "https://localhost:8080/"
        },
        "id": "gRFIyOrzXuqB",
        "outputId": "d2e1205e-36aa-4ce8-d247-b38336ff6abc"
      },
      "outputs": [
        {
          "name": "stdout",
          "output_type": "stream",
          "text": [
            "enter the string Nitin\n",
            "not palindrom\n"
          ]
        }
      ],
      "source": [
        "#Check for Palindrom\n",
        "s=input(\"enter the string \").lower()\n",
        "if s==s[::-1]:\n",
        "  print(\"palindrom\")\n",
        "else:\n",
        "  print(\"not palindrom\")\n",
        "\n",
        "  '''s = input(\"enter the string \")\n",
        "\n",
        "This line asks the user to type a string.\n",
        "\n",
        "Whatever you type will be stored in the variable s.\n",
        "\n",
        "Example: if you type madam, then s = \"madam\".\n",
        "\n",
        "s[::-1]\n",
        "\n",
        "This is Python slicing.\n",
        "\n",
        "It means: take the string s and reverse it.\n",
        "\n",
        "Breakdown:\n",
        "\n",
        "s[start:stop:step]\n",
        "\n",
        "Here, start and stop are empty → it takes the whole string.\n",
        "\n",
        "step = -1 → means \"go backwards\".\n",
        "\n",
        "So if s = \"madam\", then s[::-1] = \"madam\" (same when reversed).\n",
        "\n",
        "if s == s[::-1]:\n",
        "\n",
        "This compares the original string to its reversed version.\n",
        "\n",
        "If both are the same → it’s a palindrome.\n",
        "\n",
        "Example:\n",
        "\n",
        "\"madam\" == \"madam\" ✅ (palindrome)\n",
        "\n",
        "\"hello\" == \"olleh\" ❌ (not palindrome)\n",
        "\n",
        "print(\"palindrom\") / print(\"not palindrom\")\n",
        "\n",
        "Based on the condition:\n",
        "\n",
        "If true → prints palindrom\n",
        "\n",
        "If false → prints not palindrom'''\n"
      ]
    },
    {
      "cell_type": "code",
      "execution_count": null,
      "metadata": {
        "colab": {
          "base_uri": "https://localhost:8080/"
        },
        "id": "kBu4i7EbZOl0",
        "outputId": "7a54634d-0c21-4420-9c11-3f80898be122"
      },
      "outputs": [
        {
          "name": "stdout",
          "output_type": "stream",
          "text": [
            "enter the string to check if the string is  palindrom or not Nitin\n",
            "You have entered string Nitin and string is Not Palindrom\n"
          ]
        }
      ],
      "source": [
        "#Program to check palindrom or not\n",
        "s=input('enter the string to check if the string is  palindrom or not ')\n",
        "if s==s[::-1]:\n",
        "  print(f'You have entered string {s} and string is Palindrom')\n",
        "else:\n",
        "  print(f'You have entered string {s} and string is Not Palindrom')\n",
        "\n"
      ]
    },
    {
      "cell_type": "code",
      "execution_count": null,
      "metadata": {
        "colab": {
          "base_uri": "https://localhost:8080/"
        },
        "id": "edLIzpIbbTe4",
        "outputId": "2c59889c-e5a3-433d-a6ff-bf3c79382e58"
      },
      "outputs": [
        {
          "name": "stdout",
          "output_type": "stream",
          "text": [
            "\n"
          ]
        }
      ],
      "source": [
        "str='program'\n",
        "str=str[-1:-2]\n",
        "print(str)"
      ]
    },
    {
      "cell_type": "code",
      "execution_count": null,
      "metadata": {
        "colab": {
          "base_uri": "https://localhost:8080/"
        },
        "id": "3WDu_QJbc4KX",
        "outputId": "c5d5aa49-26eb-4dde-ee0a-066344e0b6eb"
      },
      "outputs": [
        {
          "name": "stdout",
          "output_type": "stream",
          "text": [
            "hello\n",
            "Hllo\n",
            "Checking replace function\n",
            "HelloH\n",
            "helloh\n"
          ]
        }
      ],
      "source": [
        "#String immutability\n",
        "a=\"hello\"\n",
        "print(a)\n",
        "a=\"H\" + a[2:]\n",
        "print(a)\n"
      ]
    },
    {
      "cell_type": "code",
      "execution_count": null,
      "metadata": {
        "colab": {
          "base_uri": "https://localhost:8080/"
        },
        "id": "V9qjGYV0e86Z",
        "outputId": "4b1f42e0-915c-4121-a1a9-881b59bbdd31"
      },
      "outputs": [
        {
          "name": "stdout",
          "output_type": "stream",
          "text": [
            "Checking replace function\n",
            "HelloH\n",
            "helloh\n"
          ]
        }
      ],
      "source": [
        "#checking replace function\n",
        "print('Checking replace function')\n",
        "a='helloh'\n",
        "a1=a.replace('h','H')\n",
        "print(a1)\n",
        "print(a)"
      ]
    },
    {
      "cell_type": "code",
      "execution_count": null,
      "metadata": {
        "colab": {
          "base_uri": "https://localhost:8080/"
        },
        "id": "zN_TTQw_fOIq",
        "outputId": "f75ccef7-5119-40c8-96d1-567767555d00"
      },
      "outputs": [
        {
          "name": "stdout",
          "output_type": "stream",
          "text": [
            "Checking replace function\n",
            "HelloH\n",
            "helloh\n",
            "6\n",
            "HELLOH\n",
            "helloh\n",
            "Helloh\n"
          ]
        }
      ],
      "source": [
        "\n",
        "#checking replace function\n",
        "print('Checking replace function')\n",
        "a='helloh'\n",
        "a1=a.replace('h','H')\n",
        "print(a1)\n",
        "print(a)\n",
        "print(len(a))\n",
        "print(a.upper())\n",
        "print(a.lower())\n",
        "print(a.capitalize())\n"
      ]
    },
    {
      "cell_type": "code",
      "execution_count": null,
      "metadata": {
        "colab": {
          "base_uri": "https://localhost:8080/"
        },
        "id": "cmfT0eNxfsh1",
        "outputId": "3b58bef6-9353-4d75-f3a0-e07b335f5153"
      },
      "outputs": [
        {
          "name": "stdout",
          "output_type": "stream",
          "text": [
            "how\n",
            "Hello how are you\n",
            "Hello#how#are#you\n",
            "Hello,how,are,you\n"
          ]
        }
      ],
      "source": [
        "#Join function\n",
        "l=[\"Hello\",\"how\",\"are\",\"you\"]\n",
        "print(l[1])\n",
        "print(\" \".join(l))#Seperated by space\n",
        "print(\"#\".join(l))#Seperated by #\n",
        "print(\",\".join(l))#Seperated by ,\n"
      ]
    },
    {
      "cell_type": "code",
      "execution_count": null,
      "metadata": {
        "colab": {
          "base_uri": "https://localhost:8080/"
        },
        "id": "LSlMZMEegskj",
        "outputId": "07d4970b-58e9-4451-805e-0834626c6d72"
      },
      "outputs": [
        {
          "name": "stdout",
          "output_type": "stream",
          "text": [
            "heelo sumit heelo sumit heelo sumit \n",
            "**********\n"
          ]
        }
      ],
      "source": [
        "#concatination symbol\n",
        "a='heelo'\n",
        "b='sumit'\n",
        "c=a + \" \" + b + \" \"\n",
        "print(c*3)\n",
        "print('*'*10)#in strings * is repitation operator"
      ]
    },
    {
      "cell_type": "code",
      "execution_count": null,
      "metadata": {
        "colab": {
          "base_uri": "https://localhost:8080/"
        },
        "id": "50q9OT--iUqa",
        "outputId": "86540821-f64c-49ca-f1c5-309a66dc0a96"
      },
      "outputs": [
        {
          "name": "stdout",
          "output_type": "stream",
          "text": [
            "<class 'list'>\n",
            "[1, 2, 3, 4, 5]\n",
            "[1, 2, 3, 4, 5] [10.3, 20, 30, 'Rakhee']\n",
            "<class 'str'>\n",
            "Rakhee\n",
            "['hello', 'how', 'are', 'you']\n",
            "hello how are you\n"
          ]
        }
      ],
      "source": [
        "#List uses []\n",
        "#List are mutable l1[2]='NEW' is posible/replace ment is possible (assignment operator)\n",
        "#\n",
        "l=[1,2,3,4,5]\n",
        "l1=list()\n",
        "print(type(l))\n",
        "print(l)\n",
        "l1=[10.3,20,30,'Rakhee']#Multiple type of data can be stored in the list\n",
        "print(l,l1)\n",
        "print(type(l1[3]))\n",
        "print(l1[-1])\n",
        "st=[\"hello\",\"how\",\"are\",\"you\"]\n",
        "print(st)\n",
        "s1=\" \".join(st)# Converting list into string by using join method\n",
        "print(s1)"
      ]
    },
    {
      "cell_type": "code",
      "execution_count": null,
      "metadata": {
        "colab": {
          "base_uri": "https://localhost:8080/",
          "height": 263
        },
        "id": "UFOdHu7yktqX",
        "outputId": "9d81b319-e670-4b36-fb50-d3de89577fac"
      },
      "outputs": [
        {
          "name": "stdout",
          "output_type": "stream",
          "text": [
            "<class 'tuple'>\n",
            "<class 'tuple'>\n",
            "(1, 2, 3, 4)\n",
            "(10.5, 34, 'Rakhee')\n"
          ]
        },
        {
          "ename": "TypeError",
          "evalue": "'tuple' object does not support item assignment",
          "output_type": "error",
          "traceback": [
            "\u001b[0;31m---------------------------------------------------------------------------\u001b[0m",
            "\u001b[0;31mTypeError\u001b[0m                                 Traceback (most recent call last)",
            "\u001b[0;32m/tmp/ipython-input-765083079.py\u001b[0m in \u001b[0;36m<cell line: 0>\u001b[0;34m()\u001b[0m\n\u001b[1;32m     11\u001b[0m \u001b[0mprint\u001b[0m\u001b[0;34m(\u001b[0m\u001b[0mt1\u001b[0m\u001b[0;34m)\u001b[0m\u001b[0;34m\u001b[0m\u001b[0;34m\u001b[0m\u001b[0m\n\u001b[1;32m     12\u001b[0m \u001b[0;34m\u001b[0m\u001b[0m\n\u001b[0;32m---> 13\u001b[0;31m \u001b[0mt1\u001b[0m\u001b[0;34m[\u001b[0m\u001b[0;36m2\u001b[0m\u001b[0;34m]\u001b[0m\u001b[0;34m=\u001b[0m\u001b[0;34m'New'\u001b[0m\u001b[0;34m\u001b[0m\u001b[0;34m\u001b[0m\u001b[0m\n\u001b[0m\u001b[1;32m     14\u001b[0m \u001b[0mprint\u001b[0m\u001b[0;34m(\u001b[0m\u001b[0mt1\u001b[0m\u001b[0;34m)\u001b[0m\u001b[0;34m\u001b[0m\u001b[0;34m\u001b[0m\u001b[0m\n",
            "\u001b[0;31mTypeError\u001b[0m: 'tuple' object does not support item assignment"
          ]
        }
      ],
      "source": [
        "#tuple\n",
        "#tuple dose not support the assignamet operator\n",
        "#Tuple/strings are immutable\n",
        "t=(1,2,3,4)\n",
        "t1=tuple()#Constructor\n",
        "print(type(t))\n",
        "print(type(t1))\n",
        "t1=(10.5,34,\"Rakhee\")\n",
        "\n",
        "print(t)\n",
        "print(t1)\n",
        "\n",
        "t1[2]='New'\n",
        "print(t1)"
      ]
    },
    {
      "cell_type": "code",
      "execution_count": null,
      "metadata": {
        "colab": {
          "base_uri": "https://localhost:8080/"
        },
        "id": "IBoSJqymnWzs",
        "outputId": "f62712c7-189f-48a9-dcfa-d8efecff2ff7"
      },
      "outputs": [
        {
          "output_type": "stream",
          "name": "stdout",
          "text": [
            "<class 'set'>\n",
            "<class 'set'>\n",
            "{1, 2, 3, 4, 5}\n",
            "{1, 2, 3, 4, 5, 8}\n",
            "after removing {1, 2, 4, 5, 8}\n",
            "{}\n",
            "<class 'dict'>\n"
          ]
        }
      ],
      "source": [
        "#Set\n",
        "#sets are mutable\n",
        "s=set() #set constructor\n",
        "print(type(s))\n",
        "s1={1,2,3,3,3, 4,5} #set must have comma seperation ow s1={} empty it is a dictionary also it will show single value of duplicate data\n",
        "print(type(s1))\n",
        "print(s1)\n",
        "s1.add(8)\n",
        "print(s1)\n",
        "s1.remove(3)\n",
        "print(f'after removing',s1)\n",
        "s2={}\n",
        "print(s2)\n",
        "print(type(s2))"
      ]
    },
    {
      "cell_type": "code",
      "source": [],
      "metadata": {
        "id": "hOaiNMw3rIPf"
      },
      "execution_count": null,
      "outputs": []
    },
    {
      "cell_type": "code",
      "source": [],
      "metadata": {
        "id": "7qirlpB5ovUV"
      },
      "execution_count": null,
      "outputs": []
    },
    {
      "cell_type": "code",
      "execution_count": null,
      "metadata": {
        "colab": {
          "base_uri": "https://localhost:8080/",
          "height": 245
        },
        "id": "cYT1xAFfn0bk",
        "outputId": "86470fee-13e2-416c-c383-8101b985401d"
      },
      "outputs": [
        {
          "output_type": "stream",
          "name": "stdout",
          "text": [
            "<class 'dict'>\n",
            "<class 'dict'>\n",
            "{1: 'Rakhee', 2: 'New'}\n",
            "Rakhee\n"
          ]
        },
        {
          "output_type": "error",
          "ename": "KeyError",
          "evalue": "3",
          "traceback": [
            "\u001b[0;31m---------------------------------------------------------------------------\u001b[0m",
            "\u001b[0;31mKeyError\u001b[0m                                  Traceback (most recent call last)",
            "\u001b[0;32m/tmp/ipython-input-2058480134.py\u001b[0m in \u001b[0;36m<cell line: 0>\u001b[0;34m()\u001b[0m\n\u001b[1;32m      7\u001b[0m \u001b[0mprint\u001b[0m\u001b[0;34m(\u001b[0m\u001b[0md\u001b[0m\u001b[0;34m)\u001b[0m\u001b[0;34m\u001b[0m\u001b[0;34m\u001b[0m\u001b[0m\n\u001b[1;32m      8\u001b[0m \u001b[0mprint\u001b[0m\u001b[0;34m(\u001b[0m\u001b[0md\u001b[0m\u001b[0;34m[\u001b[0m\u001b[0;36m1\u001b[0m\u001b[0;34m]\u001b[0m\u001b[0;34m)\u001b[0m\u001b[0;34m\u001b[0m\u001b[0;34m\u001b[0m\u001b[0m\n\u001b[0;32m----> 9\u001b[0;31m \u001b[0mprint\u001b[0m\u001b[0;34m(\u001b[0m\u001b[0md\u001b[0m\u001b[0;34m[\u001b[0m\u001b[0;36m3\u001b[0m\u001b[0;34m]\u001b[0m\u001b[0;34m)\u001b[0m\u001b[0;34m\u001b[0m\u001b[0;34m\u001b[0m\u001b[0m\n\u001b[0m",
            "\u001b[0;31mKeyError\u001b[0m: 3"
          ]
        }
      ],
      "source": [
        "#Dictionary\n",
        "d={}\n",
        "d1=dict() #Constructor\n",
        "print(type(d))\n",
        "print(type(d1))\n",
        "d={1:\"Rakhee\",2:\"New\"}# Key: Value pair considered as one value\n",
        "print(d)\n",
        "print(d[1])\n",
        "print(d[3])\n"
      ]
    },
    {
      "cell_type": "code",
      "source": [
        "#IF...Else\n",
        "s=int(input(\"enter age ==>\"))\n",
        "if s>=18:\n",
        "  print(\" eligible for vote\")\n",
        "else:\n",
        "  print(\"not eligible for vote\")\n",
        "  print('Bye')"
      ],
      "metadata": {
        "colab": {
          "base_uri": "https://localhost:8080/"
        },
        "id": "AalroCz5oydv",
        "outputId": "bcac4931-0cd9-49e9-f0e3-bc960f8105d6"
      },
      "execution_count": 2,
      "outputs": [
        {
          "output_type": "stream",
          "name": "stdout",
          "text": [
            "enter age ==>18\n",
            " eligible for vote\n"
          ]
        }
      ]
    },
    {
      "cell_type": "code",
      "source": [
        "#Program to check If age is >24 and exp is >5 eligible for job ow not\n",
        "age=int(input('enter the age of the candidate==>'))\n",
        "exp=int(input('enter the experience of the candidate==>'))\n",
        "if age>=24 and exp>=5:\n",
        "  print('Candidate is eligible for job')\n",
        "else:\n",
        "  print('Candidate is not eligible for job')"
      ],
      "metadata": {
        "colab": {
          "base_uri": "https://localhost:8080/"
        },
        "id": "T3T2NUsoqmAH",
        "outputId": "ba3f0c99-4b37-428a-9f4e-5ab5fd0a4fcc"
      },
      "execution_count": 5,
      "outputs": [
        {
          "output_type": "stream",
          "name": "stdout",
          "text": [
            "enter the age of the candidate==>34\n",
            "enter the experience of the candidate==>5\n",
            "Candidate is eligible for job\n"
          ]
        }
      ]
    },
    {
      "cell_type": "code",
      "source": [
        "#Program to check leap year\n",
        "year=int(input('Please enter the year you want to check wether its Leap year or not ==>'))\n",
        "if(year%100!=0 and year%4==0) or year%400==0:\n",
        "  print(f'you have entered {year} and is a leap year')\n",
        "else:\n",
        "  print(f'you have entered{year} and is not leap year')"
      ],
      "metadata": {
        "colab": {
          "base_uri": "https://localhost:8080/"
        },
        "id": "wvu8DxgWr-55",
        "outputId": "17b57c3c-347e-4af8-90a4-956521177d39"
      },
      "execution_count": 15,
      "outputs": [
        {
          "output_type": "stream",
          "name": "stdout",
          "text": [
            "Please enter the year you want to check wether its Leap year or not ==>1900\n",
            "you have entered1900 and is not leap year\n"
          ]
        }
      ]
    },
    {
      "cell_type": "code",
      "source": [
        "#Program to check leap year using ternary operator\n",
        "year=int(input('Enter the year you want to check weather its a Leap year or not==>'))\n",
        "print(f'{year} is a leap year') if (year%100!=0 and year%4==0) or year%400==0 else print(f'{year} not a leap year')"
      ],
      "metadata": {
        "colab": {
          "base_uri": "https://localhost:8080/"
        },
        "id": "1n25LZXO2aMD",
        "outputId": "b53455a7-46d2-43ea-b866-aa8f3dac5ec3"
      },
      "execution_count": 19,
      "outputs": [
        {
          "output_type": "stream",
          "name": "stdout",
          "text": [
            "Enter the year you want to check weather its a Leap year or not==>2024\n",
            "2024 is a leap year\n"
          ]
        }
      ]
    },
    {
      "cell_type": "code",
      "source": [
        "#Program to check weather number is positive, negative or zero\n",
        "number=float(input('Please enter a number to check weather its positive, negative or zero'))\n",
        "if(number>0):\n",
        "  print(f'{number} is positive')\n",
        "elif(number<0):\n",
        "  print(f'{number} is negative')\n",
        "else:\n",
        "   print(f'{number} is zero')\n"
      ],
      "metadata": {
        "colab": {
          "base_uri": "https://localhost:8080/"
        },
        "id": "gLSLxWSN4mV0",
        "outputId": "01282a47-3808-47bd-a1e8-7666b9bb045b"
      },
      "execution_count": 27,
      "outputs": [
        {
          "output_type": "stream",
          "name": "stdout",
          "text": [
            "Please enter a number to check weather its positive, negative or zero-2\n",
            "-2.0 is negative\n"
          ]
        }
      ]
    },
    {
      "cell_type": "code",
      "source": [
        "'''#Write a program for grade calculator the accepts the marks of students for 5 subjects. and\n",
        "#give grade accordingly\n",
        "90>=A+\n",
        "80-89 = B\n",
        "70-79= C\n",
        "60-69=d\n",
        "<60=Fail'''\n",
        "maths=int(input('enter the marks for Maths'))\n",
        "english=int(input('enter the marks for English'))\n",
        "science=int(input('enter the marks for Science'))\n",
        "physics=int(input('enter the marks for Physics'))\n",
        "Chemistry=int(input('enter the marks for Chemistry'))\n",
        "TotalMarks=maths+english+science+physics+Chemistry\n",
        "Total=(TotalMarks/500)*100\n",
        "print(f'Total Marks obtained by student is {TotalMarks} out of 500 whch is {Total}')\n",
        "if Total>=90:\n",
        "  print(\"A+\")\n",
        "elif Total>=80 and Total<=89:\n",
        "  print('B')\n",
        "elif Total>=70 and Total<=79:\n",
        "  print('C')\n",
        "elif Total>=60 and Total<=69:\n",
        "  print('D')\n",
        "else:\n",
        "  print('Fail')\n",
        "\n"
      ],
      "metadata": {
        "colab": {
          "base_uri": "https://localhost:8080/"
        },
        "id": "XjK7LmU-Nkoa",
        "outputId": "ad680688-410a-498a-a7c7-140900d1da59"
      },
      "execution_count": 35,
      "outputs": [
        {
          "output_type": "stream",
          "name": "stdout",
          "text": [
            "enter the marks for Maths50\n",
            "enter the marks for English50\n",
            "enter the marks for Science50\n",
            "enter the marks for Physics50\n",
            "enter the marks for Chemistry50\n",
            "Total Marks obtained by student is 250 whch is 50.0\n",
            "Fail\n"
          ]
        }
      ]
    },
    {
      "cell_type": "code",
      "source": [
        "'''#Write a code which takes user input reresenting a\n",
        "geometric shape and its dimensions, and then calculates and print the area of that shape using match case'''\n",
        "\n",
        "#Program to check area of the circle, rectangle, tringle and square using match\n",
        "\n",
        "print('please enter the shape you want check area of circle, tringle, rectangle or square==>')\n",
        "\n",
        "shape=input(\"Enter the shape\").lower()\n",
        "\n",
        "match shape:\n",
        "    case \"circle\":\n",
        "      print('Enter the radius of the circle')\n",
        "      r=float(input())\n",
        "      area=3.14159 * r * r\n",
        "      print(f'area of circle is ',area:.2f)\n",
        "\n",
        "\n"
      ],
      "metadata": {
        "colab": {
          "base_uri": "https://localhost:8080/",
          "height": 280
        },
        "id": "GJIqoG8IdSoq",
        "outputId": "a7327c23-a5d5-4091-bdcd-eb6d6d8a722c"
      },
      "execution_count": 45,
      "outputs": [
        {
          "name": "stdout",
          "output_type": "stream",
          "text": [
            "please enter the shape you want check area of circle, tringle, rectangle or square==>\n",
            "circle\n",
            "Enter the radius of the circle\n",
            "3\n"
          ]
        },
        {
          "output_type": "error",
          "ename": "TypeError",
          "evalue": "can't multiply sequence by non-int of type 'float'",
          "traceback": [
            "\u001b[0;31m---------------------------------------------------------------------------\u001b[0m",
            "\u001b[0;31mTypeError\u001b[0m                                 Traceback (most recent call last)",
            "\u001b[0;32m/tmp/ipython-input-3373634052.py\u001b[0m in \u001b[0;36m<cell line: 0>\u001b[0;34m()\u001b[0m\n\u001b[1;32m     12\u001b[0m       \u001b[0mprint\u001b[0m\u001b[0;34m(\u001b[0m\u001b[0;34m'Enter the radius of the circle'\u001b[0m\u001b[0;34m)\u001b[0m\u001b[0;34m\u001b[0m\u001b[0;34m\u001b[0m\u001b[0m\n\u001b[1;32m     13\u001b[0m       \u001b[0mr\u001b[0m\u001b[0;34m=\u001b[0m\u001b[0minput\u001b[0m\u001b[0;34m(\u001b[0m\u001b[0;34m)\u001b[0m\u001b[0;34m\u001b[0m\u001b[0;34m\u001b[0m\u001b[0m\n\u001b[0;32m---> 14\u001b[0;31m       \u001b[0marea\u001b[0m\u001b[0;34m=\u001b[0m\u001b[0;36m3.14159\u001b[0m\u001b[0;34m*\u001b[0m\u001b[0mr\u001b[0m\u001b[0;34m*\u001b[0m\u001b[0mr\u001b[0m\u001b[0;34m\u001b[0m\u001b[0;34m\u001b[0m\u001b[0m\n\u001b[0m\u001b[1;32m     15\u001b[0m       \u001b[0mprint\u001b[0m\u001b[0;34m(\u001b[0m\u001b[0;34mf'area of circle is '\u001b[0m\u001b[0;34m,\u001b[0m\u001b[0marea\u001b[0m\u001b[0;34m)\u001b[0m\u001b[0;34m\u001b[0m\u001b[0;34m\u001b[0m\u001b[0m\n\u001b[1;32m     16\u001b[0m \u001b[0;34m\u001b[0m\u001b[0m\n",
            "\u001b[0;31mTypeError\u001b[0m: can't multiply sequence by non-int of type 'float'"
          ]
        }
      ]
    },
    {
      "cell_type": "code",
      "source": [
        "# Program to calculate area using match-case\n",
        "\n",
        "print(\"Choose a shape: circle, rectangle, triangle, square\")\n",
        "shape = input(\"Enter the shape: \").lower()\n",
        "\n",
        "match shape:\n",
        "    case \"circle\":\n",
        "        r = float(input(\"Enter radius: \"))\n",
        "        area = 3.14159 * r * r\n",
        "        print(f\"Area of circle = {area:.2f}\")\n",
        "\n",
        "    case \"rectangle\":\n",
        "        l = float(input(\"Enter length: \"))\n",
        "        w = float(input(\"Enter width: \"))\n",
        "        area = l * w\n",
        "        print(f\"Area of rectangle = {area:.2f}\")\n",
        "\n",
        "    case \"triangle\":\n",
        "        b = float(input(\"Enter base: \"))\n",
        "        h = float(input(\"Enter height: \"))\n",
        "        area = 0.5 * b * h\n",
        "        print(f\"Area of triangle = {area:.2f}\")\n",
        "\n",
        "    case \"square\":\n",
        "        s = float(input(\"Enter side: \"))\n",
        "        area = s * s\n",
        "        print(f\"Area of square = {area:.2f}\")\n",
        "\n",
        "    case _:\n",
        "        print(\"Invalid shape! Please choose circle, rectangle, triangle, or square.\")\n"
      ],
      "metadata": {
        "colab": {
          "base_uri": "https://localhost:8080/"
        },
        "id": "_iWl4DFdiyvB",
        "outputId": "5019504b-4123-4c26-b268-337e69fdd0f6"
      },
      "execution_count": 42,
      "outputs": [
        {
          "output_type": "stream",
          "name": "stdout",
          "text": [
            "Choose a shape: circle, rectangle, triangle, square\n",
            "Enter the shape: circle\n",
            "Enter radius: 34\n",
            "Area of circle = 3631.68\n"
          ]
        }
      ]
    },
    {
      "cell_type": "code",
      "source": [
        "# Program to calculate area using match-case\n",
        "print(\"Choose a shape circle, rectangle, tringle or square\")\n",
        "shape=input(\"Enter a shape=>\").lower()\n",
        "\n",
        "match shape:\n",
        "  case \"circle\"\n",
        "    print(\"Enter radius of circle \")\n",
        "    r=float(Input())\n",
        "    area=3.14159*r*r\n",
        "    print(\"area of circle is \" area:.2f)\n",
        "  case _:\n",
        "    print(\"Invalid Shape\")"
      ],
      "metadata": {
        "id": "d-gIHxftpaLp"
      },
      "execution_count": null,
      "outputs": []
    }
  ],
  "metadata": {
    "colab": {
      "provenance": [],
      "authorship_tag": "ABX9TyP6SSyefWR8FZe+fvDL3+tf",
      "include_colab_link": true
    },
    "kernelspec": {
      "display_name": "Python 3",
      "name": "python3"
    },
    "language_info": {
      "name": "python"
    }
  },
  "nbformat": 4,
  "nbformat_minor": 0
}